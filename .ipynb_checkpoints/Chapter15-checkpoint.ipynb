{
 "cells": [
  {
   "cell_type": "code",
   "execution_count": 1,
   "id": "a73225a3",
   "metadata": {},
   "outputs": [],
   "source": [
    "import numpy as np\n",
    "import os\n",
    "from pathlib import Path\n",
    "import sklearn\n",
    "import tensorflow as tf\n",
    "from tensorflow import keras"
   ]
  },
  {
   "cell_type": "code",
   "execution_count": 2,
   "id": "201a6c35",
   "metadata": {},
   "outputs": [],
   "source": [
    "def generate_time_series(batch_size, n_steps):\n",
    "    freq1, freq2, offsets1, offsets2 = np.random.rand(4, batch_size, 1)\n",
    "    time = np.linspace(0, 1, n_steps)\n",
    "    \n",
    "###넘파이 트릭으로 인해 50-10000은 반복연산되어 결국 10000의 크기를 가지게 된다\n",
    "    series = 0.5 * np.sin((time - offsets1) * (freq1 * 10+10))\n",
    "    series += 0.2 * np.sin((time - offsets2) * (freq2 * 20+20))\n",
    "    series += 0.1 * (np.random.rand(batch_size, n_steps) - 0.5)\n",
    "    return series[..., np.newaxis].astype(np.float32)"
   ]
  },
  {
   "cell_type": "code",
   "execution_count": 3,
   "id": "28c87f81",
   "metadata": {},
   "outputs": [],
   "source": [
    "n_steps = 50\n",
    "series = generate_time_series(10000, n_steps + 1)\n",
    "X_train, y_train = series[:7000, :n_steps], series[:7000, -1]\n",
    "X_valid, y_valid = series[7000:9000, :n_steps], series[7000:9000, -1]\n",
    "X_test, y_test = series[9000:, :n_steps], series[9000:, -1]"
   ]
  },
  {
   "cell_type": "code",
   "execution_count": 4,
   "id": "cee57952",
   "metadata": {},
   "outputs": [
    {
     "data": {
      "text/plain": [
       "((7000, 50, 1), (7000, 1))"
      ]
     },
     "execution_count": 4,
     "metadata": {},
     "output_type": "execute_result"
    }
   ],
   "source": [
    "### 51타임스텝의 시계열 데이터 생성 앞의 50개가 X마지막 1개가 y\n",
    "X_train.shape, y_train.shape"
   ]
  },
  {
   "cell_type": "code",
   "execution_count": 5,
   "id": "fb3a0f40",
   "metadata": {},
   "outputs": [
    {
     "data": {
      "text/plain": [
       "0.021630751"
      ]
     },
     "execution_count": 5,
     "metadata": {},
     "output_type": "execute_result"
    }
   ],
   "source": [
    "y_pred = X_valid[:, -1]\n",
    "np.mean(keras.losses.mean_squared_error(y_valid, y_pred))"
   ]
  },
  {
   "cell_type": "code",
   "execution_count": 28,
   "id": "f6f93e34",
   "metadata": {},
   "outputs": [
    {
     "name": "stdout",
     "output_type": "stream",
     "text": [
      "Train on 7000 samples, validate on 2000 samples\n",
      "Epoch 1/20\n",
      "7000/7000 [==============================] - 1s 171us/sample - loss: 0.0755 - val_loss: 0.0271\n",
      "Epoch 2/20\n",
      "7000/7000 [==============================] - 0s 62us/sample - loss: 0.0165 - val_loss: 0.0116\n",
      "Epoch 3/20\n",
      "7000/7000 [==============================] - 0s 63us/sample - loss: 0.0100 - val_loss: 0.0091\n",
      "Epoch 4/20\n",
      "7000/7000 [==============================] - 0s 58us/sample - loss: 0.0085 - val_loss: 0.0080\n",
      "Epoch 5/20\n",
      "7000/7000 [==============================] - 0s 57us/sample - loss: 0.0075 - val_loss: 0.0072\n",
      "Epoch 6/20\n",
      "7000/7000 [==============================] - 0s 60us/sample - loss: 0.0067 - val_loss: 0.0065\n",
      "Epoch 7/20\n",
      "7000/7000 [==============================] - 0s 59us/sample - loss: 0.0061 - val_loss: 0.0060\n",
      "Epoch 8/20\n",
      "7000/7000 [==============================] - 0s 57us/sample - loss: 0.0056 - val_loss: 0.0055\n",
      "Epoch 9/20\n",
      "7000/7000 [==============================] - 0s 66us/sample - loss: 0.0052 - val_loss: 0.0051\n",
      "Epoch 10/20\n",
      "7000/7000 [==============================] - 0s 57us/sample - loss: 0.0049 - val_loss: 0.0050\n",
      "Epoch 11/20\n",
      "7000/7000 [==============================] - 0s 60us/sample - loss: 0.0047 - val_loss: 0.0047\n",
      "Epoch 12/20\n",
      "7000/7000 [==============================] - 0s 60us/sample - loss: 0.0045 - val_loss: 0.0046\n",
      "Epoch 13/20\n",
      "7000/7000 [==============================] - 0s 60us/sample - loss: 0.0043 - val_loss: 0.0044\n",
      "Epoch 14/20\n",
      "7000/7000 [==============================] - 0s 59us/sample - loss: 0.0042 - val_loss: 0.0042\n",
      "Epoch 15/20\n",
      "7000/7000 [==============================] - 0s 63us/sample - loss: 0.0041 - val_loss: 0.0042\n",
      "Epoch 16/20\n",
      "7000/7000 [==============================] - 0s 62us/sample - loss: 0.0040 - val_loss: 0.0041\n",
      "Epoch 17/20\n",
      "7000/7000 [==============================] - 0s 60us/sample - loss: 0.0039 - val_loss: 0.0040\n",
      "Epoch 18/20\n",
      "7000/7000 [==============================] - 0s 67us/sample - loss: 0.0038 - val_loss: 0.0039\n",
      "Epoch 19/20\n",
      "7000/7000 [==============================] - 0s 63us/sample - loss: 0.0037 - val_loss: 0.0038\n",
      "Epoch 20/20\n",
      "7000/7000 [==============================] - 0s 58us/sample - loss: 0.0037 - val_loss: 0.0037\n"
     ]
    }
   ],
   "source": [
    "model = keras.models.Sequential([\n",
    "    keras.layers.Flatten(input_shape=[50, 1]),\n",
    "    keras.layers.Dense(1)\n",
    "])\n",
    "\n",
    "model.compile(loss=\"mse\", optimizer=\"adam\")\n",
    "history = model.fit(X_train, y_train, epochs=20,\n",
    "                    validation_data=(X_valid, y_valid))"
   ]
  },
  {
   "cell_type": "markdown",
   "id": "6ec5b08f",
   "metadata": {},
   "source": [
    "# RNN"
   ]
  },
  {
   "cell_type": "code",
   "execution_count": 31,
   "id": "ebff6992",
   "metadata": {},
   "outputs": [
    {
     "name": "stdout",
     "output_type": "stream",
     "text": [
      "Train on 7000 samples, validate on 2000 samples\n",
      "Epoch 1/20\n",
      "7000/7000 [==============================] - 6s 799us/sample - loss: 0.1538 - val_loss: 0.0921\n",
      "Epoch 2/20\n",
      "7000/7000 [==============================] - 5s 668us/sample - loss: 0.0544 - val_loss: 0.0272\n",
      "Epoch 3/20\n",
      "7000/7000 [==============================] - 4s 636us/sample - loss: 0.0173 - val_loss: 0.0124\n",
      "Epoch 4/20\n",
      "7000/7000 [==============================] - 4s 631us/sample - loss: 0.0118 - val_loss: 0.0114\n",
      "Epoch 5/20\n",
      "7000/7000 [==============================] - 5s 670us/sample - loss: 0.0114 - val_loss: 0.0113\n",
      "Epoch 6/20\n",
      "7000/7000 [==============================] - 5s 659us/sample - loss: 0.0113 - val_loss: 0.0112\n",
      "Epoch 7/20\n",
      "7000/7000 [==============================] - 5s 646us/sample - loss: 0.0112 - val_loss: 0.0111\n",
      "Epoch 8/20\n",
      "7000/7000 [==============================] - 4s 633us/sample - loss: 0.0111 - val_loss: 0.0111\n",
      "Epoch 9/20\n",
      "7000/7000 [==============================] - 4s 642us/sample - loss: 0.0111 - val_loss: 0.0111\n",
      "Epoch 10/20\n",
      "7000/7000 [==============================] - 4s 639us/sample - loss: 0.0111 - val_loss: 0.0111\n",
      "Epoch 11/20\n",
      "7000/7000 [==============================] - 5s 661us/sample - loss: 0.0111 - val_loss: 0.0111\n",
      "Epoch 12/20\n",
      "7000/7000 [==============================] - 5s 654us/sample - loss: 0.0111 - val_loss: 0.0112\n",
      "Epoch 13/20\n",
      "7000/7000 [==============================] - 4s 640us/sample - loss: 0.0111 - val_loss: 0.0111\n",
      "Epoch 14/20\n",
      "7000/7000 [==============================] - 4s 639us/sample - loss: 0.0111 - val_loss: 0.0111\n",
      "Epoch 15/20\n",
      "7000/7000 [==============================] - 5s 647us/sample - loss: 0.0111 - val_loss: 0.0112\n",
      "Epoch 16/20\n",
      "7000/7000 [==============================] - 5s 652us/sample - loss: 0.0111 - val_loss: 0.0112\n",
      "Epoch 17/20\n",
      "7000/7000 [==============================] - 5s 652us/sample - loss: 0.0111 - val_loss: 0.0112\n",
      "Epoch 18/20\n",
      "7000/7000 [==============================] - 4s 639us/sample - loss: 0.0111 - val_loss: 0.0111\n",
      "Epoch 19/20\n",
      "7000/7000 [==============================] - 5s 684us/sample - loss: 0.0111 - val_loss: 0.0112\n",
      "Epoch 20/20\n",
      "7000/7000 [==============================] - 5s 643us/sample - loss: 0.0111 - val_loss: 0.0112\n"
     ]
    }
   ],
   "source": [
    "model = keras.models.Sequential([\n",
    "    keras.layers.SimpleRNN(1, input_shape = [None, 1])\n",
    "])\n",
    "\n",
    "optimizer = keras.optimizers.Adam(learning_rate=0.005)\n",
    "model.compile(loss=\"mse\", optimizer=optimizer)\n",
    "history = model.fit(X_train, y_train, epochs=20,\n",
    "                    validation_data=(X_valid, y_valid))"
   ]
  },
  {
   "cell_type": "markdown",
   "id": "7c0921f1",
   "metadata": {},
   "source": [
    "# 심층RNN "
   ]
  },
  {
   "cell_type": "code",
   "execution_count": 33,
   "id": "ad17154b",
   "metadata": {},
   "outputs": [
    {
     "name": "stdout",
     "output_type": "stream",
     "text": [
      "Train on 7000 samples, validate on 2000 samples\n",
      "Epoch 1/20\n",
      "7000/7000 [==============================] - 14s 2ms/sample - loss: 0.0211 - val_loss: 0.0045\n",
      "Epoch 2/20\n",
      "7000/7000 [==============================] - 13s 2ms/sample - loss: 0.0038 - val_loss: 0.0038\n",
      "Epoch 3/20\n",
      "7000/7000 [==============================] - 12s 2ms/sample - loss: 0.0034 - val_loss: 0.0035\n",
      "Epoch 4/20\n",
      "7000/7000 [==============================] - 13s 2ms/sample - loss: 0.0033 - val_loss: 0.0035\n",
      "Epoch 5/20\n",
      "7000/7000 [==============================] - 13s 2ms/sample - loss: 0.0032 - val_loss: 0.0034\n",
      "Epoch 6/20\n",
      "7000/7000 [==============================] - 13s 2ms/sample - loss: 0.0032 - val_loss: 0.0033\n",
      "Epoch 7/20\n",
      "7000/7000 [==============================] - 13s 2ms/sample - loss: 0.0031 - val_loss: 0.0033\n",
      "Epoch 8/20\n",
      "7000/7000 [==============================] - 13s 2ms/sample - loss: 0.0030 - val_loss: 0.0031\n",
      "Epoch 9/20\n",
      "7000/7000 [==============================] - 13s 2ms/sample - loss: 0.0030 - val_loss: 0.0032\n",
      "Epoch 10/20\n",
      "7000/7000 [==============================] - 13s 2ms/sample - loss: 0.0030 - val_loss: 0.0031\n",
      "Epoch 11/20\n",
      "7000/7000 [==============================] - 12s 2ms/sample - loss: 0.0029 - val_loss: 0.0031\n",
      "Epoch 12/20\n",
      "7000/7000 [==============================] - 13s 2ms/sample - loss: 0.0029 - val_loss: 0.0034\n",
      "Epoch 13/20\n",
      "7000/7000 [==============================] - 13s 2ms/sample - loss: 0.0029 - val_loss: 0.0029\n",
      "Epoch 14/20\n",
      "7000/7000 [==============================] - 13s 2ms/sample - loss: 0.0028 - val_loss: 0.0029\n",
      "Epoch 15/20\n",
      "7000/7000 [==============================] - 13s 2ms/sample - loss: 0.0028 - val_loss: 0.0031\n",
      "Epoch 16/20\n",
      "7000/7000 [==============================] - 13s 2ms/sample - loss: 0.0028 - val_loss: 0.0029\n",
      "Epoch 17/20\n",
      "7000/7000 [==============================] - 13s 2ms/sample - loss: 0.0028 - val_loss: 0.0029\n",
      "Epoch 18/20\n",
      "7000/7000 [==============================] - 13s 2ms/sample - loss: 0.0028 - val_loss: 0.0030\n",
      "Epoch 19/20\n",
      "7000/7000 [==============================] - 13s 2ms/sample - loss: 0.0028 - val_loss: 0.0030\n",
      "Epoch 20/20\n",
      "7000/7000 [==============================] - 13s 2ms/sample - loss: 0.0027 - val_loss: 0.0029\n"
     ]
    }
   ],
   "source": [
    "model = keras.models.Sequential([\n",
    "    keras.layers.SimpleRNN(20, return_sequences=True, input_shape=[None, 1]),\n",
    "    keras.layers.SimpleRNN(20, return_sequences=True),\n",
    "    keras.layers.SimpleRNN(1)\n",
    "])\n",
    "\n",
    "model.compile(loss=\"mse\", optimizer=\"adam\")\n",
    "history = model.fit(X_train, y_train, epochs=20,\n",
    "                    validation_data=(X_valid, y_valid))"
   ]
  },
  {
   "cell_type": "code",
   "execution_count": 7,
   "id": "f7c1d963",
   "metadata": {},
   "outputs": [
    {
     "name": "stdout",
     "output_type": "stream",
     "text": [
      "Train on 7000 samples, validate on 2000 samples\n",
      "Epoch 1/20\n",
      "7000/7000 [==============================] - 10s 1ms/sample - loss: 0.0156 - val_loss: 0.0052\n",
      "Epoch 2/20\n",
      "2912/7000 [===========>..................] - ETA: 4s - loss: 0.0046"
     ]
    },
    {
     "ename": "KeyboardInterrupt",
     "evalue": "",
     "output_type": "error",
     "traceback": [
      "\u001b[1;31m---------------------------------------------------------------------------\u001b[0m",
      "\u001b[1;31mKeyboardInterrupt\u001b[0m                         Traceback (most recent call last)",
      "\u001b[1;32m<ipython-input-7-f2173f3dd45f>\u001b[0m in \u001b[0;36m<module>\u001b[1;34m\u001b[0m\n\u001b[0;32m      7\u001b[0m \u001b[0mmodel\u001b[0m\u001b[1;33m.\u001b[0m\u001b[0mcompile\u001b[0m\u001b[1;33m(\u001b[0m\u001b[0mloss\u001b[0m\u001b[1;33m=\u001b[0m\u001b[1;34m\"mse\"\u001b[0m\u001b[1;33m,\u001b[0m \u001b[0moptimizer\u001b[0m\u001b[1;33m=\u001b[0m\u001b[1;34m\"adam\"\u001b[0m\u001b[1;33m)\u001b[0m\u001b[1;33m\u001b[0m\u001b[1;33m\u001b[0m\u001b[0m\n\u001b[0;32m      8\u001b[0m history = model.fit(X_train, y_train, epochs=20,\n\u001b[1;32m----> 9\u001b[1;33m                     validation_data=(X_valid, y_valid))\n\u001b[0m",
      "\u001b[1;32m~\\anaconda3\\envs\\python3.6.8\\lib\\site-packages\\tensorflow_core\\python\\keras\\engine\\training.py\u001b[0m in \u001b[0;36mfit\u001b[1;34m(self, x, y, batch_size, epochs, verbose, callbacks, validation_split, validation_data, shuffle, class_weight, sample_weight, initial_epoch, steps_per_epoch, validation_steps, validation_freq, max_queue_size, workers, use_multiprocessing, **kwargs)\u001b[0m\n\u001b[0;32m    817\u001b[0m         \u001b[0mmax_queue_size\u001b[0m\u001b[1;33m=\u001b[0m\u001b[0mmax_queue_size\u001b[0m\u001b[1;33m,\u001b[0m\u001b[1;33m\u001b[0m\u001b[1;33m\u001b[0m\u001b[0m\n\u001b[0;32m    818\u001b[0m         \u001b[0mworkers\u001b[0m\u001b[1;33m=\u001b[0m\u001b[0mworkers\u001b[0m\u001b[1;33m,\u001b[0m\u001b[1;33m\u001b[0m\u001b[1;33m\u001b[0m\u001b[0m\n\u001b[1;32m--> 819\u001b[1;33m         use_multiprocessing=use_multiprocessing)\n\u001b[0m\u001b[0;32m    820\u001b[0m \u001b[1;33m\u001b[0m\u001b[0m\n\u001b[0;32m    821\u001b[0m   def evaluate(self,\n",
      "\u001b[1;32m~\\anaconda3\\envs\\python3.6.8\\lib\\site-packages\\tensorflow_core\\python\\keras\\engine\\training_v2.py\u001b[0m in \u001b[0;36mfit\u001b[1;34m(self, model, x, y, batch_size, epochs, verbose, callbacks, validation_split, validation_data, shuffle, class_weight, sample_weight, initial_epoch, steps_per_epoch, validation_steps, validation_freq, max_queue_size, workers, use_multiprocessing, **kwargs)\u001b[0m\n\u001b[0;32m    340\u001b[0m                 \u001b[0mmode\u001b[0m\u001b[1;33m=\u001b[0m\u001b[0mModeKeys\u001b[0m\u001b[1;33m.\u001b[0m\u001b[0mTRAIN\u001b[0m\u001b[1;33m,\u001b[0m\u001b[1;33m\u001b[0m\u001b[1;33m\u001b[0m\u001b[0m\n\u001b[0;32m    341\u001b[0m                 \u001b[0mtraining_context\u001b[0m\u001b[1;33m=\u001b[0m\u001b[0mtraining_context\u001b[0m\u001b[1;33m,\u001b[0m\u001b[1;33m\u001b[0m\u001b[1;33m\u001b[0m\u001b[0m\n\u001b[1;32m--> 342\u001b[1;33m                 total_epochs=epochs)\n\u001b[0m\u001b[0;32m    343\u001b[0m             \u001b[0mcbks\u001b[0m\u001b[1;33m.\u001b[0m\u001b[0mmake_logs\u001b[0m\u001b[1;33m(\u001b[0m\u001b[0mmodel\u001b[0m\u001b[1;33m,\u001b[0m \u001b[0mepoch_logs\u001b[0m\u001b[1;33m,\u001b[0m \u001b[0mtraining_result\u001b[0m\u001b[1;33m,\u001b[0m \u001b[0mModeKeys\u001b[0m\u001b[1;33m.\u001b[0m\u001b[0mTRAIN\u001b[0m\u001b[1;33m)\u001b[0m\u001b[1;33m\u001b[0m\u001b[1;33m\u001b[0m\u001b[0m\n\u001b[0;32m    344\u001b[0m \u001b[1;33m\u001b[0m\u001b[0m\n",
      "\u001b[1;32m~\\anaconda3\\envs\\python3.6.8\\lib\\site-packages\\tensorflow_core\\python\\keras\\engine\\training_v2.py\u001b[0m in \u001b[0;36mrun_one_epoch\u001b[1;34m(model, iterator, execution_function, dataset_size, batch_size, strategy, steps_per_epoch, num_samples, mode, training_context, total_epochs)\u001b[0m\n\u001b[0;32m    126\u001b[0m         step=step, mode=mode, size=current_batch_size) as batch_logs:\n\u001b[0;32m    127\u001b[0m       \u001b[1;32mtry\u001b[0m\u001b[1;33m:\u001b[0m\u001b[1;33m\u001b[0m\u001b[1;33m\u001b[0m\u001b[0m\n\u001b[1;32m--> 128\u001b[1;33m         \u001b[0mbatch_outs\u001b[0m \u001b[1;33m=\u001b[0m \u001b[0mexecution_function\u001b[0m\u001b[1;33m(\u001b[0m\u001b[0miterator\u001b[0m\u001b[1;33m)\u001b[0m\u001b[1;33m\u001b[0m\u001b[1;33m\u001b[0m\u001b[0m\n\u001b[0m\u001b[0;32m    129\u001b[0m       \u001b[1;32mexcept\u001b[0m \u001b[1;33m(\u001b[0m\u001b[0mStopIteration\u001b[0m\u001b[1;33m,\u001b[0m \u001b[0merrors\u001b[0m\u001b[1;33m.\u001b[0m\u001b[0mOutOfRangeError\u001b[0m\u001b[1;33m)\u001b[0m\u001b[1;33m:\u001b[0m\u001b[1;33m\u001b[0m\u001b[1;33m\u001b[0m\u001b[0m\n\u001b[0;32m    130\u001b[0m         \u001b[1;31m# TODO(kaftan): File bug about tf function and errors.OutOfRangeError?\u001b[0m\u001b[1;33m\u001b[0m\u001b[1;33m\u001b[0m\u001b[1;33m\u001b[0m\u001b[0m\n",
      "\u001b[1;32m~\\anaconda3\\envs\\python3.6.8\\lib\\site-packages\\tensorflow_core\\python\\keras\\engine\\training_v2_utils.py\u001b[0m in \u001b[0;36mexecution_function\u001b[1;34m(input_fn)\u001b[0m\n\u001b[0;32m     96\u001b[0m     \u001b[1;31m# `numpy` translates Tensors to values in Eager mode.\u001b[0m\u001b[1;33m\u001b[0m\u001b[1;33m\u001b[0m\u001b[1;33m\u001b[0m\u001b[0m\n\u001b[0;32m     97\u001b[0m     return nest.map_structure(_non_none_constant_value,\n\u001b[1;32m---> 98\u001b[1;33m                               distributed_function(input_fn))\n\u001b[0m\u001b[0;32m     99\u001b[0m \u001b[1;33m\u001b[0m\u001b[0m\n\u001b[0;32m    100\u001b[0m   \u001b[1;32mreturn\u001b[0m \u001b[0mexecution_function\u001b[0m\u001b[1;33m\u001b[0m\u001b[1;33m\u001b[0m\u001b[0m\n",
      "\u001b[1;32m~\\anaconda3\\envs\\python3.6.8\\lib\\site-packages\\tensorflow_core\\python\\eager\\def_function.py\u001b[0m in \u001b[0;36m__call__\u001b[1;34m(self, *args, **kwds)\u001b[0m\n\u001b[0;32m    566\u001b[0m         \u001b[0mxla_context\u001b[0m\u001b[1;33m.\u001b[0m\u001b[0mExit\u001b[0m\u001b[1;33m(\u001b[0m\u001b[1;33m)\u001b[0m\u001b[1;33m\u001b[0m\u001b[1;33m\u001b[0m\u001b[0m\n\u001b[0;32m    567\u001b[0m     \u001b[1;32melse\u001b[0m\u001b[1;33m:\u001b[0m\u001b[1;33m\u001b[0m\u001b[1;33m\u001b[0m\u001b[0m\n\u001b[1;32m--> 568\u001b[1;33m       \u001b[0mresult\u001b[0m \u001b[1;33m=\u001b[0m \u001b[0mself\u001b[0m\u001b[1;33m.\u001b[0m\u001b[0m_call\u001b[0m\u001b[1;33m(\u001b[0m\u001b[1;33m*\u001b[0m\u001b[0margs\u001b[0m\u001b[1;33m,\u001b[0m \u001b[1;33m**\u001b[0m\u001b[0mkwds\u001b[0m\u001b[1;33m)\u001b[0m\u001b[1;33m\u001b[0m\u001b[1;33m\u001b[0m\u001b[0m\n\u001b[0m\u001b[0;32m    569\u001b[0m \u001b[1;33m\u001b[0m\u001b[0m\n\u001b[0;32m    570\u001b[0m     \u001b[1;32mif\u001b[0m \u001b[0mtracing_count\u001b[0m \u001b[1;33m==\u001b[0m \u001b[0mself\u001b[0m\u001b[1;33m.\u001b[0m\u001b[0m_get_tracing_count\u001b[0m\u001b[1;33m(\u001b[0m\u001b[1;33m)\u001b[0m\u001b[1;33m:\u001b[0m\u001b[1;33m\u001b[0m\u001b[1;33m\u001b[0m\u001b[0m\n",
      "\u001b[1;32m~\\anaconda3\\envs\\python3.6.8\\lib\\site-packages\\tensorflow_core\\python\\eager\\def_function.py\u001b[0m in \u001b[0;36m_call\u001b[1;34m(self, *args, **kwds)\u001b[0m\n\u001b[0;32m    597\u001b[0m       \u001b[1;31m# In this case we have created variables on the first call, so we run the\u001b[0m\u001b[1;33m\u001b[0m\u001b[1;33m\u001b[0m\u001b[1;33m\u001b[0m\u001b[0m\n\u001b[0;32m    598\u001b[0m       \u001b[1;31m# defunned version which is guaranteed to never create variables.\u001b[0m\u001b[1;33m\u001b[0m\u001b[1;33m\u001b[0m\u001b[1;33m\u001b[0m\u001b[0m\n\u001b[1;32m--> 599\u001b[1;33m       \u001b[1;32mreturn\u001b[0m \u001b[0mself\u001b[0m\u001b[1;33m.\u001b[0m\u001b[0m_stateless_fn\u001b[0m\u001b[1;33m(\u001b[0m\u001b[1;33m*\u001b[0m\u001b[0margs\u001b[0m\u001b[1;33m,\u001b[0m \u001b[1;33m**\u001b[0m\u001b[0mkwds\u001b[0m\u001b[1;33m)\u001b[0m  \u001b[1;31m# pylint: disable=not-callable\u001b[0m\u001b[1;33m\u001b[0m\u001b[1;33m\u001b[0m\u001b[0m\n\u001b[0m\u001b[0;32m    600\u001b[0m     \u001b[1;32melif\u001b[0m \u001b[0mself\u001b[0m\u001b[1;33m.\u001b[0m\u001b[0m_stateful_fn\u001b[0m \u001b[1;32mis\u001b[0m \u001b[1;32mnot\u001b[0m \u001b[1;32mNone\u001b[0m\u001b[1;33m:\u001b[0m\u001b[1;33m\u001b[0m\u001b[1;33m\u001b[0m\u001b[0m\n\u001b[0;32m    601\u001b[0m       \u001b[1;31m# Release the lock early so that multiple threads can perform the call\u001b[0m\u001b[1;33m\u001b[0m\u001b[1;33m\u001b[0m\u001b[1;33m\u001b[0m\u001b[0m\n",
      "\u001b[1;32m~\\anaconda3\\envs\\python3.6.8\\lib\\site-packages\\tensorflow_core\\python\\eager\\function.py\u001b[0m in \u001b[0;36m__call__\u001b[1;34m(self, *args, **kwargs)\u001b[0m\n\u001b[0;32m   2361\u001b[0m     \u001b[1;32mwith\u001b[0m \u001b[0mself\u001b[0m\u001b[1;33m.\u001b[0m\u001b[0m_lock\u001b[0m\u001b[1;33m:\u001b[0m\u001b[1;33m\u001b[0m\u001b[1;33m\u001b[0m\u001b[0m\n\u001b[0;32m   2362\u001b[0m       \u001b[0mgraph_function\u001b[0m\u001b[1;33m,\u001b[0m \u001b[0margs\u001b[0m\u001b[1;33m,\u001b[0m \u001b[0mkwargs\u001b[0m \u001b[1;33m=\u001b[0m \u001b[0mself\u001b[0m\u001b[1;33m.\u001b[0m\u001b[0m_maybe_define_function\u001b[0m\u001b[1;33m(\u001b[0m\u001b[0margs\u001b[0m\u001b[1;33m,\u001b[0m \u001b[0mkwargs\u001b[0m\u001b[1;33m)\u001b[0m\u001b[1;33m\u001b[0m\u001b[1;33m\u001b[0m\u001b[0m\n\u001b[1;32m-> 2363\u001b[1;33m     \u001b[1;32mreturn\u001b[0m \u001b[0mgraph_function\u001b[0m\u001b[1;33m.\u001b[0m\u001b[0m_filtered_call\u001b[0m\u001b[1;33m(\u001b[0m\u001b[0margs\u001b[0m\u001b[1;33m,\u001b[0m \u001b[0mkwargs\u001b[0m\u001b[1;33m)\u001b[0m  \u001b[1;31m# pylint: disable=protected-access\u001b[0m\u001b[1;33m\u001b[0m\u001b[1;33m\u001b[0m\u001b[0m\n\u001b[0m\u001b[0;32m   2364\u001b[0m \u001b[1;33m\u001b[0m\u001b[0m\n\u001b[0;32m   2365\u001b[0m   \u001b[1;33m@\u001b[0m\u001b[0mproperty\u001b[0m\u001b[1;33m\u001b[0m\u001b[1;33m\u001b[0m\u001b[0m\n",
      "\u001b[1;32m~\\anaconda3\\envs\\python3.6.8\\lib\\site-packages\\tensorflow_core\\python\\eager\\function.py\u001b[0m in \u001b[0;36m_filtered_call\u001b[1;34m(self, args, kwargs)\u001b[0m\n\u001b[0;32m   1609\u001b[0m          if isinstance(t, (ops.Tensor,\n\u001b[0;32m   1610\u001b[0m                            resource_variable_ops.BaseResourceVariable))),\n\u001b[1;32m-> 1611\u001b[1;33m         self.captured_inputs)\n\u001b[0m\u001b[0;32m   1612\u001b[0m \u001b[1;33m\u001b[0m\u001b[0m\n\u001b[0;32m   1613\u001b[0m   \u001b[1;32mdef\u001b[0m \u001b[0m_call_flat\u001b[0m\u001b[1;33m(\u001b[0m\u001b[0mself\u001b[0m\u001b[1;33m,\u001b[0m \u001b[0margs\u001b[0m\u001b[1;33m,\u001b[0m \u001b[0mcaptured_inputs\u001b[0m\u001b[1;33m,\u001b[0m \u001b[0mcancellation_manager\u001b[0m\u001b[1;33m=\u001b[0m\u001b[1;32mNone\u001b[0m\u001b[1;33m)\u001b[0m\u001b[1;33m:\u001b[0m\u001b[1;33m\u001b[0m\u001b[1;33m\u001b[0m\u001b[0m\n",
      "\u001b[1;32m~\\anaconda3\\envs\\python3.6.8\\lib\\site-packages\\tensorflow_core\\python\\eager\\function.py\u001b[0m in \u001b[0;36m_call_flat\u001b[1;34m(self, args, captured_inputs, cancellation_manager)\u001b[0m\n\u001b[0;32m   1690\u001b[0m       \u001b[1;31m# No tape is watching; skip to running the function.\u001b[0m\u001b[1;33m\u001b[0m\u001b[1;33m\u001b[0m\u001b[1;33m\u001b[0m\u001b[0m\n\u001b[0;32m   1691\u001b[0m       return self._build_call_outputs(self._inference_function.call(\n\u001b[1;32m-> 1692\u001b[1;33m           ctx, args, cancellation_manager=cancellation_manager))\n\u001b[0m\u001b[0;32m   1693\u001b[0m     forward_backward = self._select_forward_and_backward_functions(\n\u001b[0;32m   1694\u001b[0m         \u001b[0margs\u001b[0m\u001b[1;33m,\u001b[0m\u001b[1;33m\u001b[0m\u001b[1;33m\u001b[0m\u001b[0m\n",
      "\u001b[1;32m~\\anaconda3\\envs\\python3.6.8\\lib\\site-packages\\tensorflow_core\\python\\eager\\function.py\u001b[0m in \u001b[0;36mcall\u001b[1;34m(self, ctx, args, cancellation_manager)\u001b[0m\n\u001b[0;32m    543\u001b[0m               \u001b[0minputs\u001b[0m\u001b[1;33m=\u001b[0m\u001b[0margs\u001b[0m\u001b[1;33m,\u001b[0m\u001b[1;33m\u001b[0m\u001b[1;33m\u001b[0m\u001b[0m\n\u001b[0;32m    544\u001b[0m               \u001b[0mattrs\u001b[0m\u001b[1;33m=\u001b[0m\u001b[1;33m(\u001b[0m\u001b[1;34m\"executor_type\"\u001b[0m\u001b[1;33m,\u001b[0m \u001b[0mexecutor_type\u001b[0m\u001b[1;33m,\u001b[0m \u001b[1;34m\"config_proto\"\u001b[0m\u001b[1;33m,\u001b[0m \u001b[0mconfig\u001b[0m\u001b[1;33m)\u001b[0m\u001b[1;33m,\u001b[0m\u001b[1;33m\u001b[0m\u001b[1;33m\u001b[0m\u001b[0m\n\u001b[1;32m--> 545\u001b[1;33m               ctx=ctx)\n\u001b[0m\u001b[0;32m    546\u001b[0m         \u001b[1;32melse\u001b[0m\u001b[1;33m:\u001b[0m\u001b[1;33m\u001b[0m\u001b[1;33m\u001b[0m\u001b[0m\n\u001b[0;32m    547\u001b[0m           outputs = execute.execute_with_cancellation(\n",
      "\u001b[1;32m~\\anaconda3\\envs\\python3.6.8\\lib\\site-packages\\tensorflow_core\\python\\eager\\execute.py\u001b[0m in \u001b[0;36mquick_execute\u001b[1;34m(op_name, num_outputs, inputs, attrs, ctx, name)\u001b[0m\n\u001b[0;32m     59\u001b[0m     tensors = pywrap_tensorflow.TFE_Py_Execute(ctx._handle, device_name,\n\u001b[0;32m     60\u001b[0m                                                \u001b[0mop_name\u001b[0m\u001b[1;33m,\u001b[0m \u001b[0minputs\u001b[0m\u001b[1;33m,\u001b[0m \u001b[0mattrs\u001b[0m\u001b[1;33m,\u001b[0m\u001b[1;33m\u001b[0m\u001b[1;33m\u001b[0m\u001b[0m\n\u001b[1;32m---> 61\u001b[1;33m                                                num_outputs)\n\u001b[0m\u001b[0;32m     62\u001b[0m   \u001b[1;32mexcept\u001b[0m \u001b[0mcore\u001b[0m\u001b[1;33m.\u001b[0m\u001b[0m_NotOkStatusException\u001b[0m \u001b[1;32mas\u001b[0m \u001b[0me\u001b[0m\u001b[1;33m:\u001b[0m\u001b[1;33m\u001b[0m\u001b[1;33m\u001b[0m\u001b[0m\n\u001b[0;32m     63\u001b[0m     \u001b[1;32mif\u001b[0m \u001b[0mname\u001b[0m \u001b[1;32mis\u001b[0m \u001b[1;32mnot\u001b[0m \u001b[1;32mNone\u001b[0m\u001b[1;33m:\u001b[0m\u001b[1;33m\u001b[0m\u001b[1;33m\u001b[0m\u001b[0m\n",
      "\u001b[1;31mKeyboardInterrupt\u001b[0m: "
     ]
    }
   ],
   "source": [
    "model = keras.models.Sequential([\n",
    "    keras.layers.SimpleRNN(20, return_sequences=True, input_shape=[None, 1]),\n",
    "    keras.layers.SimpleRNN(20),\n",
    "    keras.layers.Dense(1)\n",
    "])\n",
    "\n",
    "model.compile(loss=\"mse\", optimizer=\"adam\")\n",
    "history = model.fit(X_train, y_train, epochs=20,\n",
    "                    validation_data=(X_valid, y_valid))"
   ]
  },
  {
   "cell_type": "markdown",
   "id": "91dfe5c3",
   "metadata": {},
   "source": [
    "### 타임스텝의 예측값을 순차적으로 더해 다음 값을 예측하는 경우"
   ]
  },
  {
   "cell_type": "code",
   "execution_count": null,
   "id": "161aca9a",
   "metadata": {},
   "outputs": [],
   "source": [
    "series = generate_time_series(1, n_steps + 10)\n",
    "X_new, Y_new = series[:, :n_steps], series[:, n_steps:]\n",
    "X = X_new\n",
    "\n",
    "#predict한걸 X에 더해가며 계속해서 다음 값 예측\n",
    "for step_ahead in range(10):\n",
    "    y_pred_one = model.predict(X[:, step_ahead:])[:, np.newaxis, :]\n",
    "    X = np.concatenate([X, y_pred_one], axis=1)\n",
    "    \n",
    "Y_pred = X[:, n_steps:]"
   ]
  },
  {
   "cell_type": "code",
   "execution_count": null,
   "id": "73d205ce",
   "metadata": {},
   "outputs": [],
   "source": [
    "Y_pred.shape"
   ]
  },
  {
   "cell_type": "code",
   "execution_count": null,
   "id": "22e70601",
   "metadata": {},
   "outputs": [],
   "source": [
    "np.mean(keras.metrics.mean_squared_error(Y_new, Y_pred))"
   ]
  },
  {
   "cell_type": "markdown",
   "id": "75c20d2d",
   "metadata": {},
   "source": [
    "### 일정량의 타임스텝을 한번에 예측하는 경우"
   ]
  },
  {
   "cell_type": "code",
   "execution_count": 8,
   "id": "b625d481",
   "metadata": {},
   "outputs": [],
   "source": [
    "n_steps = 50\n",
    "series = generate_time_series(10000, n_steps + 10)\n",
    "X_train, Y_train = series[:7000, :n_steps], series[:7000, -10:, 0]\n",
    "X_valid, Y_valid = series[7000:9000, :n_steps], series[7000:9000, -10:, 0]\n",
    "X_test, Y_test = series[9000:, :n_steps], series[9000:, -10:, 0]"
   ]
  },
  {
   "cell_type": "code",
   "execution_count": 51,
   "id": "b20f85e9",
   "metadata": {},
   "outputs": [
    {
     "name": "stdout",
     "output_type": "stream",
     "text": [
      "Train on 7000 samples, validate on 2000 samples\n",
      "Epoch 1/20\n",
      "7000/7000 [==============================] - 10s 1ms/sample - loss: 0.0573 - val_loss: 0.0311\n",
      "Epoch 2/20\n",
      "7000/7000 [==============================] - 9s 1ms/sample - loss: 0.0251 - val_loss: 0.0189\n",
      "Epoch 3/20\n",
      "7000/7000 [==============================] - 9s 1ms/sample - loss: 0.0166 - val_loss: 0.0153\n",
      "Epoch 4/20\n",
      "7000/7000 [==============================] - 9s 1ms/sample - loss: 0.0132 - val_loss: 0.0124\n",
      "Epoch 5/20\n",
      "7000/7000 [==============================] - 8s 1ms/sample - loss: 0.0121 - val_loss: 0.0118\n",
      "Epoch 6/20\n",
      "7000/7000 [==============================] - 9s 1ms/sample - loss: 0.0117 - val_loss: 0.0125\n",
      "Epoch 7/20\n",
      "7000/7000 [==============================] - 9s 1ms/sample - loss: 0.0112 - val_loss: 0.0124\n",
      "Epoch 8/20\n",
      "7000/7000 [==============================] - 9s 1ms/sample - loss: 0.0105 - val_loss: 0.0107\n",
      "Epoch 9/20\n",
      "7000/7000 [==============================] - 9s 1ms/sample - loss: 0.0102 - val_loss: 0.0103\n",
      "Epoch 10/20\n",
      "7000/7000 [==============================] - 9s 1ms/sample - loss: 0.0100 - val_loss: 0.0092\n",
      "Epoch 11/20\n",
      "7000/7000 [==============================] - 9s 1ms/sample - loss: 0.0096 - val_loss: 0.0094\n",
      "Epoch 12/20\n",
      "7000/7000 [==============================] - 9s 1ms/sample - loss: 0.0093 - val_loss: 0.0092\n",
      "Epoch 13/20\n",
      "7000/7000 [==============================] - 9s 1ms/sample - loss: 0.0098 - val_loss: 0.0086\n",
      "Epoch 14/20\n",
      "7000/7000 [==============================] - 9s 1ms/sample - loss: 0.0091 - val_loss: 0.0101\n",
      "Epoch 15/20\n",
      "7000/7000 [==============================] - 9s 1ms/sample - loss: 0.0094 - val_loss: 0.0088\n",
      "Epoch 16/20\n",
      "7000/7000 [==============================] - 9s 1ms/sample - loss: 0.0094 - val_loss: 0.0093\n",
      "Epoch 17/20\n",
      "7000/7000 [==============================] - 9s 1ms/sample - loss: 0.0091 - val_loss: 0.0090\n",
      "Epoch 18/20\n",
      "7000/7000 [==============================] - 9s 1ms/sample - loss: 0.0090 - val_loss: 0.0086\n",
      "Epoch 19/20\n",
      "7000/7000 [==============================] - 9s 1ms/sample - loss: 0.0087 - val_loss: 0.0100\n",
      "Epoch 20/20\n",
      "7000/7000 [==============================] - 9s 1ms/sample - loss: 0.0087 - val_loss: 0.0092\n"
     ]
    }
   ],
   "source": [
    "model = keras.models.Sequential([\n",
    "    keras.layers.SimpleRNN(20, return_sequences=True, input_shape=[None, 1]),\n",
    "    keras.layers.SimpleRNN(20),\n",
    "    keras.layers.Dense(10)\n",
    "])\n",
    "\n",
    "model.compile(loss=\"mse\", optimizer=\"adam\")\n",
    "history = model.fit(X_train, Y_train, epochs=20,\n",
    "                    validation_data=(X_valid, Y_valid))"
   ]
  },
  {
   "cell_type": "code",
   "execution_count": 9,
   "id": "c04a8050",
   "metadata": {},
   "outputs": [],
   "source": [
    "Y = np.empty((10000, n_steps, 10))\n",
    "for step_ahead in range(1, 10 + 1):\n",
    "    Y[:, :,step_ahead -1] = series[:, step_ahead:step_ahead + n_steps, 0]\n",
    "y_train = Y[:7000]\n",
    "y_valid = Y[7000:9000]\n",
    "y_test = Y[9000:]"
   ]
  },
  {
   "cell_type": "code",
   "execution_count": 10,
   "id": "0d74791c",
   "metadata": {},
   "outputs": [
    {
     "data": {
      "text/plain": [
       "((7000, 50, 1), (7000, 50, 10))"
      ]
     },
     "execution_count": 10,
     "metadata": {},
     "output_type": "execute_result"
    }
   ],
   "source": [
    "X_train.shape, y_train.shape"
   ]
  },
  {
   "cell_type": "code",
   "execution_count": 89,
   "id": "4628761f",
   "metadata": {},
   "outputs": [],
   "source": [
    "model = keras.models.Sequential([\n",
    "    keras.layers.SimpleRNN(20, return_sequences=True, input_shape=[None, 1]),\n",
    "    keras.layers.SimpleRNN(20, return_sequences=True),\n",
    "    keras.layers.TimeDistributed(keras.layers.Dense(10))\n",
    "])"
   ]
  },
  {
   "cell_type": "code",
   "execution_count": 13,
   "id": "653388a9",
   "metadata": {},
   "outputs": [
    {
     "name": "stdout",
     "output_type": "stream",
     "text": [
      "Train on 7000 samples, validate on 2000 samples\n",
      "Epoch 1/20\n",
      "7000/7000 [==============================] - 5s 764us/sample - loss: 0.0480 - last_time_step_mse: 0.0381 - val_loss: 0.0351 - val_last_time_step_mse: 0.0232\n",
      "Epoch 2/20\n",
      "7000/7000 [==============================] - 1s 195us/sample - loss: 0.0286 - last_time_step_mse: 0.0154 - val_loss: 0.0248 - val_last_time_step_mse: 0.0111\n",
      "Epoch 3/20\n",
      "7000/7000 [==============================] - 1s 196us/sample - loss: 0.0228 - last_time_step_mse: 0.0089 - val_loss: 0.0208 - val_last_time_step_mse: 0.0072\n",
      "Epoch 4/20\n",
      "7000/7000 [==============================] - 1s 176us/sample - loss: 0.0193 - last_time_step_mse: 0.0058\n"
     ]
    },
    {
     "ename": "KeyboardInterrupt",
     "evalue": "",
     "output_type": "error",
     "traceback": [
      "\u001b[1;31m---------------------------------------------------------------------------\u001b[0m",
      "\u001b[1;31mKeyboardInterrupt\u001b[0m                         Traceback (most recent call last)",
      "\u001b[1;32m<ipython-input-13-2f0c9cb89a13>\u001b[0m in \u001b[0;36m<module>\u001b[1;34m\u001b[0m\n\u001b[0;32m      4\u001b[0m \u001b[0moptimizer\u001b[0m \u001b[1;33m=\u001b[0m \u001b[0mkeras\u001b[0m\u001b[1;33m.\u001b[0m\u001b[0moptimizers\u001b[0m\u001b[1;33m.\u001b[0m\u001b[0mAdam\u001b[0m\u001b[1;33m(\u001b[0m\u001b[0mlr\u001b[0m\u001b[1;33m=\u001b[0m\u001b[1;36m0.01\u001b[0m\u001b[1;33m)\u001b[0m\u001b[1;33m\u001b[0m\u001b[1;33m\u001b[0m\u001b[0m\n\u001b[0;32m      5\u001b[0m \u001b[0mmodel\u001b[0m\u001b[1;33m.\u001b[0m\u001b[0mcompile\u001b[0m\u001b[1;33m(\u001b[0m\u001b[0mloss\u001b[0m\u001b[1;33m=\u001b[0m\u001b[1;34m\"mse\"\u001b[0m\u001b[1;33m,\u001b[0m \u001b[0moptimizer\u001b[0m \u001b[1;33m=\u001b[0m \u001b[0moptimizer\u001b[0m\u001b[1;33m,\u001b[0m \u001b[0mmetrics\u001b[0m\u001b[1;33m=\u001b[0m\u001b[1;33m[\u001b[0m\u001b[0mlast_time_step_mse\u001b[0m\u001b[1;33m]\u001b[0m\u001b[1;33m)\u001b[0m\u001b[1;33m\u001b[0m\u001b[1;33m\u001b[0m\u001b[0m\n\u001b[1;32m----> 6\u001b[1;33m \u001b[0mhistory\u001b[0m \u001b[1;33m=\u001b[0m \u001b[0mmodel\u001b[0m\u001b[1;33m.\u001b[0m\u001b[0mfit\u001b[0m\u001b[1;33m(\u001b[0m\u001b[0mX_train\u001b[0m\u001b[1;33m,\u001b[0m \u001b[0my_train\u001b[0m\u001b[1;33m,\u001b[0m \u001b[0mepochs\u001b[0m\u001b[1;33m=\u001b[0m\u001b[1;36m20\u001b[0m\u001b[1;33m,\u001b[0m\u001b[0mvalidation_data\u001b[0m\u001b[1;33m=\u001b[0m\u001b[1;33m(\u001b[0m\u001b[0mX_valid\u001b[0m\u001b[1;33m,\u001b[0m \u001b[0my_valid\u001b[0m\u001b[1;33m)\u001b[0m\u001b[1;33m)\u001b[0m\u001b[1;33m\u001b[0m\u001b[1;33m\u001b[0m\u001b[0m\n\u001b[0m",
      "\u001b[1;32m~\\anaconda3\\envs\\python3.6.8\\lib\\site-packages\\tensorflow_core\\python\\keras\\engine\\training.py\u001b[0m in \u001b[0;36mfit\u001b[1;34m(self, x, y, batch_size, epochs, verbose, callbacks, validation_split, validation_data, shuffle, class_weight, sample_weight, initial_epoch, steps_per_epoch, validation_steps, validation_freq, max_queue_size, workers, use_multiprocessing, **kwargs)\u001b[0m\n\u001b[0;32m    817\u001b[0m         \u001b[0mmax_queue_size\u001b[0m\u001b[1;33m=\u001b[0m\u001b[0mmax_queue_size\u001b[0m\u001b[1;33m,\u001b[0m\u001b[1;33m\u001b[0m\u001b[1;33m\u001b[0m\u001b[0m\n\u001b[0;32m    818\u001b[0m         \u001b[0mworkers\u001b[0m\u001b[1;33m=\u001b[0m\u001b[0mworkers\u001b[0m\u001b[1;33m,\u001b[0m\u001b[1;33m\u001b[0m\u001b[1;33m\u001b[0m\u001b[0m\n\u001b[1;32m--> 819\u001b[1;33m         use_multiprocessing=use_multiprocessing)\n\u001b[0m\u001b[0;32m    820\u001b[0m \u001b[1;33m\u001b[0m\u001b[0m\n\u001b[0;32m    821\u001b[0m   def evaluate(self,\n",
      "\u001b[1;32m~\\anaconda3\\envs\\python3.6.8\\lib\\site-packages\\tensorflow_core\\python\\keras\\engine\\training_v2.py\u001b[0m in \u001b[0;36mfit\u001b[1;34m(self, model, x, y, batch_size, epochs, verbose, callbacks, validation_split, validation_data, shuffle, class_weight, sample_weight, initial_epoch, steps_per_epoch, validation_steps, validation_freq, max_queue_size, workers, use_multiprocessing, **kwargs)\u001b[0m\n\u001b[0;32m    393\u001b[0m                       \u001b[0mmode\u001b[0m\u001b[1;33m=\u001b[0m\u001b[0mModeKeys\u001b[0m\u001b[1;33m.\u001b[0m\u001b[0mTEST\u001b[0m\u001b[1;33m,\u001b[0m\u001b[1;33m\u001b[0m\u001b[1;33m\u001b[0m\u001b[0m\n\u001b[0;32m    394\u001b[0m                       \u001b[0mtraining_context\u001b[0m\u001b[1;33m=\u001b[0m\u001b[0meval_context\u001b[0m\u001b[1;33m,\u001b[0m\u001b[1;33m\u001b[0m\u001b[1;33m\u001b[0m\u001b[0m\n\u001b[1;32m--> 395\u001b[1;33m                       total_epochs=1)\n\u001b[0m\u001b[0;32m    396\u001b[0m                   cbks.make_logs(model, epoch_logs, eval_result, ModeKeys.TEST,\n\u001b[0;32m    397\u001b[0m                                  prefix='val_')\n",
      "\u001b[1;32m~\\anaconda3\\envs\\python3.6.8\\lib\\site-packages\\tensorflow_core\\python\\keras\\engine\\training_v2.py\u001b[0m in \u001b[0;36mrun_one_epoch\u001b[1;34m(model, iterator, execution_function, dataset_size, batch_size, strategy, steps_per_epoch, num_samples, mode, training_context, total_epochs)\u001b[0m\n\u001b[0;32m    126\u001b[0m         step=step, mode=mode, size=current_batch_size) as batch_logs:\n\u001b[0;32m    127\u001b[0m       \u001b[1;32mtry\u001b[0m\u001b[1;33m:\u001b[0m\u001b[1;33m\u001b[0m\u001b[1;33m\u001b[0m\u001b[0m\n\u001b[1;32m--> 128\u001b[1;33m         \u001b[0mbatch_outs\u001b[0m \u001b[1;33m=\u001b[0m \u001b[0mexecution_function\u001b[0m\u001b[1;33m(\u001b[0m\u001b[0miterator\u001b[0m\u001b[1;33m)\u001b[0m\u001b[1;33m\u001b[0m\u001b[1;33m\u001b[0m\u001b[0m\n\u001b[0m\u001b[0;32m    129\u001b[0m       \u001b[1;32mexcept\u001b[0m \u001b[1;33m(\u001b[0m\u001b[0mStopIteration\u001b[0m\u001b[1;33m,\u001b[0m \u001b[0merrors\u001b[0m\u001b[1;33m.\u001b[0m\u001b[0mOutOfRangeError\u001b[0m\u001b[1;33m)\u001b[0m\u001b[1;33m:\u001b[0m\u001b[1;33m\u001b[0m\u001b[1;33m\u001b[0m\u001b[0m\n\u001b[0;32m    130\u001b[0m         \u001b[1;31m# TODO(kaftan): File bug about tf function and errors.OutOfRangeError?\u001b[0m\u001b[1;33m\u001b[0m\u001b[1;33m\u001b[0m\u001b[1;33m\u001b[0m\u001b[0m\n",
      "\u001b[1;32m~\\anaconda3\\envs\\python3.6.8\\lib\\site-packages\\tensorflow_core\\python\\keras\\engine\\training_v2_utils.py\u001b[0m in \u001b[0;36mexecution_function\u001b[1;34m(input_fn)\u001b[0m\n\u001b[0;32m     96\u001b[0m     \u001b[1;31m# `numpy` translates Tensors to values in Eager mode.\u001b[0m\u001b[1;33m\u001b[0m\u001b[1;33m\u001b[0m\u001b[1;33m\u001b[0m\u001b[0m\n\u001b[0;32m     97\u001b[0m     return nest.map_structure(_non_none_constant_value,\n\u001b[1;32m---> 98\u001b[1;33m                               distributed_function(input_fn))\n\u001b[0m\u001b[0;32m     99\u001b[0m \u001b[1;33m\u001b[0m\u001b[0m\n\u001b[0;32m    100\u001b[0m   \u001b[1;32mreturn\u001b[0m \u001b[0mexecution_function\u001b[0m\u001b[1;33m\u001b[0m\u001b[1;33m\u001b[0m\u001b[0m\n",
      "\u001b[1;32m~\\anaconda3\\envs\\python3.6.8\\lib\\site-packages\\tensorflow_core\\python\\eager\\def_function.py\u001b[0m in \u001b[0;36m__call__\u001b[1;34m(self, *args, **kwds)\u001b[0m\n\u001b[0;32m    566\u001b[0m         \u001b[0mxla_context\u001b[0m\u001b[1;33m.\u001b[0m\u001b[0mExit\u001b[0m\u001b[1;33m(\u001b[0m\u001b[1;33m)\u001b[0m\u001b[1;33m\u001b[0m\u001b[1;33m\u001b[0m\u001b[0m\n\u001b[0;32m    567\u001b[0m     \u001b[1;32melse\u001b[0m\u001b[1;33m:\u001b[0m\u001b[1;33m\u001b[0m\u001b[1;33m\u001b[0m\u001b[0m\n\u001b[1;32m--> 568\u001b[1;33m       \u001b[0mresult\u001b[0m \u001b[1;33m=\u001b[0m \u001b[0mself\u001b[0m\u001b[1;33m.\u001b[0m\u001b[0m_call\u001b[0m\u001b[1;33m(\u001b[0m\u001b[1;33m*\u001b[0m\u001b[0margs\u001b[0m\u001b[1;33m,\u001b[0m \u001b[1;33m**\u001b[0m\u001b[0mkwds\u001b[0m\u001b[1;33m)\u001b[0m\u001b[1;33m\u001b[0m\u001b[1;33m\u001b[0m\u001b[0m\n\u001b[0m\u001b[0;32m    569\u001b[0m \u001b[1;33m\u001b[0m\u001b[0m\n\u001b[0;32m    570\u001b[0m     \u001b[1;32mif\u001b[0m \u001b[0mtracing_count\u001b[0m \u001b[1;33m==\u001b[0m \u001b[0mself\u001b[0m\u001b[1;33m.\u001b[0m\u001b[0m_get_tracing_count\u001b[0m\u001b[1;33m(\u001b[0m\u001b[1;33m)\u001b[0m\u001b[1;33m:\u001b[0m\u001b[1;33m\u001b[0m\u001b[1;33m\u001b[0m\u001b[0m\n",
      "\u001b[1;32m~\\anaconda3\\envs\\python3.6.8\\lib\\site-packages\\tensorflow_core\\python\\eager\\def_function.py\u001b[0m in \u001b[0;36m_call\u001b[1;34m(self, *args, **kwds)\u001b[0m\n\u001b[0;32m    604\u001b[0m       \u001b[1;31m# In this case we have not created variables on the first call. So we can\u001b[0m\u001b[1;33m\u001b[0m\u001b[1;33m\u001b[0m\u001b[1;33m\u001b[0m\u001b[0m\n\u001b[0;32m    605\u001b[0m       \u001b[1;31m# run the first trace but we should fail if variables are created.\u001b[0m\u001b[1;33m\u001b[0m\u001b[1;33m\u001b[0m\u001b[1;33m\u001b[0m\u001b[0m\n\u001b[1;32m--> 606\u001b[1;33m       \u001b[0mresults\u001b[0m \u001b[1;33m=\u001b[0m \u001b[0mself\u001b[0m\u001b[1;33m.\u001b[0m\u001b[0m_stateful_fn\u001b[0m\u001b[1;33m(\u001b[0m\u001b[1;33m*\u001b[0m\u001b[0margs\u001b[0m\u001b[1;33m,\u001b[0m \u001b[1;33m**\u001b[0m\u001b[0mkwds\u001b[0m\u001b[1;33m)\u001b[0m\u001b[1;33m\u001b[0m\u001b[1;33m\u001b[0m\u001b[0m\n\u001b[0m\u001b[0;32m    607\u001b[0m       \u001b[1;32mif\u001b[0m \u001b[0mself\u001b[0m\u001b[1;33m.\u001b[0m\u001b[0m_created_variables\u001b[0m\u001b[1;33m:\u001b[0m\u001b[1;33m\u001b[0m\u001b[1;33m\u001b[0m\u001b[0m\n\u001b[0;32m    608\u001b[0m         raise ValueError(\"Creating variables on a non-first call to a function\"\n",
      "\u001b[1;32m~\\anaconda3\\envs\\python3.6.8\\lib\\site-packages\\tensorflow_core\\python\\eager\\function.py\u001b[0m in \u001b[0;36m__call__\u001b[1;34m(self, *args, **kwargs)\u001b[0m\n\u001b[0;32m   2361\u001b[0m     \u001b[1;32mwith\u001b[0m \u001b[0mself\u001b[0m\u001b[1;33m.\u001b[0m\u001b[0m_lock\u001b[0m\u001b[1;33m:\u001b[0m\u001b[1;33m\u001b[0m\u001b[1;33m\u001b[0m\u001b[0m\n\u001b[0;32m   2362\u001b[0m       \u001b[0mgraph_function\u001b[0m\u001b[1;33m,\u001b[0m \u001b[0margs\u001b[0m\u001b[1;33m,\u001b[0m \u001b[0mkwargs\u001b[0m \u001b[1;33m=\u001b[0m \u001b[0mself\u001b[0m\u001b[1;33m.\u001b[0m\u001b[0m_maybe_define_function\u001b[0m\u001b[1;33m(\u001b[0m\u001b[0margs\u001b[0m\u001b[1;33m,\u001b[0m \u001b[0mkwargs\u001b[0m\u001b[1;33m)\u001b[0m\u001b[1;33m\u001b[0m\u001b[1;33m\u001b[0m\u001b[0m\n\u001b[1;32m-> 2363\u001b[1;33m     \u001b[1;32mreturn\u001b[0m \u001b[0mgraph_function\u001b[0m\u001b[1;33m.\u001b[0m\u001b[0m_filtered_call\u001b[0m\u001b[1;33m(\u001b[0m\u001b[0margs\u001b[0m\u001b[1;33m,\u001b[0m \u001b[0mkwargs\u001b[0m\u001b[1;33m)\u001b[0m  \u001b[1;31m# pylint: disable=protected-access\u001b[0m\u001b[1;33m\u001b[0m\u001b[1;33m\u001b[0m\u001b[0m\n\u001b[0m\u001b[0;32m   2364\u001b[0m \u001b[1;33m\u001b[0m\u001b[0m\n\u001b[0;32m   2365\u001b[0m   \u001b[1;33m@\u001b[0m\u001b[0mproperty\u001b[0m\u001b[1;33m\u001b[0m\u001b[1;33m\u001b[0m\u001b[0m\n",
      "\u001b[1;32m~\\anaconda3\\envs\\python3.6.8\\lib\\site-packages\\tensorflow_core\\python\\eager\\function.py\u001b[0m in \u001b[0;36m_filtered_call\u001b[1;34m(self, args, kwargs)\u001b[0m\n\u001b[0;32m   1609\u001b[0m          if isinstance(t, (ops.Tensor,\n\u001b[0;32m   1610\u001b[0m                            resource_variable_ops.BaseResourceVariable))),\n\u001b[1;32m-> 1611\u001b[1;33m         self.captured_inputs)\n\u001b[0m\u001b[0;32m   1612\u001b[0m \u001b[1;33m\u001b[0m\u001b[0m\n\u001b[0;32m   1613\u001b[0m   \u001b[1;32mdef\u001b[0m \u001b[0m_call_flat\u001b[0m\u001b[1;33m(\u001b[0m\u001b[0mself\u001b[0m\u001b[1;33m,\u001b[0m \u001b[0margs\u001b[0m\u001b[1;33m,\u001b[0m \u001b[0mcaptured_inputs\u001b[0m\u001b[1;33m,\u001b[0m \u001b[0mcancellation_manager\u001b[0m\u001b[1;33m=\u001b[0m\u001b[1;32mNone\u001b[0m\u001b[1;33m)\u001b[0m\u001b[1;33m:\u001b[0m\u001b[1;33m\u001b[0m\u001b[1;33m\u001b[0m\u001b[0m\n",
      "\u001b[1;32m~\\anaconda3\\envs\\python3.6.8\\lib\\site-packages\\tensorflow_core\\python\\eager\\function.py\u001b[0m in \u001b[0;36m_call_flat\u001b[1;34m(self, args, captured_inputs, cancellation_manager)\u001b[0m\n\u001b[0;32m   1690\u001b[0m       \u001b[1;31m# No tape is watching; skip to running the function.\u001b[0m\u001b[1;33m\u001b[0m\u001b[1;33m\u001b[0m\u001b[1;33m\u001b[0m\u001b[0m\n\u001b[0;32m   1691\u001b[0m       return self._build_call_outputs(self._inference_function.call(\n\u001b[1;32m-> 1692\u001b[1;33m           ctx, args, cancellation_manager=cancellation_manager))\n\u001b[0m\u001b[0;32m   1693\u001b[0m     forward_backward = self._select_forward_and_backward_functions(\n\u001b[0;32m   1694\u001b[0m         \u001b[0margs\u001b[0m\u001b[1;33m,\u001b[0m\u001b[1;33m\u001b[0m\u001b[1;33m\u001b[0m\u001b[0m\n",
      "\u001b[1;32m~\\anaconda3\\envs\\python3.6.8\\lib\\site-packages\\tensorflow_core\\python\\eager\\function.py\u001b[0m in \u001b[0;36mcall\u001b[1;34m(self, ctx, args, cancellation_manager)\u001b[0m\n\u001b[0;32m    543\u001b[0m               \u001b[0minputs\u001b[0m\u001b[1;33m=\u001b[0m\u001b[0margs\u001b[0m\u001b[1;33m,\u001b[0m\u001b[1;33m\u001b[0m\u001b[1;33m\u001b[0m\u001b[0m\n\u001b[0;32m    544\u001b[0m               \u001b[0mattrs\u001b[0m\u001b[1;33m=\u001b[0m\u001b[1;33m(\u001b[0m\u001b[1;34m\"executor_type\"\u001b[0m\u001b[1;33m,\u001b[0m \u001b[0mexecutor_type\u001b[0m\u001b[1;33m,\u001b[0m \u001b[1;34m\"config_proto\"\u001b[0m\u001b[1;33m,\u001b[0m \u001b[0mconfig\u001b[0m\u001b[1;33m)\u001b[0m\u001b[1;33m,\u001b[0m\u001b[1;33m\u001b[0m\u001b[1;33m\u001b[0m\u001b[0m\n\u001b[1;32m--> 545\u001b[1;33m               ctx=ctx)\n\u001b[0m\u001b[0;32m    546\u001b[0m         \u001b[1;32melse\u001b[0m\u001b[1;33m:\u001b[0m\u001b[1;33m\u001b[0m\u001b[1;33m\u001b[0m\u001b[0m\n\u001b[0;32m    547\u001b[0m           outputs = execute.execute_with_cancellation(\n",
      "\u001b[1;32m~\\anaconda3\\envs\\python3.6.8\\lib\\site-packages\\tensorflow_core\\python\\eager\\execute.py\u001b[0m in \u001b[0;36mquick_execute\u001b[1;34m(op_name, num_outputs, inputs, attrs, ctx, name)\u001b[0m\n\u001b[0;32m     59\u001b[0m     tensors = pywrap_tensorflow.TFE_Py_Execute(ctx._handle, device_name,\n\u001b[0;32m     60\u001b[0m                                                \u001b[0mop_name\u001b[0m\u001b[1;33m,\u001b[0m \u001b[0minputs\u001b[0m\u001b[1;33m,\u001b[0m \u001b[0mattrs\u001b[0m\u001b[1;33m,\u001b[0m\u001b[1;33m\u001b[0m\u001b[1;33m\u001b[0m\u001b[0m\n\u001b[1;32m---> 61\u001b[1;33m                                                num_outputs)\n\u001b[0m\u001b[0;32m     62\u001b[0m   \u001b[1;32mexcept\u001b[0m \u001b[0mcore\u001b[0m\u001b[1;33m.\u001b[0m\u001b[0m_NotOkStatusException\u001b[0m \u001b[1;32mas\u001b[0m \u001b[0me\u001b[0m\u001b[1;33m:\u001b[0m\u001b[1;33m\u001b[0m\u001b[1;33m\u001b[0m\u001b[0m\n\u001b[0;32m     63\u001b[0m     \u001b[1;32mif\u001b[0m \u001b[0mname\u001b[0m \u001b[1;32mis\u001b[0m \u001b[1;32mnot\u001b[0m \u001b[1;32mNone\u001b[0m\u001b[1;33m:\u001b[0m\u001b[1;33m\u001b[0m\u001b[1;33m\u001b[0m\u001b[0m\n",
      "\u001b[1;31mKeyboardInterrupt\u001b[0m: "
     ]
    }
   ],
   "source": [
    "def last_time_step_mse(Y_true, Y_pred):\n",
    "    return keras.metrics.mean_squared_error(Y_true[:, -1], Y_pred[:, -1])\n",
    "\n",
    "optimizer = keras.optimizers.Adam(lr=0.01)\n",
    "model.compile(loss=\"mse\", optimizer = optimizer, metrics=[last_time_step_mse])\n",
    "history = model.fit(X_train, y_train, epochs=20,validation_data=(X_valid, y_valid))"
   ]
  },
  {
   "cell_type": "code",
   "execution_count": 11,
   "id": "9af1b3ce",
   "metadata": {},
   "outputs": [],
   "source": [
    "from tensorflow.keras.layers import LayerNormalization\n",
    "\n",
    "class LNSimpleRNNCell(keras.layers.Layer):\n",
    "    ##### 이 부분만  수정하여 normalization, 활성화 함수, drop out여부 조정 가능\n",
    "    def __init__(self, units, activation=\"tanh\", **kwargs):\n",
    "        super().__init__(**kwargs)\n",
    "        self.state_size = units\n",
    "        self.output_size = units\n",
    "        self.simple_rnn_cell = keras.layers.SimpleRNNCell(units,\n",
    "                                                          activation=None)\n",
    "        self.layer_norm = LayerNormalization()\n",
    "        self.activation = keras.activations.get(activation)\n",
    "    def get_initial_state(self, inputs=None, batch_size=None, dtype=None):\n",
    "        if inputs is not None:\n",
    "            batch_size = tf.shape(inputs)[0]\n",
    "            dtype = inputs.dtype\n",
    "        return [tf.zeros([batch_size, self.state_size], dtype=dtype)]\n",
    "    def call(self, inputs, states):\n",
    "        outputs, new_states = self.simple_rnn_cell(inputs, states)\n",
    "        norm_outputs = self.activation(self.layer_norm(outputs))\n",
    "        return norm_outputs, [norm_outputs]"
   ]
  },
  {
   "cell_type": "code",
   "execution_count": 100,
   "id": "1892e8ed",
   "metadata": {},
   "outputs": [
    {
     "name": "stdout",
     "output_type": "stream",
     "text": [
      "Train on 7000 samples, validate on 2000 samples\n",
      "Epoch 1/20\n",
      "7000/7000 [==============================] - 17s 2ms/sample - loss: 0.1542 - last_time_step_mse: 0.1295 - val_loss: 0.0730 - val_last_time_step_mse: 0.0624\n",
      "Epoch 2/20\n",
      "7000/7000 [==============================] - 16s 2ms/sample - loss: 0.0630 - last_time_step_mse: 0.0533 - val_loss: 0.0574 - val_last_time_step_mse: 0.0486\n",
      "Epoch 3/20\n",
      "7000/7000 [==============================] - 15s 2ms/sample - loss: 0.0549 - last_time_step_mse: 0.0461 - val_loss: 0.0520 - val_last_time_step_mse: 0.0428\n",
      "Epoch 4/20\n",
      "7000/7000 [==============================] - 15s 2ms/sample - loss: 0.0498 - last_time_step_mse: 0.0403 - val_loss: 0.0471 - val_last_time_step_mse: 0.0360\n",
      "Epoch 5/20\n",
      "7000/7000 [==============================] - 16s 2ms/sample - loss: 0.0457 - last_time_step_mse: 0.0359 - val_loss: 0.0444 - val_last_time_step_mse: 0.0332\n",
      "Epoch 6/20\n",
      "7000/7000 [==============================] - 16s 2ms/sample - loss: 0.0432 - last_time_step_mse: 0.0334 - val_loss: 0.0420 - val_last_time_step_mse: 0.0312\n",
      "Epoch 7/20\n",
      "7000/7000 [==============================] - 15s 2ms/sample - loss: 0.0412 - last_time_step_mse: 0.0314 - val_loss: 0.0398 - val_last_time_step_mse: 0.0290\n",
      "Epoch 8/20\n",
      "7000/7000 [==============================] - 15s 2ms/sample - loss: 0.0388 - last_time_step_mse: 0.0282 - val_loss: 0.0380 - val_last_time_step_mse: 0.0268\n",
      "Epoch 9/20\n",
      "7000/7000 [==============================] - 16s 2ms/sample - loss: 0.0361 - last_time_step_mse: 0.0251 - val_loss: 0.0350 - val_last_time_step_mse: 0.0252\n",
      "Epoch 10/20\n",
      "7000/7000 [==============================] - 16s 2ms/sample - loss: 0.0337 - last_time_step_mse: 0.0220 - val_loss: 0.0325 - val_last_time_step_mse: 0.0199\n",
      "Epoch 11/20\n",
      "7000/7000 [==============================] - 15s 2ms/sample - loss: 0.0317 - last_time_step_mse: 0.0192 - val_loss: 0.0321 - val_last_time_step_mse: 0.0192\n",
      "Epoch 12/20\n",
      "7000/7000 [==============================] - 16s 2ms/sample - loss: 0.0302 - last_time_step_mse: 0.0175 - val_loss: 0.0300 - val_last_time_step_mse: 0.0176\n",
      "Epoch 13/20\n",
      "7000/7000 [==============================] - 16s 2ms/sample - loss: 0.0293 - last_time_step_mse: 0.0165 - val_loss: 0.0285 - val_last_time_step_mse: 0.0153\n",
      "Epoch 14/20\n",
      "7000/7000 [==============================] - 16s 2ms/sample - loss: 0.0284 - last_time_step_mse: 0.0156 - val_loss: 0.0279 - val_last_time_step_mse: 0.0145\n",
      "Epoch 15/20\n",
      "7000/7000 [==============================] - 16s 2ms/sample - loss: 0.0276 - last_time_step_mse: 0.0147 - val_loss: 0.0270 - val_last_time_step_mse: 0.0135\n",
      "Epoch 16/20\n",
      "7000/7000 [==============================] - 16s 2ms/sample - loss: 0.0272 - last_time_step_mse: 0.0144 - val_loss: 0.0263 - val_last_time_step_mse: 0.0131\n",
      "Epoch 17/20\n",
      "7000/7000 [==============================] - 16s 2ms/sample - loss: 0.0261 - last_time_step_mse: 0.0128 - val_loss: 0.0252 - val_last_time_step_mse: 0.0118\n",
      "Epoch 18/20\n",
      "7000/7000 [==============================] - 15s 2ms/sample - loss: 0.0249 - last_time_step_mse: 0.0111 - val_loss: 0.0249 - val_last_time_step_mse: 0.0115\n",
      "Epoch 19/20\n",
      "7000/7000 [==============================] - 15s 2ms/sample - loss: 0.0239 - last_time_step_mse: 0.0101 - val_loss: 0.0237 - val_last_time_step_mse: 0.0101\n",
      "Epoch 20/20\n",
      "7000/7000 [==============================] - 16s 2ms/sample - loss: 0.0237 - last_time_step_mse: 0.0099 - val_loss: 0.0243 - val_last_time_step_mse: 0.0106\n"
     ]
    }
   ],
   "source": [
    "model = keras.models.Sequential([\n",
    "    keras.layers.RNN(LNSimpleRNNCell(20), return_sequences=True,\n",
    "                     input_shape=[None, 1]),\n",
    "    keras.layers.RNN(LNSimpleRNNCell(20), return_sequences=True),\n",
    "    keras.layers.TimeDistributed(keras.layers.Dense(10))\n",
    "])\n",
    "\n",
    "model.compile(loss=\"mse\", optimizer=\"adam\", metrics=[last_time_step_mse])\n",
    "history = model.fit(X_train, y_train, epochs=20,\n",
    "                    validation_data=(X_valid, y_valid))"
   ]
  },
  {
   "cell_type": "markdown",
   "id": "882129bf",
   "metadata": {},
   "source": [
    "# LSTM "
   ]
  },
  {
   "cell_type": "code",
   "execution_count": 104,
   "id": "a7be1de0",
   "metadata": {},
   "outputs": [
    {
     "name": "stdout",
     "output_type": "stream",
     "text": [
      "Train on 7000 samples, validate on 2000 samples\n",
      "Epoch 1/20\n",
      "7000/7000 [==============================] - 5s 698us/sample - loss: 0.0785 - last_time_step_mse: 0.0632 - val_loss: 0.0552 - val_last_time_step_mse: 0.0350\n",
      "Epoch 2/20\n",
      "7000/7000 [==============================] - 2s 297us/sample - loss: 0.0479 - last_time_step_mse: 0.0271 - val_loss: 0.0428 - val_last_time_step_mse: 0.0208\n",
      "Epoch 3/20\n",
      "7000/7000 [==============================] - 2s 297us/sample - loss: 0.0386 - last_time_step_mse: 0.0181 - val_loss: 0.0360 - val_last_time_step_mse: 0.0154\n",
      "Epoch 4/20\n",
      "7000/7000 [==============================] - 2s 297us/sample - loss: 0.0343 - last_time_step_mse: 0.0149 - val_loss: 0.0333 - val_last_time_step_mse: 0.0137\n",
      "Epoch 5/20\n",
      "7000/7000 [==============================] - 2s 295us/sample - loss: 0.0321 - last_time_step_mse: 0.0136 - val_loss: 0.0320 - val_last_time_step_mse: 0.0132\n",
      "Epoch 6/20\n",
      "7000/7000 [==============================] - 2s 298us/sample - loss: 0.0306 - last_time_step_mse: 0.0128 - val_loss: 0.0306 - val_last_time_step_mse: 0.0125\n",
      "Epoch 7/20\n",
      "7000/7000 [==============================] - 2s 298us/sample - loss: 0.0294 - last_time_step_mse: 0.0121 - val_loss: 0.0293 - val_last_time_step_mse: 0.0112\n",
      "Epoch 8/20\n",
      "7000/7000 [==============================] - 2s 297us/sample - loss: 0.0284 - last_time_step_mse: 0.0113 - val_loss: 0.0282 - val_last_time_step_mse: 0.0108\n",
      "Epoch 9/20\n",
      "7000/7000 [==============================] - 2s 298us/sample - loss: 0.0275 - last_time_step_mse: 0.0108 - val_loss: 0.0276 - val_last_time_step_mse: 0.0104\n",
      "Epoch 10/20\n",
      "7000/7000 [==============================] - 2s 297us/sample - loss: 0.0268 - last_time_step_mse: 0.0104 - val_loss: 0.0272 - val_last_time_step_mse: 0.0116\n",
      "Epoch 11/20\n",
      "7000/7000 [==============================] - 2s 296us/sample - loss: 0.0262 - last_time_step_mse: 0.0099 - val_loss: 0.0263 - val_last_time_step_mse: 0.0093\n",
      "Epoch 12/20\n",
      "7000/7000 [==============================] - 2s 297us/sample - loss: 0.0257 - last_time_step_mse: 0.0096 - val_loss: 0.0259 - val_last_time_step_mse: 0.0098\n",
      "Epoch 13/20\n",
      "7000/7000 [==============================] - 2s 297us/sample - loss: 0.0253 - last_time_step_mse: 0.0095 - val_loss: 0.0254 - val_last_time_step_mse: 0.0088\n",
      "Epoch 14/20\n",
      "7000/7000 [==============================] - 2s 298us/sample - loss: 0.0250 - last_time_step_mse: 0.0093 - val_loss: 0.0251 - val_last_time_step_mse: 0.0095\n",
      "Epoch 15/20\n",
      "7000/7000 [==============================] - 2s 295us/sample - loss: 0.0246 - last_time_step_mse: 0.0091 - val_loss: 0.0249 - val_last_time_step_mse: 0.0094\n",
      "Epoch 16/20\n",
      "7000/7000 [==============================] - 2s 298us/sample - loss: 0.0243 - last_time_step_mse: 0.0090 - val_loss: 0.0244 - val_last_time_step_mse: 0.0085\n",
      "Epoch 17/20\n",
      "7000/7000 [==============================] - 2s 300us/sample - loss: 0.0240 - last_time_step_mse: 0.0088 - val_loss: 0.0242 - val_last_time_step_mse: 0.0088\n",
      "Epoch 18/20\n",
      "7000/7000 [==============================] - 2s 299us/sample - loss: 0.0237 - last_time_step_mse: 0.0086 - val_loss: 0.0240 - val_last_time_step_mse: 0.0085\n",
      "Epoch 19/20\n",
      "7000/7000 [==============================] - 2s 293us/sample - loss: 0.0236 - last_time_step_mse: 0.0087 - val_loss: 0.0236 - val_last_time_step_mse: 0.0085\n",
      "Epoch 20/20\n",
      "7000/7000 [==============================] - 2s 298us/sample - loss: 0.0232 - last_time_step_mse: 0.0083 - val_loss: 0.0234 - val_last_time_step_mse: 0.0080\n"
     ]
    }
   ],
   "source": [
    "model = keras.models.Sequential([\n",
    "    keras.layers.LSTM(20, return_sequences=True, input_shape=[None,1]),\n",
    "    keras.layers.LSTM(20, return_sequences=True),\n",
    "    keras.layers.TimeDistributed(keras.layers.Dense(10))\n",
    "])\n",
    "\n",
    "model.compile(loss=\"mse\", optimizer=\"adam\", metrics=[last_time_step_mse])\n",
    "history = model.fit(X_train, y_train, epochs=20,\n",
    "                    validation_data=(X_valid, y_valid))"
   ]
  },
  {
   "cell_type": "markdown",
   "id": "4f4076a1",
   "metadata": {},
   "source": [
    "# GRU셀 "
   ]
  },
  {
   "cell_type": "code",
   "execution_count": 15,
   "id": "8ccbfc12",
   "metadata": {},
   "outputs": [
    {
     "name": "stdout",
     "output_type": "stream",
     "text": [
      "Train on 7000 samples, validate on 2000 samples\n",
      "Epoch 1/20\n",
      "7000/7000 [==============================] - 4s 593us/sample - loss: 0.0768 - last_time_step_mse: 0.0683 - val_loss: 0.0534 - val_last_time_step_mse: 0.0420\n",
      "Epoch 2/20\n",
      "7000/7000 [==============================] - 1s 190us/sample - loss: 0.0477 - last_time_step_mse: 0.0372 - val_loss: 0.0444 - val_last_time_step_mse: 0.0331\n",
      "Epoch 3/20\n",
      "7000/7000 [==============================] - 1s 191us/sample - loss: 0.0427 - last_time_step_mse: 0.0318 - val_loss: 0.0421 - val_last_time_step_mse: 0.0303\n",
      "Epoch 4/20\n",
      "7000/7000 [==============================] - 1s 191us/sample - loss: 0.0401 - last_time_step_mse: 0.0292 - val_loss: 0.0386 - val_last_time_step_mse: 0.0268\n",
      "Epoch 5/20\n",
      "7000/7000 [==============================] - 1s 193us/sample - loss: 0.0365 - last_time_step_mse: 0.0247 - val_loss: 0.0333 - val_last_time_step_mse: 0.0198\n",
      "Epoch 6/20\n",
      "7000/7000 [==============================] - 1s 192us/sample - loss: 0.0313 - last_time_step_mse: 0.0171 - val_loss: 0.0308 - val_last_time_step_mse: 0.0164\n",
      "Epoch 7/20\n",
      "7000/7000 [==============================] - 1s 191us/sample - loss: 0.0291 - last_time_step_mse: 0.0146 - val_loss: 0.0280 - val_last_time_step_mse: 0.0132\n",
      "Epoch 8/20\n",
      "7000/7000 [==============================] - 1s 193us/sample - loss: 0.0279 - last_time_step_mse: 0.0134 - val_loss: 0.0272 - val_last_time_step_mse: 0.0123\n",
      "Epoch 9/20\n",
      "7000/7000 [==============================] - 1s 193us/sample - loss: 0.0271 - last_time_step_mse: 0.0127 - val_loss: 0.0266 - val_last_time_step_mse: 0.0118\n",
      "Epoch 10/20\n",
      "7000/7000 [==============================] - 1s 191us/sample - loss: 0.0266 - last_time_step_mse: 0.0122 - val_loss: 0.0261 - val_last_time_step_mse: 0.0117\n",
      "Epoch 11/20\n",
      "7000/7000 [==============================] - 1s 193us/sample - loss: 0.0261 - last_time_step_mse: 0.0118 - val_loss: 0.0258 - val_last_time_step_mse: 0.0112\n",
      "Epoch 12/20\n",
      "7000/7000 [==============================] - 1s 190us/sample - loss: 0.0257 - last_time_step_mse: 0.0115 - val_loss: 0.0252 - val_last_time_step_mse: 0.0108\n",
      "Epoch 13/20\n",
      "7000/7000 [==============================] - 1s 191us/sample - loss: 0.0253 - last_time_step_mse: 0.0113 - val_loss: 0.0249 - val_last_time_step_mse: 0.0108\n",
      "Epoch 14/20\n",
      "7000/7000 [==============================] - 1s 193us/sample - loss: 0.0250 - last_time_step_mse: 0.0111 - val_loss: 0.0250 - val_last_time_step_mse: 0.0112\n",
      "Epoch 15/20\n",
      "7000/7000 [==============================] - 1s 191us/sample - loss: 0.0246 - last_time_step_mse: 0.0107 - val_loss: 0.0247 - val_last_time_step_mse: 0.0103\n",
      "Epoch 16/20\n",
      "7000/7000 [==============================] - 1s 192us/sample - loss: 0.0243 - last_time_step_mse: 0.0104 - val_loss: 0.0240 - val_last_time_step_mse: 0.0102\n",
      "Epoch 17/20\n",
      "7000/7000 [==============================] - 1s 193us/sample - loss: 0.0240 - last_time_step_mse: 0.0101 - val_loss: 0.0247 - val_last_time_step_mse: 0.0118\n",
      "Epoch 18/20\n",
      "7000/7000 [==============================] - 1s 214us/sample - loss: 0.0237 - last_time_step_mse: 0.0098 - val_loss: 0.0233 - val_last_time_step_mse: 0.0092\n",
      "Epoch 19/20\n",
      "7000/7000 [==============================] - 1s 195us/sample - loss: 0.0232 - last_time_step_mse: 0.0092 - val_loss: 0.0227 - val_last_time_step_mse: 0.0086\n",
      "Epoch 20/20\n",
      "7000/7000 [==============================] - 1s 197us/sample - loss: 0.0228 - last_time_step_mse: 0.0085 - val_loss: 0.0222 - val_last_time_step_mse: 0.0078\n"
     ]
    }
   ],
   "source": [
    "model = keras.models.Sequential([\n",
    "    keras.layers.GRU(20, return_sequences=True, input_shape=[None, 1]),\n",
    "    keras.layers.GRU(20, return_sequences=True),\n",
    "    keras.layers.TimeDistributed(keras.layers.Dense(10))\n",
    "])\n",
    "\n",
    "model.compile(loss=\"mse\", optimizer=\"adam\", metrics=[last_time_step_mse])\n",
    "history = model.fit(X_train, y_train, epochs=20,\n",
    "                    validation_data=(X_valid, y_valid))"
   ]
  },
  {
   "cell_type": "code",
   "execution_count": 16,
   "id": "7fc0cc32",
   "metadata": {},
   "outputs": [
    {
     "name": "stdout",
     "output_type": "stream",
     "text": [
      "Train on 7000 samples, validate on 2000 samples\n",
      "Epoch 1/20\n",
      "7000/7000 [==============================] - 5s 737us/sample - loss: 0.0693 - last_time_step_mse: 0.0612 - val_loss: 0.0453 - val_last_time_step_mse: 0.0366\n",
      "Epoch 2/20\n",
      "7000/7000 [==============================] - 1s 175us/sample - loss: 0.0393 - last_time_step_mse: 0.0314 - val_loss: 0.0357 - val_last_time_step_mse: 0.0269\n",
      "Epoch 3/20\n",
      "7000/7000 [==============================] - 1s 177us/sample - loss: 0.0320 - last_time_step_mse: 0.0231 - val_loss: 0.0291 - val_last_time_step_mse: 0.0189\n",
      "Epoch 4/20\n",
      "7000/7000 [==============================] - 1s 180us/sample - loss: 0.0270 - last_time_step_mse: 0.0166 - val_loss: 0.0252 - val_last_time_step_mse: 0.0144\n",
      "Epoch 5/20\n",
      "7000/7000 [==============================] - 1s 176us/sample - loss: 0.0249 - last_time_step_mse: 0.0142 - val_loss: 0.0238 - val_last_time_step_mse: 0.0129\n",
      "Epoch 6/20\n",
      "7000/7000 [==============================] - 1s 184us/sample - loss: 0.0236 - last_time_step_mse: 0.0129 - val_loss: 0.0228 - val_last_time_step_mse: 0.0117\n",
      "Epoch 7/20\n",
      "7000/7000 [==============================] - 1s 176us/sample - loss: 0.0229 - last_time_step_mse: 0.0121 - val_loss: 0.0223 - val_last_time_step_mse: 0.0110\n",
      "Epoch 8/20\n",
      "7000/7000 [==============================] - 1s 177us/sample - loss: 0.0224 - last_time_step_mse: 0.0116 - val_loss: 0.0219 - val_last_time_step_mse: 0.0111\n",
      "Epoch 9/20\n",
      "7000/7000 [==============================] - 1s 177us/sample - loss: 0.0218 - last_time_step_mse: 0.0110 - val_loss: 0.0214 - val_last_time_step_mse: 0.0102\n",
      "Epoch 10/20\n",
      "7000/7000 [==============================] - 1s 176us/sample - loss: 0.0215 - last_time_step_mse: 0.0108 - val_loss: 0.0212 - val_last_time_step_mse: 0.0104\n",
      "Epoch 11/20\n",
      "7000/7000 [==============================] - 1s 178us/sample - loss: 0.0212 - last_time_step_mse: 0.0105 - val_loss: 0.0208 - val_last_time_step_mse: 0.0098\n",
      "Epoch 12/20\n",
      "7000/7000 [==============================] - 1s 176us/sample - loss: 0.0209 - last_time_step_mse: 0.0102 - val_loss: 0.0209 - val_last_time_step_mse: 0.0102\n",
      "Epoch 13/20\n",
      "7000/7000 [==============================] - 1s 179us/sample - loss: 0.0207 - last_time_step_mse: 0.0101 - val_loss: 0.0204 - val_last_time_step_mse: 0.0095\n",
      "Epoch 14/20\n",
      "7000/7000 [==============================] - 1s 176us/sample - loss: 0.0205 - last_time_step_mse: 0.0101 - val_loss: 0.0201 - val_last_time_step_mse: 0.0095\n",
      "Epoch 15/20\n",
      "7000/7000 [==============================] - 1s 176us/sample - loss: 0.0202 - last_time_step_mse: 0.0098 - val_loss: 0.0200 - val_last_time_step_mse: 0.0093\n",
      "Epoch 16/20\n",
      "7000/7000 [==============================] - 1s 176us/sample - loss: 0.0200 - last_time_step_mse: 0.0096 - val_loss: 0.0197 - val_last_time_step_mse: 0.0092\n",
      "Epoch 17/20\n",
      "7000/7000 [==============================] - 1s 180us/sample - loss: 0.0198 - last_time_step_mse: 0.0096 - val_loss: 0.0197 - val_last_time_step_mse: 0.0094\n",
      "Epoch 18/20\n",
      "7000/7000 [==============================] - 1s 178us/sample - loss: 0.0196 - last_time_step_mse: 0.0094 - val_loss: 0.0190 - val_last_time_step_mse: 0.0086\n",
      "Epoch 19/20\n",
      "7000/7000 [==============================] - 1s 178us/sample - loss: 0.0194 - last_time_step_mse: 0.0093 - val_loss: 0.0190 - val_last_time_step_mse: 0.0086\n",
      "Epoch 20/20\n",
      "7000/7000 [==============================] - 1s 177us/sample - loss: 0.0192 - last_time_step_mse: 0.0092 - val_loss: 0.0188 - val_last_time_step_mse: 0.0085\n"
     ]
    }
   ],
   "source": [
    "model = keras.models.Sequential([\n",
    "    keras.layers.Conv1D(filters=20, kernel_size=4, strides=2, padding=\"valid\",\n",
    "                        input_shape=[None, 1]),\n",
    "    keras.layers.GRU(20, return_sequences=True),\n",
    "    keras.layers.GRU(20, return_sequences=True),\n",
    "    keras.layers.TimeDistributed(keras.layers.Dense(10))\n",
    "])\n",
    "\n",
    "model.compile(loss=\"mse\", optimizer=\"adam\", metrics=[last_time_step_mse])\n",
    "history = model.fit(X_train, y_train[:, 3::2], epochs=20,\n",
    "                    validation_data=(X_valid, y_valid[:, 3::2]))"
   ]
  },
  {
   "cell_type": "code",
   "execution_count": null,
   "id": "11abf6c0",
   "metadata": {},
   "outputs": [],
   "source": []
  }
 ],
 "metadata": {
  "kernelspec": {
   "display_name": "python3.6.8",
   "language": "python",
   "name": "python3.6.8"
  },
  "language_info": {
   "codemirror_mode": {
    "name": "ipython",
    "version": 3
   },
   "file_extension": ".py",
   "mimetype": "text/x-python",
   "name": "python",
   "nbconvert_exporter": "python",
   "pygments_lexer": "ipython3",
   "version": "3.6.8"
  }
 },
 "nbformat": 4,
 "nbformat_minor": 5
}
