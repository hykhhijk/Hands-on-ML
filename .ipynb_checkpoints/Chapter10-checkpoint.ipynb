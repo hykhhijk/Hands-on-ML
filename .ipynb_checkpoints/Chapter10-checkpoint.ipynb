{
 "cells": [
  {
   "cell_type": "code",
   "execution_count": 1,
   "id": "a3ea79d8",
   "metadata": {},
   "outputs": [],
   "source": [
    "import numpy as np\n",
    "from sklearn.datasets import load_iris\n",
    "from sklearn.linear_model import Perceptron\n",
    "\n",
    "iris = load_iris()\n",
    "X = iris.data[:, (2,3)]\n",
    "y = (iris.target == 0).astype(np.int)\n",
    "\n",
    "per_clf = Perceptron()\n",
    "per_clf.fit(X, y)\n",
    "\n",
    "y_pred = per_clf.predict([[2, 0.5]])"
   ]
  },
  {
   "cell_type": "code",
   "execution_count": 2,
   "id": "ecdeba2a",
   "metadata": {},
   "outputs": [],
   "source": [
    "import tensorflow as tf\n",
    "from tensorflow import keras"
   ]
  },
  {
   "cell_type": "code",
   "execution_count": 3,
   "id": "e8611af2",
   "metadata": {},
   "outputs": [
    {
     "data": {
      "text/plain": [
       "'2.6.0'"
      ]
     },
     "execution_count": 3,
     "metadata": {},
     "output_type": "execute_result"
    }
   ],
   "source": [
    "keras.__version__"
   ]
  },
  {
   "cell_type": "code",
   "execution_count": 4,
   "id": "9ea048a2",
   "metadata": {},
   "outputs": [],
   "source": [
    "fashion_mnist =  keras.datasets.fashion_mnist\n",
    "(X_train_full, y_train_full), (X_test, y_test) = fashion_mnist.load_data()"
   ]
  },
  {
   "cell_type": "code",
   "execution_count": 5,
   "id": "d8931b7a",
   "metadata": {},
   "outputs": [
    {
     "data": {
      "text/plain": [
       "dtype('uint8')"
      ]
     },
     "execution_count": 5,
     "metadata": {},
     "output_type": "execute_result"
    }
   ],
   "source": [
    "X_train_full.dtype"
   ]
  },
  {
   "cell_type": "code",
   "execution_count": 6,
   "id": "1d6b3cc4",
   "metadata": {},
   "outputs": [
    {
     "data": {
      "text/plain": [
       "(60000, 28, 28)"
      ]
     },
     "execution_count": 6,
     "metadata": {},
     "output_type": "execute_result"
    }
   ],
   "source": [
    "X_train_full.shape"
   ]
  },
  {
   "cell_type": "code",
   "execution_count": 7,
   "id": "6db8dc2f",
   "metadata": {},
   "outputs": [],
   "source": [
    "#validation세트 만들고 경사하강법을 위해 255로 나눠줌(0~1)\n",
    "\n",
    "X_valid, X_train = X_train_full[:5000] / 255.0, X_train_full[5000:]/255.0\n",
    "y_valid, y_train = y_train_full[:5000] , y_train_full[5000:]\n",
    "X_test = X_test/255.0"
   ]
  },
  {
   "cell_type": "code",
   "execution_count": 8,
   "id": "7c3666d4",
   "metadata": {},
   "outputs": [],
   "source": [
    "class_names = [\"T-shirt/top\", \"Trouser\", \"Pullover\",\"Dress\",\"Coat\",\"Sandal\",\"Shirt\",\"Sneaker\",\"bas\",\"Ankle boot\"]"
   ]
  },
  {
   "cell_type": "code",
   "execution_count": 9,
   "id": "5e13ffb1",
   "metadata": {},
   "outputs": [
    {
     "data": {
      "text/plain": [
       "'Coat'"
      ]
     },
     "execution_count": 9,
     "metadata": {},
     "output_type": "execute_result"
    }
   ],
   "source": [
    "class_names[y_train[0]]"
   ]
  },
  {
   "cell_type": "markdown",
   "id": "8c961e53",
   "metadata": {},
   "source": [
    "### 아래의 Flatten layer는 28 * 28행렬을 784배열로 바꿔줌"
   ]
  },
  {
   "cell_type": "code",
   "execution_count": 10,
   "id": "14602ad2",
   "metadata": {},
   "outputs": [],
   "source": [
    "model = keras.models.Sequential()\n",
    "model.add(keras.layers.Flatten(input_shape=[28, 28]))\n",
    "model.add(keras.layers.Dense(300, activation=\"relu\"))\n",
    "model.add(keras.layers.Dense(100, activation=\"relu\"))\n",
    "model.add(keras.layers.Dense(10, activation=\"softmax\"))"
   ]
  },
  {
   "cell_type": "code",
   "execution_count": 11,
   "id": "b92ad441",
   "metadata": {},
   "outputs": [],
   "source": [
    "### 위와 동일\n",
    "\n",
    "model = keras.models.Sequential([\n",
    "    keras.layers.Flatten(input_shape=[28, 28]),\n",
    "    keras.layers.Dense(300, activation=\"relu\"),\n",
    "    keras.layers.Dense(100, activation=\"relu\"),\n",
    "    keras.layers.Dense(10, activation=\"softmax\")\n",
    "])"
   ]
  },
  {
   "cell_type": "code",
   "execution_count": 12,
   "id": "7e2b53d9",
   "metadata": {},
   "outputs": [],
   "source": [
    "from keras.layers import Dense\n",
    "output_layer = Dense(10)"
   ]
  },
  {
   "cell_type": "code",
   "execution_count": 13,
   "id": "edb52c3b",
   "metadata": {},
   "outputs": [
    {
     "data": {
      "text/plain": [
       "<keras.layers.core.Dense at 0x21ec30175b0>"
      ]
     },
     "execution_count": 13,
     "metadata": {},
     "output_type": "execute_result"
    }
   ],
   "source": [
    "output_layer"
   ]
  },
  {
   "cell_type": "code",
   "execution_count": 14,
   "id": "92e3c0f2",
   "metadata": {},
   "outputs": [],
   "source": [
    "from tensorflow.keras.layers import Dense\n",
    "output_layer = Dense(10)"
   ]
  },
  {
   "cell_type": "code",
   "execution_count": 15,
   "id": "ccf74b74",
   "metadata": {},
   "outputs": [
    {
     "data": {
      "text/plain": [
       "<keras.layers.core.Dense at 0x21ec302c6d0>"
      ]
     },
     "execution_count": 15,
     "metadata": {},
     "output_type": "execute_result"
    }
   ],
   "source": [
    "output_layer"
   ]
  },
  {
   "cell_type": "code",
   "execution_count": 16,
   "id": "71fd38fc",
   "metadata": {},
   "outputs": [
    {
     "name": "stdout",
     "output_type": "stream",
     "text": [
      "Model: \"sequential_1\"\n",
      "_________________________________________________________________\n",
      "Layer (type)                 Output Shape              Param #   \n",
      "=================================================================\n",
      "flatten_1 (Flatten)          (None, 784)               0         \n",
      "_________________________________________________________________\n",
      "dense_3 (Dense)              (None, 300)               235500    \n",
      "_________________________________________________________________\n",
      "dense_4 (Dense)              (None, 100)               30100     \n",
      "_________________________________________________________________\n",
      "dense_5 (Dense)              (None, 10)                1010      \n",
      "=================================================================\n",
      "Total params: 266,610\n",
      "Trainable params: 266,610\n",
      "Non-trainable params: 0\n",
      "_________________________________________________________________\n"
     ]
    }
   ],
   "source": [
    "model.summary()"
   ]
  },
  {
   "cell_type": "code",
   "execution_count": 17,
   "id": "ca10ff1f",
   "metadata": {},
   "outputs": [
    {
     "data": {
      "text/plain": [
       "[<keras.layers.core.Flatten at 0x21ec3017a30>,\n",
       " <keras.layers.core.Dense at 0x21ec3017c40>,\n",
       " <keras.layers.core.Dense at 0x21ebc166cd0>,\n",
       " <keras.layers.core.Dense at 0x21ebc1664c0>]"
      ]
     },
     "execution_count": 17,
     "metadata": {},
     "output_type": "execute_result"
    }
   ],
   "source": [
    "model.layers"
   ]
  },
  {
   "cell_type": "code",
   "execution_count": 18,
   "id": "9d4dfec1",
   "metadata": {},
   "outputs": [
    {
     "data": {
      "text/plain": [
       "'dense_3'"
      ]
     },
     "execution_count": 18,
     "metadata": {},
     "output_type": "execute_result"
    }
   ],
   "source": [
    "hidden1 = model.layers[1]\n",
    "hidden1.name"
   ]
  },
  {
   "cell_type": "code",
   "execution_count": 19,
   "id": "d66b29f7",
   "metadata": {},
   "outputs": [],
   "source": [
    "#model.get_layer(\"dense_50\") is hidden1"
   ]
  },
  {
   "cell_type": "code",
   "execution_count": 20,
   "id": "d4d4d2c9",
   "metadata": {},
   "outputs": [],
   "source": [
    "weights, biases = hidden1.get_weights()"
   ]
  },
  {
   "cell_type": "code",
   "execution_count": 21,
   "id": "b723655d",
   "metadata": {},
   "outputs": [
    {
     "data": {
      "text/plain": [
       "array([[-0.02858361,  0.06100357, -0.07045618, ..., -0.02179129,\n",
       "        -0.02119661,  0.00732782],\n",
       "       [ 0.00361074, -0.06074112, -0.01782667, ...,  0.05798018,\n",
       "         0.06732593, -0.03938219],\n",
       "       [-0.04666416,  0.07172008,  0.00057728, ..., -0.01996695,\n",
       "         0.05854671, -0.03377763],\n",
       "       ...,\n",
       "       [-0.00445912,  0.07313295,  0.04521578, ...,  0.0121767 ,\n",
       "         0.05873668,  0.03804147],\n",
       "       [-0.06578875,  0.06930776,  0.0647504 , ...,  0.007277  ,\n",
       "         0.06410682,  0.06061959],\n",
       "       [ 0.07223062,  0.06061912,  0.05160385, ..., -0.03671878,\n",
       "         0.02795397,  0.03431104]], dtype=float32)"
      ]
     },
     "execution_count": 21,
     "metadata": {},
     "output_type": "execute_result"
    }
   ],
   "source": [
    "weights"
   ]
  },
  {
   "cell_type": "code",
   "execution_count": 22,
   "id": "714d46c5",
   "metadata": {},
   "outputs": [
    {
     "data": {
      "text/plain": [
       "(784, 300)"
      ]
     },
     "execution_count": 22,
     "metadata": {},
     "output_type": "execute_result"
    }
   ],
   "source": [
    "### 첫번쨰 층인 784입력층에 300개 은닝층에 대한 가중치이므로 784 * 300\n",
    "\n",
    "weights.shape"
   ]
  },
  {
   "cell_type": "code",
   "execution_count": 23,
   "id": "26929d3f",
   "metadata": {},
   "outputs": [
    {
     "data": {
      "text/plain": [
       "array([0., 0., 0., 0., 0., 0., 0., 0., 0., 0., 0., 0., 0., 0., 0., 0., 0.,\n",
       "       0., 0., 0., 0., 0., 0., 0., 0., 0., 0., 0., 0., 0., 0., 0., 0., 0.,\n",
       "       0., 0., 0., 0., 0., 0., 0., 0., 0., 0., 0., 0., 0., 0., 0., 0., 0.,\n",
       "       0., 0., 0., 0., 0., 0., 0., 0., 0., 0., 0., 0., 0., 0., 0., 0., 0.,\n",
       "       0., 0., 0., 0., 0., 0., 0., 0., 0., 0., 0., 0., 0., 0., 0., 0., 0.,\n",
       "       0., 0., 0., 0., 0., 0., 0., 0., 0., 0., 0., 0., 0., 0., 0., 0., 0.,\n",
       "       0., 0., 0., 0., 0., 0., 0., 0., 0., 0., 0., 0., 0., 0., 0., 0., 0.,\n",
       "       0., 0., 0., 0., 0., 0., 0., 0., 0., 0., 0., 0., 0., 0., 0., 0., 0.,\n",
       "       0., 0., 0., 0., 0., 0., 0., 0., 0., 0., 0., 0., 0., 0., 0., 0., 0.,\n",
       "       0., 0., 0., 0., 0., 0., 0., 0., 0., 0., 0., 0., 0., 0., 0., 0., 0.,\n",
       "       0., 0., 0., 0., 0., 0., 0., 0., 0., 0., 0., 0., 0., 0., 0., 0., 0.,\n",
       "       0., 0., 0., 0., 0., 0., 0., 0., 0., 0., 0., 0., 0., 0., 0., 0., 0.,\n",
       "       0., 0., 0., 0., 0., 0., 0., 0., 0., 0., 0., 0., 0., 0., 0., 0., 0.,\n",
       "       0., 0., 0., 0., 0., 0., 0., 0., 0., 0., 0., 0., 0., 0., 0., 0., 0.,\n",
       "       0., 0., 0., 0., 0., 0., 0., 0., 0., 0., 0., 0., 0., 0., 0., 0., 0.,\n",
       "       0., 0., 0., 0., 0., 0., 0., 0., 0., 0., 0., 0., 0., 0., 0., 0., 0.,\n",
       "       0., 0., 0., 0., 0., 0., 0., 0., 0., 0., 0., 0., 0., 0., 0., 0., 0.,\n",
       "       0., 0., 0., 0., 0., 0., 0., 0., 0., 0., 0.], dtype=float32)"
      ]
     },
     "execution_count": 23,
     "metadata": {},
     "output_type": "execute_result"
    }
   ],
   "source": [
    "###Flatten층은 데이터 변환만 해주므로 편향이 없음\n",
    "\n",
    "biases"
   ]
  },
  {
   "cell_type": "code",
   "execution_count": 24,
   "id": "87afa1ce",
   "metadata": {},
   "outputs": [
    {
     "data": {
      "text/plain": [
       "(300,)"
      ]
     },
     "execution_count": 24,
     "metadata": {},
     "output_type": "execute_result"
    }
   ],
   "source": [
    "biases.shape"
   ]
  },
  {
   "cell_type": "markdown",
   "id": "05f3afde",
   "metadata": {},
   "source": [
    "## optimizer는 가중치 학습방법 (SGD , adam?)등등\n",
    "## loss는 트레이닝시 사용하는 손실함수(rmse, acc)등등\n",
    "## optimizer는 훈련이 아니라 성능평가시에만 사용됨->loss와 동일한 함수 사용가능"
   ]
  },
  {
   "cell_type": "code",
   "execution_count": 25,
   "id": "84213b4a",
   "metadata": {},
   "outputs": [],
   "source": [
    "model.compile(loss=\"sparse_categorical_crossentropy\",\n",
    "             optimizer=\"sgd\",\n",
    "             metrics=[\"accuracy\"])"
   ]
  },
  {
   "cell_type": "code",
   "execution_count": 26,
   "id": "d475c57e",
   "metadata": {},
   "outputs": [
    {
     "name": "stdout",
     "output_type": "stream",
     "text": [
      "Epoch 1/30\n",
      "1719/1719 [==============================] - 2s 1ms/step - loss: 0.7069 - accuracy: 0.7683 - val_loss: 0.4996 - val_accuracy: 0.8288\n",
      "Epoch 2/30\n",
      "1719/1719 [==============================] - 2s 1ms/step - loss: 0.4869 - accuracy: 0.8295 - val_loss: 0.4687 - val_accuracy: 0.8340\n",
      "Epoch 3/30\n",
      "1719/1719 [==============================] - 2s 1ms/step - loss: 0.4431 - accuracy: 0.8454 - val_loss: 0.4485 - val_accuracy: 0.8450\n",
      "Epoch 4/30\n",
      "1719/1719 [==============================] - 2s 1ms/step - loss: 0.4135 - accuracy: 0.8551 - val_loss: 0.4028 - val_accuracy: 0.8606\n",
      "Epoch 5/30\n",
      "1719/1719 [==============================] - 2s 1ms/step - loss: 0.3937 - accuracy: 0.8607 - val_loss: 0.3875 - val_accuracy: 0.8670\n",
      "Epoch 6/30\n",
      "1719/1719 [==============================] - 2s 1ms/step - loss: 0.3783 - accuracy: 0.8677 - val_loss: 0.3868 - val_accuracy: 0.8652\n",
      "Epoch 7/30\n",
      "1719/1719 [==============================] - 2s 1ms/step - loss: 0.3638 - accuracy: 0.8731 - val_loss: 0.3559 - val_accuracy: 0.8740\n",
      "Epoch 8/30\n",
      "1719/1719 [==============================] - 2s 1ms/step - loss: 0.3531 - accuracy: 0.8758 - val_loss: 0.3451 - val_accuracy: 0.8784\n",
      "Epoch 9/30\n",
      "1719/1719 [==============================] - 2s 1ms/step - loss: 0.3432 - accuracy: 0.8784 - val_loss: 0.3756 - val_accuracy: 0.8696\n",
      "Epoch 10/30\n",
      "1719/1719 [==============================] - 2s 1ms/step - loss: 0.3327 - accuracy: 0.8812 - val_loss: 0.3444 - val_accuracy: 0.8800\n",
      "Epoch 11/30\n",
      "1719/1719 [==============================] - 2s 1ms/step - loss: 0.3249 - accuracy: 0.8841 - val_loss: 0.3338 - val_accuracy: 0.8796\n",
      "Epoch 12/30\n",
      "1719/1719 [==============================] - 2s 1ms/step - loss: 0.3163 - accuracy: 0.8866 - val_loss: 0.3290 - val_accuracy: 0.8844\n",
      "Epoch 13/30\n",
      "1719/1719 [==============================] - 2s 1ms/step - loss: 0.3083 - accuracy: 0.8905 - val_loss: 0.3218 - val_accuracy: 0.8838\n",
      "Epoch 14/30\n",
      "1719/1719 [==============================] - 2s 1ms/step - loss: 0.3015 - accuracy: 0.8914 - val_loss: 0.3367 - val_accuracy: 0.8788\n",
      "Epoch 15/30\n",
      "1719/1719 [==============================] - 2s 1ms/step - loss: 0.2962 - accuracy: 0.8938 - val_loss: 0.3287 - val_accuracy: 0.8788\n",
      "Epoch 16/30\n",
      "1719/1719 [==============================] - 2s 1ms/step - loss: 0.2898 - accuracy: 0.8971 - val_loss: 0.3130 - val_accuracy: 0.8890\n",
      "Epoch 17/30\n",
      "1719/1719 [==============================] - 2s 1ms/step - loss: 0.2841 - accuracy: 0.8976 - val_loss: 0.3157 - val_accuracy: 0.8892\n",
      "Epoch 18/30\n",
      "1719/1719 [==============================] - 2s 1ms/step - loss: 0.2786 - accuracy: 0.8992 - val_loss: 0.3196 - val_accuracy: 0.8858\n",
      "Epoch 19/30\n",
      "1719/1719 [==============================] - 2s 987us/step - loss: 0.2732 - accuracy: 0.9021 - val_loss: 0.3258 - val_accuracy: 0.8758\n",
      "Epoch 20/30\n",
      "1719/1719 [==============================] - 2s 983us/step - loss: 0.2678 - accuracy: 0.9034 - val_loss: 0.3313 - val_accuracy: 0.8796\n",
      "Epoch 21/30\n",
      "1719/1719 [==============================] - 2s 1ms/step - loss: 0.2626 - accuracy: 0.9051 - val_loss: 0.3036 - val_accuracy: 0.8912\n",
      "Epoch 22/30\n",
      "1719/1719 [==============================] - 2s 1ms/step - loss: 0.2577 - accuracy: 0.9071 - val_loss: 0.3000 - val_accuracy: 0.8924\n",
      "Epoch 23/30\n",
      "1719/1719 [==============================] - 2s 993us/step - loss: 0.2532 - accuracy: 0.9090 - val_loss: 0.3009 - val_accuracy: 0.8934\n",
      "Epoch 24/30\n",
      "1719/1719 [==============================] - 2s 1ms/step - loss: 0.2501 - accuracy: 0.9111 - val_loss: 0.2906 - val_accuracy: 0.8960\n",
      "Epoch 25/30\n",
      "1719/1719 [==============================] - 2s 997us/step - loss: 0.2444 - accuracy: 0.9126 - val_loss: 0.3006 - val_accuracy: 0.8920\n",
      "Epoch 26/30\n",
      "1719/1719 [==============================] - 2s 1ms/step - loss: 0.2414 - accuracy: 0.9129 - val_loss: 0.3232 - val_accuracy: 0.8818\n",
      "Epoch 27/30\n",
      "1719/1719 [==============================] - 2s 1ms/step - loss: 0.2376 - accuracy: 0.9142 - val_loss: 0.2957 - val_accuracy: 0.8922\n",
      "Epoch 28/30\n",
      "1719/1719 [==============================] - 2s 973us/step - loss: 0.2344 - accuracy: 0.9157 - val_loss: 0.2938 - val_accuracy: 0.8962\n",
      "Epoch 29/30\n",
      "1719/1719 [==============================] - 2s 987us/step - loss: 0.2286 - accuracy: 0.9178 - val_loss: 0.2940 - val_accuracy: 0.8960\n",
      "Epoch 30/30\n",
      "1719/1719 [==============================] - 2s 970us/step - loss: 0.2262 - accuracy: 0.9191 - val_loss: 0.2923 - val_accuracy: 0.8990\n"
     ]
    }
   ],
   "source": [
    "### validation_data에 Valid셋을 넣는것 보다는 0.1같은 비율을 넣어 나눠주는게 더 편함\n",
    "\n",
    "history = model.fit(X_train, y_train, epochs=30, validation_data=(X_valid, y_valid))"
   ]
  },
  {
   "cell_type": "code",
   "execution_count": 27,
   "id": "8d57a28f",
   "metadata": {},
   "outputs": [
    {
     "data": {
      "image/png": "[encoded data removed]",
      "text/plain": [
       "<Figure size 576x360 with 1 Axes>"
      ]
     },
     "metadata": {
      "needs_background": "light"
     },
     "output_type": "display_data"
    }
   ],
   "source": [
    "import pandas as pd\n",
    "import matplotlib.pyplot as plt\n",
    "\n",
    "pd.DataFrame(history.history).plot(figsize=(8, 5))\n",
    "plt.grid(True)\n",
    "plt.gca().set_ylim(0, 1)\n",
    "plt.show()"
   ]
  },
  {
   "cell_type": "code",
   "execution_count": 28,
   "id": "1885abcc",
   "metadata": {},
   "outputs": [
    {
     "data": {
      "text/plain": [
       "[0.7069084644317627,\n",
       " 0.4869307279586792,\n",
       " 0.4430992901325226,\n",
       " 0.4134500324726105,\n",
       " 0.3937191069126129,\n",
       " 0.37825652956962585,\n",
       " 0.3637840449810028,\n",
       " 0.35306426882743835,\n",
       " 0.34317103028297424,\n",
       " 0.33266374468803406,\n",
       " 0.3248800039291382,\n",
       " 0.31631115078926086,\n",
       " 0.30827733874320984,\n",
       " 0.30153802037239075,\n",
       " 0.29623115062713623,\n",
       " 0.28984519839286804,\n",
       " 0.2841196656227112,\n",
       " 0.2785862982273102,\n",
       " 0.2731582522392273,\n",
       " 0.26778724789619446,\n",
       " 0.2625683844089508,\n",
       " 0.2577129602432251,\n",
       " 0.25321754813194275,\n",
       " 0.25011348724365234,\n",
       " 0.24443966150283813,\n",
       " 0.24137349426746368,\n",
       " 0.2375958114862442,\n",
       " 0.23442772030830383,\n",
       " 0.22859109938144684,\n",
       " 0.22623217105865479]"
      ]
     },
     "execution_count": 28,
     "metadata": {},
     "output_type": "execute_result"
    }
   ],
   "source": [
    "history.history[\"loss\"]"
   ]
  },
  {
   "cell_type": "code",
   "execution_count": 29,
   "id": "871b0552",
   "metadata": {},
   "outputs": [
    {
     "name": "stdout",
     "output_type": "stream",
     "text": [
      "313/313 [==============================] - 0s 672us/step - loss: 0.3237 - accuracy: 0.8857\n"
     ]
    },
    {
     "data": {
      "text/plain": [
       "[0.32374727725982666, 0.885699987411499]"
      ]
     },
     "execution_count": 29,
     "metadata": {},
     "output_type": "execute_result"
    }
   ],
   "source": [
    "model.evaluate(X_test, y_test)"
   ]
  },
  {
   "cell_type": "code",
   "execution_count": 30,
   "id": "8d4c8a4b",
   "metadata": {},
   "outputs": [
    {
     "data": {
      "text/plain": [
       "array([[0.  , 0.  , 0.  , 0.  , 0.  , 0.  , 0.  , 0.01, 0.  , 0.99],\n",
       "       [0.  , 0.  , 1.  , 0.  , 0.  , 0.  , 0.  , 0.  , 0.  , 0.  ],\n",
       "       [0.  , 1.  , 0.  , 0.  , 0.  , 0.  , 0.  , 0.  , 0.  , 0.  ]],\n",
       "      dtype=float32)"
      ]
     },
     "execution_count": 30,
     "metadata": {},
     "output_type": "execute_result"
    }
   ],
   "source": [
    "X_new = X_test[:3]\n",
    "y_proba = model.predict(X_new)\n",
    "y_proba.round(2)"
   ]
  },
  {
   "cell_type": "code",
   "execution_count": 31,
   "id": "3226c2b2",
   "metadata": {},
   "outputs": [
    {
     "data": {
      "text/plain": [
       "array([9, 2, 1], dtype=int64)"
      ]
     },
     "execution_count": 31,
     "metadata": {},
     "output_type": "execute_result"
    }
   ],
   "source": [
    "### model.predict_classes함수와 같음\n",
    "\n",
    "y_proba.argmax(axis=1)"
   ]
  },
  {
   "cell_type": "code",
   "execution_count": 32,
   "id": "6e7d10df",
   "metadata": {},
   "outputs": [],
   "source": [
    "from sklearn.datasets import fetch_california_housing\n",
    "from sklearn.model_selection import train_test_split\n",
    "from sklearn.preprocessing import StandardScaler\n",
    "\n",
    "housing = fetch_california_housing()\n",
    "\n",
    "X_train_full, X_test, y_train_full, y_test = train_test_split(housing.data, housing.target)\n",
    "X_train, X_valid, y_train, y_valid = train_test_split(X_train_full, y_train_full)\n",
    "\n",
    "scaler = StandardScaler()\n",
    "X_train = scaler.fit_transform(X_train)\n",
    "X_valid = scaler.transform(X_valid)\n",
    "X_test = scaler.transform(X_test)"
   ]
  },
  {
   "cell_type": "code",
   "execution_count": 33,
   "id": "ec561548",
   "metadata": {},
   "outputs": [
    {
     "name": "stdout",
     "output_type": "stream",
     "text": [
      "Epoch 1/20\n",
      "363/363 [==============================] - 0s 770us/step - loss: 1.2447 - val_loss: 0.6088\n",
      "Epoch 2/20\n",
      "363/363 [==============================] - 0s 553us/step - loss: 0.5401 - val_loss: 0.5574\n",
      "Epoch 3/20\n",
      "363/363 [==============================] - 0s 537us/step - loss: 0.4566 - val_loss: 0.4690\n",
      "Epoch 4/20\n",
      "363/363 [==============================] - 0s 626us/step - loss: 0.5562 - val_loss: 0.7066\n",
      "Epoch 5/20\n",
      "363/363 [==============================] - 0s 536us/step - loss: 0.4262 - val_loss: 0.3846\n",
      "Epoch 6/20\n",
      "363/363 [==============================] - 0s 538us/step - loss: 0.4040 - val_loss: 0.3786\n",
      "Epoch 7/20\n",
      "363/363 [==============================] - 0s 587us/step - loss: 0.3969 - val_loss: 0.3674\n",
      "Epoch 8/20\n",
      "363/363 [==============================] - 0s 544us/step - loss: 0.3897 - val_loss: 0.3658\n",
      "Epoch 9/20\n",
      "363/363 [==============================] - 0s 536us/step - loss: 0.3848 - val_loss: 0.3575\n",
      "Epoch 10/20\n",
      "363/363 [==============================] - 0s 534us/step - loss: 0.3813 - val_loss: 0.3543\n",
      "Epoch 11/20\n",
      "363/363 [==============================] - 0s 544us/step - loss: 0.3769 - val_loss: 0.3620\n",
      "Epoch 12/20\n",
      "363/363 [==============================] - 0s 536us/step - loss: 0.3731 - val_loss: 0.3537\n",
      "Epoch 13/20\n",
      "363/363 [==============================] - 0s 558us/step - loss: 0.3686 - val_loss: 0.3498\n",
      "Epoch 14/20\n",
      "363/363 [==============================] - 0s 550us/step - loss: 0.3652 - val_loss: 0.3450\n",
      "Epoch 15/20\n",
      "363/363 [==============================] - 0s 543us/step - loss: 0.3612 - val_loss: 0.3478\n",
      "Epoch 16/20\n",
      "363/363 [==============================] - 0s 558us/step - loss: 0.3601 - val_loss: 0.3392\n",
      "Epoch 17/20\n",
      "363/363 [==============================] - 0s 536us/step - loss: 0.3578 - val_loss: 0.3445\n",
      "Epoch 18/20\n",
      "363/363 [==============================] - 0s 668us/step - loss: 0.3547 - val_loss: 0.3532\n",
      "Epoch 19/20\n",
      "363/363 [==============================] - 1s 1ms/step - loss: 0.3520 - val_loss: 0.3350\n",
      "Epoch 20/20\n",
      "363/363 [==============================] - 1s 2ms/step - loss: 0.3501 - val_loss: 0.3374\n",
      "162/162 [==============================] - 0s 398us/step - loss: 0.3746\n"
     ]
    }
   ],
   "source": [
    "###   input_shape매개변수 형태에 chk'\n",
    "###    과대적합을 막기위해 은닉층과 뉴런수를 줄임\n",
    "\n",
    "model = keras.models.Sequential([\n",
    "    keras.layers.Dense(30, activation=\"relu\", input_shape=X_train.shape[1:]),\n",
    "    keras.layers.Dense(1)\n",
    "])\n",
    "model.compile(loss=\"mean_squared_error\", optimizer=\"sgd\")\n",
    "history = model.fit(X_train, y_train, epochs=20, validation_data=(X_valid, y_valid))\n",
    "mse_test = model.evaluate(X_test, y_test)\n",
    "X_new = X_test[:3]\n",
    "y_pred = model.predict(X_new)\n",
    "model.save(\"my_keras.h5\")"
   ]
  },
  {
   "cell_type": "code",
   "execution_count": 34,
   "id": "75526103",
   "metadata": {},
   "outputs": [
    {
     "name": "stdout",
     "output_type": "stream",
     "text": [
      "Epoch 1/20\n",
      "  1/363 [..............................] - ETA: 57s - loss: 7.9062"
     ]
    },
    {
     "name": "stderr",
     "output_type": "stream",
     "text": [
      "C:\\Users\\hjhhi\\Anaconda3\\envs\\tensor\\lib\\site-packages\\keras\\optimizer_v2\\optimizer_v2.py:355: UserWarning: The `lr` argument is deprecated, use `learning_rate` instead.\n",
      "  warnings.warn(\n"
     ]
    },
    {
     "name": "stdout",
     "output_type": "stream",
     "text": [
      "363/363 [==============================] - 0s 778us/step - loss: 1.9264 - val_loss: 0.7738\n",
      "Epoch 2/20\n",
      "363/363 [==============================] - 0s 595us/step - loss: 0.7177 - val_loss: 0.6441\n",
      "Epoch 3/20\n",
      "363/363 [==============================] - 0s 572us/step - loss: 0.6524 - val_loss: 0.5932\n",
      "Epoch 4/20\n",
      "363/363 [==============================] - 0s 621us/step - loss: 0.6090 - val_loss: 0.5571\n",
      "Epoch 5/20\n",
      "363/363 [==============================] - 0s 583us/step - loss: 0.5753 - val_loss: 0.5284\n",
      "Epoch 6/20\n",
      "363/363 [==============================] - 0s 573us/step - loss: 0.5486 - val_loss: 0.5080\n",
      "Epoch 7/20\n",
      "363/363 [==============================] - 0s 580us/step - loss: 0.5280 - val_loss: 0.4890\n",
      "Epoch 8/20\n",
      "363/363 [==============================] - 0s 586us/step - loss: 0.5115 - val_loss: 0.4739\n",
      "Epoch 9/20\n",
      "363/363 [==============================] - 0s 579us/step - loss: 0.4980 - val_loss: 0.4630\n",
      "Epoch 10/20\n",
      "363/363 [==============================] - 0s 592us/step - loss: 0.4878 - val_loss: 0.4582\n",
      "Epoch 11/20\n",
      "363/363 [==============================] - 0s 592us/step - loss: 0.4787 - val_loss: 0.4483\n",
      "Epoch 12/20\n",
      "363/363 [==============================] - 0s 581us/step - loss: 0.4709 - val_loss: 0.4445\n",
      "Epoch 13/20\n",
      "363/363 [==============================] - 0s 603us/step - loss: 0.4645 - val_loss: 0.4369\n",
      "Epoch 14/20\n",
      "363/363 [==============================] - 0s 764us/step - loss: 0.4597 - val_loss: 0.4342\n",
      "Epoch 15/20\n",
      "363/363 [==============================] - 0s 624us/step - loss: 0.4547 - val_loss: 0.4347\n",
      "Epoch 16/20\n",
      "363/363 [==============================] - 0s 578us/step - loss: 0.4502 - val_loss: 0.4273\n",
      "Epoch 17/20\n",
      "363/363 [==============================] - 0s 582us/step - loss: 0.4466 - val_loss: 0.4223\n",
      "Epoch 18/20\n",
      "363/363 [==============================] - 0s 584us/step - loss: 0.4430 - val_loss: 0.4206\n",
      "Epoch 19/20\n",
      "363/363 [==============================] - 0s 575us/step - loss: 0.4402 - val_loss: 0.4249\n",
      "Epoch 20/20\n",
      "363/363 [==============================] - 0s 586us/step - loss: 0.4372 - val_loss: 0.4171\n"
     ]
    }
   ],
   "source": [
    "input_ = keras.layers.Input(shape=X_train.shape[1:])\n",
    "hidden1 = keras.layers.Dense(30, activation=\"relu\")(input_)\n",
    "hidden2 = keras.layers.Dense(30, activation=\"relu\")(hidden1)\n",
    "concat = keras.layers.Concatenate()([input_, hidden2])\n",
    "output = keras.layers.Dense(1)(concat)\n",
    "model = keras.Model(inputs=[input_], outputs = [output])\n",
    "model.compile(loss=\"mean_squared_error\", optimizer=keras.optimizers.SGD(lr=1e-3))\n",
    "history = model.fit(X_train, y_train, epochs=20,\n",
    "                    validation_data=(X_valid, y_valid))"
   ]
  },
  {
   "cell_type": "code",
   "execution_count": 35,
   "id": "73574eef",
   "metadata": {},
   "outputs": [],
   "source": [
    "input_A = keras.layers.Input(shape=[5], name=\"wide_input\")\n",
    "input_B = keras.layers.Input(shape=[6], name=\"deep_input\")\n",
    "hidden1 = keras.layers.Dense(30, activation=\"relu\")(input_B)\n",
    "hidden2 = keras.layers.Dense(30, activation=\"relu\")(hidden1)\n",
    "concat = keras.layers.Concatenate()([input_A, hidden2])\n",
    "output = keras.layers.Dense(1, name=\"output\")(concat)\n",
    "model = keras.Model(inputs=[input_A, input_B], outputs = [output])"
   ]
  },
  {
   "cell_type": "code",
   "execution_count": 36,
   "id": "fb3b4502",
   "metadata": {},
   "outputs": [
    {
     "name": "stdout",
     "output_type": "stream",
     "text": [
      "Epoch 1/20\n",
      "363/363 [==============================] - 1s 943us/step - loss: 2.1883 - val_loss: 0.9576\n",
      "Epoch 2/20\n",
      "363/363 [==============================] - 0s 668us/step - loss: 0.8242 - val_loss: 0.7123\n",
      "Epoch 3/20\n",
      "363/363 [==============================] - 0s 629us/step - loss: 0.6988 - val_loss: 0.6436\n",
      "Epoch 4/20\n",
      "363/363 [==============================] - 0s 628us/step - loss: 0.6453 - val_loss: 0.6021\n",
      "Epoch 5/20\n",
      "363/363 [==============================] - 0s 723us/step - loss: 0.6112 - val_loss: 0.5740\n",
      "Epoch 6/20\n",
      "363/363 [==============================] - 0s 671us/step - loss: 0.5861 - val_loss: 0.5553\n",
      "Epoch 7/20\n",
      "363/363 [==============================] - 0s 615us/step - loss: 0.5673 - val_loss: 0.5359\n",
      "Epoch 8/20\n",
      "363/363 [==============================] - 0s 746us/step - loss: 0.5526 - val_loss: 0.5297\n",
      "Epoch 9/20\n",
      "363/363 [==============================] - 0s 651us/step - loss: 0.5413 - val_loss: 0.5150\n",
      "Epoch 10/20\n",
      "363/363 [==============================] - 0s 637us/step - loss: 0.5318 - val_loss: 0.5040\n",
      "Epoch 11/20\n",
      "363/363 [==============================] - 0s 630us/step - loss: 0.5238 - val_loss: 0.4990\n",
      "Epoch 12/20\n",
      "363/363 [==============================] - 0s 652us/step - loss: 0.5172 - val_loss: 0.4938\n",
      "Epoch 13/20\n",
      "363/363 [==============================] - 0s 637us/step - loss: 0.5111 - val_loss: 0.4864\n",
      "Epoch 14/20\n",
      "363/363 [==============================] - 0s 664us/step - loss: 0.5058 - val_loss: 0.4826\n",
      "Epoch 15/20\n",
      "363/363 [==============================] - 0s 659us/step - loss: 0.5012 - val_loss: 0.4770\n",
      "Epoch 16/20\n",
      "363/363 [==============================] - 0s 653us/step - loss: 0.4968 - val_loss: 0.4747\n",
      "Epoch 17/20\n",
      "363/363 [==============================] - 0s 619us/step - loss: 0.4926 - val_loss: 0.4727\n",
      "Epoch 18/20\n",
      "363/363 [==============================] - 0s 642us/step - loss: 0.4884 - val_loss: 0.4643\n",
      "Epoch 19/20\n",
      "363/363 [==============================] - 0s 651us/step - loss: 0.4851 - val_loss: 0.4619\n",
      "Epoch 20/20\n",
      "363/363 [==============================] - 0s 643us/step - loss: 0.4815 - val_loss: 0.4599\n",
      "162/162 [==============================] - 0s 503us/step - loss: 0.4995\n"
     ]
    }
   ],
   "source": [
    "model.compile(loss=\"mse\", optimizer=keras.optimizers.SGD(lr=1e-3))\n",
    "\n",
    "X_train_A, X_train_B = X_train[:, :5], X_train[:, 2:]\n",
    "X_valid_A, X_valid_B = X_valid[:, :5], X_valid[:, 2:]\n",
    "X_test_A, X_test_B = X_test[:, :5], X_test[:, 2:]\n",
    "X_new_A, X_new_B = X_test_A[:3], X_test_B[:3]\n",
    "\n",
    "history = model.fit((X_train_A, X_train_B), y_train, epochs=20,\n",
    "                   validation_data=((X_valid_A, X_valid_B), y_valid))\n",
    "mse_test = model.evaluate((X_test_A, X_test_B), y_test)\n",
    "y_pred = model.predict((X_new_A, X_new_B))"
   ]
  },
  {
   "cell_type": "code",
   "execution_count": 37,
   "id": "b51360e8",
   "metadata": {},
   "outputs": [
    {
     "name": "stdout",
     "output_type": "stream",
     "text": [
      "Epoch 1/20\n",
      "363/363 [==============================] - 0s 847us/step - loss: 0.4782 - val_loss: 0.4577\n",
      "Epoch 2/20\n",
      "363/363 [==============================] - 0s 631us/step - loss: 0.4752 - val_loss: 0.4533\n",
      "Epoch 3/20\n",
      "363/363 [==============================] - 0s 621us/step - loss: 0.4724 - val_loss: 0.4498\n",
      "Epoch 4/20\n",
      "363/363 [==============================] - 0s 615us/step - loss: 0.4696 - val_loss: 0.4477\n",
      "Epoch 5/20\n",
      "363/363 [==============================] - 0s 641us/step - loss: 0.4675 - val_loss: 0.4484\n",
      "Epoch 6/20\n",
      "363/363 [==============================] - 0s 610us/step - loss: 0.4647 - val_loss: 0.4446\n",
      "Epoch 7/20\n",
      "363/363 [==============================] - 0s 621us/step - loss: 0.4625 - val_loss: 0.4406\n",
      "Epoch 8/20\n",
      "363/363 [==============================] - 0s 619us/step - loss: 0.4609 - val_loss: 0.4389\n",
      "Epoch 9/20\n",
      "363/363 [==============================] - 0s 642us/step - loss: 0.4582 - val_loss: 0.4380\n",
      "Epoch 10/20\n",
      "363/363 [==============================] - 0s 650us/step - loss: 0.4565 - val_loss: 0.4358\n",
      "Epoch 11/20\n",
      "363/363 [==============================] - 0s 623us/step - loss: 0.4542 - val_loss: 0.4337\n",
      "Epoch 12/20\n",
      "363/363 [==============================] - 0s 627us/step - loss: 0.4525 - val_loss: 0.4315\n",
      "Epoch 13/20\n",
      "363/363 [==============================] - 0s 626us/step - loss: 0.4509 - val_loss: 0.4305\n",
      "Epoch 14/20\n",
      "363/363 [==============================] - 0s 620us/step - loss: 0.4489 - val_loss: 0.4276\n",
      "Epoch 15/20\n",
      "363/363 [==============================] - 0s 615us/step - loss: 0.4472 - val_loss: 0.4266\n",
      "Epoch 16/20\n",
      "363/363 [==============================] - 0s 613us/step - loss: 0.4456 - val_loss: 0.4240\n",
      "Epoch 17/20\n",
      "363/363 [==============================] - 0s 614us/step - loss: 0.4441 - val_loss: 0.4234\n",
      "Epoch 18/20\n",
      "363/363 [==============================] - 0s 609us/step - loss: 0.4426 - val_loss: 0.4222\n",
      "Epoch 19/20\n",
      "363/363 [==============================] - 0s 614us/step - loss: 0.4408 - val_loss: 0.4193\n",
      "Epoch 20/20\n",
      "363/363 [==============================] - 0s 611us/step - loss: 0.4396 - val_loss: 0.4173\n",
      "162/162 [==============================] - 0s 506us/step - loss: 0.4583\n"
     ]
    }
   ],
   "source": [
    "model.compile(loss=\"mse\", optimizer=keras.optimizers.SGD(lr=1e-3))\n",
    "\n",
    "X_train_A, X_train_B = X_train[:, :5], X_train[:, 2:]\n",
    "X_valid_A, X_valid_B = X_valid[:, :5], X_valid[:, 2:]\n",
    "X_test_A, X_test_B = X_test[:, :5], X_test[:, 2:]\n",
    "X_new_A, X_new_B = X_test_A[:3], X_test_B[:3]\n",
    "\n",
    "history = model.fit((X_train_A, X_train_B), y_train, epochs=20,\n",
    "                   validation_data=((X_valid_A, X_valid_B), y_valid))\n",
    "mse_test = model.evaluate((X_test_A, X_test_B), y_test)\n",
    "y_pred = model.predict((X_new_A, X_new_B))"
   ]
  },
  {
   "cell_type": "code",
   "execution_count": 38,
   "id": "e003844a",
   "metadata": {},
   "outputs": [],
   "source": [
    "input_A = keras.layers.Input(shape=[5], name=\"wide_input\")\n",
    "input_B = keras.layers.Input(shape=[6], name=\"deep_input\")\n",
    "hidden1 = keras.layers.Dense(30, activation=\"relu\")(input_B)\n",
    "hidden2 = keras.layers.Dense(30, activation=\"relu\")(hidden1)\n",
    "concat = keras.layers.Concatenate()([input_A, hidden2])\n",
    "output = keras.layers.Dense(1, name=\"main_output\")(concat)\n",
    "aux_output = keras.layers.Dense(1, name=\"aux_output\")(hidden2)\n",
    "model = keras.Model(inputs=[input_A, input_B], outputs=[output, aux_output])"
   ]
  },
  {
   "cell_type": "code",
   "execution_count": 39,
   "id": "122f96d7",
   "metadata": {},
   "outputs": [],
   "source": [
    "###손실 mse로 전달가능하며 이때 두 출력에 모두 적용됨\n",
    "\n",
    "model.compile(loss=[\"mse\", \"mse\"], loss_weights = [0.9, 0.1], optimizer=\"sgd\")"
   ]
  },
  {
   "cell_type": "code",
   "execution_count": 40,
   "id": "e09bd9c2",
   "metadata": {},
   "outputs": [
    {
     "name": "stdout",
     "output_type": "stream",
     "text": [
      "Epoch 1/20\n",
      "363/363 [==============================] - 1s 1ms/step - loss: 1.4306 - main_output_loss: 1.3380 - aux_output_loss: 2.2643 - val_loss: 0.8937 - val_main_output_loss: 0.8153 - val_aux_output_loss: 1.5990\n",
      "Epoch 2/20\n",
      "363/363 [==============================] - 0s 906us/step - loss: 0.6091 - main_output_loss: 0.5366 - aux_output_loss: 1.2621 - val_loss: 0.5342 - val_main_output_loss: 0.4680 - val_aux_output_loss: 1.1305\n",
      "Epoch 3/20\n",
      "363/363 [==============================] - 0s 901us/step - loss: 0.5280 - main_output_loss: 0.4727 - aux_output_loss: 1.0250 - val_loss: 0.4861 - val_main_output_loss: 0.4352 - val_aux_output_loss: 0.9439\n",
      "Epoch 4/20\n",
      "363/363 [==============================] - 0s 894us/step - loss: 0.4913 - main_output_loss: 0.4498 - aux_output_loss: 0.8642 - val_loss: 0.4650 - val_main_output_loss: 0.4269 - val_aux_output_loss: 0.8077\n",
      "Epoch 5/20\n",
      "363/363 [==============================] - 0s 893us/step - loss: 0.4715 - main_output_loss: 0.4390 - aux_output_loss: 0.7638 - val_loss: 0.4562 - val_main_output_loss: 0.4265 - val_aux_output_loss: 0.7228\n",
      "Epoch 6/20\n",
      "363/363 [==============================] - 0s 900us/step - loss: 0.4580 - main_output_loss: 0.4308 - aux_output_loss: 0.7027 - val_loss: 0.4509 - val_main_output_loss: 0.4267 - val_aux_output_loss: 0.6684\n",
      "Epoch 7/20\n",
      "363/363 [==============================] - 0s 896us/step - loss: 0.4464 - main_output_loss: 0.4225 - aux_output_loss: 0.6612 - val_loss: 0.4314 - val_main_output_loss: 0.4093 - val_aux_output_loss: 0.6309\n",
      "Epoch 8/20\n",
      "363/363 [==============================] - 0s 894us/step - loss: 0.4350 - main_output_loss: 0.4132 - aux_output_loss: 0.6316 - val_loss: 0.4168 - val_main_output_loss: 0.3961 - val_aux_output_loss: 0.6026\n",
      "Epoch 9/20\n",
      "363/363 [==============================] - 0s 893us/step - loss: 0.4285 - main_output_loss: 0.4084 - aux_output_loss: 0.6098 - val_loss: 0.4081 - val_main_output_loss: 0.3881 - val_aux_output_loss: 0.5885\n",
      "Epoch 10/20\n",
      "363/363 [==============================] - 0s 896us/step - loss: 0.4227 - main_output_loss: 0.4037 - aux_output_loss: 0.5934 - val_loss: 0.4175 - val_main_output_loss: 0.4002 - val_aux_output_loss: 0.5729\n",
      "Epoch 11/20\n",
      "363/363 [==============================] - 0s 898us/step - loss: 0.4185 - main_output_loss: 0.4003 - aux_output_loss: 0.5823 - val_loss: 0.4040 - val_main_output_loss: 0.3864 - val_aux_output_loss: 0.5625\n",
      "Epoch 12/20\n",
      "363/363 [==============================] - 0s 891us/step - loss: 0.4117 - main_output_loss: 0.3941 - aux_output_loss: 0.5710 - val_loss: 0.3886 - val_main_output_loss: 0.3705 - val_aux_output_loss: 0.5518\n",
      "Epoch 13/20\n",
      "363/363 [==============================] - 0s 892us/step - loss: 0.4104 - main_output_loss: 0.3934 - aux_output_loss: 0.5632 - val_loss: 0.3904 - val_main_output_loss: 0.3739 - val_aux_output_loss: 0.5392\n",
      "Epoch 14/20\n",
      "363/363 [==============================] - 0s 897us/step - loss: 0.4049 - main_output_loss: 0.3883 - aux_output_loss: 0.5544 - val_loss: 0.3932 - val_main_output_loss: 0.3769 - val_aux_output_loss: 0.5398\n",
      "Epoch 15/20\n",
      "363/363 [==============================] - 0s 893us/step - loss: 0.3996 - main_output_loss: 0.3834 - aux_output_loss: 0.5459 - val_loss: 0.3737 - val_main_output_loss: 0.3568 - val_aux_output_loss: 0.5250\n",
      "Epoch 16/20\n",
      "363/363 [==============================] - 0s 883us/step - loss: 0.3953 - main_output_loss: 0.3792 - aux_output_loss: 0.5395 - val_loss: 0.3848 - val_main_output_loss: 0.3691 - val_aux_output_loss: 0.5256\n",
      "Epoch 17/20\n",
      "363/363 [==============================] - 0s 888us/step - loss: 0.3915 - main_output_loss: 0.3757 - aux_output_loss: 0.5338 - val_loss: 0.3899 - val_main_output_loss: 0.3752 - val_aux_output_loss: 0.5225\n",
      "Epoch 18/20\n",
      "363/363 [==============================] - 0s 881us/step - loss: 0.3872 - main_output_loss: 0.3717 - aux_output_loss: 0.5265 - val_loss: 0.4011 - val_main_output_loss: 0.3891 - val_aux_output_loss: 0.5087\n",
      "Epoch 19/20\n",
      "363/363 [==============================] - 0s 906us/step - loss: 0.3831 - main_output_loss: 0.3680 - aux_output_loss: 0.5197 - val_loss: 0.4203 - val_main_output_loss: 0.4094 - val_aux_output_loss: 0.5181\n",
      "Epoch 20/20\n",
      "363/363 [==============================] - 0s 889us/step - loss: 0.3815 - main_output_loss: 0.3667 - aux_output_loss: 0.5150 - val_loss: 0.3710 - val_main_output_loss: 0.3570 - val_aux_output_loss: 0.4964\n"
     ]
    }
   ],
   "source": [
    "history = model.fit(\n",
    "    [X_train_A, X_train_B], [y_train, y_train], epochs=20,\n",
    "    validation_data=([X_valid_A, X_valid_B], [y_valid, y_valid]))"
   ]
  },
  {
   "cell_type": "code",
   "execution_count": 41,
   "id": "f45415dc",
   "metadata": {},
   "outputs": [
    {
     "name": "stdout",
     "output_type": "stream",
     "text": [
      "162/162 [==============================] - 0s 586us/step - loss: 0.3930 - main_output_loss: 0.3785 - aux_output_loss: 0.5244\n"
     ]
    }
   ],
   "source": [
    "total_loss ,main_loss, aux_loss = model.evaluate(\n",
    "[X_test_A, X_test_B], [y_test, y_test])"
   ]
  },
  {
   "cell_type": "code",
   "execution_count": 42,
   "id": "a13f2e5e",
   "metadata": {},
   "outputs": [
    {
     "name": "stdout",
     "output_type": "stream",
     "text": [
      "WARNING:tensorflow:5 out of the last 5 calls to <function Model.make_predict_function.<locals>.predict_function at 0x0000021EC25B5CA0> triggered tf.function retracing. Tracing is expensive and the excessive number of tracings could be due to (1) creating @tf.function repeatedly in a loop, (2) passing tensors with different shapes, (3) passing Python objects instead of tensors. For (1), please define your @tf.function outside of the loop. For (2), @tf.function has experimental_relax_shapes=True option that relaxes argument shapes that can avoid unnecessary retracing. For (3), please refer to https://www.tensorflow.org/guide/function#controlling_retracing and https://www.tensorflow.org/api_docs/python/tf/function for  more details.\n"
     ]
    }
   ],
   "source": [
    "y_pred_main, y_pre_aux = model.predict([X_new_A, X_new_B])"
   ]
  },
  {
   "cell_type": "code",
   "execution_count": 43,
   "id": "ecd47537",
   "metadata": {},
   "outputs": [],
   "source": [
    "class WideAndDeepModel(keras.Model):\n",
    "    def __init__(self, units=30, activation=\"relu\",**kwargs):\n",
    "        super().__init__(**kwargs)\n",
    "        self.hidden1 = keras.layers.Dense(units, activation=activation)\n",
    "        self.hidden2 = keras.layers.Dense(units, activation=activation)\n",
    "        self.main_output = keras.layers,Dense(1)\n",
    "        self.aux_output = keras.layers,Dense(1)        \n",
    "        \n",
    "        def call(self, inputs):\n",
    "            input_A, input_B = inputs\n",
    "            hidden1 = self.hidden1(input_B)\n",
    "            hidden2 = self.hidden2(hidden1)\n",
    "            concat = keras.layers.concatenate([input_A, hidden2])\n",
    "            main_output = self.main_output(concat)\n",
    "            aux_output = self.aux_output(hidden2)\n",
    "            return main_output, aux_output\n",
    "model = WideAndDeepModel()"
   ]
  },
  {
   "cell_type": "code",
   "execution_count": 44,
   "id": "45e2371c",
   "metadata": {},
   "outputs": [
    {
     "name": "stdout",
     "output_type": "stream",
     "text": [
      "Epoch 1/10\n",
      "363/363 [==============================] - 0s 478us/step - loss: 1.2925\n",
      "Epoch 2/10\n",
      "363/363 [==============================] - 0s 435us/step - loss: 1.4331\n",
      "Epoch 3/10\n",
      "363/363 [==============================] - 0s 430us/step - loss: 5.2633\n",
      "Epoch 4/10\n",
      "363/363 [==============================] - 0s 451us/step - loss: 15.7410\n",
      "Epoch 5/10\n",
      "363/363 [==============================] - 0s 427us/step - loss: nan\n",
      "Epoch 6/10\n",
      "363/363 [==============================] - 0s 448us/step - loss: nan\n",
      "Epoch 7/10\n",
      "363/363 [==============================] - 0s 434us/step - loss: nan\n",
      "Epoch 8/10\n",
      "363/363 [==============================] - 0s 442us/step - loss: nan\n",
      "Epoch 9/10\n",
      "363/363 [==============================] - 0s 430us/step - loss: nan\n",
      "Epoch 10/10\n",
      "363/363 [==============================] - 0s 472us/step - loss: nan\n"
     ]
    }
   ],
   "source": [
    "input_ = keras.layers.Input(shape=X_train.shape[1:])\n",
    "hidden1 = keras.layers.Dense(30, activation=\"relu\")(input_)\n",
    "hidden2 = keras.layers.Dense(30, activation=\"relu\")(hidden1)\n",
    "concat = keras.layers.Concatenate()([input_, hidden2])\n",
    "output = keras.layers.Dense(1)(concat)\n",
    "model = keras.Model(inputs=[input_], outputs = [output])\n",
    "model.compile(loss=\"mean_squared_error\", optimizer=\"sgd\")\n",
    "history = model.fit(X_train, y_train, epochs=10)"
   ]
  },
  {
   "cell_type": "code",
   "execution_count": 45,
   "id": "d093580c",
   "metadata": {},
   "outputs": [
    {
     "name": "stdout",
     "output_type": "stream",
     "text": [
      "Epoch 1/10\n",
      "363/363 [==============================] - 0s 445us/step - loss: 2.0426\n",
      "Epoch 2/10\n",
      "363/363 [==============================] - 0s 425us/step - loss: 0.7603\n",
      "Epoch 3/10\n",
      "363/363 [==============================] - 0s 424us/step - loss: 0.6733\n",
      "Epoch 4/10\n",
      "363/363 [==============================] - 0s 419us/step - loss: 0.6364\n",
      "Epoch 5/10\n",
      "363/363 [==============================] - 0s 425us/step - loss: 0.6078\n",
      "Epoch 6/10\n",
      "363/363 [==============================] - 0s 424us/step - loss: 0.5834\n",
      "Epoch 7/10\n",
      "363/363 [==============================] - 0s 446us/step - loss: 0.5628\n",
      "Epoch 8/10\n",
      "363/363 [==============================] - 0s 430us/step - loss: 0.5453\n",
      "Epoch 9/10\n",
      "363/363 [==============================] - 0s 420us/step - loss: 0.5303\n",
      "Epoch 10/10\n",
      "363/363 [==============================] - 0s 422us/step - loss: 0.5176\n"
     ]
    }
   ],
   "source": [
    "### 그냥 mocel.save를 위한 퍼셉트론\n",
    "\n",
    "model = keras.models.Sequential([\n",
    "    keras.layers.Dense(30, activation=\"relu\", input_shape=[8]),\n",
    "    keras.layers.Dense(30, activation=\"relu\"),\n",
    "    keras.layers.Dense(1)\n",
    "])\n",
    "model.compile(loss=\"mse\", optimizer=keras.optimizers.SGD(lr=1e-3))\n",
    "history = model.fit(X_train, y_train, epochs=10)\n",
    "model.save(\"my_keras.h5\")"
   ]
  },
  {
   "cell_type": "code",
   "execution_count": 50,
   "id": "43d7a208",
   "metadata": {},
   "outputs": [],
   "source": [
    "model = keras.models.load_model(\"my_keras.h5\")"
   ]
  },
  {
   "cell_type": "code",
   "execution_count": 52,
   "id": "128bf54a",
   "metadata": {},
   "outputs": [
    {
     "name": "stdout",
     "output_type": "stream",
     "text": [
      "Epoch 1/10\n",
      "363/363 [==============================] - 0s 451us/step - loss: 0.4288\n",
      "Epoch 2/10\n",
      "363/363 [==============================] - 0s 452us/step - loss: 0.4269\n",
      "Epoch 3/10\n",
      "363/363 [==============================] - 0s 447us/step - loss: 0.4252\n",
      "Epoch 4/10\n",
      "363/363 [==============================] - 0s 446us/step - loss: 0.4235\n",
      "Epoch 5/10\n",
      "363/363 [==============================] - 0s 487us/step - loss: 0.4219\n",
      "Epoch 6/10\n",
      "363/363 [==============================] - 0s 525us/step - loss: 0.4203\n",
      "Epoch 7/10\n",
      "363/363 [==============================] - 0s 582us/step - loss: 0.4179\n",
      "Epoch 8/10\n",
      "363/363 [==============================] - 0s 462us/step - loss: 0.4170\n",
      "Epoch 9/10\n",
      "363/363 [==============================] - 0s 458us/step - loss: 0.4157\n",
      "Epoch 10/10\n",
      "363/363 [==============================] - 0s 481us/step - loss: 0.4137\n"
     ]
    }
   ],
   "source": [
    "### 학습 길어지면 model.fit시에 매개변수에 체크포인트를 넣어 중간중간 저장한다\n",
    "\n",
    "checkpoint_cb = keras.callbacks.ModelCheckpoint(\"my_keras.h5\")\n",
    "history = model.fit(X_train, y_train, epochs=10, callbacks=[checkpoint_cb])"
   ]
  },
  {
   "cell_type": "code",
   "execution_count": 55,
   "id": "579414c8",
   "metadata": {},
   "outputs": [
    {
     "name": "stdout",
     "output_type": "stream",
     "text": [
      "Epoch 1/100\n",
      "363/363 [==============================] - 0s 637us/step - loss: 0.3433 - val_loss: 0.3335\n",
      "Epoch 2/100\n",
      "363/363 [==============================] - 0s 595us/step - loss: 0.3425 - val_loss: 0.3309\n",
      "Epoch 3/100\n",
      "363/363 [==============================] - 0s 599us/step - loss: 0.3423 - val_loss: 0.3328\n",
      "Epoch 4/100\n",
      "363/363 [==============================] - 0s 574us/step - loss: 0.3413 - val_loss: 0.3312\n",
      "Epoch 5/100\n",
      "363/363 [==============================] - 0s 587us/step - loss: 0.3414 - val_loss: 0.3297\n",
      "Epoch 6/100\n",
      "363/363 [==============================] - 0s 751us/step - loss: 0.3405 - val_loss: 0.3342\n",
      "Epoch 7/100\n",
      "363/363 [==============================] - 0s 622us/step - loss: 0.3401 - val_loss: 0.3306\n",
      "Epoch 8/100\n",
      "363/363 [==============================] - 0s 578us/step - loss: 0.3397 - val_loss: 0.3297\n",
      "Epoch 9/100\n",
      "363/363 [==============================] - 0s 590us/step - loss: 0.3391 - val_loss: 0.3313\n",
      "Epoch 10/100\n",
      "363/363 [==============================] - 0s 586us/step - loss: 0.3389 - val_loss: 0.3299\n",
      "Epoch 11/100\n",
      "363/363 [==============================] - 0s 589us/step - loss: 0.3382 - val_loss: 0.3273\n",
      "Epoch 12/100\n",
      "363/363 [==============================] - 0s 621us/step - loss: 0.3377 - val_loss: 0.3291\n",
      "Epoch 13/100\n",
      "363/363 [==============================] - 0s 662us/step - loss: 0.3375 - val_loss: 0.3289\n",
      "Epoch 14/100\n",
      "363/363 [==============================] - 0s 648us/step - loss: 0.3368 - val_loss: 0.3260\n",
      "Epoch 15/100\n",
      "363/363 [==============================] - 0s 669us/step - loss: 0.3366 - val_loss: 0.3265\n",
      "Epoch 16/100\n",
      "363/363 [==============================] - 0s 587us/step - loss: 0.3360 - val_loss: 0.3280\n",
      "Epoch 17/100\n",
      "363/363 [==============================] - 0s 571us/step - loss: 0.3357 - val_loss: 0.3253\n",
      "Epoch 18/100\n",
      "363/363 [==============================] - 0s 628us/step - loss: 0.3351 - val_loss: 0.3268\n",
      "Epoch 19/100\n",
      "363/363 [==============================] - 0s 593us/step - loss: 0.3347 - val_loss: 0.3245\n",
      "Epoch 20/100\n",
      "363/363 [==============================] - 0s 628us/step - loss: 0.3345 - val_loss: 0.3285\n",
      "Epoch 21/100\n",
      "363/363 [==============================] - 0s 594us/step - loss: 0.3338 - val_loss: 0.3269\n",
      "Epoch 22/100\n",
      "363/363 [==============================] - 0s 585us/step - loss: 0.3338 - val_loss: 0.3234\n",
      "Epoch 23/100\n",
      "363/363 [==============================] - 0s 588us/step - loss: 0.3333 - val_loss: 0.3242\n",
      "Epoch 24/100\n",
      "363/363 [==============================] - 0s 610us/step - loss: 0.3326 - val_loss: 0.3234\n",
      "Epoch 25/100\n",
      "363/363 [==============================] - 0s 596us/step - loss: 0.3324 - val_loss: 0.3248\n",
      "Epoch 26/100\n",
      "363/363 [==============================] - 0s 596us/step - loss: 0.3320 - val_loss: 0.3236\n",
      "Epoch 27/100\n",
      "363/363 [==============================] - 0s 607us/step - loss: 0.3314 - val_loss: 0.3207\n",
      "Epoch 28/100\n",
      "363/363 [==============================] - 0s 587us/step - loss: 0.3314 - val_loss: 0.3203\n",
      "Epoch 29/100\n",
      "363/363 [==============================] - 0s 623us/step - loss: 0.3310 - val_loss: 0.3212\n",
      "Epoch 30/100\n",
      "363/363 [==============================] - 0s 653us/step - loss: 0.3303 - val_loss: 0.3222\n",
      "Epoch 31/100\n",
      "363/363 [==============================] - 0s 653us/step - loss: 0.3302 - val_loss: 0.3257\n",
      "Epoch 32/100\n",
      "363/363 [==============================] - 0s 637us/step - loss: 0.3296 - val_loss: 0.3206\n",
      "Epoch 33/100\n",
      "363/363 [==============================] - 0s 599us/step - loss: 0.3295 - val_loss: 0.3189\n",
      "Epoch 34/100\n",
      "363/363 [==============================] - 0s 592us/step - loss: 0.3289 - val_loss: 0.3187\n",
      "Epoch 35/100\n",
      "363/363 [==============================] - 0s 638us/step - loss: 0.3285 - val_loss: 0.3198\n",
      "Epoch 36/100\n",
      "363/363 [==============================] - 0s 596us/step - loss: 0.3284 - val_loss: 0.3195\n",
      "Epoch 37/100\n",
      "363/363 [==============================] - 0s 603us/step - loss: 0.3281 - val_loss: 0.3194\n",
      "Epoch 38/100\n",
      "363/363 [==============================] - 0s 671us/step - loss: 0.3275 - val_loss: 0.3250\n",
      "Epoch 39/100\n",
      "363/363 [==============================] - 0s 600us/step - loss: 0.3269 - val_loss: 0.3176\n",
      "Epoch 40/100\n",
      "363/363 [==============================] - 0s 601us/step - loss: 0.3266 - val_loss: 0.3206\n",
      "Epoch 41/100\n",
      "363/363 [==============================] - 0s 588us/step - loss: 0.3262 - val_loss: 0.3163\n",
      "Epoch 42/100\n",
      "363/363 [==============================] - 0s 647us/step - loss: 0.3260 - val_loss: 0.3169\n",
      "Epoch 43/100\n",
      "363/363 [==============================] - 0s 576us/step - loss: 0.3258 - val_loss: 0.3158\n",
      "Epoch 44/100\n",
      "363/363 [==============================] - 0s 608us/step - loss: 0.3253 - val_loss: 0.3177\n",
      "Epoch 45/100\n",
      "363/363 [==============================] - 0s 649us/step - loss: 0.3250 - val_loss: 0.3155\n",
      "Epoch 46/100\n",
      "363/363 [==============================] - 0s 645us/step - loss: 0.3247 - val_loss: 0.3171\n",
      "Epoch 47/100\n",
      "363/363 [==============================] - 0s 625us/step - loss: 0.3240 - val_loss: 0.3202\n",
      "Epoch 48/100\n",
      "363/363 [==============================] - 0s 596us/step - loss: 0.3237 - val_loss: 0.3143\n",
      "Epoch 49/100\n",
      "363/363 [==============================] - 0s 593us/step - loss: 0.3234 - val_loss: 0.3149\n",
      "Epoch 50/100\n",
      "363/363 [==============================] - 0s 588us/step - loss: 0.3231 - val_loss: 0.3157\n",
      "Epoch 51/100\n",
      "363/363 [==============================] - 0s 573us/step - loss: 0.3229 - val_loss: 0.3138\n",
      "Epoch 52/100\n",
      "363/363 [==============================] - 0s 595us/step - loss: 0.3222 - val_loss: 0.3189\n",
      "Epoch 53/100\n",
      "363/363 [==============================] - 0s 597us/step - loss: 0.3225 - val_loss: 0.3151\n",
      "Epoch 54/100\n",
      "363/363 [==============================] - 0s 576us/step - loss: 0.3221 - val_loss: 0.3168\n",
      "Epoch 55/100\n",
      "363/363 [==============================] - 0s 585us/step - loss: 0.3215 - val_loss: 0.3146\n",
      "Epoch 56/100\n",
      "363/363 [==============================] - 0s 601us/step - loss: 0.3212 - val_loss: 0.3152\n",
      "Epoch 57/100\n",
      "363/363 [==============================] - 0s 588us/step - loss: 0.3206 - val_loss: 0.3131\n",
      "Epoch 58/100\n",
      "363/363 [==============================] - 0s 623us/step - loss: 0.3205 - val_loss: 0.3136\n",
      "Epoch 59/100\n",
      "363/363 [==============================] - 0s 591us/step - loss: 0.3200 - val_loss: 0.3149\n",
      "Epoch 60/100\n",
      "363/363 [==============================] - 0s 585us/step - loss: 0.3196 - val_loss: 0.3130\n",
      "Epoch 61/100\n",
      "363/363 [==============================] - 0s 598us/step - loss: 0.3196 - val_loss: 0.3111\n",
      "Epoch 62/100\n",
      "363/363 [==============================] - 0s 592us/step - loss: 0.3189 - val_loss: 0.3111\n",
      "Epoch 63/100\n",
      "363/363 [==============================] - 0s 601us/step - loss: 0.3187 - val_loss: 0.3165\n",
      "Epoch 64/100\n",
      "363/363 [==============================] - 0s 587us/step - loss: 0.3187 - val_loss: 0.3138\n",
      "Epoch 65/100\n",
      "363/363 [==============================] - 0s 592us/step - loss: 0.3183 - val_loss: 0.3102\n",
      "Epoch 66/100\n",
      "363/363 [==============================] - 0s 642us/step - loss: 0.3182 - val_loss: 0.3132\n",
      "Epoch 67/100\n",
      "363/363 [==============================] - 0s 775us/step - loss: 0.3177 - val_loss: 0.3104\n",
      "Epoch 68/100\n",
      "363/363 [==============================] - 0s 626us/step - loss: 0.3176 - val_loss: 0.3097\n",
      "Epoch 69/100\n",
      "363/363 [==============================] - 0s 607us/step - loss: 0.3174 - val_loss: 0.3124\n",
      "Epoch 70/100\n",
      "363/363 [==============================] - 0s 586us/step - loss: 0.3171 - val_loss: 0.3117\n",
      "Epoch 71/100\n",
      "363/363 [==============================] - 0s 580us/step - loss: 0.3167 - val_loss: 0.3094\n",
      "Epoch 72/100\n",
      "363/363 [==============================] - 0s 643us/step - loss: 0.3163 - val_loss: 0.3100\n",
      "Epoch 73/100\n",
      "363/363 [==============================] - 0s 619us/step - loss: 0.3162 - val_loss: 0.3105\n",
      "Epoch 74/100\n",
      "363/363 [==============================] - 0s 593us/step - loss: 0.3157 - val_loss: 0.3093\n",
      "Epoch 75/100\n",
      "363/363 [==============================] - 0s 600us/step - loss: 0.3153 - val_loss: 0.3109\n",
      "Epoch 76/100\n",
      "363/363 [==============================] - 0s 655us/step - loss: 0.3150 - val_loss: 0.3074\n",
      "Epoch 77/100\n",
      "363/363 [==============================] - 0s 615us/step - loss: 0.3150 - val_loss: 0.3089\n",
      "Epoch 78/100\n",
      "363/363 [==============================] - 0s 576us/step - loss: 0.3147 - val_loss: 0.3074\n",
      "Epoch 79/100\n",
      "363/363 [==============================] - 0s 584us/step - loss: 0.3142 - val_loss: 0.3074\n"
     ]
    },
    {
     "name": "stdout",
     "output_type": "stream",
     "text": [
      "Epoch 80/100\n",
      "363/363 [==============================] - 0s 586us/step - loss: 0.3142 - val_loss: 0.3072\n",
      "Epoch 81/100\n",
      "363/363 [==============================] - 0s 608us/step - loss: 0.3139 - val_loss: 0.3070\n",
      "Epoch 82/100\n",
      "363/363 [==============================] - 0s 607us/step - loss: 0.3134 - val_loss: 0.3082\n",
      "Epoch 83/100\n",
      "363/363 [==============================] - 0s 601us/step - loss: 0.3134 - val_loss: 0.3078\n",
      "Epoch 84/100\n",
      "363/363 [==============================] - 0s 579us/step - loss: 0.3130 - val_loss: 0.3061\n",
      "Epoch 85/100\n",
      "363/363 [==============================] - 0s 681us/step - loss: 0.3127 - val_loss: 0.3084\n",
      "Epoch 86/100\n",
      "363/363 [==============================] - 0s 597us/step - loss: 0.3121 - val_loss: 0.3069\n",
      "Epoch 87/100\n",
      "363/363 [==============================] - 0s 579us/step - loss: 0.3121 - val_loss: 0.3063\n",
      "Epoch 88/100\n",
      "363/363 [==============================] - 0s 613us/step - loss: 0.3117 - val_loss: 0.3056\n",
      "Epoch 89/100\n",
      "363/363 [==============================] - 0s 635us/step - loss: 0.3117 - val_loss: 0.3050\n",
      "Epoch 90/100\n",
      "363/363 [==============================] - 0s 592us/step - loss: 0.3114 - val_loss: 0.3052\n",
      "Epoch 91/100\n",
      "363/363 [==============================] - 0s 575us/step - loss: 0.3110 - val_loss: 0.3061\n",
      "Epoch 92/100\n",
      "363/363 [==============================] - 0s 597us/step - loss: 0.3107 - val_loss: 0.3102\n",
      "Epoch 93/100\n",
      "363/363 [==============================] - 0s 607us/step - loss: 0.3106 - val_loss: 0.3047\n",
      "Epoch 94/100\n",
      "363/363 [==============================] - 0s 597us/step - loss: 0.3102 - val_loss: 0.3062\n",
      "Epoch 95/100\n",
      "363/363 [==============================] - 0s 572us/step - loss: 0.3096 - val_loss: 0.3086\n",
      "Epoch 96/100\n",
      "363/363 [==============================] - 0s 584us/step - loss: 0.3097 - val_loss: 0.3053\n",
      "Epoch 97/100\n",
      "363/363 [==============================] - 0s 584us/step - loss: 0.3097 - val_loss: 0.3060\n",
      "Epoch 98/100\n",
      "363/363 [==============================] - 0s 583us/step - loss: 0.3093 - val_loss: 0.3058\n",
      "Epoch 99/100\n",
      "363/363 [==============================] - 0s 593us/step - loss: 0.3093 - val_loss: 0.3044\n",
      "Epoch 100/100\n",
      "363/363 [==============================] - 0s 602us/step - loss: 0.3087 - val_loss: 0.3037\n"
     ]
    }
   ],
   "source": [
    "checkpoint_cb = keras.callbacks.ModelCheckpoint(\"my_keras.h5\", save_best_only=True)\n",
    "history = model.fit(X_train, y_train, epochs=100, validation_data=(X_valid, y_valid), callbacks=[checkpoint_cb])\n",
    "model = keras.models.load_model(\"my_keras.h5\")"
   ]
  },
  {
   "cell_type": "code",
   "execution_count": 60,
   "id": "2a018ae1",
   "metadata": {},
   "outputs": [
    {
     "name": "stdout",
     "output_type": "stream",
     "text": [
      "Epoch 1/100\n",
      "363/363 [==============================] - 0s 631us/step - loss: 0.3012 - val_loss: 0.2991\n",
      "Epoch 2/100\n",
      "363/363 [==============================] - 0s 574us/step - loss: 0.3013 - val_loss: 0.2988\n",
      "Epoch 3/100\n",
      "363/363 [==============================] - 0s 573us/step - loss: 0.3014 - val_loss: 0.3008\n",
      "Epoch 4/100\n",
      "363/363 [==============================] - 0s 594us/step - loss: 0.3012 - val_loss: 0.3017\n",
      "Epoch 5/100\n",
      "363/363 [==============================] - 0s 592us/step - loss: 0.3012 - val_loss: 0.2990\n",
      "Epoch 6/100\n",
      "363/363 [==============================] - 0s 626us/step - loss: 0.3004 - val_loss: 0.2988\n",
      "Epoch 7/100\n",
      "363/363 [==============================] - 0s 743us/step - loss: 0.3006 - val_loss: 0.2993\n",
      "Epoch 8/100\n",
      "363/363 [==============================] - 0s 618us/step - loss: 0.3000 - val_loss: 0.3001\n",
      "Epoch 9/100\n",
      "363/363 [==============================] - 0s 582us/step - loss: 0.3000 - val_loss: 0.3015\n",
      "Epoch 10/100\n",
      "363/363 [==============================] - 0s 569us/step - loss: 0.2999 - val_loss: 0.3001\n",
      "Epoch 11/100\n",
      "363/363 [==============================] - 0s 593us/step - loss: 0.2999 - val_loss: 0.2963\n",
      "Epoch 12/100\n",
      "363/363 [==============================] - 0s 598us/step - loss: 0.2995 - val_loss: 0.2978\n",
      "Epoch 13/100\n",
      "363/363 [==============================] - 0s 614us/step - loss: 0.2992 - val_loss: 0.2989\n",
      "Epoch 14/100\n",
      "363/363 [==============================] - 0s 610us/step - loss: 0.2993 - val_loss: 0.2968\n",
      "Epoch 15/100\n",
      "363/363 [==============================] - 0s 572us/step - loss: 0.2992 - val_loss: 0.2961\n",
      "Epoch 16/100\n",
      "363/363 [==============================] - 0s 641us/step - loss: 0.2988 - val_loss: 0.2976\n",
      "Epoch 17/100\n",
      "363/363 [==============================] - 0s 587us/step - loss: 0.2989 - val_loss: 0.2983\n",
      "Epoch 18/100\n",
      "363/363 [==============================] - 0s 573us/step - loss: 0.2988 - val_loss: 0.2980\n",
      "Epoch 19/100\n",
      "363/363 [==============================] - 0s 589us/step - loss: 0.2987 - val_loss: 0.2966\n",
      "Epoch 20/100\n",
      "363/363 [==============================] - 0s 579us/step - loss: 0.2981 - val_loss: 0.2974\n",
      "Epoch 21/100\n",
      "363/363 [==============================] - 0s 604us/step - loss: 0.2980 - val_loss: 0.2958\n",
      "Epoch 22/100\n",
      "363/363 [==============================] - 0s 651us/step - loss: 0.2980 - val_loss: 0.2968\n",
      "Epoch 23/100\n",
      "363/363 [==============================] - 0s 596us/step - loss: 0.2978 - val_loss: 0.3001\n",
      "Epoch 24/100\n",
      "363/363 [==============================] - 0s 605us/step - loss: 0.2977 - val_loss: 0.3032\n",
      "Epoch 25/100\n",
      "363/363 [==============================] - 0s 597us/step - loss: 0.2974 - val_loss: 0.2965\n",
      "Epoch 26/100\n",
      "363/363 [==============================] - 0s 597us/step - loss: 0.2972 - val_loss: 0.2963\n",
      "Epoch 27/100\n",
      "363/363 [==============================] - 0s 610us/step - loss: 0.2970 - val_loss: 0.2963\n",
      "Epoch 28/100\n",
      "363/363 [==============================] - 0s 587us/step - loss: 0.2969 - val_loss: 0.2971\n",
      "Epoch 29/100\n",
      "363/363 [==============================] - 0s 582us/step - loss: 0.2968 - val_loss: 0.2989\n",
      "Epoch 30/100\n",
      "363/363 [==============================] - 0s 581us/step - loss: 0.2971 - val_loss: 0.3005\n",
      "Epoch 31/100\n",
      "363/363 [==============================] - 0s 645us/step - loss: 0.2967 - val_loss: 0.2998\n"
     ]
    }
   ],
   "source": [
    "##위와 같은 조기종료인데 patience매개변수로 일정량동안 성능이 오르지 않을때 자동종료 설정이가능하므로 epoch를 크게 설정가능\n",
    "\n",
    "early_stopping_cb = keras.callbacks.EarlyStopping(patience=10, restore_best_weights=True)\n",
    "history = model.fit(X_train, y_train, epochs=100, validation_data=(X_valid, y_valid),callbacks=[checkpoint_cb, early_stopping_cb])"
   ]
  },
  {
   "cell_type": "markdown",
   "id": "f0390b25",
   "metadata": {},
   "source": [
    "### "
   ]
  },
  {
   "cell_type": "code",
   "execution_count": 62,
   "id": "3d3bfec7",
   "metadata": {},
   "outputs": [],
   "source": [
    "class PrintValTrainRatioCallback(keras.callbacks.Callback):\n",
    "    def on_epoch_end(self, epoch, logs):\n",
    "        print(\"\\nval/train: {:.2f}\".format(logs[\"val_loss\"] / logs[\"loss\"]))"
   ]
  },
  {
   "cell_type": "code",
   "execution_count": 63,
   "id": "99860edb",
   "metadata": {},
   "outputs": [
    {
     "name": "stdout",
     "output_type": "stream",
     "text": [
      "Epoch 1/5\n",
      "363/363 [==============================] - 0s 656us/step - loss: 0.2979 - val_loss: 0.2979\n",
      "\n",
      "val/train: 1.00\n",
      "Epoch 2/5\n",
      "363/363 [==============================] - 0s 591us/step - loss: 0.2975 - val_loss: 0.2968\n",
      "\n",
      "val/train: 1.00\n",
      "Epoch 3/5\n",
      "363/363 [==============================] - 0s 580us/step - loss: 0.2977 - val_loss: 0.2958\n",
      "\n",
      "val/train: 0.99\n",
      "Epoch 4/5\n",
      "363/363 [==============================] - 0s 578us/step - loss: 0.2975 - val_loss: 0.2971\n",
      "\n",
      "val/train: 1.00\n",
      "Epoch 5/5\n",
      "363/363 [==============================] - 0s 648us/step - loss: 0.2973 - val_loss: 0.2976\n",
      "\n",
      "val/train: 1.00\n"
     ]
    }
   ],
   "source": [
    "val_train_ratio_cb = PrintValTrainRatioCallback()\n",
    "history = model.fit(X_train, y_train, epochs=5,\n",
    "                    validation_data=(X_valid, y_valid),\n",
    "                    callbacks=[val_train_ratio_cb])"
   ]
  },
  {
   "cell_type": "code",
   "execution_count": null,
   "id": "6a29f934",
   "metadata": {},
   "outputs": [],
   "source": []
  }
 ],
 "metadata": {
  "kernelspec": {
   "display_name": "tensorflow",
   "language": "python",
   "name": "tensor"
  },
  "language_info": {
   "codemirror_mode": {
    "name": "ipython",
    "version": 3
   },
   "file_extension": ".py",
   "mimetype": "text/x-python",
   "name": "python",
   "nbconvert_exporter": "python",
   "pygments_lexer": "ipython3",
   "version": "3.9.6"
  }
 },
 "nbformat": 4,
 "nbformat_minor": 5
}
