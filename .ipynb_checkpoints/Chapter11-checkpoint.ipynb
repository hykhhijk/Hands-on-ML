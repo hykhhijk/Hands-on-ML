{
 "cells": [
  {
   "cell_type": "code",
   "execution_count": 1,
   "id": "251cea78",
   "metadata": {},
   "outputs": [],
   "source": [
    "import numpy as np\n",
    "import pandas as pd\n",
    "import tensorflow as tf\n",
    "from tensorflow import keras\n",
    "import matplotlib.pyplot as plt\n",
    "import seaborn as sns"
   ]
  },
  {
   "cell_type": "code",
   "execution_count": 2,
   "id": "ba0cca2a",
   "metadata": {},
   "outputs": [
    {
     "data": {
      "text/plain": [
       "<tensorflow.python.keras.layers.core.Dense at 0x18201b5c208>"
      ]
     },
     "execution_count": 2,
     "metadata": {},
     "output_type": "execute_result"
    }
   ],
   "source": [
    "keras.layers.Dense(10, activation=\"relu\", kernel_initializer=\"he_normal\")"
   ]
  },
  {
   "cell_type": "code",
   "execution_count": 3,
   "id": "cdbb3553",
   "metadata": {},
   "outputs": [
    {
     "data": {
      "text/plain": [
       "<tensorflow.python.keras.layers.core.Dense at 0x18201c1e898>"
      ]
     },
     "execution_count": 3,
     "metadata": {},
     "output_type": "execute_result"
    }
   ],
   "source": [
    "he_avg_init = keras.initializers.VarianceScaling(scale=2., mode=\"fan_avg\", distribution=\"uniform\")\n",
    "keras.layers.Dense(10, activation=\"sigmoid\", kernel_initializer=he_avg_init)"
   ]
  },
  {
   "cell_type": "code",
   "execution_count": 4,
   "id": "156e0de6",
   "metadata": {},
   "outputs": [],
   "source": [
    "(X_train_full, y_train_full), (X_test, y_test) = keras.datasets.fashion_mnist.load_data()\n",
    "X_train_full = X_train_full / 255.0\n",
    "X_test = X_test / 255.0\n",
    "X_valid, X_train = X_train_full[:5000], X_train_full[5000:]\n",
    "y_valid, y_train = y_train_full[:5000], y_train_full[5000:]"
   ]
  },
  {
   "cell_type": "code",
   "execution_count": 5,
   "id": "f21dfa19",
   "metadata": {},
   "outputs": [],
   "source": [
    "model = keras.models.Sequential([\n",
    "    keras.layers.Flatten(input_shape=list(X_train[0].shape)),\n",
    "    keras.layers.Dense(10, kernel_initializer=\"he_normal\"),\n",
    "    keras.layers.LeakyReLU(alpha=0.2),\n",
    "    keras.layers.Dense(10, activation=\"softmax\")\n",
    "])"
   ]
  },
  {
   "cell_type": "code",
   "execution_count": 6,
   "id": "b3895cb2",
   "metadata": {},
   "outputs": [],
   "source": [
    "model.compile(loss=\"sparse_categorical_crossentropy\",\n",
    "              optimizer=keras.optimizers.SGD(learning_rate=1e-3),\n",
    "              metrics=[\"accuracy\"])"
   ]
  },
  {
   "cell_type": "code",
   "execution_count": 7,
   "id": "cabc5bfe",
   "metadata": {},
   "outputs": [
    {
     "name": "stdout",
     "output_type": "stream",
     "text": [
      "Train on 55000 samples, validate on 5000 samples\n",
      "Epoch 1/10\n",
      "55000/55000 [==============================] - 4s 64us/sample - loss: 1.8773 - accuracy: 0.3424 - val_loss: 1.5563 - val_accuracy: 0.4332\n",
      "Epoch 2/10\n",
      "55000/55000 [==============================] - 3s 51us/sample - loss: 1.3627 - accuracy: 0.5349 - val_loss: 1.1635 - val_accuracy: 0.6578\n",
      "Epoch 3/10\n",
      "55000/55000 [==============================] - 3s 59us/sample - loss: 1.0660 - accuracy: 0.6820 - val_loss: 0.9546 - val_accuracy: 0.7146\n",
      "Epoch 4/10\n",
      "55000/55000 [==============================] - 4s 64us/sample - loss: 0.9127 - accuracy: 0.7131 - val_loss: 0.8475 - val_accuracy: 0.7322\n",
      "Epoch 5/10\n",
      "55000/55000 [==============================] - 4s 64us/sample - loss: 0.8292 - accuracy: 0.7305 - val_loss: 0.7833 - val_accuracy: 0.7462\n",
      "Epoch 6/10\n",
      "55000/55000 [==============================] - 4s 64us/sample - loss: 0.7746 - accuracy: 0.7449 - val_loss: 0.7387 - val_accuracy: 0.7602\n",
      "Epoch 7/10\n",
      "55000/55000 [==============================] - 4s 64us/sample - loss: 0.7344 - accuracy: 0.7561 - val_loss: 0.7028 - val_accuracy: 0.7696\n",
      "Epoch 8/10\n",
      "55000/55000 [==============================] - 4s 65us/sample - loss: 0.7023 - accuracy: 0.7650 - val_loss: 0.6743 - val_accuracy: 0.7796\n",
      "Epoch 9/10\n",
      "55000/55000 [==============================] - 4s 65us/sample - loss: 0.6757 - accuracy: 0.7743 - val_loss: 0.6513 - val_accuracy: 0.7842\n",
      "Epoch 10/10\n",
      "55000/55000 [==============================] - 4s 64us/sample - loss: 0.6533 - accuracy: 0.7819 - val_loss: 0.6320 - val_accuracy: 0.7902\n"
     ]
    }
   ],
   "source": [
    "history=model.fit(X_train, y_train, epochs=10, validation_data=(X_valid, y_valid))"
   ]
  },
  {
   "cell_type": "code",
   "execution_count": 8,
   "id": "6571a2bf",
   "metadata": {},
   "outputs": [],
   "source": [
    "model = keras.models.Sequential([\n",
    "    keras.layers.Flatten(input_shape=list(X_train[0].shape)),\n",
    "    keras.layers.Dense(10, activation=\"selu\", kernel_initializer=\"lecun_normal\"),\n",
    "    keras.layers.LeakyReLU(alpha=0.2),\n",
    "    keras.layers.Dense(10, activation=\"softmax\")\n",
    "])"
   ]
  },
  {
   "cell_type": "code",
   "execution_count": 9,
   "id": "03740751",
   "metadata": {},
   "outputs": [],
   "source": [
    "model.compile(loss=\"sparse_categorical_crossentropy\",\n",
    "              optimizer=keras.optimizers.SGD(learning_rate=1e-3),\n",
    "              metrics=[\"accuracy\"])"
   ]
  },
  {
   "cell_type": "code",
   "execution_count": 10,
   "id": "74b64e41",
   "metadata": {},
   "outputs": [
    {
     "name": "stdout",
     "output_type": "stream",
     "text": [
      "Train on 55000 samples, validate on 5000 samples\n",
      "Epoch 1/10\n",
      "55000/55000 [==============================] - 4s 72us/sample - loss: 1.7604 - accuracy: 0.4682 - val_loss: 1.3692 - val_accuracy: 0.6384\n",
      "Epoch 2/10\n",
      "55000/55000 [==============================] - 4s 65us/sample - loss: 1.1408 - accuracy: 0.6908 - val_loss: 0.9574 - val_accuracy: 0.7358\n",
      "Epoch 3/10\n",
      "55000/55000 [==============================] - 4s 65us/sample - loss: 0.8807 - accuracy: 0.7357 - val_loss: 0.8019 - val_accuracy: 0.7572\n",
      "Epoch 4/10\n",
      "55000/55000 [==============================] - 4s 65us/sample - loss: 0.7741 - accuracy: 0.7543 - val_loss: 0.7290 - val_accuracy: 0.7680\n",
      "Epoch 5/10\n",
      "55000/55000 [==============================] - 4s 65us/sample - loss: 0.7166 - accuracy: 0.7663 - val_loss: 0.6848 - val_accuracy: 0.7774\n",
      "Epoch 6/10\n",
      "55000/55000 [==============================] - 4s 64us/sample - loss: 0.6792 - accuracy: 0.7744 - val_loss: 0.6550 - val_accuracy: 0.7840\n",
      "Epoch 7/10\n",
      "55000/55000 [==============================] - 4s 64us/sample - loss: 0.6518 - accuracy: 0.7826 - val_loss: 0.6304 - val_accuracy: 0.7908\n",
      "Epoch 8/10\n",
      "55000/55000 [==============================] - 4s 65us/sample - loss: 0.6300 - accuracy: 0.7893 - val_loss: 0.6118 - val_accuracy: 0.7974\n",
      "Epoch 9/10\n",
      "55000/55000 [==============================] - 4s 64us/sample - loss: 0.6126 - accuracy: 0.7947 - val_loss: 0.5971 - val_accuracy: 0.8044\n",
      "Epoch 10/10\n",
      "55000/55000 [==============================] - 4s 65us/sample - loss: 0.5981 - accuracy: 0.7992 - val_loss: 0.5832 - val_accuracy: 0.8088\n"
     ]
    }
   ],
   "source": [
    "history=model.fit(X_train, y_train, epochs=10, validation_data=(X_valid, y_valid))"
   ]
  },
  {
   "cell_type": "markdown",
   "id": "da737754",
   "metadata": {},
   "source": [
    "# 배치정규화"
   ]
  },
  {
   "cell_type": "code",
   "execution_count": 11,
   "id": "93fc66bb",
   "metadata": {},
   "outputs": [],
   "source": [
    "model = keras.models.Sequential([\n",
    "    keras.layers.Flatten(input_shape=[28, 28]),\n",
    "    keras.layers.BatchNormalization(),\n",
    "    keras.layers.Dense(300, activation=\"elu\", kernel_initializer=\"he_normal\"),\n",
    "    keras.layers.BatchNormalization(),\n",
    "    keras.layers.Dense(100, activation=\"elu\", kernel_initializer=\"he_normal\"),\n",
    "    keras.layers.BatchNormalization(),\n",
    "    keras.layers.Dense(10, activation=\"softmax\"),\n",
    "])"
   ]
  },
  {
   "cell_type": "code",
   "execution_count": 12,
   "id": "c5934754",
   "metadata": {},
   "outputs": [
    {
     "name": "stdout",
     "output_type": "stream",
     "text": [
      "Model: \"sequential_2\"\n",
      "_________________________________________________________________\n",
      "Layer (type)                 Output Shape              Param #   \n",
      "=================================================================\n",
      "flatten_2 (Flatten)          (None, 784)               0         \n",
      "_________________________________________________________________\n",
      "batch_normalization (BatchNo (None, 784)               3136      \n",
      "_________________________________________________________________\n",
      "dense_6 (Dense)              (None, 300)               235500    \n",
      "_________________________________________________________________\n",
      "batch_normalization_1 (Batch (None, 300)               1200      \n",
      "_________________________________________________________________\n",
      "dense_7 (Dense)              (None, 100)               30100     \n",
      "_________________________________________________________________\n",
      "batch_normalization_2 (Batch (None, 100)               400       \n",
      "_________________________________________________________________\n",
      "dense_8 (Dense)              (None, 10)                1010      \n",
      "=================================================================\n",
      "Total params: 271,346\n",
      "Trainable params: 268,978\n",
      "Non-trainable params: 2,368\n",
      "_________________________________________________________________\n"
     ]
    }
   ],
   "source": [
    "model.summary()"
   ]
  },
  {
   "cell_type": "code",
   "execution_count": 13,
   "id": "44888162",
   "metadata": {},
   "outputs": [
    {
     "data": {
      "text/plain": [
       "[('batch_normalization/gamma:0', True),\n",
       " ('batch_normalization/beta:0', True),\n",
       " ('batch_normalization/moving_mean:0', False),\n",
       " ('batch_normalization/moving_variance:0', False)]"
      ]
     },
     "execution_count": 13,
     "metadata": {},
     "output_type": "execute_result"
    }
   ],
   "source": [
    "[(var.name, var.trainable) for var in model.layers[1].variables]"
   ]
  },
  {
   "cell_type": "code",
   "execution_count": 14,
   "id": "509eb94e",
   "metadata": {},
   "outputs": [],
   "source": [
    "### updates는 삭제될 예정이라함\n",
    "#model.layers[1].updates"
   ]
  },
  {
   "cell_type": "code",
   "execution_count": 15,
   "id": "5a5c67fd",
   "metadata": {},
   "outputs": [],
   "source": [
    "model = keras.models.Sequential([\n",
    "    keras.layers.Flatten(input_shape=[28, 28]),\n",
    "    keras.layers.BatchNormalization(),\n",
    "    keras.layers.Dense(300, kernel_initializer=\"he_normal\", use_bias=False),\n",
    "    keras.layers.BatchNormalization(),\n",
    "    keras.layers.Activation(\"elu\"),\n",
    "    keras.layers.Dense(100, kernel_initializer=\"he_normal\", use_bias=False),\n",
    "    keras.layers.BatchNormalization(),\n",
    "    keras.layers.Activation(\"elu\"),\n",
    "    keras.layers.Dense(10, activation=\"softmax\"),\n",
    "])"
   ]
  },
  {
   "cell_type": "code",
   "execution_count": 16,
   "id": "0b86be5b",
   "metadata": {},
   "outputs": [
    {
     "name": "stdout",
     "output_type": "stream",
     "text": [
      "Model: \"sequential_3\"\n",
      "_________________________________________________________________\n",
      "Layer (type)                 Output Shape              Param #   \n",
      "=================================================================\n",
      "flatten_3 (Flatten)          (None, 784)               0         \n",
      "_________________________________________________________________\n",
      "batch_normalization_3 (Batch (None, 784)               3136      \n",
      "_________________________________________________________________\n",
      "dense_9 (Dense)              (None, 300)               235200    \n",
      "_________________________________________________________________\n",
      "batch_normalization_4 (Batch (None, 300)               1200      \n",
      "_________________________________________________________________\n",
      "activation (Activation)      (None, 300)               0         \n",
      "_________________________________________________________________\n",
      "dense_10 (Dense)             (None, 100)               30000     \n",
      "_________________________________________________________________\n",
      "batch_normalization_5 (Batch (None, 100)               400       \n",
      "_________________________________________________________________\n",
      "activation_1 (Activation)    (None, 100)               0         \n",
      "_________________________________________________________________\n",
      "dense_11 (Dense)             (None, 10)                1010      \n",
      "=================================================================\n",
      "Total params: 270,946\n",
      "Trainable params: 268,578\n",
      "Non-trainable params: 2,368\n",
      "_________________________________________________________________\n"
     ]
    }
   ],
   "source": [
    "model.summary()"
   ]
  },
  {
   "cell_type": "code",
   "execution_count": 17,
   "id": "165baaa1",
   "metadata": {},
   "outputs": [],
   "source": [
    "model.compile(loss=\"sparse_categorical_crossentropy\",\n",
    "              optimizer=keras.optimizers.SGD(learning_rate=1e-3),\n",
    "              metrics=[\"accuracy\"])"
   ]
  },
  {
   "cell_type": "code",
   "execution_count": 18,
   "id": "6ac6ab0b",
   "metadata": {},
   "outputs": [
    {
     "name": "stdout",
     "output_type": "stream",
     "text": [
      "Train on 55000 samples, validate on 5000 samples\n",
      "Epoch 1/10\n",
      "55000/55000 [==============================] - 5s 90us/sample - loss: 0.9318 - accuracy: 0.6906 - val_loss: 0.6311 - val_accuracy: 0.7922\n",
      "Epoch 2/10\n",
      "55000/55000 [==============================] - 5s 87us/sample - loss: 0.6356 - accuracy: 0.7838 - val_loss: 0.5462 - val_accuracy: 0.8162\n",
      "Epoch 3/10\n",
      "55000/55000 [==============================] - 5s 90us/sample - loss: 0.5753 - accuracy: 0.8011 - val_loss: 0.5046 - val_accuracy: 0.8318\n",
      "Epoch 4/10\n",
      "55000/55000 [==============================] - 5s 90us/sample - loss: 0.5404 - accuracy: 0.8119 - val_loss: 0.4799 - val_accuracy: 0.8404\n",
      "Epoch 5/10\n",
      "55000/55000 [==============================] - 4s 81us/sample - loss: 0.5173 - accuracy: 0.8227 - val_loss: 0.4616 - val_accuracy: 0.8466\n",
      "Epoch 6/10\n",
      "55000/55000 [==============================] - 4s 78us/sample - loss: 0.5007 - accuracy: 0.8261 - val_loss: 0.4498 - val_accuracy: 0.8524\n",
      "Epoch 7/10\n",
      "55000/55000 [==============================] - 4s 79us/sample - loss: 0.4846 - accuracy: 0.8322 - val_loss: 0.4378 - val_accuracy: 0.8568\n",
      "Epoch 8/10\n",
      "55000/55000 [==============================] - 4s 79us/sample - loss: 0.4730 - accuracy: 0.8360 - val_loss: 0.4294 - val_accuracy: 0.8598\n",
      "Epoch 9/10\n",
      "55000/55000 [==============================] - 4s 79us/sample - loss: 0.4666 - accuracy: 0.8374 - val_loss: 0.4220 - val_accuracy: 0.8630\n",
      "Epoch 10/10\n",
      "55000/55000 [==============================] - 4s 78us/sample - loss: 0.4556 - accuracy: 0.8405 - val_loss: 0.4154 - val_accuracy: 0.8648\n"
     ]
    }
   ],
   "source": [
    "### 배치정규화층은 시간 소모를 높이지만 성능이 월등히 높아짐\n",
    "\n",
    "history=model.fit(X_train, y_train, epochs=10, validation_data=(X_valid, y_valid))"
   ]
  },
  {
   "cell_type": "markdown",
   "id": "fe838eea",
   "metadata": {},
   "source": [
    "# 그래디언트 클리핑 "
   ]
  },
  {
   "cell_type": "code",
   "execution_count": 19,
   "id": "1e3892ee",
   "metadata": {},
   "outputs": [],
   "source": [
    "model = keras.models.Sequential([\n",
    "    keras.layers.Flatten(input_shape=list(X_train[0].shape)),\n",
    "    keras.layers.Dense(10, kernel_initializer=\"he_normal\"),\n",
    "    keras.layers.LeakyReLU(alpha=0.2),\n",
    "    keras.layers.Dense(10, activation=\"softmax\")\n",
    "])"
   ]
  },
  {
   "cell_type": "markdown",
   "id": "169a1691",
   "metadata": {},
   "source": [
    "### clipvalue를 사용하면 임계치를 넘은 축만 스케일링하며 clipnorm은 전체축을 스케일링함\n",
    "### 일반적으로 clipnorm을 쓰면 임계치를 넘은 축 외에는 무시되는 경우가 많음"
   ]
  },
  {
   "cell_type": "code",
   "execution_count": 20,
   "id": "b06f7181",
   "metadata": {},
   "outputs": [],
   "source": [
    "optimizer = keras.optimizers.SGD(clipvalue = 1.0)\n",
    "model.compile(loss=\"sparse_categorical_crossentropy\", optimizer=optimizer, metrics=[\"accuracy\"])"
   ]
  },
  {
   "cell_type": "code",
   "execution_count": 21,
   "id": "2949c886",
   "metadata": {},
   "outputs": [
    {
     "name": "stdout",
     "output_type": "stream",
     "text": [
      "Train on 55000 samples, validate on 5000 samples\n",
      "Epoch 1/10\n",
      "55000/55000 [==============================] - 3s 54us/sample - loss: 0.8737 - accuracy: 0.7130 - val_loss: 0.6225 - val_accuracy: 0.7906\n",
      "Epoch 2/10\n",
      "55000/55000 [==============================] - 3s 51us/sample - loss: 0.5733 - accuracy: 0.8064 - val_loss: 0.5455 - val_accuracy: 0.8166\n",
      "Epoch 3/10\n",
      "55000/55000 [==============================] - 3s 59us/sample - loss: 0.5175 - accuracy: 0.8220 - val_loss: 0.5054 - val_accuracy: 0.8290\n",
      "Epoch 4/10\n",
      "55000/55000 [==============================] - 4s 70us/sample - loss: 0.4888 - accuracy: 0.8316 - val_loss: 0.4753 - val_accuracy: 0.8420\n",
      "Epoch 5/10\n",
      "55000/55000 [==============================] - 4s 70us/sample - loss: 0.4720 - accuracy: 0.8364 - val_loss: 0.4574 - val_accuracy: 0.8458\n",
      "Epoch 6/10\n",
      "55000/55000 [==============================] - 4s 65us/sample - loss: 0.4583 - accuracy: 0.8400 - val_loss: 0.4703 - val_accuracy: 0.8388\n",
      "Epoch 7/10\n",
      "55000/55000 [==============================] - 3s 57us/sample - loss: 0.4490 - accuracy: 0.8442 - val_loss: 0.4396 - val_accuracy: 0.8546\n",
      "Epoch 8/10\n",
      "55000/55000 [==============================] - 3s 57us/sample - loss: 0.4414 - accuracy: 0.8471 - val_loss: 0.4314 - val_accuracy: 0.8532\n",
      "Epoch 9/10\n",
      "55000/55000 [==============================] - 3s 57us/sample - loss: 0.4350 - accuracy: 0.8495 - val_loss: 0.4318 - val_accuracy: 0.8520\n",
      "Epoch 10/10\n",
      "55000/55000 [==============================] - 3s 57us/sample - loss: 0.4286 - accuracy: 0.8507 - val_loss: 0.4278 - val_accuracy: 0.8562\n"
     ]
    }
   ],
   "source": [
    "history=model.fit(X_train, y_train, epochs=10, validation_data=(X_valid, y_valid))"
   ]
  },
  {
   "cell_type": "code",
   "execution_count": 51,
   "id": "c0aece4e",
   "metadata": {},
   "outputs": [],
   "source": [
    "optimizer = keras.optimizers.SGD(clipnorm = 1.0)\n",
    "model.compile(loss=\"sparse_categorical_crossentropy\", optimizer=optimizer, metrics=[\"accuracy\"])"
   ]
  },
  {
   "cell_type": "code",
   "execution_count": 52,
   "id": "e4976066",
   "metadata": {},
   "outputs": [
    {
     "name": "stdout",
     "output_type": "stream",
     "text": [
      "Train on 55000 samples, validate on 5000 samples\n",
      "Epoch 1/10\n",
      "55000/55000 [==============================] - 3s 63us/sample - loss: 0.3285 - accuracy: 0.8807 - val_loss: 0.3822 - val_accuracy: 0.8664\n",
      "Epoch 2/10\n",
      "55000/55000 [==============================] - 3s 58us/sample - loss: 0.3276 - accuracy: 0.8813 - val_loss: 0.3830 - val_accuracy: 0.8668\n",
      "Epoch 3/10\n",
      "55000/55000 [==============================] - 4s 67us/sample - loss: 0.3275 - accuracy: 0.8811 - val_loss: 0.3782 - val_accuracy: 0.8672\n",
      "Epoch 4/10\n",
      "55000/55000 [==============================] - 4s 76us/sample - loss: 0.3272 - accuracy: 0.8811 - val_loss: 0.3811 - val_accuracy: 0.8718\n",
      "Epoch 5/10\n",
      "55000/55000 [==============================] - 4s 77us/sample - loss: 0.3271 - accuracy: 0.8816 - val_loss: 0.3786 - val_accuracy: 0.8664\n",
      "Epoch 6/10\n",
      "55000/55000 [==============================] - 4s 74us/sample - loss: 0.3267 - accuracy: 0.8811 - val_loss: 0.3818 - val_accuracy: 0.8698\n",
      "Epoch 7/10\n",
      "55000/55000 [==============================] - 3s 63us/sample - loss: 0.3265 - accuracy: 0.8812 - val_loss: 0.3811 - val_accuracy: 0.8638\n",
      "Epoch 8/10\n",
      "55000/55000 [==============================] - 4s 64us/sample - loss: 0.3262 - accuracy: 0.8815 - val_loss: 0.3822 - val_accuracy: 0.8690\n",
      "Epoch 9/10\n",
      "55000/55000 [==============================] - 3s 63us/sample - loss: 0.3263 - accuracy: 0.8821 - val_loss: 0.3803 - val_accuracy: 0.8680\n",
      "Epoch 10/10\n",
      "55000/55000 [==============================] - 4s 65us/sample - loss: 0.3258 - accuracy: 0.8822 - val_loss: 0.3811 - val_accuracy: 0.8684\n"
     ]
    }
   ],
   "source": [
    "history=model.fit(X_train, y_train, epochs=10, validation_data=(X_valid, y_valid))"
   ]
  },
  {
   "cell_type": "markdown",
   "id": "97324a7f",
   "metadata": {},
   "source": [
    "##### 성능차이는 미세하지만 clipnorm의 case가 더 수렴이 빨랐다 \n",
    "##### 확신은 못하겠지만 이미지 classify의 경우 중요하지 않은 차원을 빼는게 도움이 되기 때문이 아닐까? 라고 생각한다"
   ]
  },
  {
   "cell_type": "markdown",
   "id": "6901294a",
   "metadata": {},
   "source": [
    "# 전이학습"
   ]
  },
  {
   "cell_type": "code",
   "execution_count": 53,
   "id": "86cca25c",
   "metadata": {},
   "outputs": [],
   "source": [
    "### y_5_or_6는 y가 5와 6인 값만 True를 반환해주는 입출력 크기가 바뀌지 않는 리스트 이며 이 bool값을 이용해 특정 값만 선택가능\n",
    "### 이거를 다시 6\n",
    "\n",
    "\n",
    "def split_dataset(X, y):\n",
    "    y_5_or_6 = (y == 5) | (y == 6) # sandals or shirts\n",
    "    y_A = y[~y_5_or_6]\n",
    "    y_A[y_A > 6] -= 2 # class indices 7, 8, 9 should be moved to 5, 6, 7\n",
    "    y_B = (y[y_5_or_6] == 6).astype(np.float32) # binary classification task: is it a shirt (class 6)?\n",
    "    return ((X[~y_5_or_6], y_A),\n",
    "            (X[y_5_or_6], y_B))\n",
    "\n",
    "### 간략하게 설명하자면 class 5, 6만 _B를 붙여서 bool형으로 떼주고 200개만 남김 나머지 부분은 _A를 붙여서 데이터 분할\n",
    "\n",
    "(X_train_A, y_train_A), (X_train_B, y_train_B) = split_dataset(X_train, y_train)\n",
    "(X_valid_A, y_valid_A), (X_valid_B, y_valid_B) = split_dataset(X_valid, y_valid)\n",
    "(X_test_A, y_test_A), (X_test_B, y_test_B) = split_dataset(X_test, y_test)\n",
    "X_train_B = X_train_B[:200]\n",
    "y_train_B = y_train_B[:200]"
   ]
  },
  {
   "cell_type": "code",
   "execution_count": 23,
   "id": "b434c35c",
   "metadata": {},
   "outputs": [
    {
     "data": {
      "text/plain": [
       "(43986, 28, 28)"
      ]
     },
     "execution_count": 23,
     "metadata": {},
     "output_type": "execute_result"
    }
   ],
   "source": [
    "X_train_A.shape"
   ]
  },
  {
   "cell_type": "code",
   "execution_count": 24,
   "id": "0577d4b1",
   "metadata": {},
   "outputs": [
    {
     "data": {
      "text/plain": [
       "(200, 28, 28)"
      ]
     },
     "execution_count": 24,
     "metadata": {},
     "output_type": "execute_result"
    }
   ],
   "source": [
    "X_train_B.shape"
   ]
  },
  {
   "cell_type": "code",
   "execution_count": 25,
   "id": "8b0e6c5a",
   "metadata": {},
   "outputs": [
    {
     "data": {
      "text/plain": [
       "(200,)"
      ]
     },
     "execution_count": 25,
     "metadata": {},
     "output_type": "execute_result"
    }
   ],
   "source": [
    "y_train_B.shape"
   ]
  },
  {
   "cell_type": "code",
   "execution_count": 26,
   "id": "9b26389d",
   "metadata": {},
   "outputs": [
    {
     "data": {
      "text/plain": [
       "0    5543\n",
       "4    5512\n",
       "6    5510\n",
       "3    5499\n",
       "2    5496\n",
       "7    5494\n",
       "5    5488\n",
       "1    5444\n",
       "dtype: int64"
      ]
     },
     "execution_count": 26,
     "metadata": {},
     "output_type": "execute_result"
    }
   ],
   "source": [
    "### 5와6을 빼고 빈 공간에 계속 뒤에서 채워넣었으므로 0~7\n",
    "\n",
    "pd.Series(y_train_A).value_counts()"
   ]
  },
  {
   "cell_type": "code",
   "execution_count": 27,
   "id": "4baf5250",
   "metadata": {},
   "outputs": [],
   "source": [
    "model_A = keras.models.Sequential()\n",
    "model_A.add(keras.layers.Flatten(input_shape=[28, 28]))\n",
    "for n_hidden in (300, 100, 50, 50, 50):\n",
    "    model_A.add(keras.layers.Dense(n_hidden, activation=\"selu\"))\n",
    "model_A.add(keras.layers.Dense(8, activation=\"softmax\"))"
   ]
  },
  {
   "cell_type": "code",
   "execution_count": 28,
   "id": "6e058450",
   "metadata": {},
   "outputs": [],
   "source": [
    "model_A.compile(loss=\"sparse_categorical_crossentropy\",\n",
    "                optimizer=keras.optimizers.SGD(learning_rate=1e-3),\n",
    "                metrics=[\"accuracy\"])"
   ]
  },
  {
   "cell_type": "code",
   "execution_count": 29,
   "id": "8beedbc0",
   "metadata": {},
   "outputs": [
    {
     "name": "stdout",
     "output_type": "stream",
     "text": [
      "Train on 43986 samples, validate on 4014 samples\n",
      "Epoch 1/20\n",
      "43986/43986 [==============================] - 4s 83us/sample - loss: 0.6333 - accuracy: 0.8064 - val_loss: 0.3866 - val_accuracy: 0.8640\n",
      "Epoch 2/20\n",
      "43986/43986 [==============================] - 3s 76us/sample - loss: 0.3578 - accuracy: 0.8789 - val_loss: 0.3277 - val_accuracy: 0.8844\n",
      "Epoch 3/20\n",
      "43986/43986 [==============================] - 3s 76us/sample - loss: 0.3187 - accuracy: 0.8911 - val_loss: 0.3026 - val_accuracy: 0.8914\n",
      "Epoch 4/20\n",
      "43986/43986 [==============================] - 3s 76us/sample - loss: 0.2993 - accuracy: 0.8978 - val_loss: 0.2895 - val_accuracy: 0.8966\n",
      "Epoch 5/20\n",
      "43986/43986 [==============================] - 3s 75us/sample - loss: 0.2865 - accuracy: 0.9024 - val_loss: 0.2758 - val_accuracy: 0.9056\n",
      "Epoch 6/20\n",
      "43986/43986 [==============================] - 3s 76us/sample - loss: 0.2766 - accuracy: 0.9054 - val_loss: 0.2690 - val_accuracy: 0.9096\n",
      "Epoch 7/20\n",
      "43986/43986 [==============================] - 3s 75us/sample - loss: 0.2691 - accuracy: 0.9080 - val_loss: 0.2623 - val_accuracy: 0.9083\n",
      "Epoch 8/20\n",
      "43986/43986 [==============================] - 3s 73us/sample - loss: 0.2622 - accuracy: 0.9107 - val_loss: 0.2680 - val_accuracy: 0.9056\n",
      "Epoch 9/20\n",
      "43986/43986 [==============================] - 3s 74us/sample - loss: 0.2569 - accuracy: 0.9126 - val_loss: 0.2559 - val_accuracy: 0.9088\n",
      "Epoch 10/20\n",
      "43986/43986 [==============================] - 3s 74us/sample - loss: 0.2518 - accuracy: 0.9143 - val_loss: 0.2497 - val_accuracy: 0.9143\n",
      "Epoch 11/20\n",
      "43986/43986 [==============================] - 3s 75us/sample - loss: 0.2475 - accuracy: 0.9160 - val_loss: 0.2467 - val_accuracy: 0.9128\n",
      "Epoch 12/20\n",
      "43986/43986 [==============================] - 3s 74us/sample - loss: 0.2433 - accuracy: 0.9173 - val_loss: 0.2451 - val_accuracy: 0.9126\n",
      "Epoch 13/20\n",
      "43986/43986 [==============================] - 3s 75us/sample - loss: 0.2395 - accuracy: 0.9182 - val_loss: 0.2428 - val_accuracy: 0.9131\n",
      "Epoch 14/20\n",
      "43986/43986 [==============================] - 3s 75us/sample - loss: 0.2369 - accuracy: 0.9187 - val_loss: 0.2400 - val_accuracy: 0.9155\n",
      "Epoch 15/20\n",
      "43986/43986 [==============================] - 3s 74us/sample - loss: 0.2332 - accuracy: 0.9197 - val_loss: 0.2372 - val_accuracy: 0.9170\n",
      "Epoch 16/20\n",
      "43986/43986 [==============================] - 3s 74us/sample - loss: 0.2306 - accuracy: 0.9212 - val_loss: 0.2427 - val_accuracy: 0.9175\n",
      "Epoch 17/20\n",
      "43986/43986 [==============================] - 3s 72us/sample - loss: 0.2278 - accuracy: 0.9214 - val_loss: 0.2366 - val_accuracy: 0.9155\n",
      "Epoch 18/20\n",
      "43986/43986 [==============================] - 3s 73us/sample - loss: 0.2256 - accuracy: 0.9230 - val_loss: 0.2332 - val_accuracy: 0.9193\n",
      "Epoch 19/20\n",
      "43986/43986 [==============================] - 3s 75us/sample - loss: 0.2225 - accuracy: 0.9236 - val_loss: 0.2349 - val_accuracy: 0.9160\n",
      "Epoch 20/20\n",
      "43986/43986 [==============================] - 3s 75us/sample - loss: 0.2205 - accuracy: 0.9247 - val_loss: 0.2340 - val_accuracy: 0.9148\n"
     ]
    }
   ],
   "source": [
    "history = model_A.fit(X_train_A, y_train_A, epochs=20,\n",
    "                    validation_data=(X_valid_A, y_valid_A))"
   ]
  },
  {
   "cell_type": "code",
   "execution_count": 30,
   "id": "9643cf74",
   "metadata": {},
   "outputs": [],
   "source": [
    "model_A.save(\"my_model_A.h5\")"
   ]
  },
  {
   "cell_type": "code",
   "execution_count": 54,
   "id": "490579a9",
   "metadata": {},
   "outputs": [],
   "source": [
    "model_A = keras.models.load_model(\"my_model_A.h5\")\n",
    "model_B_on_A = keras.models.Sequential(model_A.layers[:-1])\n",
    "###출력층위 제외하고 가져온다\n",
    "model_B_on_A.add(keras.layers.Dense(1, activation=\"sigmoid\"))"
   ]
  },
  {
   "cell_type": "code",
   "execution_count": 56,
   "id": "21c1912b",
   "metadata": {},
   "outputs": [],
   "source": [
    "### model_A는 model_B_on_A를 훈련시킬때 공유하는 층이 같이 훈련되므로 미리 모델을 복사해두어야함\n",
    "### 근데 사실상 h5파일을 두번 가져오는것과 동일한 동작이라 이런 필요가 있나 싶다\n",
    "\n",
    "model_A_clone = keras.models.clone_model(model_A)\n",
    "model_A_clone.set_weights(model_A.get_weights())"
   ]
  },
  {
   "cell_type": "markdown",
   "id": "33af2eca",
   "metadata": {},
   "source": [
    "# 층 동결\n",
    "### 새로 추가된 출력층의 가중치가 random하게 초기화 되었으므로 어느정도 맞춰준다음 전체학습 하는게 좋다"
   ]
  },
  {
   "cell_type": "code",
   "execution_count": 58,
   "id": "de17d2f9",
   "metadata": {},
   "outputs": [],
   "source": [
    "for layer in model_B_on_A.layers[:-1]:\n",
    "    layer.trainable = False\n",
    "\n",
    "### 층을 동결하거나 동결해제했다면 반드시!! 이후에 다시 컴파일 해줘야함\n",
    "model_B_on_A.compile(loss=\"binary_crossentropy\", optimizer=\"sgd\", metrics=[\"accuracy\"])"
   ]
  },
  {
   "cell_type": "code",
   "execution_count": 59,
   "id": "76b8277a",
   "metadata": {},
   "outputs": [
    {
     "name": "stdout",
     "output_type": "stream",
     "text": [
      "Train on 200 samples, validate on 986 samples\n",
      "Epoch 1/4\n",
      "200/200 [==============================] - 1s 3ms/sample - loss: 0.5755 - accuracy: 0.6800 - val_loss: 0.3517 - val_accuracy: 0.9300\n",
      "Epoch 2/4\n",
      "200/200 [==============================] - 0s 763us/sample - loss: 0.2772 - accuracy: 0.9650 - val_loss: 0.2213 - val_accuracy: 0.9848\n",
      "Epoch 3/4\n",
      "200/200 [==============================] - 0s 631us/sample - loss: 0.1835 - accuracy: 0.9850 - val_loss: 0.1663 - val_accuracy: 0.9868\n",
      "Epoch 4/4\n",
      "200/200 [==============================] - 0s 663us/sample - loss: 0.1395 - accuracy: 0.9900 - val_loss: 0.1351 - val_accuracy: 0.9909\n"
     ]
    }
   ],
   "source": [
    "history = model_B_on_A.fit(X_train_B, y_train_B, epochs=4, validation_data=(X_valid_B, y_valid_B))\n",
    "\n",
    "for layer in model_B_on_A.layers[:-1]:\n",
    "    layer.trainable = True\n",
    "\n",
    "optimizer = keras.optimizers.SGD(lr=1e-4)\n",
    "### 전이학습시 동결을 해제한다음의 학습률을 낮춰줘야함\n",
    "model_B_on_A.compile(loss=\"binary_crossentropy\", optimizer=optimizer, metrics=[\"accuracy\"])"
   ]
  },
  {
   "cell_type": "code",
   "execution_count": 35,
   "id": "b5fa78a6",
   "metadata": {},
   "outputs": [
    {
     "name": "stdout",
     "output_type": "stream",
     "text": [
      "Train on 200 samples, validate on 986 samples\n",
      "Epoch 1/16\n",
      "200/200 [==============================] - 1s 3ms/sample - loss: 0.1206 - accuracy: 0.9850 - val_loss: 0.1445 - val_accuracy: 0.9777\n",
      "Epoch 2/16\n",
      "200/200 [==============================] - 0s 378us/sample - loss: 0.1181 - accuracy: 0.9850 - val_loss: 0.1420 - val_accuracy: 0.9787\n",
      "Epoch 3/16\n",
      "200/200 [==============================] - 0s 365us/sample - loss: 0.1155 - accuracy: 0.9850 - val_loss: 0.1398 - val_accuracy: 0.9817\n",
      "Epoch 4/16\n",
      "200/200 [==============================] - 0s 362us/sample - loss: 0.1133 - accuracy: 0.9850 - val_loss: 0.1375 - val_accuracy: 0.9817\n",
      "Epoch 5/16\n",
      "200/200 [==============================] - 0s 376us/sample - loss: 0.1110 - accuracy: 0.9850 - val_loss: 0.1352 - val_accuracy: 0.9838\n",
      "Epoch 6/16\n",
      "200/200 [==============================] - 0s 361us/sample - loss: 0.1087 - accuracy: 0.9850 - val_loss: 0.1331 - val_accuracy: 0.9838\n",
      "Epoch 7/16\n",
      "200/200 [==============================] - 0s 360us/sample - loss: 0.1066 - accuracy: 0.9850 - val_loss: 0.1312 - val_accuracy: 0.9838\n",
      "Epoch 8/16\n",
      "200/200 [==============================] - 0s 364us/sample - loss: 0.1047 - accuracy: 0.9850 - val_loss: 0.1294 - val_accuracy: 0.9848\n",
      "Epoch 9/16\n",
      "200/200 [==============================] - 0s 361us/sample - loss: 0.1029 - accuracy: 0.9900 - val_loss: 0.1276 - val_accuracy: 0.9858\n",
      "Epoch 10/16\n",
      "200/200 [==============================] - 0s 385us/sample - loss: 0.1011 - accuracy: 0.9900 - val_loss: 0.1259 - val_accuracy: 0.9858\n",
      "Epoch 11/16\n",
      "200/200 [==============================] - 0s 395us/sample - loss: 0.0994 - accuracy: 0.9950 - val_loss: 0.1242 - val_accuracy: 0.9868\n",
      "Epoch 12/16\n",
      "200/200 [==============================] - 0s 430us/sample - loss: 0.0977 - accuracy: 0.9950 - val_loss: 0.1228 - val_accuracy: 0.9868\n",
      "Epoch 13/16\n",
      "200/200 [==============================] - 0s 433us/sample - loss: 0.0963 - accuracy: 0.9950 - val_loss: 0.1213 - val_accuracy: 0.9868\n",
      "Epoch 14/16\n",
      "200/200 [==============================] - 0s 415us/sample - loss: 0.0948 - accuracy: 0.9950 - val_loss: 0.1197 - val_accuracy: 0.9868\n",
      "Epoch 15/16\n",
      "200/200 [==============================] - 0s 422us/sample - loss: 0.0932 - accuracy: 0.9950 - val_loss: 0.1183 - val_accuracy: 0.9868\n",
      "Epoch 16/16\n",
      "200/200 [==============================] - 0s 419us/sample - loss: 0.0918 - accuracy: 0.9950 - val_loss: 0.1170 - val_accuracy: 0.9878\n"
     ]
    }
   ],
   "source": [
    "history = model_B_on_A.fit(X_train_B, y_train_B, epochs=16, validation_data=(X_valid_B, y_valid_B))"
   ]
  },
  {
   "cell_type": "code",
   "execution_count": 36,
   "id": "9e9c3077",
   "metadata": {},
   "outputs": [
    {
     "name": "stdout",
     "output_type": "stream",
     "text": [
      "2000/2000 [==============================] - 0s 52us/sample - loss: 0.1095 - accuracy: 0.9870\n"
     ]
    },
    {
     "data": {
      "text/plain": [
       "[0.10953126209974288, 0.987]"
      ]
     },
     "execution_count": 36,
     "metadata": {},
     "output_type": "execute_result"
    }
   ],
   "source": [
    "model_B_on_A.evaluate(X_test_B, y_test_B)"
   ]
  },
  {
   "cell_type": "markdown",
   "id": "06aa81cb",
   "metadata": {},
   "source": [
    "###  model_B데이터만 사용하여 MLP구성해보았는데 애시당초 샘플수의 차이 때문에 성능낮음\n",
    "### 이미지 분류 같은 경우 미리 많은 샘플로 가중치를 초기화한 모델을 base로 두고 이후 (은닉)+출력층 구성하면\n",
    "### 샘플 수, 모델 구상 노력대비 성능, 시간적으로 매우 이득"
   ]
  },
  {
   "cell_type": "code",
   "execution_count": 37,
   "id": "33c7d47a",
   "metadata": {},
   "outputs": [],
   "source": [
    "model_B_test = keras.models.Sequential()\n",
    "model_B_test.add(keras.layers.Flatten(input_shape=[28, 28]))\n",
    "for n_hidden in (300, 100, 50, 50, 50):\n",
    "    model_B_test.add(keras.layers.Dense(n_hidden, activation=\"selu\"))\n",
    "model_B_test.add(keras.layers.Dense(1, activation=\"sigmoid\"))"
   ]
  },
  {
   "cell_type": "code",
   "execution_count": 38,
   "id": "0cf09df6",
   "metadata": {},
   "outputs": [],
   "source": [
    "optimizer = keras.optimizers.SGD(lr=1e-4)\n",
    "model_B_test.compile(loss=\"binary_crossentropy\", optimizer=optimizer, metrics=[\"accuracy\"])"
   ]
  },
  {
   "cell_type": "code",
   "execution_count": 39,
   "id": "43d54456",
   "metadata": {},
   "outputs": [
    {
     "name": "stdout",
     "output_type": "stream",
     "text": [
      "Train on 200 samples, validate on 986 samples\n",
      "Epoch 1/25\n",
      "200/200 [==============================] - 0s 2ms/sample - loss: 0.6751 - accuracy: 0.6200 - val_loss: 0.6403 - val_accuracy: 0.6481\n",
      "Epoch 2/25\n",
      "200/200 [==============================] - 0s 506us/sample - loss: 0.6614 - accuracy: 0.6250 - val_loss: 0.6283 - val_accuracy: 0.6562\n",
      "Epoch 3/25\n",
      "200/200 [==============================] - 0s 363us/sample - loss: 0.6486 - accuracy: 0.6300 - val_loss: 0.6163 - val_accuracy: 0.6663\n",
      "Epoch 4/25\n",
      "200/200 [==============================] - 0s 430us/sample - loss: 0.6359 - accuracy: 0.6400 - val_loss: 0.6047 - val_accuracy: 0.6724\n",
      "Epoch 5/25\n",
      "200/200 [==============================] - 0s 497us/sample - loss: 0.6235 - accuracy: 0.6550 - val_loss: 0.5934 - val_accuracy: 0.6765\n",
      "Epoch 6/25\n",
      "200/200 [==============================] - 0s 377us/sample - loss: 0.6114 - accuracy: 0.6550 - val_loss: 0.5822 - val_accuracy: 0.6917\n",
      "Epoch 7/25\n",
      "200/200 [==============================] - 0s 419us/sample - loss: 0.5994 - accuracy: 0.6750 - val_loss: 0.5715 - val_accuracy: 0.6998\n",
      "Epoch 8/25\n",
      "200/200 [==============================] - 0s 399us/sample - loss: 0.5879 - accuracy: 0.6750 - val_loss: 0.5614 - val_accuracy: 0.7079\n",
      "Epoch 9/25\n",
      "200/200 [==============================] - 0s 416us/sample - loss: 0.5770 - accuracy: 0.6800 - val_loss: 0.5512 - val_accuracy: 0.7160\n",
      "Epoch 10/25\n",
      "200/200 [==============================] - 0s 412us/sample - loss: 0.5658 - accuracy: 0.6800 - val_loss: 0.5415 - val_accuracy: 0.7282\n",
      "Epoch 11/25\n",
      "200/200 [==============================] - 0s 400us/sample - loss: 0.5553 - accuracy: 0.7000 - val_loss: 0.5323 - val_accuracy: 0.7343\n",
      "Epoch 12/25\n",
      "200/200 [==============================] - 0s 505us/sample - loss: 0.5454 - accuracy: 0.7200 - val_loss: 0.5228 - val_accuracy: 0.7475\n",
      "Epoch 13/25\n",
      "200/200 [==============================] - 0s 446us/sample - loss: 0.5351 - accuracy: 0.7250 - val_loss: 0.5141 - val_accuracy: 0.7566\n",
      "Epoch 14/25\n",
      "200/200 [==============================] - 0s 359us/sample - loss: 0.5257 - accuracy: 0.7250 - val_loss: 0.5050 - val_accuracy: 0.7627\n",
      "Epoch 15/25\n",
      "200/200 [==============================] - 0s 363us/sample - loss: 0.5160 - accuracy: 0.7450 - val_loss: 0.4967 - val_accuracy: 0.7779\n",
      "Epoch 16/25\n",
      "200/200 [==============================] - 0s 419us/sample - loss: 0.5067 - accuracy: 0.7500 - val_loss: 0.4886 - val_accuracy: 0.7840\n",
      "Epoch 17/25\n",
      "200/200 [==============================] - 0s 487us/sample - loss: 0.4980 - accuracy: 0.7600 - val_loss: 0.4809 - val_accuracy: 0.7941\n",
      "Epoch 18/25\n",
      "200/200 [==============================] - 0s 440us/sample - loss: 0.4896 - accuracy: 0.7650 - val_loss: 0.4728 - val_accuracy: 0.8032\n",
      "Epoch 19/25\n",
      "200/200 [==============================] - 0s 371us/sample - loss: 0.4808 - accuracy: 0.7700 - val_loss: 0.4652 - val_accuracy: 0.8103\n",
      "Epoch 20/25\n",
      "200/200 [==============================] - 0s 439us/sample - loss: 0.4725 - accuracy: 0.7800 - val_loss: 0.4578 - val_accuracy: 0.8215\n",
      "Epoch 21/25\n",
      "200/200 [==============================] - 0s 448us/sample - loss: 0.4645 - accuracy: 0.7900 - val_loss: 0.4507 - val_accuracy: 0.8296\n",
      "Epoch 22/25\n",
      "200/200 [==============================] - 0s 369us/sample - loss: 0.4568 - accuracy: 0.8050 - val_loss: 0.4437 - val_accuracy: 0.8377\n",
      "Epoch 23/25\n",
      "200/200 [==============================] - 0s 426us/sample - loss: 0.4492 - accuracy: 0.8250 - val_loss: 0.4370 - val_accuracy: 0.8428\n",
      "Epoch 24/25\n",
      "200/200 [==============================] - 0s 484us/sample - loss: 0.4418 - accuracy: 0.8350 - val_loss: 0.4305 - val_accuracy: 0.8469\n",
      "Epoch 25/25\n",
      "200/200 [==============================] - 0s 440us/sample - loss: 0.4349 - accuracy: 0.8450 - val_loss: 0.4241 - val_accuracy: 0.8529\n"
     ]
    }
   ],
   "source": [
    "history = model_B_test.fit(X_train_B, y_train_B, epochs=25, validation_data=(X_valid_B, y_valid_B))"
   ]
  },
  {
   "cell_type": "code",
   "execution_count": null,
   "id": "4a50fbac",
   "metadata": {},
   "outputs": [],
   "source": []
  },
  {
   "cell_type": "markdown",
   "id": "fd20943d",
   "metadata": {},
   "source": [
    "# 배치 정규화 이후 건너 뛰고 optimizer 부분을 먼저 살펴보았음"
   ]
  },
  {
   "cell_type": "markdown",
   "id": "4ae3b779",
   "metadata": {},
   "source": [
    "## optimizer만 나와있어서 모델은 적절히 위에서 가져왔음"
   ]
  },
  {
   "cell_type": "code",
   "execution_count": 40,
   "id": "4a592624",
   "metadata": {},
   "outputs": [],
   "source": [
    "model = keras.models.Sequential([\n",
    "    keras.layers.Flatten(input_shape=list(X_train[0].shape)),\n",
    "    keras.layers.Dense(10, activation=\"relu\"),\n",
    "    keras.layers.LeakyReLU(alpha=0.2),\n",
    "    keras.layers.Dense(10, activation=\"softmax\")\n",
    "])"
   ]
  },
  {
   "cell_type": "code",
   "execution_count": 41,
   "id": "9ab48763",
   "metadata": {},
   "outputs": [],
   "source": [
    "##옵티마이저 바꿀시 accuracy비교를 위한 그냥 SGD\n",
    "model.compile(loss=\"sparse_categorical_crossentropy\",\n",
    "              optimizer=keras.optimizers.SGD(lr=0.01),\n",
    "              metrics=[\"accuracy\"])"
   ]
  },
  {
   "cell_type": "code",
   "execution_count": 42,
   "id": "18343ffb",
   "metadata": {},
   "outputs": [
    {
     "name": "stdout",
     "output_type": "stream",
     "text": [
      "Train on 55000 samples, validate on 5000 samples\n",
      "Epoch 1/10\n",
      "55000/55000 [==============================] - 4s 67us/sample - loss: 0.9243 - accuracy: 0.6899 - val_loss: 0.6201 - val_accuracy: 0.7898\n",
      "Epoch 2/10\n",
      "55000/55000 [==============================] - 4s 65us/sample - loss: 0.5826 - accuracy: 0.7990 - val_loss: 0.5425 - val_accuracy: 0.8172\n",
      "Epoch 3/10\n",
      "55000/55000 [==============================] - 4s 65us/sample - loss: 0.5243 - accuracy: 0.8185 - val_loss: 0.4905 - val_accuracy: 0.8326\n",
      "Epoch 4/10\n",
      "55000/55000 [==============================] - 4s 65us/sample - loss: 0.4950 - accuracy: 0.8274 - val_loss: 0.4702 - val_accuracy: 0.8402\n",
      "Epoch 5/10\n",
      "55000/55000 [==============================] - 4s 65us/sample - loss: 0.4778 - accuracy: 0.8341 - val_loss: 0.4670 - val_accuracy: 0.8412\n",
      "Epoch 6/10\n",
      "55000/55000 [==============================] - 4s 65us/sample - loss: 0.4657 - accuracy: 0.8373 - val_loss: 0.4605 - val_accuracy: 0.8422\n",
      "Epoch 7/10\n",
      "55000/55000 [==============================] - 4s 65us/sample - loss: 0.4563 - accuracy: 0.8414 - val_loss: 0.4375 - val_accuracy: 0.8502\n",
      "Epoch 8/10\n",
      "55000/55000 [==============================] - 4s 65us/sample - loss: 0.4479 - accuracy: 0.8444 - val_loss: 0.4377 - val_accuracy: 0.8468\n",
      "Epoch 9/10\n",
      "55000/55000 [==============================] - 4s 65us/sample - loss: 0.4421 - accuracy: 0.8465 - val_loss: 0.4356 - val_accuracy: 0.8482\n",
      "Epoch 10/10\n",
      "55000/55000 [==============================] - 4s 65us/sample - loss: 0.4364 - accuracy: 0.8485 - val_loss: 0.4256 - val_accuracy: 0.8550\n"
     ]
    }
   ],
   "source": [
    "history=model.fit(X_train, y_train, epochs=10, validation_data=(X_valid, y_valid))"
   ]
  },
  {
   "cell_type": "markdown",
   "id": "079c946e",
   "metadata": {},
   "source": [
    "# 모멘텀 최적화\n",
    "### SGD와 다르게 기울기 벡터에 학습률을 곱해 바로 update하지 않고 모멘텀 벡터에 더해주며 이전 가중치를 일정량 반영함\n",
    "### SGD보다 빠르게 수렴하며 보통 모멘텀으로 0.9사용"
   ]
  },
  {
   "cell_type": "code",
   "execution_count": 43,
   "id": "36c4d354",
   "metadata": {},
   "outputs": [],
   "source": [
    "#momentum 매개변수는 그냥 SGD가 아닌 keras가 구현한 SGD에만 넣어줄 수 있음\n",
    "model.compile(loss=\"sparse_categorical_crossentropy\",\n",
    "              optimizer=keras.optimizers.SGD(lr=0.01, momentum=0.9),\n",
    "              metrics=[\"accuracy\"])"
   ]
  },
  {
   "cell_type": "code",
   "execution_count": 44,
   "id": "c71c3382",
   "metadata": {},
   "outputs": [
    {
     "name": "stdout",
     "output_type": "stream",
     "text": [
      "Train on 55000 samples, validate on 5000 samples\n",
      "Epoch 1/10\n",
      "55000/55000 [==============================] - 4s 73us/sample - loss: 0.4939 - accuracy: 0.8259 - val_loss: 0.4201 - val_accuracy: 0.8564\n",
      "Epoch 2/10\n",
      "55000/55000 [==============================] - 4s 67us/sample - loss: 0.4526 - accuracy: 0.8402 - val_loss: 0.4278 - val_accuracy: 0.8516\n",
      "Epoch 3/10\n",
      "55000/55000 [==============================] - 4s 69us/sample - loss: 0.4341 - accuracy: 0.8449 - val_loss: 0.4246 - val_accuracy: 0.8494\n",
      "Epoch 4/10\n",
      "55000/55000 [==============================] - 4s 73us/sample - loss: 0.4238 - accuracy: 0.8479 - val_loss: 0.3933 - val_accuracy: 0.8636\n",
      "Epoch 5/10\n",
      "55000/55000 [==============================] - 4s 69us/sample - loss: 0.4183 - accuracy: 0.8500 - val_loss: 0.4165 - val_accuracy: 0.8522\n",
      "Epoch 6/10\n",
      "55000/55000 [==============================] - 4s 69us/sample - loss: 0.4099 - accuracy: 0.8524 - val_loss: 0.4024 - val_accuracy: 0.8554\n",
      "Epoch 7/10\n",
      "55000/55000 [==============================] - 4s 73us/sample - loss: 0.4022 - accuracy: 0.8559 - val_loss: 0.4557 - val_accuracy: 0.8346\n",
      "Epoch 8/10\n",
      "55000/55000 [==============================] - 4s 73us/sample - loss: 0.4006 - accuracy: 0.8544 - val_loss: 0.4705 - val_accuracy: 0.8300\n",
      "Epoch 9/10\n",
      "55000/55000 [==============================] - 4s 65us/sample - loss: 0.3964 - accuracy: 0.8564 - val_loss: 0.4303 - val_accuracy: 0.8524\n",
      "Epoch 10/10\n",
      "55000/55000 [==============================] - 3s 64us/sample - loss: 0.3872 - accuracy: 0.8607 - val_loss: 0.4143 - val_accuracy: 0.8534\n"
     ]
    }
   ],
   "source": [
    "history=model.fit(X_train, y_train, epochs=10, validation_data=(X_valid, y_valid))"
   ]
  },
  {
   "cell_type": "markdown",
   "id": "5c0da7a7",
   "metadata": {},
   "source": [
    "# 네스테로프 가속경사\n",
    "### 모멘텀 벡터를 현재 기울기가 아닌 모멘텀 방향으로 조금 앞선 위치의 기울기로 update함\n",
    "### 모멘텀 최적화보다 빠르며 최소점에서 진동을 줄일 수 있음"
   ]
  },
  {
   "cell_type": "code",
   "execution_count": 45,
   "id": "c7e2fc52",
   "metadata": {},
   "outputs": [],
   "source": [
    "model.compile(loss=\"sparse_categorical_crossentropy\",\n",
    "              optimizer=keras.optimizers.SGD(lr=0.01, momentum=0.9, nesterov=True),\n",
    "              metrics=[\"accuracy\"])"
   ]
  },
  {
   "cell_type": "code",
   "execution_count": 46,
   "id": "5a7fa991",
   "metadata": {},
   "outputs": [
    {
     "name": "stdout",
     "output_type": "stream",
     "text": [
      "Train on 55000 samples, validate on 5000 samples\n",
      "Epoch 1/10\n",
      "55000/55000 [==============================] - 4s 75us/sample - loss: 0.3805 - accuracy: 0.8607 - val_loss: 0.3994 - val_accuracy: 0.8664\n",
      "Epoch 2/10\n",
      "55000/55000 [==============================] - 4s 65us/sample - loss: 0.3782 - accuracy: 0.8629 - val_loss: 0.3989 - val_accuracy: 0.8658\n",
      "Epoch 3/10\n",
      "55000/55000 [==============================] - 4s 65us/sample - loss: 0.3760 - accuracy: 0.8633 - val_loss: 0.4023 - val_accuracy: 0.8638\n",
      "Epoch 4/10\n",
      "55000/55000 [==============================] - 4s 66us/sample - loss: 0.3748 - accuracy: 0.8638 - val_loss: 0.3913 - val_accuracy: 0.8626\n",
      "Epoch 5/10\n",
      "55000/55000 [==============================] - 4s 65us/sample - loss: 0.3719 - accuracy: 0.8641 - val_loss: 0.3912 - val_accuracy: 0.8648\n",
      "Epoch 6/10\n",
      "55000/55000 [==============================] - 4s 67us/sample - loss: 0.3691 - accuracy: 0.8662 - val_loss: 0.4060 - val_accuracy: 0.8572\n",
      "Epoch 7/10\n",
      "55000/55000 [==============================] - 4s 64us/sample - loss: 0.3660 - accuracy: 0.8672 - val_loss: 0.4121 - val_accuracy: 0.8598\n",
      "Epoch 8/10\n",
      "55000/55000 [==============================] - 4s 69us/sample - loss: 0.3672 - accuracy: 0.8665 - val_loss: 0.4031 - val_accuracy: 0.8530\n",
      "Epoch 9/10\n",
      "55000/55000 [==============================] - 4s 65us/sample - loss: 0.3639 - accuracy: 0.8679 - val_loss: 0.3923 - val_accuracy: 0.8660\n",
      "Epoch 10/10\n",
      "55000/55000 [==============================] - 4s 65us/sample - loss: 0.3618 - accuracy: 0.8680 - val_loss: 0.3898 - val_accuracy: 0.8592\n"
     ]
    }
   ],
   "source": [
    "history=model.fit(X_train, y_train, epochs=10, validation_data=(X_valid, y_valid))"
   ]
  },
  {
   "cell_type": "markdown",
   "id": "4ddd52e7",
   "metadata": {},
   "source": [
    "# Adagrad\n",
    "### 각차원마다 기울기를 일정량 누적해서 더해가며 위치 update시 가속도에 나눠줌\n",
    "### 이로 인하여 scale이 큰 차원의 학습률이 더 빠르게 감소하며 이를 *적응적 학습률* 이라함"
   ]
  },
  {
   "cell_type": "code",
   "execution_count": 47,
   "id": "53c248b7",
   "metadata": {},
   "outputs": [],
   "source": [
    "model.compile(loss=\"sparse_categorical_crossentropy\",\n",
    "              optimizer=keras.optimizers.Adagrad(lr=0.01),\n",
    "              metrics=[\"accuracy\"])"
   ]
  },
  {
   "cell_type": "code",
   "execution_count": 48,
   "id": "91bb5986",
   "metadata": {},
   "outputs": [
    {
     "name": "stdout",
     "output_type": "stream",
     "text": [
      "Train on 55000 samples, validate on 5000 samples\n",
      "Epoch 1/10\n",
      "55000/55000 [==============================] - 4s 74us/sample - loss: 0.3349 - accuracy: 0.8784 - val_loss: 0.3851 - val_accuracy: 0.8650\n",
      "Epoch 2/10\n",
      "55000/55000 [==============================] - 4s 66us/sample - loss: 0.3308 - accuracy: 0.8797 - val_loss: 0.3780 - val_accuracy: 0.8684\n",
      "Epoch 3/10\n",
      "55000/55000 [==============================] - 4s 69us/sample - loss: 0.3289 - accuracy: 0.8807 - val_loss: 0.3793 - val_accuracy: 0.8682\n",
      "Epoch 4/10\n",
      "55000/55000 [==============================] - 4s 67us/sample - loss: 0.3286 - accuracy: 0.8807 - val_loss: 0.3784 - val_accuracy: 0.8674\n",
      "Epoch 5/10\n",
      "55000/55000 [==============================] - 4s 68us/sample - loss: 0.3274 - accuracy: 0.8818 - val_loss: 0.3796 - val_accuracy: 0.8698\n",
      "Epoch 6/10\n",
      "55000/55000 [==============================] - 4s 69us/sample - loss: 0.3270 - accuracy: 0.8809 - val_loss: 0.3779 - val_accuracy: 0.8692\n",
      "Epoch 7/10\n",
      "55000/55000 [==============================] - 4s 66us/sample - loss: 0.3266 - accuracy: 0.8817 - val_loss: 0.3773 - val_accuracy: 0.8704\n",
      "Epoch 8/10\n",
      "55000/55000 [==============================] - 4s 69us/sample - loss: 0.3264 - accuracy: 0.8814 - val_loss: 0.3788 - val_accuracy: 0.8674\n",
      "Epoch 9/10\n",
      "55000/55000 [==============================] - 4s 68us/sample - loss: 0.3259 - accuracy: 0.8815 - val_loss: 0.3774 - val_accuracy: 0.8700\n",
      "Epoch 10/10\n",
      "55000/55000 [==============================] - 4s 68us/sample - loss: 0.3257 - accuracy: 0.8824 - val_loss: 0.3798 - val_accuracy: 0.8658\n"
     ]
    }
   ],
   "source": [
    "history=model.fit(X_train, y_train, epochs=10, validation_data=(X_valid, y_valid))"
   ]
  },
  {
   "cell_type": "markdown",
   "id": "60869fff",
   "metadata": {},
   "source": [
    "# RMS Prop\n",
    "### 학습률을 감쇠시킬때 최근의 기울기만 사용해서 누적하여 학습이 너무 빠르게 끝나는것을 막음"
   ]
  },
  {
   "cell_type": "code",
   "execution_count": 60,
   "id": "55493454",
   "metadata": {},
   "outputs": [],
   "source": [
    "model.compile(loss=\"sparse_categorical_crossentropy\",\n",
    "              optimizer=keras.optimizers.RMSprop(lr=0.001, rho=0.9),\n",
    "              metrics=[\"accuracy\"])"
   ]
  },
  {
   "cell_type": "code",
   "execution_count": 61,
   "id": "57f3e79c",
   "metadata": {},
   "outputs": [
    {
     "name": "stdout",
     "output_type": "stream",
     "text": [
      "Train on 55000 samples, validate on 5000 samples\n",
      "Epoch 1/10\n",
      "55000/55000 [==============================] - 4s 67us/sample - loss: 0.3445 - accuracy: 0.8762 - val_loss: 0.3979 - val_accuracy: 0.8670\n",
      "Epoch 2/10\n",
      "55000/55000 [==============================] - 3s 63us/sample - loss: 0.3451 - accuracy: 0.8749 - val_loss: 0.4023 - val_accuracy: 0.8680\n",
      "Epoch 3/10\n",
      "55000/55000 [==============================] - 4s 68us/sample - loss: 0.3449 - accuracy: 0.8763 - val_loss: 0.4041 - val_accuracy: 0.8678\n",
      "Epoch 4/10\n",
      "55000/55000 [==============================] - 4s 73us/sample - loss: 0.3447 - accuracy: 0.8761 - val_loss: 0.4123 - val_accuracy: 0.8582\n",
      "Epoch 5/10\n",
      "55000/55000 [==============================] - 4s 69us/sample - loss: 0.3452 - accuracy: 0.8752 - val_loss: 0.4156 - val_accuracy: 0.8588\n",
      "Epoch 6/10\n",
      "55000/55000 [==============================] - 4s 71us/sample - loss: 0.3455 - accuracy: 0.8774 - val_loss: 0.4049 - val_accuracy: 0.8672\n",
      "Epoch 7/10\n",
      "55000/55000 [==============================] - 4s 69us/sample - loss: 0.3440 - accuracy: 0.8775 - val_loss: 0.4027 - val_accuracy: 0.8654\n",
      "Epoch 8/10\n",
      "55000/55000 [==============================] - 4s 68us/sample - loss: 0.3433 - accuracy: 0.8775 - val_loss: 0.4064 - val_accuracy: 0.8622\n",
      "Epoch 9/10\n",
      "55000/55000 [==============================] - 4s 68us/sample - loss: 0.3440 - accuracy: 0.8770 - val_loss: 0.4134 - val_accuracy: 0.8664\n",
      "Epoch 10/10\n",
      "55000/55000 [==============================] - 4s 68us/sample - loss: 0.3418 - accuracy: 0.8781 - val_loss: 0.4089 - val_accuracy: 0.8674\n"
     ]
    }
   ],
   "source": [
    "history=model.fit(X_train, y_train, epochs=10, validation_data=(X_valid, y_valid))"
   ]
  },
  {
   "cell_type": "markdown",
   "id": "bef3f5c9",
   "metadata": {},
   "source": [
    "# Adam\n",
    "### 모멘텀최적화와 RMSProp가 결합한 형태라고 보면된다\n",
    "### 적응적 학습률이라 학습률 튜닝할 필요가 없다?"
   ]
  },
  {
   "cell_type": "code",
   "execution_count": 62,
   "id": "5395c7b6",
   "metadata": {},
   "outputs": [],
   "source": [
    "model.compile(loss=\"sparse_categorical_crossentropy\",\n",
    "              optimizer=keras.optimizers.Adam(lr=0.001, beta_1 = 0.9, beta_2 = 0.999),\n",
    "              metrics=[\"accuracy\"])"
   ]
  },
  {
   "cell_type": "code",
   "execution_count": 63,
   "id": "92078c8b",
   "metadata": {},
   "outputs": [
    {
     "name": "stdout",
     "output_type": "stream",
     "text": [
      "Train on 55000 samples, validate on 5000 samples\n",
      "Epoch 1/10\n",
      "55000/55000 [==============================] - 4s 65us/sample - loss: 0.3397 - accuracy: 0.8777 - val_loss: 0.3941 - val_accuracy: 0.8678\n",
      "Epoch 2/10\n",
      "55000/55000 [==============================] - 3s 62us/sample - loss: 0.3360 - accuracy: 0.8786 - val_loss: 0.4332 - val_accuracy: 0.8572\n",
      "Epoch 3/10\n",
      "55000/55000 [==============================] - 4s 73us/sample - loss: 0.3315 - accuracy: 0.8810 - val_loss: 0.3919 - val_accuracy: 0.8680\n",
      "Epoch 4/10\n",
      "55000/55000 [==============================] - 4s 76us/sample - loss: 0.3302 - accuracy: 0.8805 - val_loss: 0.4000 - val_accuracy: 0.8646\n",
      "Epoch 5/10\n",
      "55000/55000 [==============================] - 4s 71us/sample - loss: 0.3288 - accuracy: 0.8811 - val_loss: 0.4033 - val_accuracy: 0.8638\n",
      "Epoch 6/10\n",
      "55000/55000 [==============================] - 4s 71us/sample - loss: 0.3270 - accuracy: 0.8808 - val_loss: 0.3940 - val_accuracy: 0.8656\n",
      "Epoch 7/10\n",
      "55000/55000 [==============================] - 4s 71us/sample - loss: 0.3254 - accuracy: 0.8812 - val_loss: 0.4102 - val_accuracy: 0.8580\n",
      "Epoch 8/10\n",
      "55000/55000 [==============================] - 4s 73us/sample - loss: 0.3247 - accuracy: 0.8815 - val_loss: 0.4048 - val_accuracy: 0.8634\n",
      "Epoch 9/10\n",
      "55000/55000 [==============================] - 4s 71us/sample - loss: 0.3217 - accuracy: 0.8831 - val_loss: 0.3942 - val_accuracy: 0.8650\n",
      "Epoch 10/10\n",
      "55000/55000 [==============================] - 4s 70us/sample - loss: 0.3219 - accuracy: 0.8820 - val_loss: 0.4056 - val_accuracy: 0.8620\n"
     ]
    }
   ],
   "source": [
    "history=model.fit(X_train, y_train, epochs=10, validation_data=(X_valid, y_valid))"
   ]
  },
  {
   "cell_type": "markdown",
   "id": "5a47d8e8",
   "metadata": {},
   "source": [
    "# Adamax\n",
    "### 그레디언트 제곱 누적시 1-B^inf를 이용해 결과적으로 이전 누적 기울기 혹은 현재 기울기만 사용하는거 같은데..."
   ]
  },
  {
   "cell_type": "code",
   "execution_count": 65,
   "id": "908f39c0",
   "metadata": {},
   "outputs": [],
   "source": [
    "model.compile(loss=\"sparse_categorical_crossentropy\",\n",
    "    optimizer = keras.optimizers.Adamax(learning_rate=0.001, beta_1=0.9, beta_2=0.999),\n",
    "                            metrics=[\"accuracy\"])"
   ]
  },
  {
   "cell_type": "code",
   "execution_count": 66,
   "id": "59139a88",
   "metadata": {},
   "outputs": [
    {
     "name": "stdout",
     "output_type": "stream",
     "text": [
      "Train on 55000 samples, validate on 5000 samples\n",
      "Epoch 1/10\n",
      "55000/55000 [==============================] - 4s 67us/sample - loss: 0.3055 - accuracy: 0.8891 - val_loss: 0.3895 - val_accuracy: 0.8694\n",
      "Epoch 2/10\n",
      "55000/55000 [==============================] - 4s 66us/sample - loss: 0.3040 - accuracy: 0.8893 - val_loss: 0.3894 - val_accuracy: 0.8696\n",
      "Epoch 3/10\n",
      "55000/55000 [==============================] - 4s 70us/sample - loss: 0.3035 - accuracy: 0.8904 - val_loss: 0.3914 - val_accuracy: 0.8690\n",
      "Epoch 4/10\n",
      "55000/55000 [==============================] - 4s 72us/sample - loss: 0.3029 - accuracy: 0.8894 - val_loss: 0.3926 - val_accuracy: 0.8694\n",
      "Epoch 5/10\n",
      "55000/55000 [==============================] - 4s 72us/sample - loss: 0.3028 - accuracy: 0.8902 - val_loss: 0.3934 - val_accuracy: 0.8680\n",
      "Epoch 6/10\n",
      "55000/55000 [==============================] - 4s 71us/sample - loss: 0.3024 - accuracy: 0.8905 - val_loss: 0.3922 - val_accuracy: 0.8704\n",
      "Epoch 7/10\n",
      "55000/55000 [==============================] - 4s 71us/sample - loss: 0.3022 - accuracy: 0.8905 - val_loss: 0.3948 - val_accuracy: 0.8696\n",
      "Epoch 8/10\n",
      "55000/55000 [==============================] - 4s 71us/sample - loss: 0.3016 - accuracy: 0.8905 - val_loss: 0.3959 - val_accuracy: 0.8694\n",
      "Epoch 9/10\n",
      "55000/55000 [==============================] - 4s 71us/sample - loss: 0.3016 - accuracy: 0.8906 - val_loss: 0.3933 - val_accuracy: 0.8694\n",
      "Epoch 10/10\n",
      "55000/55000 [==============================] - 4s 70us/sample - loss: 0.3013 - accuracy: 0.8906 - val_loss: 0.3939 - val_accuracy: 0.8698\n"
     ]
    }
   ],
   "source": [
    "history=model.fit(X_train, y_train, epochs=10, validation_data=(X_valid, y_valid))"
   ]
  },
  {
   "cell_type": "markdown",
   "id": "5531c962",
   "metadata": {},
   "source": [
    "# 학습률 스케쥴링 "
   ]
  },
  {
   "cell_type": "code",
   "execution_count": null,
   "id": "cf967594",
   "metadata": {},
   "outputs": [],
   "source": []
  }
 ],
 "metadata": {
  "kernelspec": {
   "display_name": "Python 3",
   "language": "python",
   "name": "python3"
  },
  "language_info": {
   "codemirror_mode": {
    "name": "ipython",
    "version": 3
   },
   "file_extension": ".py",
   "mimetype": "text/x-python",
   "name": "python",
   "nbconvert_exporter": "python",
   "pygments_lexer": "ipython3",
   "version": "3.6.8"
  }
 },
 "nbformat": 4,
 "nbformat_minor": 5
}
