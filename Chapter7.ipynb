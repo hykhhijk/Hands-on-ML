{
 "cells": [
  {
   "cell_type": "code",
   "execution_count": 60,
   "id": "b28a253e",
   "metadata": {},
   "outputs": [],
   "source": [
    "from sklearn.model_selection import train_test_split\n",
    "from sklearn.datasets import make_moons\n",
    "import matplotlib.pyplot as plt\n",
    "X, y = make_moons(n_samples=500, noise=0.30, random_state=42)\n",
    "X_train, X_test, y_train, y_test = train_test_split(X, y, random_state=42)"
   ]
  },
  {
   "cell_type": "code",
   "execution_count": 61,
   "id": "bcef7b61",
   "metadata": {},
   "outputs": [
    {
     "data": {
      "text/plain": [
       "VotingClassifier(estimators=[('lr', LogisticRegression()),\n",
       "                             ('rf', RandomForestClassifier()), ('svc', SVC())])"
      ]
     },
     "execution_count": 61,
     "metadata": {},
     "output_type": "execute_result"
    }
   ],
   "source": [
    "from sklearn.ensemble import RandomForestClassifier\n",
    "from sklearn.ensemble import VotingClassifier\n",
    "from sklearn.linear_model import LogisticRegression\n",
    "from sklearn.svm import SVC\n",
    "\n",
    "log_clf = LogisticRegression()\n",
    "rnd_clf = RandomForestClassifier()\n",
    "svm_clf = SVC()\n",
    "\n",
    "voting_clf = VotingClassifier(\n",
    "    estimators=[('lr', log_clf), ('rf', rnd_clf), ('svc',svm_clf)],\n",
    "    voting='hard')\n",
    "voting_clf.fit(X_train, y_train)"
   ]
  },
  {
   "cell_type": "code",
   "execution_count": 62,
   "id": "7610c4c6",
   "metadata": {},
   "outputs": [
    {
     "name": "stdout",
     "output_type": "stream",
     "text": [
      "LogisticRegression 0.864\n",
      "RandomForestClassifier 0.888\n",
      "SVC 0.896\n",
      "VotingClassifier 0.904\n"
     ]
    }
   ],
   "source": [
    "from sklearn.metrics import accuracy_score\n",
    "for clf in (log_clf, rnd_clf, svm_clf, voting_clf):\n",
    "    clf.fit(X_train, y_train)\n",
    "    y_pred = clf.predict(X_test)\n",
    "    print(clf.__class__.__name__, accuracy_score(y_test, y_pred))"
   ]
  },
  {
   "cell_type": "code",
   "execution_count": 63,
   "id": "87e2b305",
   "metadata": {},
   "outputs": [
    {
     "data": {
      "text/plain": [
       "VotingClassifier(estimators=[('lr', LogisticRegression()),\n",
       "                             ('rf', RandomForestClassifier()),\n",
       "                             ('svc', SVC(probability=True))],\n",
       "                 voting='soft')"
      ]
     },
     "execution_count": 63,
     "metadata": {},
     "output_type": "execute_result"
    }
   ],
   "source": [
    "svm_clf = SVC(probability=True)\n",
    "voting_clf_soft = VotingClassifier(\n",
    "    estimators=[('lr', log_clf), ('rf', rnd_clf), ('svc',svm_clf)],\n",
    "    voting='soft')\n",
    "voting_clf_soft.fit(X_train, y_train)"
   ]
  },
  {
   "cell_type": "code",
   "execution_count": 64,
   "id": "54ba4741",
   "metadata": {
    "scrolled": true
   },
   "outputs": [
    {
     "name": "stdout",
     "output_type": "stream",
     "text": [
      "LogisticRegression 0.864\n",
      "RandomForestClassifier 0.904\n",
      "SVC 0.896\n",
      "VotingClassifier 0.912\n"
     ]
    }
   ],
   "source": [
    "from sklearn.metrics import accuracy_score\n",
    "for clf in (log_clf, rnd_clf, svm_clf, voting_clf_soft):\n",
    "    clf.fit(X_train, y_train)\n",
    "    y_pred = clf.predict(X_test)\n",
    "    print(clf.__class__.__name__, accuracy_score(y_test, y_pred))"
   ]
  },
  {
   "cell_type": "code",
   "execution_count": 65,
   "id": "fdc0669e",
   "metadata": {},
   "outputs": [
    {
     "data": {
      "text/plain": [
       "0.9253333333333333"
      ]
     },
     "execution_count": 65,
     "metadata": {},
     "output_type": "execute_result"
    }
   ],
   "source": [
    "from sklearn.ensemble import BaggingClassifier\n",
    "from sklearn.tree import DecisionTreeClassifier\n",
    "\n",
    "bag_clf = BaggingClassifier(\n",
    "    DecisionTreeClassifier(), n_estimators=500,\n",
    "    max_samples=100, bootstrap=True, n_jobs=-1, oob_score=True)\n",
    "bag_clf.fit(X_train, y_train)\n",
    "y_pred = bag_clf.predict(X_test)\n",
    "bag_clf.oob_score_"
   ]
  },
  {
   "cell_type": "code",
   "execution_count": 66,
   "id": "76f00340",
   "metadata": {},
   "outputs": [
    {
     "name": "stdout",
     "output_type": "stream",
     "text": [
      "0.912\n"
     ]
    }
   ],
   "source": [
    "print(accuracy_score(y_test, y_pred))"
   ]
  },
  {
   "cell_type": "code",
   "execution_count": 67,
   "id": "ae5a24be",
   "metadata": {},
   "outputs": [
    {
     "data": {
      "text/plain": [
       "0.9253333333333333"
      ]
     },
     "execution_count": 67,
     "metadata": {},
     "output_type": "execute_result"
    }
   ],
   "source": [
    "from sklearn.ensemble import BaggingClassifier\n",
    "from sklearn.tree import DecisionTreeClassifier\n",
    "\n",
    "bag_clf = BaggingClassifier(\n",
    "    DecisionTreeClassifier(), n_estimators=500,max_features=2,\n",
    "    max_samples=100, bootstrap=True, n_jobs=-1, oob_score=True)\n",
    "bag_clf.fit(X_train, y_train)\n",
    "y_pred = bag_clf.predict(X_test)\n",
    "bag_clf.oob_score_"
   ]
  },
  {
   "cell_type": "code",
   "execution_count": 68,
   "id": "4d4365a1",
   "metadata": {},
   "outputs": [
    {
     "name": "stdout",
     "output_type": "stream",
     "text": [
      "0.912\n"
     ]
    }
   ],
   "source": [
    "print(accuracy_score(y_test, y_pred))"
   ]
  },
  {
   "cell_type": "code",
   "execution_count": 69,
   "id": "a0db9a08",
   "metadata": {},
   "outputs": [
    {
     "data": {
      "text/plain": [
       "array([[0.32291667, 0.67708333],\n",
       "       [0.38441558, 0.61558442],\n",
       "       [0.99736842, 0.00263158],\n",
       "       [0.01049869, 0.98950131],\n",
       "       [0.02564103, 0.97435897],\n",
       "       [0.09919571, 0.90080429],\n",
       "       [0.4015544 , 0.5984456 ],\n",
       "       [0.056     , 0.944     ],\n",
       "       [0.94385027, 0.05614973],\n",
       "       [0.83989501, 0.16010499],\n",
       "       [0.55342466, 0.44657534],\n",
       "       [0.03359173, 0.96640827],\n",
       "       [0.74934037, 0.25065963],\n",
       "       [0.83291139, 0.16708861],\n",
       "       [0.92307692, 0.07692308],\n",
       "       [0.08719346, 0.91280654],\n",
       "       [0.02710027, 0.97289973],\n",
       "       [0.93351064, 0.06648936],\n",
       "       [0.64030612, 0.35969388],\n",
       "       [0.95013123, 0.04986877],\n",
       "       [0.05675676, 0.94324324],\n",
       "       [0.24937028, 0.75062972],\n",
       "       [0.89784946, 0.10215054],\n",
       "       [0.99457995, 0.00542005],\n",
       "       [0.96410256, 0.03589744],\n",
       "       [0.0027027 , 0.9972973 ],\n",
       "       [0.95408163, 0.04591837],\n",
       "       [1.        , 0.        ],\n",
       "       [0.01891892, 0.98108108],\n",
       "       [0.75520833, 0.24479167],\n",
       "       [0.        , 1.        ],\n",
       "       [0.99748111, 0.00251889],\n",
       "       [0.00257732, 0.99742268],\n",
       "       [0.08333333, 0.91666667],\n",
       "       [0.07894737, 0.92105263],\n",
       "       [0.97883598, 0.02116402],\n",
       "       [0.01808786, 0.98191214],\n",
       "       [0.54736842, 0.45263158],\n",
       "       [0.01058201, 0.98941799],\n",
       "       [0.99473684, 0.00526316],\n",
       "       [0.10309278, 0.89690722],\n",
       "       [0.33509235, 0.66490765],\n",
       "       [0.98984772, 0.01015228],\n",
       "       [0.99206349, 0.00793651],\n",
       "       [0.0129199 , 0.9870801 ],\n",
       "       [1.        , 0.        ],\n",
       "       [0.9974359 , 0.0025641 ],\n",
       "       [0.05486284, 0.94513716],\n",
       "       [0.97461929, 0.02538071],\n",
       "       [0.04050633, 0.95949367],\n",
       "       [0.956743  , 0.043257  ],\n",
       "       [0.85365854, 0.14634146],\n",
       "       [0.94010417, 0.05989583],\n",
       "       [0.84554974, 0.15445026],\n",
       "       [0.03287671, 0.96712329],\n",
       "       [0.09840426, 0.90159574],\n",
       "       [0.80601093, 0.19398907],\n",
       "       [0.01550388, 0.98449612],\n",
       "       [0.02116402, 0.97883598],\n",
       "       [0.07012987, 0.92987013],\n",
       "       [0.83709273, 0.16290727],\n",
       "       [0.60981912, 0.39018088],\n",
       "       [0.75197889, 0.24802111],\n",
       "       [0.98391421, 0.01608579],\n",
       "       [0.02356021, 0.97643979],\n",
       "       [0.79581152, 0.20418848],\n",
       "       [0.97721519, 0.02278481],\n",
       "       [1.        , 0.        ],\n",
       "       [0.64361702, 0.35638298],\n",
       "       [0.98138298, 0.01861702],\n",
       "       [0.32545932, 0.67454068],\n",
       "       [0.2987013 , 0.7012987 ],\n",
       "       [0.40359897, 0.59640103],\n",
       "       [0.68146214, 0.31853786],\n",
       "       [0.00527704, 0.99472296],\n",
       "       [0.29974811, 0.70025189],\n",
       "       [0.87926509, 0.12073491],\n",
       "       [1.        , 0.        ],\n",
       "       [0.02985075, 0.97014925],\n",
       "       [0.94285714, 0.05714286],\n",
       "       [0.        , 1.        ],\n",
       "       [0.25065963, 0.74934037],\n",
       "       [0.12894737, 0.87105263],\n",
       "       [0.45901639, 0.54098361],\n",
       "       [0.99226804, 0.00773196],\n",
       "       [0.04986877, 0.95013123],\n",
       "       [0.6143617 , 0.3856383 ],\n",
       "       [0.05464481, 0.94535519],\n",
       "       [0.02933333, 0.97066667],\n",
       "       [0.        , 1.        ],\n",
       "       [0.37466307, 0.62533693],\n",
       "       [0.99734748, 0.00265252],\n",
       "       [0.00544959, 0.99455041],\n",
       "       [0.04735376, 0.95264624],\n",
       "       [0.01876676, 0.98123324],\n",
       "       [0.80874317, 0.19125683],\n",
       "       [0.6796875 , 0.3203125 ],\n",
       "       [0.07291667, 0.92708333],\n",
       "       [1.        , 0.        ],\n",
       "       [0.30612245, 0.69387755],\n",
       "       [0.71938776, 0.28061224],\n",
       "       [0.01041667, 0.98958333],\n",
       "       [0.10621762, 0.89378238],\n",
       "       [0.42819843, 0.57180157],\n",
       "       [0.955     , 0.045     ],\n",
       "       [0.05570292, 0.94429708],\n",
       "       [0.97142857, 0.02857143],\n",
       "       [0.41530055, 0.58469945],\n",
       "       [0.29301075, 0.70698925],\n",
       "       [0.98687664, 0.01312336],\n",
       "       [0.22074468, 0.77925532],\n",
       "       [0.86595174, 0.13404826],\n",
       "       [0.2460733 , 0.7539267 ],\n",
       "       [0.75      , 0.25      ],\n",
       "       [1.        , 0.        ],\n",
       "       [0.99220779, 0.00779221],\n",
       "       [0.        , 1.        ],\n",
       "       [0.        , 1.        ],\n",
       "       [0.49739583, 0.50260417],\n",
       "       [0.9973262 , 0.0026738 ],\n",
       "       [0.05370844, 0.94629156],\n",
       "       [0.99470899, 0.00529101],\n",
       "       [0.96401028, 0.03598972],\n",
       "       [0.99733333, 0.00266667],\n",
       "       [0.93483709, 0.06516291],\n",
       "       [0.95140665, 0.04859335],\n",
       "       [0.02590674, 0.97409326],\n",
       "       [0.93351064, 0.06648936],\n",
       "       [0.93540052, 0.06459948],\n",
       "       [0.01891892, 0.98108108],\n",
       "       [0.21693122, 0.78306878],\n",
       "       [0.87338501, 0.12661499],\n",
       "       [0.39130435, 0.60869565],\n",
       "       [0.91542289, 0.08457711],\n",
       "       [0.00257069, 0.99742931],\n",
       "       [0.04619565, 0.95380435],\n",
       "       [0.81746032, 0.18253968],\n",
       "       [0.75335121, 0.24664879],\n",
       "       [0.5802139 , 0.4197861 ],\n",
       "       [0.9071618 , 0.0928382 ],\n",
       "       [0.93850267, 0.06149733],\n",
       "       [0.09462916, 0.90537084],\n",
       "       [0.78865979, 0.21134021],\n",
       "       [0.04232804, 0.95767196],\n",
       "       [0.00515464, 0.99484536],\n",
       "       [0.11917098, 0.88082902],\n",
       "       [0.75925926, 0.24074074],\n",
       "       [0.97643979, 0.02356021],\n",
       "       [0.99734748, 0.00265252],\n",
       "       [0.03926702, 0.96073298],\n",
       "       [0.00253165, 0.99746835],\n",
       "       [0.05778894, 0.94221106],\n",
       "       [0.0265252 , 0.9734748 ],\n",
       "       [0.99261084, 0.00738916],\n",
       "       [0.98684211, 0.01315789],\n",
       "       [0.89790576, 0.10209424],\n",
       "       [0.99493671, 0.00506329],\n",
       "       [1.        , 0.        ],\n",
       "       [0.88010899, 0.11989101],\n",
       "       [0.00247525, 0.99752475],\n",
       "       [0.68112245, 0.31887755],\n",
       "       [0.36340206, 0.63659794],\n",
       "       [0.05154639, 0.94845361],\n",
       "       [0.01772152, 0.98227848],\n",
       "       [0.38057743, 0.61942257],\n",
       "       [1.        , 0.        ],\n",
       "       [0.95959596, 0.04040404],\n",
       "       [0.        , 1.        ],\n",
       "       [0.99246231, 0.00753769],\n",
       "       [0.0525    , 0.9475    ],\n",
       "       [0.00534759, 0.99465241],\n",
       "       [0.95348837, 0.04651163],\n",
       "       [0.00769231, 0.99230769],\n",
       "       [0.00753769, 0.99246231],\n",
       "       [0.99736148, 0.00263852],\n",
       "       [0.04177546, 0.95822454],\n",
       "       [0.88      , 0.12      ],\n",
       "       [0.94516971, 0.05483029],\n",
       "       [0.04155844, 0.95844156],\n",
       "       [0.96173469, 0.03826531],\n",
       "       [0.93076923, 0.06923077],\n",
       "       [0.9762533 , 0.0237467 ],\n",
       "       [0.02463054, 0.97536946],\n",
       "       [0.00789474, 0.99210526],\n",
       "       [0.99465241, 0.00534759],\n",
       "       [0.24484536, 0.75515464],\n",
       "       [0.99460916, 0.00539084],\n",
       "       [0.1010101 , 0.8989899 ],\n",
       "       [0.01578947, 0.98421053],\n",
       "       [0.99220779, 0.00779221],\n",
       "       [0.        , 1.        ],\n",
       "       [0.18925831, 0.81074169],\n",
       "       [0.89333333, 0.10666667],\n",
       "       [0.91815857, 0.08184143],\n",
       "       [0.66489362, 0.33510638],\n",
       "       [0.69482289, 0.30517711],\n",
       "       [0.01832461, 0.98167539],\n",
       "       [0.20971867, 0.79028133],\n",
       "       [0.9972973 , 0.0027027 ],\n",
       "       [0.89113924, 0.10886076],\n",
       "       [0.92631579, 0.07368421],\n",
       "       [0.98429319, 0.01570681],\n",
       "       [0.06632653, 0.93367347],\n",
       "       [0.01305483, 0.98694517],\n",
       "       [0.07795699, 0.92204301],\n",
       "       [0.5052356 , 0.4947644 ],\n",
       "       [0.        , 1.        ],\n",
       "       [0.01643836, 0.98356164],\n",
       "       [0.96124031, 0.03875969],\n",
       "       [0.08707124, 0.91292876],\n",
       "       [0.10471204, 0.89528796],\n",
       "       [0.89218329, 0.10781671],\n",
       "       [0.04935065, 0.95064935],\n",
       "       [0.33830846, 0.66169154],\n",
       "       [0.00248756, 0.99751244],\n",
       "       [0.9973822 , 0.0026178 ],\n",
       "       [0.01072386, 0.98927614],\n",
       "       [0.02479339, 0.97520661],\n",
       "       [0.92857143, 0.07142857],\n",
       "       [0.88      , 0.12      ],\n",
       "       [0.93702771, 0.06297229],\n",
       "       [0.01033592, 0.98966408],\n",
       "       [0.07427056, 0.92572944],\n",
       "       [0.93830334, 0.06169666],\n",
       "       [0.12834225, 0.87165775],\n",
       "       [0.00773196, 0.99226804],\n",
       "       [0.29319372, 0.70680628],\n",
       "       [0.97256858, 0.02743142],\n",
       "       [0.80759494, 0.19240506],\n",
       "       [0.10335917, 0.89664083],\n",
       "       [0.7486911 , 0.2513089 ],\n",
       "       [0.93963255, 0.06036745],\n",
       "       [0.12777778, 0.87222222],\n",
       "       [0.13032581, 0.86967419],\n",
       "       [0.99728261, 0.00271739],\n",
       "       [0.        , 1.        ],\n",
       "       [0.01351351, 0.98648649],\n",
       "       [0.01550388, 0.98449612],\n",
       "       [0.37172775, 0.62827225],\n",
       "       [0.86683417, 0.13316583],\n",
       "       [0.0530504 , 0.9469496 ],\n",
       "       [0.98950131, 0.01049869],\n",
       "       [0.86920981, 0.13079019],\n",
       "       [0.00271003, 0.99728997],\n",
       "       [0.78030303, 0.21969697],\n",
       "       [0.99242424, 0.00757576],\n",
       "       [0.01044386, 0.98955614],\n",
       "       [0.9893617 , 0.0106383 ],\n",
       "       [0.04960836, 0.95039164],\n",
       "       [0.0178117 , 0.9821883 ],\n",
       "       [0.09893048, 0.90106952],\n",
       "       [0.26190476, 0.73809524],\n",
       "       [0.84793814, 0.15206186],\n",
       "       [0.05958549, 0.94041451],\n",
       "       [1.        , 0.        ],\n",
       "       [0.63376623, 0.36623377],\n",
       "       [0.09359606, 0.90640394],\n",
       "       [0.66115702, 0.33884298],\n",
       "       [0.84415584, 0.15584416],\n",
       "       [0.        , 1.        ],\n",
       "       [0.99208443, 0.00791557],\n",
       "       [0.02290076, 0.97709924],\n",
       "       [0.        , 1.        ],\n",
       "       [0.74798928, 0.25201072],\n",
       "       [0.        , 1.        ],\n",
       "       [0.98910082, 0.01089918],\n",
       "       [0.10290237, 0.89709763],\n",
       "       [0.76439791, 0.23560209],\n",
       "       [0.12311558, 0.87688442],\n",
       "       [0.98697917, 0.01302083],\n",
       "       [0.86133333, 0.13866667],\n",
       "       [0.0052356 , 0.9947644 ],\n",
       "       [0.0656168 , 0.9343832 ],\n",
       "       [0.13265306, 0.86734694],\n",
       "       [0.10126582, 0.89873418],\n",
       "       [0.        , 1.        ],\n",
       "       [0.97435897, 0.02564103],\n",
       "       [0.83197832, 0.16802168],\n",
       "       [0.16802168, 0.83197832],\n",
       "       [0.90909091, 0.09090909],\n",
       "       [0.06393862, 0.93606138],\n",
       "       [0.63588391, 0.36411609],\n",
       "       [0.12894737, 0.87105263],\n",
       "       [0.94344473, 0.05655527],\n",
       "       [0.87468031, 0.12531969],\n",
       "       [0.00536193, 0.99463807],\n",
       "       [0.92207792, 0.07792208],\n",
       "       [0.90616622, 0.09383378],\n",
       "       [0.00526316, 0.99473684],\n",
       "       [0.04663212, 0.95336788],\n",
       "       [1.        , 0.        ],\n",
       "       [0.03157895, 0.96842105],\n",
       "       [0.99468085, 0.00531915],\n",
       "       [0.0546875 , 0.9453125 ],\n",
       "       [0.89920424, 0.10079576],\n",
       "       [1.        , 0.        ],\n",
       "       [0.01856764, 0.98143236],\n",
       "       [0.04675325, 0.95324675],\n",
       "       [0.71989529, 0.28010471],\n",
       "       [0.        , 1.        ],\n",
       "       [0.99733333, 0.00266667],\n",
       "       [0.68461538, 0.31538462],\n",
       "       [0.85866667, 0.14133333],\n",
       "       [0.98933333, 0.01066667],\n",
       "       [0.66666667, 0.33333333],\n",
       "       [0.43617021, 0.56382979],\n",
       "       [0.02035623, 0.97964377],\n",
       "       [0.83289125, 0.16710875],\n",
       "       [0.01259446, 0.98740554],\n",
       "       [1.        , 0.        ],\n",
       "       [0.74093264, 0.25906736],\n",
       "       [0.98927614, 0.01072386],\n",
       "       [0.99736842, 0.00263158],\n",
       "       [0.83290488, 0.16709512],\n",
       "       [0.23809524, 0.76190476],\n",
       "       [0.13333333, 0.86666667],\n",
       "       [0.21641791, 0.78358209],\n",
       "       [0.        , 1.        ],\n",
       "       [0.71614583, 0.28385417],\n",
       "       [0.86410256, 0.13589744],\n",
       "       [0.0474934 , 0.9525066 ],\n",
       "       [0.99479167, 0.00520833],\n",
       "       [0.97201018, 0.02798982],\n",
       "       [0.99224806, 0.00775194],\n",
       "       [0.00549451, 0.99450549],\n",
       "       [0.0719603 , 0.9280397 ],\n",
       "       [0.93175853, 0.06824147],\n",
       "       [0.93198992, 0.06801008],\n",
       "       [1.        , 0.        ],\n",
       "       [0.26861702, 0.73138298],\n",
       "       [0.99509804, 0.00490196],\n",
       "       [0.12335958, 0.87664042],\n",
       "       [0.95685279, 0.04314721],\n",
       "       [0.03589744, 0.96410256],\n",
       "       [0.98641304, 0.01358696],\n",
       "       [1.        , 0.        ],\n",
       "       [0.99473684, 0.00526316],\n",
       "       [0.        , 1.        ],\n",
       "       [0.94315245, 0.05684755],\n",
       "       [0.01298701, 0.98701299],\n",
       "       [0.05722071, 0.94277929],\n",
       "       [0.05210918, 0.94789082],\n",
       "       [0.        , 1.        ],\n",
       "       [0.99734043, 0.00265957],\n",
       "       [0.99487179, 0.00512821],\n",
       "       [0.        , 1.        ],\n",
       "       [0.94025974, 0.05974026],\n",
       "       [0.08201058, 0.91798942],\n",
       "       [1.        , 0.        ],\n",
       "       [0.21243523, 0.78756477],\n",
       "       [0.00997506, 0.99002494],\n",
       "       [0.06830601, 0.93169399],\n",
       "       [0.        , 1.        ],\n",
       "       [0.76407507, 0.23592493],\n",
       "       [0.0653951 , 0.9346049 ],\n",
       "       [0.11290323, 0.88709677],\n",
       "       [0.99746193, 0.00253807],\n",
       "       [0.96505376, 0.03494624],\n",
       "       [0.20984456, 0.79015544],\n",
       "       [0.92713568, 0.07286432],\n",
       "       [0.046875  , 0.953125  ],\n",
       "       [0.10362694, 0.89637306],\n",
       "       [1.        , 0.        ],\n",
       "       [0.94680851, 0.05319149],\n",
       "       [0.56330749, 0.43669251],\n",
       "       [0.87338501, 0.12661499],\n",
       "       [0.99739583, 0.00260417],\n",
       "       [0.03523035, 0.96476965],\n",
       "       [0.96808511, 0.03191489],\n",
       "       [0.04632153, 0.95367847],\n",
       "       [0.12698413, 0.87301587],\n",
       "       [0.95153061, 0.04846939],\n",
       "       [0.99741602, 0.00258398],\n",
       "       [0.07161804, 0.92838196],\n",
       "       [0.72178478, 0.27821522]])"
      ]
     },
     "execution_count": 69,
     "metadata": {},
     "output_type": "execute_result"
    }
   ],
   "source": [
    "bag_clf.oob_decision_function_"
   ]
  },
  {
   "cell_type": "code",
   "execution_count": 70,
   "id": "da56fdcd",
   "metadata": {},
   "outputs": [
    {
     "name": "stdout",
     "output_type": "stream",
     "text": [
      "0.864\n"
     ]
    }
   ],
   "source": [
    "bag_clf = BaggingClassifier(\n",
    "    DecisionTreeClassifier(), n_estimators=40,\n",
    "   bootstrap=False, n_jobs=-1)\n",
    "\n",
    "bag_clf.fit(X_train, y_train)\n",
    "y_pred = bag_clf.predict(X_test)\n",
    "print(accuracy_score(y_test, y_pred))"
   ]
  },
  {
   "cell_type": "code",
   "execution_count": 71,
   "id": "9d8074f5",
   "metadata": {},
   "outputs": [
    {
     "data": {
      "text/plain": [
       "0.864"
      ]
     },
     "execution_count": 71,
     "metadata": {},
     "output_type": "execute_result"
    }
   ],
   "source": [
    "from sklearn.metrics import accuracy_score\n",
    "y_pred = bag_clf.predict(X_test)\n",
    "accuracy_score(y_test, y_pred)"
   ]
  },
  {
   "cell_type": "code",
   "execution_count": 72,
   "id": "c0b629c9",
   "metadata": {},
   "outputs": [],
   "source": [
    "from sklearn.ensemble import RandomForestClassifier\n",
    "\n",
    "rnd_clf = RandomForestClassifier(n_estimators = 500, max_leaf_nodes=16, n_jobs=-1)\n",
    "rnd_clf.fit(X_train, y_train)\n",
    "\n",
    "y_pred_rf = rnd_clf.predict(X_test)"
   ]
  },
  {
   "cell_type": "code",
   "execution_count": 73,
   "id": "f9620592",
   "metadata": {},
   "outputs": [
    {
     "name": "stdout",
     "output_type": "stream",
     "text": [
      "0.912\n"
     ]
    }
   ],
   "source": [
    "print(accuracy_score(y_test, y_pred_rf))"
   ]
  },
  {
   "cell_type": "code",
   "execution_count": 74,
   "id": "2b5dedee",
   "metadata": {},
   "outputs": [],
   "source": [
    "bag_clf = BaggingClassifier(\n",
    "    DecisionTreeClassifier(max_features=\"auto\", max_leaf_nodes=16),\n",
    "    n_estimators=500, max_samples=1.0, bootstrap=True, n_jobs=-1)\n",
    "bag_clf.fit(X_train, y_train)\n",
    "y_pred = bag_clf.predict(X_test)"
   ]
  },
  {
   "cell_type": "code",
   "execution_count": 75,
   "id": "b6542b41",
   "metadata": {},
   "outputs": [
    {
     "name": "stdout",
     "output_type": "stream",
     "text": [
      "0.92\n"
     ]
    }
   ],
   "source": [
    "print(accuracy_score(y_test, y_pred))"
   ]
  },
  {
   "cell_type": "code",
   "execution_count": 76,
   "id": "a82af375",
   "metadata": {},
   "outputs": [],
   "source": [
    "from sklearn.ensemble import ExtraTreesClassifier\n",
    "\n",
    "extra_clf = ExtraTreesClassifier(n_estimators = 500, max_leaf_nodes=16, n_jobs=-1)\n",
    "extra_clf.fit(X_train, y_train)\n",
    "\n",
    "y_pred_ex = extra_clf.predict(X_test)"
   ]
  },
  {
   "cell_type": "code",
   "execution_count": 77,
   "id": "01cedccf",
   "metadata": {},
   "outputs": [
    {
     "name": "stdout",
     "output_type": "stream",
     "text": [
      "0.912\n"
     ]
    }
   ],
   "source": [
    "print(accuracy_score(y_test, y_pred_ex))"
   ]
  },
  {
   "cell_type": "code",
   "execution_count": 78,
   "id": "74a55684",
   "metadata": {},
   "outputs": [
    {
     "name": "stdout",
     "output_type": "stream",
     "text": [
      "sepal length (cm) 0.10981541676381995\n",
      "sepal width (cm) 0.02480329187647437\n",
      "petal length (cm) 0.41603190515125255\n",
      "petal width (cm) 0.44934938620845316\n"
     ]
    }
   ],
   "source": [
    "from sklearn.datasets import load_iris\n",
    "iris = load_iris()\n",
    "rnd_clf = RandomForestClassifier(n_estimators=500, n_jobs=-1)\n",
    "rnd_clf.fit(iris[\"data\"], iris[\"target\"])\n",
    "for name, score in zip(iris[\"feature_names\"], rnd_clf.feature_importances_):\n",
    "    print(name, score)"
   ]
  },
  {
   "cell_type": "code",
   "execution_count": 79,
   "id": "596e8045",
   "metadata": {},
   "outputs": [
    {
     "data": {
      "text/plain": [
       "AdaBoostClassifier(base_estimator=DecisionTreeClassifier(max_depth=1),\n",
       "                   learning_rate=0.5, n_estimators=200)"
      ]
     },
     "execution_count": 79,
     "metadata": {},
     "output_type": "execute_result"
    }
   ],
   "source": [
    "from sklearn.ensemble import AdaBoostClassifier\n",
    "\n",
    "ada_clf = AdaBoostClassifier(\n",
    "    DecisionTreeClassifier(max_depth=1), n_estimators=200,\n",
    "    algorithm=\"SAMME.R\", learning_rate=0.5)\n",
    "ada_clf.fit(X_train, y_train)"
   ]
  },
  {
   "cell_type": "code",
   "execution_count": 94,
   "id": "04d6b997",
   "metadata": {},
   "outputs": [],
   "source": [
    "import numpy as np\n",
    "np.random.seed(42)\n",
    "np.random.seed(42)\n",
    "X = np.random.rand(100, 1) - 0.5\n",
    "y = 3*X[:, 0]**2 + 0.05 * np.random.randn(100)"
   ]
  },
  {
   "cell_type": "code",
   "execution_count": 81,
   "id": "5c3a5620",
   "metadata": {},
   "outputs": [
    {
     "data": {
      "text/plain": [
       "DecisionTreeRegressor(max_depth=2)"
      ]
     },
     "execution_count": 81,
     "metadata": {},
     "output_type": "execute_result"
    }
   ],
   "source": [
    "from sklearn.tree import DecisionTreeRegressor\n",
    "\n",
    "tree_reg1 = DecisionTreeRegressor(max_depth=2)\n",
    "tree_reg1.fit(X, y)"
   ]
  },
  {
   "cell_type": "code",
   "execution_count": 82,
   "id": "af593f89",
   "metadata": {},
   "outputs": [
    {
     "data": {
      "text/plain": [
       "DecisionTreeRegressor(max_depth=2)"
      ]
     },
     "execution_count": 82,
     "metadata": {},
     "output_type": "execute_result"
    }
   ],
   "source": [
    "#회귀모델 예측값이 같을때 y2=0\n",
    "y2 = y - tree_reg1.predict(X)\n",
    "tree_reg2 = DecisionTreeRegressor(max_depth=2)\n",
    "tree_reg2.fit(X, y2)"
   ]
  },
  {
   "cell_type": "code",
   "execution_count": 83,
   "id": "e18d9ce7",
   "metadata": {},
   "outputs": [
    {
     "data": {
      "text/plain": [
       "DecisionTreeRegressor(max_depth=2)"
      ]
     },
     "execution_count": 83,
     "metadata": {},
     "output_type": "execute_result"
    }
   ],
   "source": [
    "y3 = y2 - tree_reg2.predict(X)\n",
    "tree_reg3 = DecisionTreeRegressor(max_depth=2)\n",
    "tree_reg3.fit(X, y3)"
   ]
  },
  {
   "cell_type": "code",
   "execution_count": 84,
   "id": "c5ab1073",
   "metadata": {},
   "outputs": [
    {
     "name": "stdout",
     "output_type": "stream",
     "text": [
      "[0.07381405]\n"
     ]
    }
   ],
   "source": [
    "X_new = np.array([[0.8]])\n",
    "y_pred = sum(tree.predict(X_new) for tree in (tree_reg1, tree_reg2, tree_reg3))\n",
    "print(y_pred)"
   ]
  },
  {
   "cell_type": "code",
   "execution_count": 85,
   "id": "2fb0c313",
   "metadata": {},
   "outputs": [
    {
     "data": {
      "text/plain": [
       "GradientBoostingRegressor(learning_rate=1.0, max_depth=2, n_estimators=3)"
      ]
     },
     "execution_count": 85,
     "metadata": {},
     "output_type": "execute_result"
    }
   ],
   "source": [
    "from sklearn.ensemble import GradientBoostingRegressor\n",
    "\n",
    "gbrt = GradientBoostingRegressor(max_depth=2, n_estimators=3, learning_rate=1.0)\n",
    "gbrt.fit(X, y)"
   ]
  },
  {
   "cell_type": "code",
   "execution_count": 95,
   "id": "0e3eea55",
   "metadata": {},
   "outputs": [
    {
     "data": {
      "text/plain": [
       "GradientBoostingRegressor(max_depth=2, n_estimators=56, random_state=42)"
      ]
     },
     "execution_count": 95,
     "metadata": {},
     "output_type": "execute_result"
    }
   ],
   "source": [
    "import numpy as np\n",
    "from sklearn.model_selection import train_test_split\n",
    "from sklearn.metrics import mean_squared_error\n",
    "\n",
    "X_train, X_val, y_train, y_val = train_test_split(X, y, random_state=49)\n",
    "\n",
    "gbrt = GradientBoostingRegressor(max_depth=2, n_estimators=120, random_state=42)\n",
    "gbrt.fit(X_train, y_train)\n",
    "\n",
    "errors = [mean_squared_error(y_val, y_pred)\n",
    "          for y_pred in gbrt.staged_predict(X_val)]\n",
    "bst_n_estimators = np.argmin(errors) + 1\n",
    "\n",
    "gbrt_best = GradientBoostingRegressor(max_depth=2, n_estimators=bst_n_estimators, random_state=42)\n",
    "gbrt_best.fit(X_train, y_train)"
   ]
  },
  {
   "cell_type": "code",
   "execution_count": 96,
   "id": "627759ae",
   "metadata": {},
   "outputs": [],
   "source": [
    "min_error = np.min(errors)"
   ]
  },
  {
   "cell_type": "code",
   "execution_count": 97,
   "id": "6a5ace58",
   "metadata": {},
   "outputs": [],
   "source": [
    "def plot_predictions(regressors, X, y, axes, label=None, style=\"r-\", data_style=\"b.\", data_label=None):\n",
    "    x1 = np.linspace(axes[0], axes[1], 500)\n",
    "    y_pred = sum(regressor.predict(x1.reshape(-1, 1)) for regressor in regressors)\n",
    "    plt.plot(X[:, 0], y, data_style, label=data_label)\n",
    "    plt.plot(x1, y_pred, style, linewidth=2, label=label)\n",
    "    if label or data_label:\n",
    "        plt.legend(loc=\"upper center\", fontsize=16)\n",
    "    plt.axis(axes)"
   ]
  },
  {
   "cell_type": "code",
   "execution_count": 98,
   "id": "c10cdb1b",
   "metadata": {},
   "outputs": [
    {
     "data": {
      "image/png": "[encoded data removed]",
      "text/plain": [
       "<Figure size 720x288 with 2 Axes>"
      ]
     },
     "metadata": {
      "needs_background": "light"
     },
     "output_type": "display_data"
    }
   ],
   "source": [
    "plt.figure(figsize=(10, 4))\n",
    "\n",
    "plt.subplot(121)\n",
    "plt.plot(errors, \"b.-\")\n",
    "plt.plot([bst_n_estimators, bst_n_estimators], [0, min_error], \"k--\")\n",
    "plt.plot([0, 120], [min_error, min_error], \"k--\")\n",
    "plt.plot(bst_n_estimators, min_error, \"ko\")\n",
    "plt.text(bst_n_estimators, min_error*1.2, \"Minimum\", ha=\"center\", fontsize=14)\n",
    "plt.axis([0, 120, 0, 0.01])\n",
    "plt.xlabel(\"Number of trees\")\n",
    "plt.ylabel(\"Error\", fontsize=16)\n",
    "plt.title(\"Validation error\", fontsize=14)\n",
    "\n",
    "plt.subplot(122)\n",
    "plot_predictions([gbrt_best], X, y, axes=[-0.5, 0.5, -0.1, 0.8])\n",
    "plt.title(\"Best model (%d trees)\" % bst_n_estimators, fontsize=14)\n",
    "plt.ylabel(\"$y$\", fontsize=16, rotation=0)\n",
    "plt.xlabel(\"$x_1$\", fontsize=16)\n",
    "plt.show()"
   ]
  },
  {
   "cell_type": "code",
   "execution_count": 99,
   "id": "348f3488",
   "metadata": {},
   "outputs": [],
   "source": [
    "gbrt = GradientBoostingRegressor(max_depth=2, warm_start=True, random_state=42)\n",
    "\n",
    "min_val_error = float(\"inf\")\n",
    "error_going_up = 0\n",
    "for n_estimators in range(1, 120):\n",
    "    gbrt.n_estimators = n_estimators\n",
    "    gbrt.fit(X_train, y_train)\n",
    "    y_pred = gbrt.predict(X_val)\n",
    "    val_error = mean_squared_error(y_val, y_pred)\n",
    "    if val_error < min_val_error:\n",
    "        min_val_error = val_error\n",
    "        error_going_up = 0\n",
    "    else:\n",
    "        error_going_up += 1\n",
    "        if error_going_up == 5:\n",
    "            break"
   ]
  },
  {
   "cell_type": "code",
   "execution_count": 100,
   "id": "d2ce1fcc",
   "metadata": {},
   "outputs": [
    {
     "name": "stdout",
     "output_type": "stream",
     "text": [
      "61\n"
     ]
    }
   ],
   "source": [
    "print(gbrt.n_estimators)"
   ]
  },
  {
   "cell_type": "code",
   "execution_count": 101,
   "id": "2474504a",
   "metadata": {},
   "outputs": [],
   "source": [
    "import xgboost\n",
    "\n",
    "xgb_reg = xgboost.XGBRegressor()\n",
    "xgb_reg.fit(X_train, y_train)\n",
    "y_pred = xgb_reg.predict(X_val)"
   ]
  },
  {
   "cell_type": "code",
   "execution_count": 102,
   "id": "c1a9e98f",
   "metadata": {},
   "outputs": [
    {
     "name": "stdout",
     "output_type": "stream",
     "text": [
      "[0]\tvalidation_0-rmse:0.22834\n",
      "[1]\tvalidation_0-rmse:0.16224\n",
      "[2]\tvalidation_0-rmse:0.11843\n",
      "[3]\tvalidation_0-rmse:0.08760\n",
      "[4]\tvalidation_0-rmse:0.06848\n",
      "[5]\tvalidation_0-rmse:0.05709\n",
      "[6]\tvalidation_0-rmse:0.05297\n",
      "[7]\tvalidation_0-rmse:0.05129\n",
      "[8]\tvalidation_0-rmse:0.05155\n",
      "[9]\tvalidation_0-rmse:0.05211\n"
     ]
    }
   ],
   "source": [
    "xgb_reg.fit(X_train, y_train, \n",
    "           eval_set=[(X_val, y_val)], early_stopping_rounds=2)\n",
    "y_pred = xgb_reg.predict(X_val)"
   ]
  },
  {
   "cell_type": "code",
   "execution_count": null,
   "id": "1a1cadf9",
   "metadata": {},
   "outputs": [],
   "source": []
  }
 ],
 "metadata": {
  "kernelspec": {
   "display_name": "Python 3",
   "language": "python",
   "name": "python3"
  },
  "language_info": {
   "codemirror_mode": {
    "name": "ipython",
    "version": 3
   },
   "file_extension": ".py",
   "mimetype": "text/x-python",
   "name": "python",
   "nbconvert_exporter": "python",
   "pygments_lexer": "ipython3",
   "version": "3.8.8"
  }
 },
 "nbformat": 4,
 "nbformat_minor": 5
}
