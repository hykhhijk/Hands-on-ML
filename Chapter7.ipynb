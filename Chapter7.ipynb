{
 "cells": [
  {
   "cell_type": "code",
   "execution_count": 17,
   "id": "b28a253e",
   "metadata": {},
   "outputs": [],
   "source": [
    "from sklearn.model_selection import train_test_split\n",
    "from sklearn.datasets import make_moons\n",
    "\n",
    "X, y = make_moons(n_samples=500, noise=0.30, random_state=42)\n",
    "X_train, X_test, y_train, y_test = train_test_split(X, y, random_state=42)"
   ]
  },
  {
   "cell_type": "code",
   "execution_count": 18,
   "id": "bcef7b61",
   "metadata": {},
   "outputs": [
    {
     "data": {
      "text/plain": [
       "VotingClassifier(estimators=[('lr', LogisticRegression()),\n",
       "                             ('rf', RandomForestClassifier()), ('svc', SVC())])"
      ]
     },
     "execution_count": 18,
     "metadata": {},
     "output_type": "execute_result"
    }
   ],
   "source": [
    "from sklearn.ensemble import RandomForestClassifier\n",
    "from sklearn.ensemble import VotingClassifier\n",
    "from sklearn.linear_model import LogisticRegression\n",
    "from sklearn.svm import SVC\n",
    "\n",
    "log_clf = LogisticRegression()\n",
    "rnd_clf = RandomForestClassifier()\n",
    "svm_clf = SVC()\n",
    "\n",
    "voting_clf = VotingClassifier(\n",
    "    estimators=[('lr', log_clf), ('rf', rnd_clf), ('svc',svm_clf)],\n",
    "    voting='hard')\n",
    "voting_clf.fit(X_train, y_train)"
   ]
  },
  {
   "cell_type": "code",
   "execution_count": 19,
   "id": "7610c4c6",
   "metadata": {},
   "outputs": [
    {
     "name": "stdout",
     "output_type": "stream",
     "text": [
      "LogisticRegression 0.864\n",
      "RandomForestClassifier 0.904\n",
      "SVC 0.896\n",
      "VotingClassifier 0.896\n"
     ]
    }
   ],
   "source": [
    "from sklearn.metrics import accuracy_score\n",
    "for clf in (log_clf, rnd_clf, svm_clf, voting_clf):\n",
    "    clf.fit(X_train, y_train)\n",
    "    y_pred = clf.predict(X_test)\n",
    "    print(clf.__class__.__name__, accuracy_score(y_test, y_pred))"
   ]
  },
  {
   "cell_type": "code",
   "execution_count": 20,
   "id": "87e2b305",
   "metadata": {},
   "outputs": [
    {
     "data": {
      "text/plain": [
       "VotingClassifier(estimators=[('lr', LogisticRegression()),\n",
       "                             ('rf', RandomForestClassifier()),\n",
       "                             ('svc', SVC(probability=True))],\n",
       "                 voting='soft')"
      ]
     },
     "execution_count": 20,
     "metadata": {},
     "output_type": "execute_result"
    }
   ],
   "source": [
    "svm_clf = SVC(probability=True)\n",
    "voting_clf_soft = VotingClassifier(\n",
    "    estimators=[('lr', log_clf), ('rf', rnd_clf), ('svc',svm_clf)],\n",
    "    voting='soft')\n",
    "voting_clf_soft.fit(X_train, y_train)"
   ]
  },
  {
   "cell_type": "code",
   "execution_count": 21,
   "id": "54ba4741",
   "metadata": {
    "scrolled": true
   },
   "outputs": [
    {
     "name": "stdout",
     "output_type": "stream",
     "text": [
      "LogisticRegression 0.864\n",
      "RandomForestClassifier 0.888\n",
      "SVC 0.896\n",
      "VotingClassifier 0.92\n"
     ]
    }
   ],
   "source": [
    "from sklearn.metrics import accuracy_score\n",
    "for clf in (log_clf, rnd_clf, svm_clf, voting_clf_soft):\n",
    "    clf.fit(X_train, y_train)\n",
    "    y_pred = clf.predict(X_test)\n",
    "    print(clf.__class__.__name__, accuracy_score(y_test, y_pred))"
   ]
  },
  {
   "cell_type": "code",
   "execution_count": 22,
   "id": "fdc0669e",
   "metadata": {},
   "outputs": [
    {
     "data": {
      "text/plain": [
       "0.9226666666666666"
      ]
     },
     "execution_count": 22,
     "metadata": {},
     "output_type": "execute_result"
    }
   ],
   "source": [
    "from sklearn.ensemble import BaggingClassifier\n",
    "from sklearn.tree import DecisionTreeClassifier\n",
    "\n",
    "bag_clf = BaggingClassifier(\n",
    "    DecisionTreeClassifier(), n_estimators=500,\n",
    "    max_samples=100, bootstrap=True, n_jobs=-1, oob_score=True)\n",
    "bag_clf.fit(X_train, y_train)\n",
    "y_pred = bag_clf.predict(X_test)\n",
    "bag_clf.oob_score_"
   ]
  },
  {
   "cell_type": "code",
   "execution_count": 23,
   "id": "76f00340",
   "metadata": {},
   "outputs": [
    {
     "name": "stdout",
     "output_type": "stream",
     "text": [
      "0.904\n"
     ]
    }
   ],
   "source": [
    "print(accuracy_score(y_test, y_pred))"
   ]
  },
  {
   "cell_type": "code",
   "execution_count": 24,
   "id": "ae5a24be",
   "metadata": {},
   "outputs": [
    {
     "data": {
      "text/plain": [
       "0.9226666666666666"
      ]
     },
     "execution_count": 24,
     "metadata": {},
     "output_type": "execute_result"
    }
   ],
   "source": [
    "from sklearn.ensemble import BaggingClassifier\n",
    "from sklearn.tree import DecisionTreeClassifier\n",
    "\n",
    "bag_clf = BaggingClassifier(\n",
    "    DecisionTreeClassifier(), n_estimators=500,max_features=2,\n",
    "    max_samples=100, bootstrap=True, n_jobs=-1, oob_score=True)\n",
    "bag_clf.fit(X_train, y_train)\n",
    "y_pred = bag_clf.predict(X_test)\n",
    "bag_clf.oob_score_"
   ]
  },
  {
   "cell_type": "code",
   "execution_count": 25,
   "id": "4d4365a1",
   "metadata": {},
   "outputs": [
    {
     "name": "stdout",
     "output_type": "stream",
     "text": [
      "0.904\n"
     ]
    }
   ],
   "source": [
    "print(accuracy_score(y_test, y_pred))"
   ]
  },
  {
   "cell_type": "code",
   "execution_count": 26,
   "id": "a0db9a08",
   "metadata": {},
   "outputs": [
    {
     "data": {
      "text/plain": [
       "array([[0.38814016, 0.61185984],\n",
       "       [0.41131105, 0.58868895],\n",
       "       [1.        , 0.        ],\n",
       "       [0.01587302, 0.98412698],\n",
       "       [0.0212766 , 0.9787234 ],\n",
       "       [0.12064343, 0.87935657],\n",
       "       [0.44743935, 0.55256065],\n",
       "       [0.07751938, 0.92248062],\n",
       "       [0.96315789, 0.03684211],\n",
       "       [0.86351706, 0.13648294],\n",
       "       [0.57723577, 0.42276423],\n",
       "       [0.05205479, 0.94794521],\n",
       "       [0.7434555 , 0.2565445 ],\n",
       "       [0.8469657 , 0.1530343 ],\n",
       "       [0.93211488, 0.06788512],\n",
       "       [0.10784314, 0.89215686],\n",
       "       [0.02030457, 0.97969543],\n",
       "       [0.93403694, 0.06596306],\n",
       "       [0.6957606 , 0.3042394 ],\n",
       "       [0.96      , 0.04      ],\n",
       "       [0.07888041, 0.92111959],\n",
       "       [0.23529412, 0.76470588],\n",
       "       [0.88916877, 0.11083123],\n",
       "       [0.9871134 , 0.0128866 ],\n",
       "       [0.97089947, 0.02910053],\n",
       "       [0.00529101, 0.99470899],\n",
       "       [0.94369973, 0.05630027],\n",
       "       [1.        , 0.        ],\n",
       "       [0.008     , 0.992     ],\n",
       "       [0.71503958, 0.28496042],\n",
       "       [0.        , 1.        ],\n",
       "       [1.        , 0.        ],\n",
       "       [0.00540541, 0.99459459],\n",
       "       [0.06965174, 0.93034826],\n",
       "       [0.10204082, 0.89795918],\n",
       "       [0.97382199, 0.02617801],\n",
       "       [0.02331606, 0.97668394],\n",
       "       [0.54060914, 0.45939086],\n",
       "       [0.02040816, 0.97959184],\n",
       "       [1.        , 0.        ],\n",
       "       [0.09736842, 0.90263158],\n",
       "       [0.39790576, 0.60209424],\n",
       "       [0.99470899, 0.00529101],\n",
       "       [0.98930481, 0.01069519],\n",
       "       [0.00787402, 0.99212598],\n",
       "       [0.99496222, 0.00503778],\n",
       "       [0.99742931, 0.00257069],\n",
       "       [0.08616188, 0.91383812],\n",
       "       [0.98691099, 0.01308901],\n",
       "       [0.07387863, 0.92612137],\n",
       "       [0.95967742, 0.04032258],\n",
       "       [0.83072917, 0.16927083],\n",
       "       [0.94850949, 0.05149051],\n",
       "       [0.82887701, 0.17112299],\n",
       "       [0.02902375, 0.97097625],\n",
       "       [0.09326425, 0.90673575],\n",
       "       [0.81451613, 0.18548387],\n",
       "       [0.01794872, 0.98205128],\n",
       "       [0.02331606, 0.97668394],\n",
       "       [0.05660377, 0.94339623],\n",
       "       [0.84318766, 0.15681234],\n",
       "       [0.64109589, 0.35890411],\n",
       "       [0.69398907, 0.30601093],\n",
       "       [0.98425197, 0.01574803],\n",
       "       [0.0230179 , 0.9769821 ],\n",
       "       [0.79155673, 0.20844327],\n",
       "       [0.98727735, 0.01272265],\n",
       "       [0.98227848, 0.01772152],\n",
       "       [0.64921466, 0.35078534],\n",
       "       [0.97097625, 0.02902375],\n",
       "       [0.30548303, 0.69451697],\n",
       "       [0.32717678, 0.67282322],\n",
       "       [0.39010989, 0.60989011],\n",
       "       [0.7075718 , 0.2924282 ],\n",
       "       [0.01025641, 0.98974359],\n",
       "       [0.31782946, 0.68217054],\n",
       "       [0.87531807, 0.12468193],\n",
       "       [1.        , 0.        ],\n",
       "       [0.01604278, 0.98395722],\n",
       "       [0.94736842, 0.05263158],\n",
       "       [0.00255102, 0.99744898],\n",
       "       [0.2265625 , 0.7734375 ],\n",
       "       [0.11315789, 0.88684211],\n",
       "       [0.44783715, 0.55216285],\n",
       "       [0.98927614, 0.01072386],\n",
       "       [0.02673797, 0.97326203],\n",
       "       [0.64921466, 0.35078534],\n",
       "       [0.05641026, 0.94358974],\n",
       "       [0.02673797, 0.97326203],\n",
       "       [0.        , 1.        ],\n",
       "       [0.39313984, 0.60686016],\n",
       "       [1.        , 0.        ],\n",
       "       [0.00516796, 0.99483204],\n",
       "       [0.04450262, 0.95549738],\n",
       "       [0.01546392, 0.98453608],\n",
       "       [0.82233503, 0.17766497],\n",
       "       [0.65473146, 0.34526854],\n",
       "       [0.07614213, 0.92385787],\n",
       "       [1.        , 0.        ],\n",
       "       [0.34782609, 0.65217391],\n",
       "       [0.72010178, 0.27989822],\n",
       "       [0.01587302, 0.98412698],\n",
       "       [0.07556675, 0.92443325],\n",
       "       [0.43523316, 0.56476684],\n",
       "       [0.97619048, 0.02380952],\n",
       "       [0.04891304, 0.95108696],\n",
       "       [0.9843342 , 0.0156658 ],\n",
       "       [0.45408163, 0.54591837],\n",
       "       [0.3033419 , 0.6966581 ],\n",
       "       [0.99736842, 0.00263158],\n",
       "       [0.21842105, 0.78157895],\n",
       "       [0.84308511, 0.15691489],\n",
       "       [0.23655914, 0.76344086],\n",
       "       [0.78865979, 0.21134021],\n",
       "       [0.98473282, 0.01526718],\n",
       "       [0.9890411 , 0.0109589 ],\n",
       "       [0.        , 1.        ],\n",
       "       [0.        , 1.        ],\n",
       "       [0.46632124, 0.53367876],\n",
       "       [0.9947644 , 0.0052356 ],\n",
       "       [0.05376344, 0.94623656],\n",
       "       [0.99742931, 0.00257069],\n",
       "       [0.98153034, 0.01846966],\n",
       "       [1.        , 0.        ],\n",
       "       [0.953125  , 0.046875  ],\n",
       "       [0.97066667, 0.02933333],\n",
       "       [0.04663212, 0.95336788],\n",
       "       [0.93540052, 0.06459948],\n",
       "       [0.956743  , 0.043257  ],\n",
       "       [0.02722772, 0.97277228],\n",
       "       [0.21657754, 0.78342246],\n",
       "       [0.89295039, 0.10704961],\n",
       "       [0.38888889, 0.61111111],\n",
       "       [0.92411924, 0.07588076],\n",
       "       [0.        , 1.        ],\n",
       "       [0.05102041, 0.94897959],\n",
       "       [0.83641161, 0.16358839],\n",
       "       [0.73474801, 0.26525199],\n",
       "       [0.57922078, 0.42077922],\n",
       "       [0.85444744, 0.14555256],\n",
       "       [0.91556728, 0.08443272],\n",
       "       [0.13810742, 0.86189258],\n",
       "       [0.81074169, 0.18925831],\n",
       "       [0.02439024, 0.97560976],\n",
       "       [0.00514139, 0.99485861],\n",
       "       [0.13315927, 0.86684073],\n",
       "       [0.76781003, 0.23218997],\n",
       "       [0.9871134 , 0.0128866 ],\n",
       "       [1.        , 0.        ],\n",
       "       [0.03562341, 0.96437659],\n",
       "       [0.008     , 0.992     ],\n",
       "       [0.09114583, 0.90885417],\n",
       "       [0.04433498, 0.95566502],\n",
       "       [0.99480519, 0.00519481],\n",
       "       [0.97938144, 0.02061856],\n",
       "       [0.87862797, 0.12137203],\n",
       "       [0.99740933, 0.00259067],\n",
       "       [1.        , 0.        ],\n",
       "       [0.90616622, 0.09383378],\n",
       "       [0.0075    , 0.9925    ],\n",
       "       [0.66666667, 0.33333333],\n",
       "       [0.35279188, 0.64720812],\n",
       "       [0.06366048, 0.93633952],\n",
       "       [0.02564103, 0.97435897],\n",
       "       [0.38648649, 0.61351351],\n",
       "       [1.        , 0.        ],\n",
       "       [0.95652174, 0.04347826],\n",
       "       [0.        , 1.        ],\n",
       "       [0.98387097, 0.01612903],\n",
       "       [0.07253886, 0.92746114],\n",
       "       [0.        , 1.        ],\n",
       "       [0.95189873, 0.04810127],\n",
       "       [0.00507614, 0.99492386],\n",
       "       [0.00519481, 0.99480519],\n",
       "       [1.        , 0.        ],\n",
       "       [0.06377551, 0.93622449],\n",
       "       [0.82216495, 0.17783505],\n",
       "       [0.9343832 , 0.0656168 ],\n",
       "       [0.02835052, 0.97164948],\n",
       "       [0.95490716, 0.04509284],\n",
       "       [0.91348601, 0.08651399],\n",
       "       [0.97361478, 0.02638522],\n",
       "       [0.02094241, 0.97905759],\n",
       "       [0.02139037, 0.97860963],\n",
       "       [0.9947644 , 0.0052356 ],\n",
       "       [0.22933333, 0.77066667],\n",
       "       [0.98969072, 0.01030928],\n",
       "       [0.10761155, 0.89238845],\n",
       "       [0.02459016, 0.97540984],\n",
       "       [0.98771499, 0.01228501],\n",
       "       [0.        , 1.        ],\n",
       "       [0.21052632, 0.78947368],\n",
       "       [0.89835165, 0.10164835],\n",
       "       [0.91139241, 0.08860759],\n",
       "       [0.62982005, 0.37017995],\n",
       "       [0.72307692, 0.27692308],\n",
       "       [0.01381215, 0.98618785],\n",
       "       [0.20051414, 0.79948586],\n",
       "       [0.98429319, 0.01570681],\n",
       "       [0.89709763, 0.10290237],\n",
       "       [0.92307692, 0.07692308],\n",
       "       [0.96961326, 0.03038674],\n",
       "       [0.04381443, 0.95618557],\n",
       "       [0.01025641, 0.98974359],\n",
       "       [0.10732984, 0.89267016],\n",
       "       [0.49086162, 0.50913838],\n",
       "       [0.        , 1.        ],\n",
       "       [0.02313625, 0.97686375],\n",
       "       [0.95876289, 0.04123711],\n",
       "       [0.10164835, 0.89835165],\n",
       "       [0.09183673, 0.90816327],\n",
       "       [0.90330789, 0.09669211],\n",
       "       [0.06020942, 0.93979058],\n",
       "       [0.40318302, 0.59681698],\n",
       "       [0.00529101, 0.99470899],\n",
       "       [1.        , 0.        ],\n",
       "       [0.01804124, 0.98195876],\n",
       "       [0.01790281, 0.98209719],\n",
       "       [0.92982456, 0.07017544],\n",
       "       [0.875     , 0.125     ],\n",
       "       [0.9525    , 0.0475    ],\n",
       "       [0.02040816, 0.97959184],\n",
       "       [0.08446866, 0.91553134],\n",
       "       [0.95744681, 0.04255319],\n",
       "       [0.13589744, 0.86410256],\n",
       "       [0.00515464, 0.99484536],\n",
       "       [0.28132992, 0.71867008],\n",
       "       [0.96052632, 0.03947368],\n",
       "       [0.84432718, 0.15567282],\n",
       "       [0.09498681, 0.90501319],\n",
       "       [0.75271739, 0.24728261],\n",
       "       [0.95115681, 0.04884319],\n",
       "       [0.13684211, 0.86315789],\n",
       "       [0.14248705, 0.85751295],\n",
       "       [0.98958333, 0.01041667],\n",
       "       [0.        , 1.        ],\n",
       "       [0.01554404, 0.98445596],\n",
       "       [0.02319588, 0.97680412],\n",
       "       [0.33157895, 0.66842105],\n",
       "       [0.88219895, 0.11780105],\n",
       "       [0.05540897, 0.94459103],\n",
       "       [0.99477807, 0.00522193],\n",
       "       [0.87855297, 0.12144703],\n",
       "       [0.00529101, 0.99470899],\n",
       "       [0.73589744, 0.26410256],\n",
       "       [0.9893617 , 0.0106383 ],\n",
       "       [0.01038961, 0.98961039],\n",
       "       [0.99739583, 0.00260417],\n",
       "       [0.0599455 , 0.9400545 ],\n",
       "       [0.01583113, 0.98416887],\n",
       "       [0.1227154 , 0.8772846 ],\n",
       "       [0.21680217, 0.78319783],\n",
       "       [0.87      , 0.13      ],\n",
       "       [0.08970976, 0.91029024],\n",
       "       [0.99733333, 0.00266667],\n",
       "       [0.66318538, 0.33681462],\n",
       "       [0.09414758, 0.90585242],\n",
       "       [0.68947368, 0.31052632],\n",
       "       [0.83887468, 0.16112532],\n",
       "       [0.00258398, 0.99741602],\n",
       "       [0.99739583, 0.00260417],\n",
       "       [0.02387268, 0.97612732],\n",
       "       [0.        , 1.        ],\n",
       "       [0.75689223, 0.24310777],\n",
       "       [0.        , 1.        ],\n",
       "       [0.99744898, 0.00255102],\n",
       "       [0.112     , 0.888     ],\n",
       "       [0.74739583, 0.25260417],\n",
       "       [0.15860215, 0.84139785],\n",
       "       [0.99734748, 0.00265252],\n",
       "       [0.8680203 , 0.1319797 ],\n",
       "       [0.0052356 , 0.9947644 ],\n",
       "       [0.05982906, 0.94017094],\n",
       "       [0.14248021, 0.85751979],\n",
       "       [0.06467662, 0.93532338],\n",
       "       [0.        , 1.        ],\n",
       "       [0.96808511, 0.03191489],\n",
       "       [0.84556962, 0.15443038],\n",
       "       [0.17222222, 0.82777778],\n",
       "       [0.94559585, 0.05440415],\n",
       "       [0.05291005, 0.94708995],\n",
       "       [0.6025974 , 0.3974026 ],\n",
       "       [0.12565445, 0.87434555],\n",
       "       [0.94986807, 0.05013193],\n",
       "       [0.88186813, 0.11813187],\n",
       "       [0.0026178 , 0.9973822 ],\n",
       "       [0.92245989, 0.07754011],\n",
       "       [0.90957447, 0.09042553],\n",
       "       [0.00519481, 0.99480519],\n",
       "       [0.04569892, 0.95430108],\n",
       "       [1.        , 0.        ],\n",
       "       [0.01643836, 0.98356164],\n",
       "       [0.99240506, 0.00759494],\n",
       "       [0.08290155, 0.91709845],\n",
       "       [0.89948454, 0.10051546],\n",
       "       [1.        , 0.        ],\n",
       "       [0.01052632, 0.98947368],\n",
       "       [0.05927835, 0.94072165],\n",
       "       [0.69521411, 0.30478589],\n",
       "       [0.        , 1.        ],\n",
       "       [1.        , 0.        ],\n",
       "       [0.67519182, 0.32480818],\n",
       "       [0.85925926, 0.14074074],\n",
       "       [0.99738903, 0.00261097],\n",
       "       [0.7164557 , 0.2835443 ],\n",
       "       [0.46560847, 0.53439153],\n",
       "       [0.0132626 , 0.9867374 ],\n",
       "       [0.80366492, 0.19633508],\n",
       "       [0.01866667, 0.98133333],\n",
       "       [1.        , 0.        ],\n",
       "       [0.75466667, 0.24533333],\n",
       "       [0.99473684, 0.00526316],\n",
       "       [0.9973822 , 0.0026178 ],\n",
       "       [0.81841432, 0.18158568],\n",
       "       [0.28571429, 0.71428571],\n",
       "       [0.17414248, 0.82585752],\n",
       "       [0.21265823, 0.78734177],\n",
       "       [0.        , 1.        ],\n",
       "       [0.76439791, 0.23560209],\n",
       "       [0.8961039 , 0.1038961 ],\n",
       "       [0.04896907, 0.95103093],\n",
       "       [0.99750623, 0.00249377],\n",
       "       [0.95530726, 0.04469274],\n",
       "       [0.99473684, 0.00526316],\n",
       "       [0.00542005, 0.99457995],\n",
       "       [0.05851064, 0.94148936],\n",
       "       [0.94805195, 0.05194805],\n",
       "       [0.91989664, 0.08010336],\n",
       "       [1.        , 0.        ],\n",
       "       [0.2382199 , 0.7617801 ],\n",
       "       [0.99744246, 0.00255754],\n",
       "       [0.12335958, 0.87664042],\n",
       "       [0.95214106, 0.04785894],\n",
       "       [0.05357143, 0.94642857],\n",
       "       [0.99460916, 0.00539084],\n",
       "       [0.98421053, 0.01578947],\n",
       "       [0.9921671 , 0.0078329 ],\n",
       "       [0.00253165, 0.99746835],\n",
       "       [0.9520202 , 0.0479798 ],\n",
       "       [0.01808786, 0.98191214],\n",
       "       [0.07928389, 0.92071611],\n",
       "       [0.05121294, 0.94878706],\n",
       "       [0.        , 1.        ],\n",
       "       [1.        , 0.        ],\n",
       "       [0.98186528, 0.01813472],\n",
       "       [0.        , 1.        ],\n",
       "       [0.9525066 , 0.0474934 ],\n",
       "       [0.09065934, 0.90934066],\n",
       "       [0.98976982, 0.01023018],\n",
       "       [0.21315789, 0.78684211],\n",
       "       [0.01612903, 0.98387097],\n",
       "       [0.07286432, 0.92713568],\n",
       "       [0.        , 1.        ],\n",
       "       [0.77925532, 0.22074468],\n",
       "       [0.08625337, 0.91374663],\n",
       "       [0.11382114, 0.88617886],\n",
       "       [1.        , 0.        ],\n",
       "       [0.95979899, 0.04020101],\n",
       "       [0.23924731, 0.76075269],\n",
       "       [0.93513514, 0.06486486],\n",
       "       [0.05822785, 0.94177215],\n",
       "       [0.09137056, 0.90862944],\n",
       "       [0.99488491, 0.00511509],\n",
       "       [0.91884817, 0.08115183],\n",
       "       [0.5390625 , 0.4609375 ],\n",
       "       [0.86702128, 0.13297872],\n",
       "       [1.        , 0.        ],\n",
       "       [0.02380952, 0.97619048],\n",
       "       [0.95348837, 0.04651163],\n",
       "       [0.04477612, 0.95522388],\n",
       "       [0.1015625 , 0.8984375 ],\n",
       "       [0.92204301, 0.07795699],\n",
       "       [1.        , 0.        ],\n",
       "       [0.07731959, 0.92268041],\n",
       "       [0.68096515, 0.31903485]])"
      ]
     },
     "execution_count": 26,
     "metadata": {},
     "output_type": "execute_result"
    }
   ],
   "source": [
    "bag_clf.oob_decision_function_"
   ]
  },
  {
   "cell_type": "code",
   "execution_count": 27,
   "id": "da56fdcd",
   "metadata": {},
   "outputs": [
    {
     "name": "stdout",
     "output_type": "stream",
     "text": [
      "0.856\n"
     ]
    }
   ],
   "source": [
    "bag_clf = BaggingClassifier(\n",
    "    DecisionTreeClassifier(), n_estimators=40,\n",
    "   bootstrap=False, n_jobs=-1)\n",
    "\n",
    "bag_clf.fit(X_train, y_train)\n",
    "y_pred = bag_clf.predict(X_test)\n",
    "print(accuracy_score(y_test, y_pred))"
   ]
  },
  {
   "cell_type": "code",
   "execution_count": 28,
   "id": "9d8074f5",
   "metadata": {},
   "outputs": [
    {
     "data": {
      "text/plain": [
       "0.856"
      ]
     },
     "execution_count": 28,
     "metadata": {},
     "output_type": "execute_result"
    }
   ],
   "source": [
    "from sklearn.metrics import accuracy_score\n",
    "y_pred = bag_clf.predict(X_test)\n",
    "accuracy_score(y_test, y_pred)"
   ]
  },
  {
   "cell_type": "code",
   "execution_count": 29,
   "id": "c0b629c9",
   "metadata": {},
   "outputs": [],
   "source": [
    "from sklearn.ensemble import RandomForestClassifier\n",
    "\n",
    "rnd_clf = RandomForestClassifier(n_estimators = 500, max_leaf_nodes=16, n_jobs=-1)\n",
    "rnd_clf.fit(X_train, y_train)\n",
    "\n",
    "y_pred_rf = rnd_clf.predict(X_test)"
   ]
  },
  {
   "cell_type": "code",
   "execution_count": 30,
   "id": "f9620592",
   "metadata": {},
   "outputs": [
    {
     "name": "stdout",
     "output_type": "stream",
     "text": [
      "0.912\n"
     ]
    }
   ],
   "source": [
    "print(accuracy_score(y_test, y_pred_rf))"
   ]
  },
  {
   "cell_type": "code",
   "execution_count": 31,
   "id": "2b5dedee",
   "metadata": {},
   "outputs": [],
   "source": [
    "bag_clf = BaggingClassifier(\n",
    "    DecisionTreeClassifier(max_features=\"auto\", max_leaf_nodes=16),\n",
    "    n_estimators=500, max_samples=1.0, bootstrap=True, n_jobs=-1)\n",
    "bag_clf.fit(X_train, y_train)\n",
    "y_pred = bag_clf.predict(X_test)"
   ]
  },
  {
   "cell_type": "code",
   "execution_count": 32,
   "id": "b6542b41",
   "metadata": {},
   "outputs": [
    {
     "name": "stdout",
     "output_type": "stream",
     "text": [
      "0.92\n"
     ]
    }
   ],
   "source": [
    "print(accuracy_score(y_test, y_pred))"
   ]
  },
  {
   "cell_type": "code",
   "execution_count": 33,
   "id": "a82af375",
   "metadata": {},
   "outputs": [],
   "source": [
    "from sklearn.ensemble import ExtraTreesClassifier\n",
    "\n",
    "extra_clf = ExtraTreesClassifier(n_estimators = 500, max_leaf_nodes=16, n_jobs=-1)\n",
    "extra_clf.fit(X_train, y_train)\n",
    "\n",
    "y_pred_ex = rnd_clf.predict(X_test)"
   ]
  },
  {
   "cell_type": "code",
   "execution_count": 34,
   "id": "01cedccf",
   "metadata": {},
   "outputs": [
    {
     "name": "stdout",
     "output_type": "stream",
     "text": [
      "0.912\n"
     ]
    }
   ],
   "source": [
    "print(accuracy_score(y_test, y_pred_ex))"
   ]
  },
  {
   "cell_type": "code",
   "execution_count": 35,
   "id": "74a55684",
   "metadata": {},
   "outputs": [
    {
     "name": "stdout",
     "output_type": "stream",
     "text": [
      "sepal length (cm) 0.09587384120825786\n",
      "sepal width (cm) 0.02184207881670138\n",
      "petal length (cm) 0.4231560940108098\n",
      "petal width (cm) 0.459127985964231\n"
     ]
    }
   ],
   "source": [
    "from sklearn.datasets import load_iris\n",
    "iris = load_iris()\n",
    "rnd_clf = RandomForestClassifier(n_estimators=500, n_jobs=-1)\n",
    "rnd_clf.fit(iris[\"data\"], iris[\"target\"])\n",
    "for name, score in zip(iris[\"feature_names\"], rnd_clf.feature_importances_):\n",
    "    print(name, score)"
   ]
  },
  {
   "cell_type": "code",
   "execution_count": 36,
   "id": "596e8045",
   "metadata": {},
   "outputs": [
    {
     "data": {
      "text/plain": [
       "AdaBoostClassifier(base_estimator=DecisionTreeClassifier(max_depth=1),\n",
       "                   learning_rate=0.5, n_estimators=200)"
      ]
     },
     "execution_count": 36,
     "metadata": {},
     "output_type": "execute_result"
    }
   ],
   "source": [
    "from sklearn.ensemble import AdaBoostClassifier\n",
    "\n",
    "ada_clf = AdaBoostClassifier(\n",
    "    DecisionTreeClassifier(max_depth=1), n_estimators=200,\n",
    "    algorithm=\"SAMME.R\", learning_rate=0.5)\n",
    "ada_clf.fit(X_train, y_train)"
   ]
  },
  {
   "cell_type": "code",
   "execution_count": 53,
   "id": "04d6b997",
   "metadata": {},
   "outputs": [],
   "source": [
    "import numpy as np\n",
    "np.random.seed(42)\n",
    "X = np.random.rand(100, 1) - 0.5\n",
    "y = 3*X[0]**2 + 0.05 * np.random.randn(100)"
   ]
  },
  {
   "cell_type": "code",
   "execution_count": 54,
   "id": "5c3a5620",
   "metadata": {},
   "outputs": [
    {
     "data": {
      "text/plain": [
       "DecisionTreeRegressor(max_depth=2)"
      ]
     },
     "execution_count": 54,
     "metadata": {},
     "output_type": "execute_result"
    }
   ],
   "source": [
    "from sklearn.tree import DecisionTreeRegressor\n",
    "\n",
    "tree_reg1 = DecisionTreeRegressor(max_depth=2)\n",
    "tree_reg1.fit(X, y)"
   ]
  },
  {
   "cell_type": "code",
   "execution_count": 55,
   "id": "af593f89",
   "metadata": {},
   "outputs": [
    {
     "data": {
      "text/plain": [
       "DecisionTreeRegressor(max_depth=2)"
      ]
     },
     "execution_count": 55,
     "metadata": {},
     "output_type": "execute_result"
    }
   ],
   "source": [
    "#회귀모델 예측값이 같을때 y2=0\n",
    "y2 = y - tree_reg1.predict(X)\n",
    "tree_reg2 = DecisionTreeRegressor(max_depth=2)\n",
    "tree_reg2.fit(X, y2)"
   ]
  },
  {
   "cell_type": "code",
   "execution_count": 56,
   "id": "e18d9ce7",
   "metadata": {},
   "outputs": [
    {
     "data": {
      "text/plain": [
       "DecisionTreeRegressor(max_depth=2)"
      ]
     },
     "execution_count": 56,
     "metadata": {},
     "output_type": "execute_result"
    }
   ],
   "source": [
    "y3 = y2 - tree_reg2.predict(X)\n",
    "tree_reg3 = DecisionTreeRegressor(max_depth=2)\n",
    "tree_reg3.fit(X, y3)"
   ]
  },
  {
   "cell_type": "code",
   "execution_count": 67,
   "id": "c5ab1073",
   "metadata": {},
   "outputs": [
    {
     "name": "stdout",
     "output_type": "stream",
     "text": [
      "[0.07381405]\n"
     ]
    }
   ],
   "source": [
    "X_new = np.array([[0.8]])\n",
    "y_pred = sum(tree.predict(X_new) for tree in (tree_reg1, tree_reg2, tree_reg3))\n",
    "print(y_pred)"
   ]
  },
  {
   "cell_type": "code",
   "execution_count": 58,
   "id": "2fb0c313",
   "metadata": {},
   "outputs": [
    {
     "data": {
      "text/plain": [
       "GradientBoostingRegressor(learning_rate=1.0, max_depth=2, n_estimators=3)"
      ]
     },
     "execution_count": 58,
     "metadata": {},
     "output_type": "execute_result"
    }
   ],
   "source": [
    "from sklearn.ensemble import GradientBoostingRegressor\n",
    "\n",
    "gbrt = GradientBoostingRegressor(max_depth=2, n_estimators=3, learning_rate=1.0)\n",
    "gbrt.fit(X, y)"
   ]
  },
  {
   "cell_type": "code",
   "execution_count": 105,
   "id": "0e3eea55",
   "metadata": {},
   "outputs": [
    {
     "data": {
      "text/plain": [
       "GradientBoostingRegressor(max_depth=2, n_estimators=120)"
      ]
     },
     "execution_count": 105,
     "metadata": {},
     "output_type": "execute_result"
    }
   ],
   "source": [
    "from sklearn.model_selection import train_test_split\n",
    "from sklearn.metrics import mean_squared_error\n",
    "\n",
    "X_train, X_val, y_train, y_val = train_test_split(X, y)\n",
    "\n",
    "gbrt = GradientBoostingRegressor(max_depth=2, n_estimators=120)\n",
    "gbrt.fit(X, y)\n",
    "\n",
    "errors = [mean_squared_error(y_val, y_pred)\n",
    "         for y_pred in gbrt.staged_predict(X_val)]\n",
    "bst_n_estimators = np.argmin(errors) + 1\n",
    "\n",
    "gbrt_best = GradientBoostingRegressor(max_depth=2, n_estimators=bst_n_estimators)\n",
    "gbrt_best.fit(X_train, y_train)"
   ]
  },
  {
   "cell_type": "code",
   "execution_count": 134,
   "id": "348f3488",
   "metadata": {},
   "outputs": [
    {
     "name": "stdout",
     "output_type": "stream",
     "text": [
      "7\n"
     ]
    }
   ],
   "source": [
    "gbrt = GradientBoostingRegressor(max_depth=2,warm_start=True)\n",
    "\n",
    "min_val_error = float('inf')\n",
    "error_going_up = 0\n",
    "for n_estimators in range(1, 120):\n",
    "    gbrt.n_estimators = n_estimators\n",
    "    gbrt.fit(X_train, y_train)\n",
    "    y_pred = gbrt.predict(X_val)\n",
    "    val_error = mean_squared_error(y_val, y_pred)\n",
    "    if val_error < min_val_error:\n",
    "        min_val_error = val_error\n",
    "        error_going_up=0\n",
    "    else:\n",
    "        error_going_up += 1\n",
    "        if error_going_up == 5:\n",
    "            break\n",
    "print(n_estimators)"
   ]
  },
  {
   "cell_type": "code",
   "execution_count": 135,
   "id": "2474504a",
   "metadata": {},
   "outputs": [],
   "source": [
    "import xgboost\n",
    "\n",
    "xgb_reg = xgboost.XGBRegressor()\n",
    "xgb_reg.fit(X_train, y_train)\n",
    "y_pred = xgb_reg.predict(X_val)"
   ]
  },
  {
   "cell_type": "code",
   "execution_count": 136,
   "id": "c1a9e98f",
   "metadata": {},
   "outputs": [
    {
     "name": "stdout",
     "output_type": "stream",
     "text": [
      "[0]\tvalidation_0-rmse:0.32868\n",
      "[1]\tvalidation_0-rmse:0.23592\n",
      "[2]\tvalidation_0-rmse:0.17140\n",
      "[3]\tvalidation_0-rmse:0.12696\n",
      "[4]\tvalidation_0-rmse:0.09797\n",
      "[5]\tvalidation_0-rmse:0.07885\n",
      "[6]\tvalidation_0-rmse:0.06643\n",
      "[7]\tvalidation_0-rmse:0.05918\n",
      "[8]\tvalidation_0-rmse:0.05514\n",
      "[9]\tvalidation_0-rmse:0.05312\n",
      "[10]\tvalidation_0-rmse:0.05240\n",
      "[11]\tvalidation_0-rmse:0.05201\n",
      "[12]\tvalidation_0-rmse:0.05162\n",
      "[13]\tvalidation_0-rmse:0.05154\n",
      "[14]\tvalidation_0-rmse:0.05202\n"
     ]
    }
   ],
   "source": [
    "xgb_reg.fit(X_train, y_train, \n",
    "           eval_set=[(X_val, y_val)], early_stopping_rounds=2)\n",
    "y_pred = xgb_reg.predict(X_val)"
   ]
  },
  {
   "cell_type": "code",
   "execution_count": null,
   "id": "1a1cadf9",
   "metadata": {},
   "outputs": [],
   "source": []
  }
 ],
 "metadata": {
  "kernelspec": {
   "display_name": "Python 3",
   "language": "python",
   "name": "python3"
  },
  "language_info": {
   "codemirror_mode": {
    "name": "ipython",
    "version": 3
   },
   "file_extension": ".py",
   "mimetype": "text/x-python",
   "name": "python",
   "nbconvert_exporter": "python",
   "pygments_lexer": "ipython3",
   "version": "3.8.8"
  }
 },
 "nbformat": 4,
 "nbformat_minor": 5
}
