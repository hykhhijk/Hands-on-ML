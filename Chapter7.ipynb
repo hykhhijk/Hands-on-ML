{
 "cells": [
  {
   "cell_type": "code",
   "execution_count": 25,
   "id": "b28a253e",
   "metadata": {},
   "outputs": [],
   "source": [
    "from sklearn.model_selection import train_test_split\n",
    "from sklearn.datasets import make_moons\n",
    "\n",
    "X, y = make_moons(n_samples=500, noise=0.30, random_state=42)\n",
    "X_train, X_test, y_train, y_test = train_test_split(X, y, random_state=42)"
   ]
  },
  {
   "cell_type": "code",
   "execution_count": 26,
   "id": "bcef7b61",
   "metadata": {},
   "outputs": [
    {
     "data": {
      "text/plain": [
       "VotingClassifier(estimators=[('lr', LogisticRegression()),\n",
       "                             ('rf', RandomForestClassifier()), ('svc', SVC())])"
      ]
     },
     "execution_count": 26,
     "metadata": {},
     "output_type": "execute_result"
    }
   ],
   "source": [
    "from sklearn.ensemble import RandomForestClassifier\n",
    "from sklearn.ensemble import VotingClassifier\n",
    "from sklearn.linear_model import LogisticRegression\n",
    "from sklearn.svm import SVC\n",
    "\n",
    "log_clf = LogisticRegression()\n",
    "rnd_clf = RandomForestClassifier()\n",
    "svm_clf = SVC()\n",
    "\n",
    "voting_clf = VotingClassifier(\n",
    "    estimators=[('lr', log_clf), ('rf', rnd_clf), ('svc',svm_clf)],\n",
    "    voting='hard')\n",
    "voting_clf.fit(X_train, y_train)"
   ]
  },
  {
   "cell_type": "code",
   "execution_count": 27,
   "id": "7610c4c6",
   "metadata": {},
   "outputs": [
    {
     "name": "stdout",
     "output_type": "stream",
     "text": [
      "LogisticRegression 0.864\n",
      "RandomForestClassifier 0.904\n",
      "SVC 0.896\n",
      "VotingClassifier 0.904\n"
     ]
    }
   ],
   "source": [
    "from sklearn.metrics import accuracy_score\n",
    "for clf in (log_clf, rnd_clf, svm_clf, voting_clf):\n",
    "    clf.fit(X_train, y_train)\n",
    "    y_pred = clf.predict(X_test)\n",
    "    print(clf.__class__.__name__, accuracy_score(y_test, y_pred))"
   ]
  },
  {
   "cell_type": "code",
   "execution_count": 28,
   "id": "87e2b305",
   "metadata": {},
   "outputs": [
    {
     "data": {
      "text/plain": [
       "VotingClassifier(estimators=[('lr', LogisticRegression()),\n",
       "                             ('rf', RandomForestClassifier()), ('svc', SVC())])"
      ]
     },
     "execution_count": 28,
     "metadata": {},
     "output_type": "execute_result"
    }
   ],
   "source": [
    "voting_clf_soft = VotingClassifier(\n",
    "    estimators=[('lr', log_clf), ('rf', rnd_clf), ('svc',svm_clf)],\n",
    "    voting='hard')\n",
    "voting_clf_soft.fit(X_train, y_train)"
   ]
  },
  {
   "cell_type": "code",
   "execution_count": 29,
   "id": "54ba4741",
   "metadata": {},
   "outputs": [
    {
     "name": "stdout",
     "output_type": "stream",
     "text": [
      "LogisticRegression 0.864\n",
      "RandomForestClassifier 0.896\n",
      "SVC 0.896\n",
      "VotingClassifier 0.896\n"
     ]
    }
   ],
   "source": [
    "from sklearn.metrics import accuracy_score\n",
    "for clf in (log_clf, rnd_clf, svm_clf, voting_clf_soft):\n",
    "    clf.fit(X_train, y_train)\n",
    "    y_pred = clf.predict(X_test)\n",
    "    print(clf.__class__.__name__, accuracy_score(y_test, y_pred))"
   ]
  },
  {
   "cell_type": "code",
   "execution_count": 30,
   "id": "fdc0669e",
   "metadata": {},
   "outputs": [
    {
     "data": {
      "text/plain": [
       "0.9253333333333333"
      ]
     },
     "execution_count": 30,
     "metadata": {},
     "output_type": "execute_result"
    }
   ],
   "source": [
    "from sklearn.ensemble import BaggingClassifier\n",
    "from sklearn.tree import DecisionTreeClassifier\n",
    "\n",
    "bag_clf = BaggingClassifier(\n",
    "    DecisionTreeClassifier(), n_estimators=500,\n",
    "    max_samples=100, bootstrap=True, n_jobs=-1, oob_score=True)\n",
    "bag_clf.fit(X_train, y_train)\n",
    "y_pred = bag_clf.predict(X_test)\n",
    "bag_clf.oob_score_"
   ]
  },
  {
   "cell_type": "code",
   "execution_count": 31,
   "id": "3f5d0b52",
   "metadata": {},
   "outputs": [
    {
     "data": {
      "text/plain": [
       "0.9013333333333333"
      ]
     },
     "execution_count": 31,
     "metadata": {},
     "output_type": "execute_result"
    }
   ],
   "source": [
    "bag_clf = BaggingClassifier(\n",
    "    DecisionTreeClassifier(), n_estimators=500,\n",
    "   bootstrap=True, n_jobs=-1, oob_score=True)\n",
    "\n",
    "bag_clf.fit(X_train, y_train)\n",
    "bag_clf.oob_score_"
   ]
  },
  {
   "cell_type": "code",
   "execution_count": 32,
   "id": "9d8074f5",
   "metadata": {},
   "outputs": [
    {
     "data": {
      "text/plain": [
       "0.912"
      ]
     },
     "execution_count": 32,
     "metadata": {},
     "output_type": "execute_result"
    }
   ],
   "source": [
    "from sklearn.metrics import accuracy_score\n",
    "y_pred = bag_clf.predict(X_test)\n",
    "accuracy_score(y_test, y_pred)"
   ]
  },
  {
   "cell_type": "code",
   "execution_count": 33,
   "id": "a5d2ab8d",
   "metadata": {},
   "outputs": [
    {
     "data": {
      "text/plain": [
       "array([[0.38043478, 0.61956522],\n",
       "       [0.31382979, 0.68617021],\n",
       "       [1.        , 0.        ],\n",
       "       [0.        , 1.        ],\n",
       "       [0.        , 1.        ],\n",
       "       [0.09444444, 0.90555556],\n",
       "       [0.37222222, 0.62777778],\n",
       "       [0.03333333, 0.96666667],\n",
       "       [0.9875    , 0.0125    ],\n",
       "       [0.96774194, 0.03225806],\n",
       "       [0.73684211, 0.26315789],\n",
       "       [0.00584795, 0.99415205],\n",
       "       [0.78431373, 0.21568627],\n",
       "       [0.81578947, 0.18421053],\n",
       "       [0.96808511, 0.03191489],\n",
       "       [0.08854167, 0.91145833],\n",
       "       [0.        , 1.        ],\n",
       "       [0.99428571, 0.00571429],\n",
       "       [0.94535519, 0.05464481],\n",
       "       [0.96089385, 0.03910615],\n",
       "       [0.01123596, 0.98876404],\n",
       "       [0.32804233, 0.67195767],\n",
       "       [0.90229885, 0.09770115],\n",
       "       [1.        , 0.        ],\n",
       "       [0.96703297, 0.03296703],\n",
       "       [0.        , 1.        ],\n",
       "       [0.99473684, 0.00526316],\n",
       "       [1.        , 0.        ],\n",
       "       [0.        , 1.        ],\n",
       "       [0.61081081, 0.38918919],\n",
       "       [0.        , 1.        ],\n",
       "       [1.        , 0.        ],\n",
       "       [0.        , 1.        ],\n",
       "       [0.        , 1.        ],\n",
       "       [0.14358974, 0.85641026],\n",
       "       [0.99435028, 0.00564972],\n",
       "       [0.        , 1.        ],\n",
       "       [0.35028249, 0.64971751],\n",
       "       [0.        , 1.        ],\n",
       "       [1.        , 0.        ],\n",
       "       [0.23589744, 0.76410256],\n",
       "       [0.32727273, 0.67272727],\n",
       "       [1.        , 0.        ],\n",
       "       [1.        , 0.        ],\n",
       "       [0.        , 1.        ],\n",
       "       [1.        , 0.        ],\n",
       "       [1.        , 0.        ],\n",
       "       [0.02604167, 0.97395833],\n",
       "       [1.        , 0.        ],\n",
       "       [0.00487805, 0.99512195],\n",
       "       [1.        , 0.        ],\n",
       "       [0.86127168, 0.13872832],\n",
       "       [0.97938144, 0.02061856],\n",
       "       [1.        , 0.        ],\n",
       "       [0.        , 1.        ],\n",
       "       [0.0441989 , 0.9558011 ],\n",
       "       [0.99468085, 0.00531915],\n",
       "       [0.00483092, 0.99516908],\n",
       "       [0.        , 1.        ],\n",
       "       [0.00546448, 0.99453552],\n",
       "       [0.99492386, 0.00507614],\n",
       "       [0.8045977 , 0.1954023 ],\n",
       "       [0.4619883 , 0.5380117 ],\n",
       "       [1.        , 0.        ],\n",
       "       [0.        , 1.        ],\n",
       "       [0.72159091, 0.27840909],\n",
       "       [1.        , 0.        ],\n",
       "       [1.        , 0.        ],\n",
       "       [0.86813187, 0.13186813],\n",
       "       [1.        , 0.        ],\n",
       "       [0.62564103, 0.37435897],\n",
       "       [0.10555556, 0.89444444],\n",
       "       [0.57425743, 0.42574257],\n",
       "       [0.90306122, 0.09693878],\n",
       "       [0.        , 1.        ],\n",
       "       [0.16216216, 0.83783784],\n",
       "       [0.8852459 , 0.1147541 ],\n",
       "       [1.        , 0.        ],\n",
       "       [0.        , 1.        ],\n",
       "       [1.        , 0.        ],\n",
       "       [0.        , 1.        ],\n",
       "       [0.02272727, 0.97727273],\n",
       "       [0.02890173, 0.97109827],\n",
       "       [0.26011561, 0.73988439],\n",
       "       [1.        , 0.        ],\n",
       "       [0.        , 1.        ],\n",
       "       [0.86021505, 0.13978495],\n",
       "       [0.00598802, 0.99401198],\n",
       "       [0.        , 1.        ],\n",
       "       [0.        , 1.        ],\n",
       "       [0.28021978, 0.71978022],\n",
       "       [1.        , 0.        ],\n",
       "       [0.        , 1.        ],\n",
       "       [0.        , 1.        ],\n",
       "       [0.        , 1.        ],\n",
       "       [0.96858639, 0.03141361],\n",
       "       [0.79532164, 0.20467836],\n",
       "       [0.00512821, 0.99487179],\n",
       "       [1.        , 0.        ],\n",
       "       [0.21276596, 0.78723404],\n",
       "       [0.6       , 0.4       ],\n",
       "       [0.        , 1.        ],\n",
       "       [0.03314917, 0.96685083],\n",
       "       [0.5       , 0.5       ],\n",
       "       [0.99470899, 0.00529101],\n",
       "       [0.04733728, 0.95266272],\n",
       "       [1.        , 0.        ],\n",
       "       [0.21192053, 0.78807947],\n",
       "       [0.44623656, 0.55376344],\n",
       "       [1.        , 0.        ],\n",
       "       [0.04278075, 0.95721925],\n",
       "       [0.98795181, 0.01204819],\n",
       "       [0.29533679, 0.70466321],\n",
       "       [0.89304813, 0.10695187],\n",
       "       [1.        , 0.        ],\n",
       "       [1.        , 0.        ],\n",
       "       [0.        , 1.        ],\n",
       "       [0.        , 1.        ],\n",
       "       [0.76404494, 0.23595506],\n",
       "       [1.        , 0.        ],\n",
       "       [0.00526316, 0.99473684],\n",
       "       [1.        , 0.        ],\n",
       "       [1.        , 0.        ],\n",
       "       [1.        , 0.        ],\n",
       "       [0.98863636, 0.01136364],\n",
       "       [1.        , 0.        ],\n",
       "       [0.        , 1.        ],\n",
       "       [0.96216216, 0.03783784],\n",
       "       [0.99484536, 0.00515464],\n",
       "       [0.00595238, 0.99404762],\n",
       "       [0.2183908 , 0.7816092 ],\n",
       "       [0.9516129 , 0.0483871 ],\n",
       "       [0.31693989, 0.68306011],\n",
       "       [0.98445596, 0.01554404],\n",
       "       [0.        , 1.        ],\n",
       "       [0.        , 1.        ],\n",
       "       [0.73958333, 0.26041667],\n",
       "       [0.37869822, 0.62130178],\n",
       "       [0.41304348, 0.58695652],\n",
       "       [0.92391304, 0.07608696],\n",
       "       [0.94827586, 0.05172414],\n",
       "       [0.08333333, 0.91666667],\n",
       "       [0.74725275, 0.25274725],\n",
       "       [0.        , 1.        ],\n",
       "       [0.        , 1.        ],\n",
       "       [0.03465347, 0.96534653],\n",
       "       [0.98421053, 0.01578947],\n",
       "       [0.99507389, 0.00492611],\n",
       "       [1.        , 0.        ],\n",
       "       [0.00552486, 0.99447514],\n",
       "       [0.        , 1.        ],\n",
       "       [0.01025641, 0.98974359],\n",
       "       [0.00613497, 0.99386503],\n",
       "       [1.        , 0.        ],\n",
       "       [0.99411765, 0.00588235],\n",
       "       [0.93717277, 0.06282723],\n",
       "       [1.        , 0.        ],\n",
       "       [1.        , 0.        ],\n",
       "       [0.99415205, 0.00584795],\n",
       "       [0.        , 1.        ],\n",
       "       [0.38554217, 0.61445783],\n",
       "       [0.315     , 0.685     ],\n",
       "       [0.005     , 0.995     ],\n",
       "       [0.        , 1.        ],\n",
       "       [0.28342246, 0.71657754],\n",
       "       [1.        , 0.        ],\n",
       "       [0.99456522, 0.00543478],\n",
       "       [0.        , 1.        ],\n",
       "       [1.        , 0.        ],\n",
       "       [0.        , 1.        ],\n",
       "       [0.        , 1.        ],\n",
       "       [0.97727273, 0.02272727],\n",
       "       [0.        , 1.        ],\n",
       "       [0.        , 1.        ],\n",
       "       [1.        , 0.        ],\n",
       "       [0.00555556, 0.99444444],\n",
       "       [0.66049383, 0.33950617],\n",
       "       [0.91891892, 0.08108108],\n",
       "       [0.        , 1.        ],\n",
       "       [0.99484536, 0.00515464],\n",
       "       [1.        , 0.        ],\n",
       "       [1.        , 0.        ],\n",
       "       [0.        , 1.        ],\n",
       "       [0.        , 1.        ],\n",
       "       [1.        , 0.        ],\n",
       "       [0.08196721, 0.91803279],\n",
       "       [1.        , 0.        ],\n",
       "       [0.08920188, 0.91079812],\n",
       "       [0.        , 1.        ],\n",
       "       [1.        , 0.        ],\n",
       "       [0.        , 1.        ],\n",
       "       [0.02380952, 0.97619048],\n",
       "       [1.        , 0.        ],\n",
       "       [0.9132948 , 0.0867052 ],\n",
       "       [0.75555556, 0.24444444],\n",
       "       [0.57754011, 0.42245989],\n",
       "       [0.        , 1.        ],\n",
       "       [0.17679558, 0.82320442],\n",
       "       [1.        , 0.        ],\n",
       "       [0.96410256, 0.03589744],\n",
       "       [0.9787234 , 0.0212766 ],\n",
       "       [1.        , 0.        ],\n",
       "       [0.00581395, 0.99418605],\n",
       "       [0.        , 1.        ],\n",
       "       [0.53658537, 0.46341463],\n",
       "       [0.83419689, 0.16580311],\n",
       "       [0.        , 1.        ],\n",
       "       [0.        , 1.        ],\n",
       "       [0.99438202, 0.00561798],\n",
       "       [0.01111111, 0.98888889],\n",
       "       [0.        , 1.        ],\n",
       "       [0.97076023, 0.02923977],\n",
       "       [0.        , 1.        ],\n",
       "       [0.24064171, 0.75935829],\n",
       "       [0.        , 1.        ],\n",
       "       [1.        , 0.        ],\n",
       "       [0.        , 1.        ],\n",
       "       [0.        , 1.        ],\n",
       "       [0.97765363, 0.02234637],\n",
       "       [0.84117647, 0.15882353],\n",
       "       [0.99502488, 0.00497512],\n",
       "       [0.        , 1.        ],\n",
       "       [0.10778443, 0.89221557],\n",
       "       [0.99492386, 0.00507614],\n",
       "       [0.02890173, 0.97109827],\n",
       "       [0.        , 1.        ],\n",
       "       [0.05472637, 0.94527363],\n",
       "       [1.        , 0.        ],\n",
       "       [0.80981595, 0.19018405],\n",
       "       [0.        , 1.        ],\n",
       "       [0.90816327, 0.09183673],\n",
       "       [0.9939759 , 0.0060241 ],\n",
       "       [0.21428571, 0.78571429],\n",
       "       [0.21078431, 0.78921569],\n",
       "       [1.        , 0.        ],\n",
       "       [0.        , 1.        ],\n",
       "       [0.        , 1.        ],\n",
       "       [0.        , 1.        ],\n",
       "       [0.30653266, 0.69346734],\n",
       "       [0.95135135, 0.04864865],\n",
       "       [0.01036269, 0.98963731],\n",
       "       [1.        , 0.        ],\n",
       "       [1.        , 0.        ],\n",
       "       [0.        , 1.        ],\n",
       "       [0.53225806, 0.46774194],\n",
       "       [1.        , 0.        ],\n",
       "       [0.        , 1.        ],\n",
       "       [1.        , 0.        ],\n",
       "       [0.        , 1.        ],\n",
       "       [0.        , 1.        ],\n",
       "       [0.10928962, 0.89071038],\n",
       "       [0.12068966, 0.87931034],\n",
       "       [0.97948718, 0.02051282],\n",
       "       [0.01081081, 0.98918919],\n",
       "       [1.        , 0.        ],\n",
       "       [0.36507937, 0.63492063],\n",
       "       [0.07246377, 0.92753623],\n",
       "       [0.56666667, 0.43333333],\n",
       "       [0.63483146, 0.36516854],\n",
       "       [0.        , 1.        ],\n",
       "       [1.        , 0.        ],\n",
       "       [0.        , 1.        ],\n",
       "       [0.        , 1.        ],\n",
       "       [0.58333333, 0.41666667],\n",
       "       [0.        , 1.        ],\n",
       "       [1.        , 0.        ],\n",
       "       [0.2295082 , 0.7704918 ],\n",
       "       [0.82051282, 0.17948718],\n",
       "       [0.06842105, 0.93157895],\n",
       "       [1.        , 0.        ],\n",
       "       [0.83695652, 0.16304348],\n",
       "       [0.        , 1.        ],\n",
       "       [0.00574713, 0.99425287],\n",
       "       [0.09142857, 0.90857143],\n",
       "       [0.01111111, 0.98888889],\n",
       "       [0.        , 1.        ],\n",
       "       [1.        , 0.        ],\n",
       "       [0.92397661, 0.07602339],\n",
       "       [0.12777778, 0.87222222],\n",
       "       [0.94472362, 0.05527638],\n",
       "       [0.00518135, 0.99481865],\n",
       "       [0.57219251, 0.42780749],\n",
       "       [0.11235955, 0.88764045],\n",
       "       [0.98809524, 0.01190476],\n",
       "       [0.78421053, 0.21578947],\n",
       "       [0.        , 1.        ],\n",
       "       [1.        , 0.        ],\n",
       "       [0.93442623, 0.06557377],\n",
       "       [0.        , 1.        ],\n",
       "       [0.00518135, 0.99481865],\n",
       "       [1.        , 0.        ],\n",
       "       [0.        , 1.        ],\n",
       "       [1.        , 0.        ],\n",
       "       [0.24277457, 0.75722543],\n",
       "       [1.        , 0.        ],\n",
       "       [1.        , 0.        ],\n",
       "       [0.        , 1.        ],\n",
       "       [0.        , 1.        ],\n",
       "       [0.89534884, 0.10465116],\n",
       "       [0.        , 1.        ],\n",
       "       [1.        , 0.        ],\n",
       "       [0.75706215, 0.24293785],\n",
       "       [0.90666667, 0.09333333],\n",
       "       [1.        , 0.        ],\n",
       "       [0.65641026, 0.34358974],\n",
       "       [0.42696629, 0.57303371],\n",
       "       [0.        , 1.        ],\n",
       "       [0.9281768 , 0.0718232 ],\n",
       "       [0.        , 1.        ],\n",
       "       [1.        , 0.        ],\n",
       "       [0.85276074, 0.14723926],\n",
       "       [1.        , 0.        ],\n",
       "       [1.        , 0.        ],\n",
       "       [0.79487179, 0.20512821],\n",
       "       [0.12432432, 0.87567568],\n",
       "       [0.47567568, 0.52432432],\n",
       "       [0.22279793, 0.77720207],\n",
       "       [0.        , 1.        ],\n",
       "       [0.9015544 , 0.0984456 ],\n",
       "       [0.85492228, 0.14507772],\n",
       "       [0.00581395, 0.99418605],\n",
       "       [1.        , 0.        ],\n",
       "       [1.        , 0.        ],\n",
       "       [1.        , 0.        ],\n",
       "       [0.        , 1.        ],\n",
       "       [0.02645503, 0.97354497],\n",
       "       [0.96428571, 0.03571429],\n",
       "       [0.97409326, 0.02590674],\n",
       "       [1.        , 0.        ],\n",
       "       [0.48913043, 0.51086957],\n",
       "       [1.        , 0.        ],\n",
       "       [0.00558659, 0.99441341],\n",
       "       [0.98305085, 0.01694915],\n",
       "       [0.0212766 , 0.9787234 ],\n",
       "       [1.        , 0.        ],\n",
       "       [1.        , 0.        ],\n",
       "       [1.        , 0.        ],\n",
       "       [0.        , 1.        ],\n",
       "       [0.99444444, 0.00555556],\n",
       "       [0.        , 1.        ],\n",
       "       [0.04787234, 0.95212766],\n",
       "       [0.00526316, 0.99473684],\n",
       "       [0.        , 1.        ],\n",
       "       [1.        , 0.        ],\n",
       "       [1.        , 0.        ],\n",
       "       [0.        , 1.        ],\n",
       "       [0.9947644 , 0.0052356 ],\n",
       "       [0.        , 1.        ],\n",
       "       [1.        , 0.        ],\n",
       "       [0.16666667, 0.83333333],\n",
       "       [0.        , 1.        ],\n",
       "       [0.        , 1.        ],\n",
       "       [0.        , 1.        ],\n",
       "       [0.4047619 , 0.5952381 ],\n",
       "       [0.09340659, 0.90659341],\n",
       "       [0.17241379, 0.82758621],\n",
       "       [1.        , 0.        ],\n",
       "       [0.98963731, 0.01036269],\n",
       "       [0.21938776, 0.78061224],\n",
       "       [0.97894737, 0.02105263],\n",
       "       [0.        , 1.        ],\n",
       "       [0.        , 1.        ],\n",
       "       [1.        , 0.        ],\n",
       "       [0.94535519, 0.05464481],\n",
       "       [0.359375  , 0.640625  ],\n",
       "       [1.        , 0.        ],\n",
       "       [1.        , 0.        ],\n",
       "       [0.        , 1.        ],\n",
       "       [0.99431818, 0.00568182],\n",
       "       [0.        , 1.        ],\n",
       "       [0.02777778, 0.97222222],\n",
       "       [1.        , 0.        ],\n",
       "       [1.        , 0.        ],\n",
       "       [0.01075269, 0.98924731],\n",
       "       [0.67934783, 0.32065217]])"
      ]
     },
     "execution_count": 33,
     "metadata": {},
     "output_type": "execute_result"
    }
   ],
   "source": [
    "bag_clf.oob_decision_function_"
   ]
  },
  {
   "cell_type": "code",
   "execution_count": 34,
   "id": "c0b629c9",
   "metadata": {},
   "outputs": [],
   "source": [
    "from sklearn.ensemble import RandomForestClassifier\n",
    "\n",
    "rnd_clf = RandomForestClassifier(n_estimators = 500, max_leaf_nodes=16, n_jobs=-1)\n",
    "rnd_clf.fit(X_train, y_train)\n",
    "\n",
    "y_pred_rf = rnd_clf.predict(X_test)"
   ]
  },
  {
   "cell_type": "code",
   "execution_count": 35,
   "id": "2b5dedee",
   "metadata": {},
   "outputs": [],
   "source": [
    "bag_clf = BaggingClassifier(\n",
    "    DecisionTreeClassifier(max_features=\"auto\", max_leaf_nodes=16),\n",
    "    n_estimators=500, max_samples=1.0, bootstrap=True, n_jobs=-1)"
   ]
  },
  {
   "cell_type": "code",
   "execution_count": 36,
   "id": "74a55684",
   "metadata": {},
   "outputs": [
    {
     "name": "stdout",
     "output_type": "stream",
     "text": [
      "sepal length (cm) 0.1025732290135256\n",
      "sepal width (cm) 0.025865137389393226\n",
      "petal length (cm) 0.4378270272311014\n",
      "petal width (cm) 0.43373460636597977\n"
     ]
    }
   ],
   "source": [
    "from sklearn.datasets import load_iris\n",
    "iris = load_iris()\n",
    "rnd_clf = RandomForestClassifier(n_estimators=500, n_jobs=-1)\n",
    "rnd_clf.fit(iris[\"data\"], iris[\"target\"])\n",
    "for name, score in zip(iris[\"feature_names\"], rnd_clf.feature_importances_):\n",
    "    print(name, score)"
   ]
  },
  {
   "cell_type": "code",
   "execution_count": 37,
   "id": "596e8045",
   "metadata": {},
   "outputs": [
    {
     "data": {
      "text/plain": [
       "AdaBoostClassifier(base_estimator=DecisionTreeClassifier(max_depth=1),\n",
       "                   learning_rate=0.5, n_estimators=200)"
      ]
     },
     "execution_count": 37,
     "metadata": {},
     "output_type": "execute_result"
    }
   ],
   "source": [
    "from sklearn.ensemble import AdaBoostClassifier\n",
    "\n",
    "ada_clf = AdaBoostClassifier(\n",
    "    DecisionTreeClassifier(max_depth=1), n_estimators=200,\n",
    "    algorithm=\"SAMME.R\", learning_rate=0.5)\n",
    "ada_clf.fit(X_train, y_train)"
   ]
  },
  {
   "cell_type": "code",
   "execution_count": 38,
   "id": "04d6b997",
   "metadata": {},
   "outputs": [],
   "source": [
    "import numpy as np\n",
    "np.random.seed(42)\n",
    "X = np.random.rand(100, 1) - 0.5\n",
    "y = 3*X[0]**2 + 0.05 * np.random.randn(100)"
   ]
  },
  {
   "cell_type": "code",
   "execution_count": 39,
   "id": "5c3a5620",
   "metadata": {},
   "outputs": [
    {
     "data": {
      "text/plain": [
       "DecisionTreeRegressor(max_depth=2)"
      ]
     },
     "execution_count": 39,
     "metadata": {},
     "output_type": "execute_result"
    }
   ],
   "source": [
    "from sklearn.tree import DecisionTreeRegressor\n",
    "\n",
    "tree_reg1 = DecisionTreeRegressor(max_depth=2)\n",
    "tree_reg1.fit(X, y)"
   ]
  },
  {
   "cell_type": "code",
   "execution_count": 40,
   "id": "af593f89",
   "metadata": {},
   "outputs": [
    {
     "data": {
      "text/plain": [
       "DecisionTreeRegressor(max_depth=2)"
      ]
     },
     "execution_count": 40,
     "metadata": {},
     "output_type": "execute_result"
    }
   ],
   "source": [
    "#회귀모델 예측값이 같을때 y2=0\n",
    "y2 = y - tree_reg1.predict(X)\n",
    "tree_reg2 = DecisionTreeRegressor(max_depth=2)\n",
    "tree_reg2.fit(X, y2)"
   ]
  },
  {
   "cell_type": "code",
   "execution_count": 41,
   "id": "e18d9ce7",
   "metadata": {},
   "outputs": [
    {
     "data": {
      "text/plain": [
       "DecisionTreeRegressor(max_depth=2)"
      ]
     },
     "execution_count": 41,
     "metadata": {},
     "output_type": "execute_result"
    }
   ],
   "source": [
    "y3 = y2 - tree_reg2.predict(X)\n",
    "tree_reg3 = DecisionTreeRegressor(max_depth=2)\n",
    "tree_reg3.fit(X, y3)"
   ]
  },
  {
   "cell_type": "code",
   "execution_count": 42,
   "id": "c5ab1073",
   "metadata": {},
   "outputs": [],
   "source": [
    "X_new = np.array([[0.8]])\n",
    "y_pred = sum(tree.predict(X_new) for tree in (tree_reg1, tree_reg2, tree_reg3))"
   ]
  },
  {
   "cell_type": "code",
   "execution_count": 43,
   "id": "2fb0c313",
   "metadata": {},
   "outputs": [
    {
     "data": {
      "text/plain": [
       "GradientBoostingRegressor(learning_rate=1.0, max_depth=2, n_estimators=3)"
      ]
     },
     "execution_count": 43,
     "metadata": {},
     "output_type": "execute_result"
    }
   ],
   "source": [
    "from sklearn.ensemble import GradientBoostingRegressor\n",
    "\n",
    "gbrt = GradientBoostingRegressor(max_depth=2, n_estimators=3, learning_rate=1.0)\n",
    "gbrt.fit(X, y)"
   ]
  },
  {
   "cell_type": "code",
   "execution_count": 44,
   "id": "0e3eea55",
   "metadata": {},
   "outputs": [
    {
     "data": {
      "text/plain": [
       "GradientBoostingRegressor(max_depth=2, n_estimators=119)"
      ]
     },
     "execution_count": 44,
     "metadata": {},
     "output_type": "execute_result"
    }
   ],
   "source": [
    "from sklearn.model_selection import train_test_split\n",
    "from sklearn.metrics import mean_squared_error\n",
    "\n",
    "X_train, X_val, y_train, y_val = train_test_split(X, y)\n",
    "\n",
    "gbrt = GradientBoostingRegressor(max_depth=2, n_estimators=120)\n",
    "gbrt.fit(X, y)\n",
    "\n",
    "errors = [mean_squared_error(y_val, y_pred)\n",
    "         for y_pred in gbrt.staged_predict(X_val)]\n",
    "bst_n_estimators = np.argmin(errors) + 1\n",
    "\n",
    "gbrt_best = GradientBoostingRegressor(max_depth=2, n_estimators=bst_n_estimators)\n",
    "gbrt_best.fit(X_train, y_train)\n",
    "#그래프 그리는거 chk'"
   ]
  },
  {
   "cell_type": "code",
   "execution_count": 45,
   "id": "348f3488",
   "metadata": {},
   "outputs": [],
   "source": [
    "gbrt = GradientBoostingRegressor(max_depth=2, warm_start=True)\n",
    "\n",
    "min_val_error = float('inf')\n",
    "error_going_up = 0\n",
    "for n_estimators in range(1, 120):\n",
    "    gbrt.n_estimators = n_estimators\n",
    "    gbrt.fit(X_train, y_train)\n",
    "    y_pred = gbrt.predict(X_val)\n",
    "    val_error = mean_squared_error(y_val, y_pred)\n",
    "    if val_error < min_val_error:\n",
    "        min_val_error = val_error\n",
    "        error_going_up=0\n",
    "    else:\n",
    "        error_going_up += 1\n",
    "        if error_going_up == 5:\n",
    "            break"
   ]
  },
  {
   "cell_type": "code",
   "execution_count": 49,
   "id": "2474504a",
   "metadata": {},
   "outputs": [],
   "source": [
    "import xgboost\n",
    "\n",
    "xgb_reg = xgboost.XGBRegressor()\n",
    "xgb_reg.fit(X_train, y_train)\n",
    "y_pred = xgb_reg.predict(X_val)"
   ]
  },
  {
   "cell_type": "code",
   "execution_count": 51,
   "id": "c1a9e98f",
   "metadata": {},
   "outputs": [
    {
     "name": "stdout",
     "output_type": "stream",
     "text": [
      "[0]\tvalidation_0-rmse:0.31710\n",
      "[1]\tvalidation_0-rmse:0.22376\n",
      "[2]\tvalidation_0-rmse:0.15902\n",
      "[3]\tvalidation_0-rmse:0.11691\n",
      "[4]\tvalidation_0-rmse:0.09041\n",
      "[5]\tvalidation_0-rmse:0.07341\n",
      "[6]\tvalidation_0-rmse:0.06197\n",
      "[7]\tvalidation_0-rmse:0.05722\n",
      "[8]\tvalidation_0-rmse:0.05659\n",
      "[9]\tvalidation_0-rmse:0.05527\n",
      "[10]\tvalidation_0-rmse:0.05433\n",
      "[11]\tvalidation_0-rmse:0.05444\n",
      "[12]\tvalidation_0-rmse:0.05453\n"
     ]
    }
   ],
   "source": [
    "xgb_reg.fit(X_train, y_train, \n",
    "           eval_set=[(X_val, y_val)], early_stopping_rounds=2)\n",
    "y_pred = xgb_reg.predict(X_val)"
   ]
  },
  {
   "cell_type": "code",
   "execution_count": null,
   "id": "c7ffab8d",
   "metadata": {},
   "outputs": [],
   "source": []
  }
 ],
 "metadata": {
  "kernelspec": {
   "display_name": "Python 3",
   "language": "python",
   "name": "python3"
  },
  "language_info": {
   "codemirror_mode": {
    "name": "ipython",
    "version": 3
   },
   "file_extension": ".py",
   "mimetype": "text/x-python",
   "name": "python",
   "nbconvert_exporter": "python",
   "pygments_lexer": "ipython3",
   "version": "3.8.8"
  }
 },
 "nbformat": 4,
 "nbformat_minor": 5
}
