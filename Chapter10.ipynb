{
 "cells": [
  {
   "cell_type": "code",
   "execution_count": 245,
   "id": "a3ea79d8",
   "metadata": {},
   "outputs": [],
   "source": [
    "import numpy as np\n",
    "from sklearn.datasets import load_iris\n",
    "from sklearn.linear_model import Perceptron\n",
    "\n",
    "iris = load_iris()\n",
    "X = iris.data[:, (2,3)]\n",
    "y = (iris.target == 0).astype(np.int)\n",
    "\n",
    "per_clf = Perceptron()\n",
    "per_clf.fit(X, y)\n",
    "\n",
    "y_pred = per_clf.predict([[2, 0.5]])"
   ]
  },
  {
   "cell_type": "code",
   "execution_count": 246,
   "id": "ecdeba2a",
   "metadata": {},
   "outputs": [],
   "source": [
    "import tensorflow as tf\n",
    "from tensorflow import keras"
   ]
  },
  {
   "cell_type": "code",
   "execution_count": 247,
   "id": "e8611af2",
   "metadata": {},
   "outputs": [
    {
     "data": {
      "text/plain": [
       "'2.6.0'"
      ]
     },
     "execution_count": 247,
     "metadata": {},
     "output_type": "execute_result"
    }
   ],
   "source": [
    "keras.__version__"
   ]
  },
  {
   "cell_type": "code",
   "execution_count": 248,
   "id": "9ea048a2",
   "metadata": {},
   "outputs": [],
   "source": [
    "fashion_mnist =  keras.datasets.fashion_mnist\n",
    "(X_train_full, y_train_full), (X_test, y_test) = fashion_mnist.load_data()"
   ]
  },
  {
   "cell_type": "code",
   "execution_count": 249,
   "id": "d8931b7a",
   "metadata": {},
   "outputs": [
    {
     "data": {
      "text/plain": [
       "dtype('uint8')"
      ]
     },
     "execution_count": 249,
     "metadata": {},
     "output_type": "execute_result"
    }
   ],
   "source": [
    "X_train_full.dtype"
   ]
  },
  {
   "cell_type": "code",
   "execution_count": 250,
   "id": "1d6b3cc4",
   "metadata": {},
   "outputs": [
    {
     "data": {
      "text/plain": [
       "(60000, 28, 28)"
      ]
     },
     "execution_count": 250,
     "metadata": {},
     "output_type": "execute_result"
    }
   ],
   "source": [
    "X_train_full.shape"
   ]
  },
  {
   "cell_type": "code",
   "execution_count": 251,
   "id": "6db8dc2f",
   "metadata": {},
   "outputs": [],
   "source": [
    "#validation세트 만들고 경사하강법을 위해 255로 나눠줌(0~1)\n",
    "\n",
    "X_valid, X_train = X_train_full[:5000] / 255.0, X_train_full[5000:]/255.0\n",
    "y_valid, y_train = y_train_full[:5000] , y_train_full[5000:]\n",
    "X_test = X_test/255.0"
   ]
  },
  {
   "cell_type": "code",
   "execution_count": 252,
   "id": "7c3666d4",
   "metadata": {},
   "outputs": [],
   "source": [
    "class_names = [\"T-shirt/top\", \"Trouser\", \"Pullover\",\"Dress\",\"Coat\",\"Sandal\",\"Shirt\",\"Sneaker\",\"bas\",\"Ankle boot\"]"
   ]
  },
  {
   "cell_type": "code",
   "execution_count": 253,
   "id": "5e13ffb1",
   "metadata": {},
   "outputs": [
    {
     "data": {
      "text/plain": [
       "'Coat'"
      ]
     },
     "execution_count": 253,
     "metadata": {},
     "output_type": "execute_result"
    }
   ],
   "source": [
    "class_names[y_train[0]]"
   ]
  },
  {
   "cell_type": "markdown",
   "id": "8c961e53",
   "metadata": {},
   "source": [
    "### 아래의 Flatten layer는 28 * 28행렬을 784배열로 바꿔줌"
   ]
  },
  {
   "cell_type": "code",
   "execution_count": 254,
   "id": "14602ad2",
   "metadata": {},
   "outputs": [],
   "source": [
    "model = keras.models.Sequential()\n",
    "model.add(keras.layers.Flatten(input_shape=[28, 28]))\n",
    "model.add(keras.layers.Dense(300, activation=\"relu\"))\n",
    "model.add(keras.layers.Dense(100, activation=\"relu\"))\n",
    "model.add(keras.layers.Dense(10, activation=\"softmax\"))"
   ]
  },
  {
   "cell_type": "code",
   "execution_count": 255,
   "id": "b92ad441",
   "metadata": {},
   "outputs": [],
   "source": [
    "### 위와 동일\n",
    "\n",
    "model = keras.models.Sequential([\n",
    "    keras.layers.Flatten(input_shape=[28, 28]),\n",
    "    keras.layers.Dense(300, activation=\"relu\"),\n",
    "    keras.layers.Dense(100, activation=\"relu\"),\n",
    "    keras.layers.Dense(10, activation=\"softmax\")\n",
    "])"
   ]
  },
  {
   "cell_type": "code",
   "execution_count": 256,
   "id": "7e2b53d9",
   "metadata": {},
   "outputs": [],
   "source": [
    "from keras.layers import Dense\n",
    "output_layer = Dense(10)"
   ]
  },
  {
   "cell_type": "code",
   "execution_count": 257,
   "id": "edb52c3b",
   "metadata": {},
   "outputs": [
    {
     "data": {
      "text/plain": [
       "<keras.layers.core.Dense at 0x200f514e040>"
      ]
     },
     "execution_count": 257,
     "metadata": {},
     "output_type": "execute_result"
    }
   ],
   "source": [
    "output_layer"
   ]
  },
  {
   "cell_type": "code",
   "execution_count": 258,
   "id": "92e3c0f2",
   "metadata": {},
   "outputs": [],
   "source": [
    "from tensorflow.keras.layers import Dense\n",
    "output_layer = Dense(10)"
   ]
  },
  {
   "cell_type": "code",
   "execution_count": 259,
   "id": "ccf74b74",
   "metadata": {},
   "outputs": [
    {
     "data": {
      "text/plain": [
       "<keras.layers.core.Dense at 0x20103821b80>"
      ]
     },
     "execution_count": 259,
     "metadata": {},
     "output_type": "execute_result"
    }
   ],
   "source": [
    "output_layer"
   ]
  },
  {
   "cell_type": "code",
   "execution_count": 260,
   "id": "71fd38fc",
   "metadata": {},
   "outputs": [
    {
     "name": "stdout",
     "output_type": "stream",
     "text": [
      "Model: \"sequential_17\"\n",
      "_________________________________________________________________\n",
      "Layer (type)                 Output Shape              Param #   \n",
      "=================================================================\n",
      "flatten_11 (Flatten)         (None, 784)               0         \n",
      "_________________________________________________________________\n",
      "dense_100 (Dense)            (None, 300)               235500    \n",
      "_________________________________________________________________\n",
      "dense_101 (Dense)            (None, 100)               30100     \n",
      "_________________________________________________________________\n",
      "dense_102 (Dense)            (None, 10)                1010      \n",
      "=================================================================\n",
      "Total params: 266,610\n",
      "Trainable params: 266,610\n",
      "Non-trainable params: 0\n",
      "_________________________________________________________________\n"
     ]
    }
   ],
   "source": [
    "model.summary()"
   ]
  },
  {
   "cell_type": "code",
   "execution_count": 261,
   "id": "ca10ff1f",
   "metadata": {},
   "outputs": [
    {
     "data": {
      "text/plain": [
       "[<keras.layers.core.Flatten at 0x200f514e8e0>,\n",
       " <keras.layers.core.Dense at 0x200f514edc0>,\n",
       " <keras.layers.core.Dense at 0x2010395cca0>,\n",
       " <keras.layers.core.Dense at 0x2010395c190>]"
      ]
     },
     "execution_count": 261,
     "metadata": {},
     "output_type": "execute_result"
    }
   ],
   "source": [
    "model.layers"
   ]
  },
  {
   "cell_type": "code",
   "execution_count": 262,
   "id": "9d4dfec1",
   "metadata": {},
   "outputs": [
    {
     "data": {
      "text/plain": [
       "'dense_100'"
      ]
     },
     "execution_count": 262,
     "metadata": {},
     "output_type": "execute_result"
    }
   ],
   "source": [
    "hidden1 = model.layers[1]\n",
    "hidden1.name"
   ]
  },
  {
   "cell_type": "code",
   "execution_count": 263,
   "id": "d66b29f7",
   "metadata": {},
   "outputs": [],
   "source": [
    "#model.get_layer(\"dense_50\") is hidden1"
   ]
  },
  {
   "cell_type": "code",
   "execution_count": 264,
   "id": "d4d4d2c9",
   "metadata": {},
   "outputs": [],
   "source": [
    "weights, biases = hidden1.get_weights()"
   ]
  },
  {
   "cell_type": "code",
   "execution_count": 265,
   "id": "b723655d",
   "metadata": {},
   "outputs": [
    {
     "data": {
      "text/plain": [
       "array([[ 0.03430481,  0.03111666,  0.03266805, ...,  0.07217963,\n",
       "        -0.04139739, -0.05624133],\n",
       "       [ 0.05008132, -0.04670797, -0.06294327, ...,  0.03384572,\n",
       "        -0.00118987,  0.04630516],\n",
       "       [ 0.00952945, -0.06355996,  0.0634062 , ..., -0.05710402,\n",
       "         0.00706516, -0.00173104],\n",
       "       ...,\n",
       "       [-0.05568278, -0.03198855,  0.03209315, ...,  0.03526172,\n",
       "         0.00531055,  0.01105143],\n",
       "       [-0.04420037, -0.04881051,  0.00212193, ..., -0.07146792,\n",
       "         0.03765113, -0.04503657],\n",
       "       [-0.050597  , -0.01802538,  0.04425964, ..., -0.04492099,\n",
       "         0.06759524,  0.02381784]], dtype=float32)"
      ]
     },
     "execution_count": 265,
     "metadata": {},
     "output_type": "execute_result"
    }
   ],
   "source": [
    "weights"
   ]
  },
  {
   "cell_type": "code",
   "execution_count": 266,
   "id": "714d46c5",
   "metadata": {},
   "outputs": [
    {
     "data": {
      "text/plain": [
       "(784, 300)"
      ]
     },
     "execution_count": 266,
     "metadata": {},
     "output_type": "execute_result"
    }
   ],
   "source": [
    "### 첫번쨰 층인 784입력층에 300개 은닝층에 대한 가중치이므로 784 * 300\n",
    "\n",
    "weights.shape"
   ]
  },
  {
   "cell_type": "code",
   "execution_count": 267,
   "id": "26929d3f",
   "metadata": {},
   "outputs": [
    {
     "data": {
      "text/plain": [
       "array([0., 0., 0., 0., 0., 0., 0., 0., 0., 0., 0., 0., 0., 0., 0., 0., 0.,\n",
       "       0., 0., 0., 0., 0., 0., 0., 0., 0., 0., 0., 0., 0., 0., 0., 0., 0.,\n",
       "       0., 0., 0., 0., 0., 0., 0., 0., 0., 0., 0., 0., 0., 0., 0., 0., 0.,\n",
       "       0., 0., 0., 0., 0., 0., 0., 0., 0., 0., 0., 0., 0., 0., 0., 0., 0.,\n",
       "       0., 0., 0., 0., 0., 0., 0., 0., 0., 0., 0., 0., 0., 0., 0., 0., 0.,\n",
       "       0., 0., 0., 0., 0., 0., 0., 0., 0., 0., 0., 0., 0., 0., 0., 0., 0.,\n",
       "       0., 0., 0., 0., 0., 0., 0., 0., 0., 0., 0., 0., 0., 0., 0., 0., 0.,\n",
       "       0., 0., 0., 0., 0., 0., 0., 0., 0., 0., 0., 0., 0., 0., 0., 0., 0.,\n",
       "       0., 0., 0., 0., 0., 0., 0., 0., 0., 0., 0., 0., 0., 0., 0., 0., 0.,\n",
       "       0., 0., 0., 0., 0., 0., 0., 0., 0., 0., 0., 0., 0., 0., 0., 0., 0.,\n",
       "       0., 0., 0., 0., 0., 0., 0., 0., 0., 0., 0., 0., 0., 0., 0., 0., 0.,\n",
       "       0., 0., 0., 0., 0., 0., 0., 0., 0., 0., 0., 0., 0., 0., 0., 0., 0.,\n",
       "       0., 0., 0., 0., 0., 0., 0., 0., 0., 0., 0., 0., 0., 0., 0., 0., 0.,\n",
       "       0., 0., 0., 0., 0., 0., 0., 0., 0., 0., 0., 0., 0., 0., 0., 0., 0.,\n",
       "       0., 0., 0., 0., 0., 0., 0., 0., 0., 0., 0., 0., 0., 0., 0., 0., 0.,\n",
       "       0., 0., 0., 0., 0., 0., 0., 0., 0., 0., 0., 0., 0., 0., 0., 0., 0.,\n",
       "       0., 0., 0., 0., 0., 0., 0., 0., 0., 0., 0., 0., 0., 0., 0., 0., 0.,\n",
       "       0., 0., 0., 0., 0., 0., 0., 0., 0., 0., 0.], dtype=float32)"
      ]
     },
     "execution_count": 267,
     "metadata": {},
     "output_type": "execute_result"
    }
   ],
   "source": [
    "###Flatten층은 데이터 변환만 해주므로 편향이 없음\n",
    "\n",
    "biases"
   ]
  },
  {
   "cell_type": "code",
   "execution_count": 268,
   "id": "87afa1ce",
   "metadata": {},
   "outputs": [
    {
     "data": {
      "text/plain": [
       "(300,)"
      ]
     },
     "execution_count": 268,
     "metadata": {},
     "output_type": "execute_result"
    }
   ],
   "source": [
    "biases.shape"
   ]
  },
  {
   "cell_type": "markdown",
   "id": "05f3afde",
   "metadata": {},
   "source": [
    "## optimizer는 가중치 학습방법 (SGD , adam?)등등\n",
    "## loss는 트레이닝시 사용하는 손실함수(rmse, acc)등등\n",
    "## optimizer는 훈련이 아니라 성능평가시에만 사용됨->loss와 동일한 함수 사용가능"
   ]
  },
  {
   "cell_type": "code",
   "execution_count": 269,
   "id": "84213b4a",
   "metadata": {},
   "outputs": [],
   "source": [
    "model.compile(loss=\"sparse_categorical_crossentropy\",\n",
    "             optimizer=\"sgd\",\n",
    "             metrics=[\"accuracy\"])"
   ]
  },
  {
   "cell_type": "code",
   "execution_count": 270,
   "id": "d475c57e",
   "metadata": {},
   "outputs": [
    {
     "name": "stdout",
     "output_type": "stream",
     "text": [
      "Epoch 1/30\n",
      "1719/1719 [==============================] - 2s 1ms/step - loss: 0.7337 - accuracy: 0.7629 - val_loss: 0.5159 - val_accuracy: 0.8300\n",
      "Epoch 2/30\n",
      "1719/1719 [==============================] - 2s 1ms/step - loss: 0.4916 - accuracy: 0.8298 - val_loss: 0.5172 - val_accuracy: 0.8048\n",
      "Epoch 3/30\n",
      "1719/1719 [==============================] - 2s 1ms/step - loss: 0.4440 - accuracy: 0.8439 - val_loss: 0.4248 - val_accuracy: 0.8490\n",
      "Epoch 4/30\n",
      "1719/1719 [==============================] - 2s 1ms/step - loss: 0.4175 - accuracy: 0.8540 - val_loss: 0.4305 - val_accuracy: 0.8476\n",
      "Epoch 5/30\n",
      "1719/1719 [==============================] - 2s 1ms/step - loss: 0.3966 - accuracy: 0.8602 - val_loss: 0.3867 - val_accuracy: 0.8668\n",
      "Epoch 6/30\n",
      "1719/1719 [==============================] - 2s 1ms/step - loss: 0.3813 - accuracy: 0.8662 - val_loss: 0.4087 - val_accuracy: 0.8606\n",
      "Epoch 7/30\n",
      "1719/1719 [==============================] - 2s 1ms/step - loss: 0.3681 - accuracy: 0.8697 - val_loss: 0.3916 - val_accuracy: 0.8588\n",
      "Epoch 8/30\n",
      "1719/1719 [==============================] - 2s 1ms/step - loss: 0.3551 - accuracy: 0.8747 - val_loss: 0.3670 - val_accuracy: 0.8682\n",
      "Epoch 9/30\n",
      "1719/1719 [==============================] - 2s 1ms/step - loss: 0.3447 - accuracy: 0.8767 - val_loss: 0.3786 - val_accuracy: 0.8680\n",
      "Epoch 10/30\n",
      "1719/1719 [==============================] - 2s 1ms/step - loss: 0.3360 - accuracy: 0.8807 - val_loss: 0.3542 - val_accuracy: 0.8738\n",
      "Epoch 11/30\n",
      "1719/1719 [==============================] - 2s 1ms/step - loss: 0.3272 - accuracy: 0.8834 - val_loss: 0.3483 - val_accuracy: 0.8788\n",
      "Epoch 12/30\n",
      "1719/1719 [==============================] - 2s 1ms/step - loss: 0.3194 - accuracy: 0.8859 - val_loss: 0.3373 - val_accuracy: 0.8846\n",
      "Epoch 13/30\n",
      "1719/1719 [==============================] - 2s 1ms/step - loss: 0.3124 - accuracy: 0.8891 - val_loss: 0.3614 - val_accuracy: 0.8700\n",
      "Epoch 14/30\n",
      "1719/1719 [==============================] - 2s 1ms/step - loss: 0.3048 - accuracy: 0.8900 - val_loss: 0.3334 - val_accuracy: 0.8798\n",
      "Epoch 15/30\n",
      "1719/1719 [==============================] - 2s 1ms/step - loss: 0.2989 - accuracy: 0.8927 - val_loss: 0.3228 - val_accuracy: 0.8854\n",
      "Epoch 16/30\n",
      "1719/1719 [==============================] - 2s 1ms/step - loss: 0.2925 - accuracy: 0.8944 - val_loss: 0.3167 - val_accuracy: 0.8892\n",
      "Epoch 17/30\n",
      "1719/1719 [==============================] - 2s 1ms/step - loss: 0.2866 - accuracy: 0.8976 - val_loss: 0.3180 - val_accuracy: 0.8864\n",
      "Epoch 18/30\n",
      "1719/1719 [==============================] - 2s 1ms/step - loss: 0.2811 - accuracy: 0.8985 - val_loss: 0.3680 - val_accuracy: 0.8670\n",
      "Epoch 19/30\n",
      "1719/1719 [==============================] - 2s 1ms/step - loss: 0.2763 - accuracy: 0.9008 - val_loss: 0.3152 - val_accuracy: 0.8838\n",
      "Epoch 20/30\n",
      "1719/1719 [==============================] - 2s 1ms/step - loss: 0.2704 - accuracy: 0.9033 - val_loss: 0.3120 - val_accuracy: 0.8886\n",
      "Epoch 21/30\n",
      "1719/1719 [==============================] - 2s 1ms/step - loss: 0.2654 - accuracy: 0.9039 - val_loss: 0.3062 - val_accuracy: 0.8932\n",
      "Epoch 22/30\n",
      "1719/1719 [==============================] - 2s 1ms/step - loss: 0.2610 - accuracy: 0.9066 - val_loss: 0.3100 - val_accuracy: 0.8892\n",
      "Epoch 23/30\n",
      "1719/1719 [==============================] - 2s 1ms/step - loss: 0.2573 - accuracy: 0.9074 - val_loss: 0.3049 - val_accuracy: 0.8900\n",
      "Epoch 24/30\n",
      "1719/1719 [==============================] - 2s 1ms/step - loss: 0.2523 - accuracy: 0.9082 - val_loss: 0.3087 - val_accuracy: 0.8862\n",
      "Epoch 25/30\n",
      "1719/1719 [==============================] - 2s 1ms/step - loss: 0.2481 - accuracy: 0.9108 - val_loss: 0.3120 - val_accuracy: 0.8876\n",
      "Epoch 26/30\n",
      "1719/1719 [==============================] - 2s 1ms/step - loss: 0.2445 - accuracy: 0.9117 - val_loss: 0.3019 - val_accuracy: 0.8928\n",
      "Epoch 27/30\n",
      "1719/1719 [==============================] - 2s 1ms/step - loss: 0.2400 - accuracy: 0.9145 - val_loss: 0.3213 - val_accuracy: 0.8810\n",
      "Epoch 28/30\n",
      "1719/1719 [==============================] - 2s 1ms/step - loss: 0.2365 - accuracy: 0.9156 - val_loss: 0.3137 - val_accuracy: 0.8864\n",
      "Epoch 29/30\n",
      "1719/1719 [==============================] - 2s 1ms/step - loss: 0.2329 - accuracy: 0.9162 - val_loss: 0.2976 - val_accuracy: 0.8908\n",
      "Epoch 30/30\n",
      "1719/1719 [==============================] - 2s 1ms/step - loss: 0.2287 - accuracy: 0.9187 - val_loss: 0.3035 - val_accuracy: 0.8902\n"
     ]
    }
   ],
   "source": [
    "### validation_data에 Valid셋을 넣는것 보다는 0.1같은 비율을 넣어 나눠주는게 더 편함\n",
    "\n",
    "history = model.fit(X_train, y_train, epochs=30, validation_data=(X_valid, y_valid))"
   ]
  },
  {
   "cell_type": "code",
   "execution_count": 271,
   "id": "8d57a28f",
   "metadata": {},
   "outputs": [
    {
     "data": {
      "image/png": "[encoded data removed]",
      "text/plain": [
       "<Figure size 576x360 with 1 Axes>"
      ]
     },
     "metadata": {
      "needs_background": "light"
     },
     "output_type": "display_data"
    }
   ],
   "source": [
    "import pandas as pd\n",
    "import matplotlib.pyplot as plt\n",
    "\n",
    "pd.DataFrame(history.history).plot(figsize=(8, 5))\n",
    "plt.grid(True)\n",
    "plt.gca().set_ylim(0, 1)\n",
    "plt.show()"
   ]
  },
  {
   "cell_type": "code",
   "execution_count": 273,
   "id": "1885abcc",
   "metadata": {},
   "outputs": [
    {
     "data": {
      "text/plain": [
       "[0.7336652278900146,\n",
       " 0.49155616760253906,\n",
       " 0.44401898980140686,\n",
       " 0.4175492823123932,\n",
       " 0.39663270115852356,\n",
       " 0.3812853991985321,\n",
       " 0.3681219220161438,\n",
       " 0.3550805449485779,\n",
       " 0.34473347663879395,\n",
       " 0.3359863758087158,\n",
       " 0.32722845673561096,\n",
       " 0.3193829655647278,\n",
       " 0.3123675286769867,\n",
       " 0.3047771453857422,\n",
       " 0.2988883852958679,\n",
       " 0.2924855947494507,\n",
       " 0.286615788936615,\n",
       " 0.2811134159564972,\n",
       " 0.2762516438961029,\n",
       " 0.2704092860221863,\n",
       " 0.26541000604629517,\n",
       " 0.2610498368740082,\n",
       " 0.25734618306159973,\n",
       " 0.2523401379585266,\n",
       " 0.24808382987976074,\n",
       " 0.24445800483226776,\n",
       " 0.24001438915729523,\n",
       " 0.2364559769630432,\n",
       " 0.23288163542747498,\n",
       " 0.22866509854793549]"
      ]
     },
     "execution_count": 273,
     "metadata": {},
     "output_type": "execute_result"
    }
   ],
   "source": [
    "history.history[\"loss\"]"
   ]
  },
  {
   "cell_type": "code",
   "execution_count": 274,
   "id": "871b0552",
   "metadata": {},
   "outputs": [
    {
     "name": "stdout",
     "output_type": "stream",
     "text": [
      "313/313 [==============================] - 0s 795us/step - loss: 0.3340 - accuracy: 0.8818\n"
     ]
    },
    {
     "data": {
      "text/plain": [
       "[0.33400774002075195, 0.8817999958992004]"
      ]
     },
     "execution_count": 274,
     "metadata": {},
     "output_type": "execute_result"
    }
   ],
   "source": [
    "model.evaluate(X_test, y_test)"
   ]
  },
  {
   "cell_type": "code",
   "execution_count": 275,
   "id": "8d4c8a4b",
   "metadata": {},
   "outputs": [
    {
     "data": {
      "text/plain": [
       "array([[0.  , 0.  , 0.  , 0.  , 0.  , 0.  , 0.  , 0.  , 0.  , 0.99],\n",
       "       [0.  , 0.  , 0.97, 0.  , 0.03, 0.  , 0.  , 0.  , 0.  , 0.  ],\n",
       "       [0.  , 1.  , 0.  , 0.  , 0.  , 0.  , 0.  , 0.  , 0.  , 0.  ]],\n",
       "      dtype=float32)"
      ]
     },
     "execution_count": 275,
     "metadata": {},
     "output_type": "execute_result"
    }
   ],
   "source": [
    "X_new = X_test[:3]\n",
    "y_proba = model.predict(X_new)\n",
    "y_proba.round(2)"
   ]
  },
  {
   "cell_type": "code",
   "execution_count": 279,
   "id": "3226c2b2",
   "metadata": {},
   "outputs": [
    {
     "data": {
      "text/plain": [
       "array([9, 2, 1], dtype=int64)"
      ]
     },
     "execution_count": 279,
     "metadata": {},
     "output_type": "execute_result"
    }
   ],
   "source": [
    "### model.predict_classes함수와 같음\n",
    "\n",
    "y_proba.argmax(axis=1)"
   ]
  },
  {
   "cell_type": "code",
   "execution_count": 280,
   "id": "6e7d10df",
   "metadata": {},
   "outputs": [],
   "source": [
    "from sklearn.datasets import fetch_california_housing\n",
    "from sklearn.model_selection import train_test_split\n",
    "from sklearn.preprocessing import StandardScaler\n",
    "\n",
    "housing = fetch_california_housing()\n",
    "\n",
    "X_train_full, X_test, y_train_full, y_test = train_test_split(housing.data, housing.target)\n",
    "X_train, X_valid, y_train, y_valid = train_test_split(X_train_full, y_train_full)\n",
    "\n",
    "scaler = StandardScaler()\n",
    "X_train = scaler.fit_transform(X_train)\n",
    "X_valid = scaler.transform(X_valid)\n",
    "X_test = scaler.transform(X_test)"
   ]
  },
  {
   "cell_type": "code",
   "execution_count": 290,
   "id": "ec561548",
   "metadata": {},
   "outputs": [
    {
     "name": "stdout",
     "output_type": "stream",
     "text": [
      "Epoch 1/20\n",
      "363/363 [==============================] - 0s 756us/step - loss: 0.8165 - val_loss: 0.5883\n",
      "Epoch 2/20\n",
      "363/363 [==============================] - 0s 581us/step - loss: 0.5790 - val_loss: 0.6481\n",
      "Epoch 3/20\n",
      "363/363 [==============================] - 0s 631us/step - loss: 0.9668 - val_loss: 0.5523\n",
      "Epoch 4/20\n",
      "363/363 [==============================] - 0s 558us/step - loss: 0.5316 - val_loss: 0.6550\n",
      "Epoch 5/20\n",
      "363/363 [==============================] - 0s 550us/step - loss: 0.6780 - val_loss: 0.5346\n",
      "Epoch 6/20\n",
      "363/363 [==============================] - 0s 545us/step - loss: 0.6618 - val_loss: 0.4375\n",
      "Epoch 7/20\n",
      "363/363 [==============================] - 0s 556us/step - loss: 0.4258 - val_loss: 0.4026\n",
      "Epoch 8/20\n",
      "363/363 [==============================] - 0s 561us/step - loss: 0.4031 - val_loss: 0.4017\n",
      "Epoch 9/20\n",
      "363/363 [==============================] - 0s 558us/step - loss: 0.3999 - val_loss: 0.3910\n",
      "Epoch 10/20\n",
      "363/363 [==============================] - 0s 558us/step - loss: 0.3912 - val_loss: 0.3851\n",
      "Epoch 11/20\n",
      "363/363 [==============================] - 0s 679us/step - loss: 0.3923 - val_loss: 0.3816\n",
      "Epoch 12/20\n",
      "363/363 [==============================] - 0s 552us/step - loss: 0.3842 - val_loss: 0.3806\n",
      "Epoch 13/20\n",
      "363/363 [==============================] - 0s 563us/step - loss: 0.3799 - val_loss: 0.3774\n",
      "Epoch 14/20\n",
      "363/363 [==============================] - 0s 558us/step - loss: 0.3915 - val_loss: 0.3806\n",
      "Epoch 15/20\n",
      "363/363 [==============================] - 0s 561us/step - loss: 0.3889 - val_loss: 0.3718\n",
      "Epoch 16/20\n",
      "363/363 [==============================] - 0s 667us/step - loss: 0.3789 - val_loss: 0.3731\n",
      "Epoch 17/20\n",
      "363/363 [==============================] - 0s 573us/step - loss: 0.3786 - val_loss: 0.3653\n",
      "Epoch 18/20\n",
      "363/363 [==============================] - 0s 559us/step - loss: 0.3705 - val_loss: 0.3642\n",
      "Epoch 19/20\n",
      "363/363 [==============================] - 0s 541us/step - loss: 0.3684 - val_loss: 0.3959\n",
      "Epoch 20/20\n",
      "363/363 [==============================] - 0s 545us/step - loss: 0.3688 - val_loss: 0.3575\n",
      "162/162 [==============================] - 0s 419us/step - loss: 0.3622\n"
     ]
    }
   ],
   "source": [
    "###   input_shape매개변수 형태에 chk'\n",
    "###    과대적합을 막기위해 은닉층과 뉴런수를 줄임\n",
    "\n",
    "model = keras.models.Sequential([\n",
    "    keras.layers.Dense(30, activation=\"relu\", input_shape=X_train.shape[1:]),\n",
    "    keras.layers.Dense(1)\n",
    "])\n",
    "model.compile(loss=\"mean_squared_error\", optimizer=\"sgd\")\n",
    "history = model.fit(X_train, y_train, epochs=20, validation_data=(X_valid, y_valid))\n",
    "mse_test = model.evaluate(X_test, y_test)\n",
    "X_new = X_test[:3]\n",
    "y_pred = model.predict(X_new)\n",
    "model.save(\"my_keras.h5\")"
   ]
  },
  {
   "cell_type": "code",
   "execution_count": 291,
   "id": "75526103",
   "metadata": {},
   "outputs": [
    {
     "name": "stdout",
     "output_type": "stream",
     "text": [
      "Epoch 1/20\n",
      "\r",
      "  1/363 [..............................] - ETA: 56s - loss: 8.6022"
     ]
    },
    {
     "name": "stderr",
     "output_type": "stream",
     "text": [
      "C:\\Users\\hjhhi\\Anaconda3\\envs\\tensor\\lib\\site-packages\\keras\\optimizer_v2\\optimizer_v2.py:355: UserWarning: The `lr` argument is deprecated, use `learning_rate` instead.\n",
      "  warnings.warn(\n"
     ]
    },
    {
     "name": "stdout",
     "output_type": "stream",
     "text": [
      "363/363 [==============================] - 0s 813us/step - loss: 1.9345 - val_loss: 0.7557\n",
      "Epoch 2/20\n",
      "363/363 [==============================] - 0s 583us/step - loss: 0.7181 - val_loss: 0.6223\n",
      "Epoch 3/20\n",
      "363/363 [==============================] - 0s 599us/step - loss: 0.6262 - val_loss: 0.5770\n",
      "Epoch 4/20\n",
      "363/363 [==============================] - 0s 626us/step - loss: 0.5866 - val_loss: 0.5460\n",
      "Epoch 5/20\n",
      "363/363 [==============================] - 0s 588us/step - loss: 0.5568 - val_loss: 0.5213\n",
      "Epoch 6/20\n",
      "363/363 [==============================] - 0s 581us/step - loss: 0.5360 - val_loss: 0.5030\n",
      "Epoch 7/20\n",
      "363/363 [==============================] - 0s 578us/step - loss: 0.5174 - val_loss: 0.4911\n",
      "Epoch 8/20\n",
      "363/363 [==============================] - 0s 581us/step - loss: 0.5047 - val_loss: 0.4784\n",
      "Epoch 9/20\n",
      "363/363 [==============================] - 0s 580us/step - loss: 0.4943 - val_loss: 0.4712\n",
      "Epoch 10/20\n",
      "363/363 [==============================] - 0s 582us/step - loss: 0.4861 - val_loss: 0.4633\n",
      "Epoch 11/20\n",
      "363/363 [==============================] - 0s 579us/step - loss: 0.4782 - val_loss: 0.4572\n",
      "Epoch 12/20\n",
      "363/363 [==============================] - 0s 593us/step - loss: 0.4714 - val_loss: 0.4519\n",
      "Epoch 13/20\n",
      "363/363 [==============================] - 0s 594us/step - loss: 0.4662 - val_loss: 0.4476\n",
      "Epoch 14/20\n",
      "363/363 [==============================] - 0s 581us/step - loss: 0.4621 - val_loss: 0.4465\n",
      "Epoch 15/20\n",
      "363/363 [==============================] - 0s 577us/step - loss: 0.4572 - val_loss: 0.4401\n",
      "Epoch 16/20\n",
      "363/363 [==============================] - 0s 594us/step - loss: 0.4539 - val_loss: 0.4366\n",
      "Epoch 17/20\n",
      "363/363 [==============================] - 0s 592us/step - loss: 0.4508 - val_loss: 0.4340\n",
      "Epoch 18/20\n",
      "363/363 [==============================] - 0s 585us/step - loss: 0.4464 - val_loss: 0.4322\n",
      "Epoch 19/20\n",
      "363/363 [==============================] - 0s 603us/step - loss: 0.4436 - val_loss: 0.4297\n",
      "Epoch 20/20\n",
      "363/363 [==============================] - 0s 591us/step - loss: 0.4407 - val_loss: 0.4267\n"
     ]
    }
   ],
   "source": [
    "input_ = keras.layers.Input(shape=X_train.shape[1:])\n",
    "hidden1 = keras.layers.Dense(30, activation=\"relu\")(input_)\n",
    "hidden2 = keras.layers.Dense(30, activation=\"relu\")(hidden1)\n",
    "concat = keras.layers.Concatenate()([input_, hidden2])\n",
    "output = keras.layers.Dense(1)(concat)\n",
    "model = keras.Model(inputs=[input_], outputs = [output])\n",
    "model.compile(loss=\"mean_squared_error\", optimizer=keras.optimizers.SGD(lr=1e-3))\n",
    "history = model.fit(X_train, y_train, epochs=20,\n",
    "                    validation_data=(X_valid, y_valid))"
   ]
  },
  {
   "cell_type": "code",
   "execution_count": 292,
   "id": "73574eef",
   "metadata": {},
   "outputs": [],
   "source": [
    "input_A = keras.layers.Input(shape=[5], name=\"wide_input\")\n",
    "input_B = keras.layers.Input(shape=[6], name=\"deep_input\")\n",
    "hidden1 = keras.layers.Dense(30, activation=\"relu\")(input_B)\n",
    "hidden2 = keras.layers.Dense(30, activation=\"relu\")(hidden1)\n",
    "concat = keras.layers.Concatenate()([input_A, hidden2])\n",
    "output = keras.layers.Dense(1, name=\"output\")(concat)\n",
    "model = keras.Model(inputs=[input_A, input_B], outputs = [output])"
   ]
  },
  {
   "cell_type": "code",
   "execution_count": 293,
   "id": "fb3b4502",
   "metadata": {},
   "outputs": [
    {
     "name": "stdout",
     "output_type": "stream",
     "text": [
      "Epoch 1/20\n",
      "363/363 [==============================] - 0s 835us/step - loss: 1.8782 - val_loss: 0.8329\n",
      "Epoch 2/20\n",
      "363/363 [==============================] - 0s 613us/step - loss: 0.7816 - val_loss: 0.7267\n",
      "Epoch 3/20\n",
      "363/363 [==============================] - 0s 631us/step - loss: 0.7029 - val_loss: 0.6695\n",
      "Epoch 4/20\n",
      "363/363 [==============================] - 0s 648us/step - loss: 0.6569 - val_loss: 0.6300\n",
      "Epoch 5/20\n",
      "363/363 [==============================] - 0s 658us/step - loss: 0.6221 - val_loss: 0.5986\n",
      "Epoch 6/20\n",
      "363/363 [==============================] - 0s 622us/step - loss: 0.5934 - val_loss: 0.5713\n",
      "Epoch 7/20\n",
      "363/363 [==============================] - 0s 658us/step - loss: 0.5699 - val_loss: 0.5497\n",
      "Epoch 8/20\n",
      "363/363 [==============================] - 0s 628us/step - loss: 0.5519 - val_loss: 0.5327\n",
      "Epoch 9/20\n",
      "363/363 [==============================] - 0s 636us/step - loss: 0.5378 - val_loss: 0.5221\n",
      "Epoch 10/20\n",
      "363/363 [==============================] - 0s 623us/step - loss: 0.5275 - val_loss: 0.5102\n",
      "Epoch 11/20\n",
      "363/363 [==============================] - 0s 641us/step - loss: 0.5191 - val_loss: 0.5027\n",
      "Epoch 12/20\n",
      "363/363 [==============================] - 0s 625us/step - loss: 0.5120 - val_loss: 0.4977\n",
      "Epoch 13/20\n",
      "363/363 [==============================] - 0s 620us/step - loss: 0.5072 - val_loss: 0.4920\n",
      "Epoch 14/20\n",
      "363/363 [==============================] - 0s 646us/step - loss: 0.5021 - val_loss: 0.4869\n",
      "Epoch 15/20\n",
      "363/363 [==============================] - 0s 637us/step - loss: 0.4982 - val_loss: 0.4843\n",
      "Epoch 16/20\n",
      "363/363 [==============================] - 0s 667us/step - loss: 0.4951 - val_loss: 0.4804\n",
      "Epoch 17/20\n",
      "363/363 [==============================] - 0s 633us/step - loss: 0.4927 - val_loss: 0.4780\n",
      "Epoch 18/20\n",
      "363/363 [==============================] - 0s 627us/step - loss: 0.4898 - val_loss: 0.4751\n",
      "Epoch 19/20\n",
      "363/363 [==============================] - 0s 639us/step - loss: 0.4870 - val_loss: 0.4736\n",
      "Epoch 20/20\n",
      "363/363 [==============================] - 0s 680us/step - loss: 0.4849 - val_loss: 0.4711\n",
      "162/162 [==============================] - 0s 475us/step - loss: 0.4812\n"
     ]
    }
   ],
   "source": [
    "model.compile(loss=\"mse\", optimizer=keras.optimizers.SGD(lr=1e-3))\n",
    "\n",
    "X_train_A, X_train_B = X_train[:, :5], X_train[:, 2:]\n",
    "X_valid_A, X_valid_B = X_valid[:, :5], X_valid[:, 2:]\n",
    "X_test_A, X_test_B = X_test[:, :5], X_test[:, 2:]\n",
    "X_new_A, X_new_B = X_test_A[:3], X_test_B[:3]\n",
    "\n",
    "history = model.fit((X_train_A, X_train_B), y_train, epochs=20,\n",
    "                   validation_data=((X_valid_A, X_valid_B), y_valid))\n",
    "mse_test = model.evaluate((X_test_A, X_test_B), y_test)\n",
    "y_pred = model.predict((X_new_A, X_new_B))"
   ]
  },
  {
   "cell_type": "code",
   "execution_count": 302,
   "id": "b51360e8",
   "metadata": {},
   "outputs": [
    {
     "name": "stdout",
     "output_type": "stream",
     "text": [
      "Epoch 1/20\n",
      "363/363 [==============================] - 0s 836us/step - loss: 0.3562 - val_loss: 0.3488\n",
      "Epoch 2/20\n",
      "363/363 [==============================] - 0s 731us/step - loss: 0.3538 - val_loss: 0.3486\n",
      "Epoch 3/20\n",
      "363/363 [==============================] - 0s 604us/step - loss: 0.3534 - val_loss: 0.3476\n",
      "Epoch 4/20\n",
      "363/363 [==============================] - 0s 693us/step - loss: 0.3526 - val_loss: 0.3475\n",
      "Epoch 5/20\n",
      "363/363 [==============================] - 0s 642us/step - loss: 0.3518 - val_loss: 0.3476\n",
      "Epoch 6/20\n",
      "363/363 [==============================] - 0s 631us/step - loss: 0.3513 - val_loss: 0.3468\n",
      "Epoch 7/20\n",
      "363/363 [==============================] - 0s 608us/step - loss: 0.3511 - val_loss: 0.3456\n",
      "Epoch 8/20\n",
      "363/363 [==============================] - 0s 689us/step - loss: 0.3508 - val_loss: 0.3451\n",
      "Epoch 9/20\n",
      "363/363 [==============================] - 0s 791us/step - loss: 0.3501 - val_loss: 0.3462\n",
      "Epoch 10/20\n",
      "363/363 [==============================] - 0s 701us/step - loss: 0.3497 - val_loss: 0.3456\n",
      "Epoch 11/20\n",
      "363/363 [==============================] - 0s 654us/step - loss: 0.3493 - val_loss: 0.3458\n",
      "Epoch 12/20\n",
      "363/363 [==============================] - 0s 641us/step - loss: 0.3491 - val_loss: 0.3436\n",
      "Epoch 13/20\n",
      "363/363 [==============================] - 0s 687us/step - loss: 0.3487 - val_loss: 0.3435\n",
      "Epoch 14/20\n",
      "363/363 [==============================] - 0s 635us/step - loss: 0.3482 - val_loss: 0.3427\n",
      "Epoch 15/20\n",
      "363/363 [==============================] - 0s 700us/step - loss: 0.3480 - val_loss: 0.3429\n",
      "Epoch 16/20\n",
      "363/363 [==============================] - 0s 742us/step - loss: 0.3477 - val_loss: 0.3426\n",
      "Epoch 17/20\n",
      "363/363 [==============================] - 0s 629us/step - loss: 0.3472 - val_loss: 0.3424\n",
      "Epoch 18/20\n",
      "363/363 [==============================] - 0s 672us/step - loss: 0.3469 - val_loss: 0.3446\n",
      "Epoch 19/20\n",
      "363/363 [==============================] - 0s 773us/step - loss: 0.3467 - val_loss: 0.3415\n",
      "Epoch 20/20\n",
      "363/363 [==============================] - 0s 691us/step - loss: 0.3465 - val_loss: 0.3415\n",
      "162/162 [==============================] - 0s 509us/step - loss: 0.3402\n"
     ]
    }
   ],
   "source": [
    "model.compile(loss=\"mse\", optimizer=keras.optimizers.SGD(lr=1e-3))\n",
    "\n",
    "X_train_A, X_train_B = X_train[:, :5], X_train[:, 2:]\n",
    "X_valid_A, X_valid_B = X_valid[:, :5], X_valid[:, 2:]\n",
    "X_test_A, X_test_B = X_test[:, :5], X_test[:, 2:]\n",
    "X_new_A, X_new_B = X_test_A[:3], X_test_B[:3]\n",
    "\n",
    "history = model.fit((X_train_A, X_train_B), y_train, epochs=20,\n",
    "                   validation_data=((X_valid_A, X_valid_B), y_valid))\n",
    "mse_test = model.evaluate((X_test_A, X_test_B), y_test)\n",
    "y_pred = model.predict((X_new_A, X_new_B))"
   ]
  },
  {
   "cell_type": "code",
   "execution_count": 318,
   "id": "e003844a",
   "metadata": {},
   "outputs": [],
   "source": [
    "input_A = keras.layers.Input(shape=[5], name=\"wide_input\")\n",
    "input_B = keras.layers.Input(shape=[6], name=\"deep_input\")\n",
    "hidden1 = keras.layers.Dense(30, activation=\"relu\")(input_B)\n",
    "hidden2 = keras.layers.Dense(30, activation=\"relu\")(hidden1)\n",
    "concat = keras.layers.Concatenate()([input_A, hidden2])\n",
    "output = keras.layers.Dense(1, name=\"main_output\")(concat)\n",
    "aux_output = keras.layers.Dense(1, name=\"aux_output\")(hidden2)\n",
    "model = keras.Model(inputs=[input_A, input_B], outputs=[output, aux_output])"
   ]
  },
  {
   "cell_type": "code",
   "execution_count": 319,
   "id": "122f96d7",
   "metadata": {},
   "outputs": [],
   "source": [
    "###손실 mse로 전달가능하며 이때 두 출력에 모두 적용됨\n",
    "\n",
    "model.compile(loss=[\"mse\", \"mse\"], loss_weights = [0.9, 0.1], optimizer=\"sgd\")"
   ]
  },
  {
   "cell_type": "code",
   "execution_count": 320,
   "id": "e09bd9c2",
   "metadata": {},
   "outputs": [
    {
     "name": "stdout",
     "output_type": "stream",
     "text": [
      "Epoch 1/20\n",
      "363/363 [==============================] - 1s 1ms/step - loss: 1.3567 - main_output_loss: 1.2306 - aux_output_loss: 2.4919 - val_loss: 0.7193 - val_main_output_loss: 0.6650 - val_aux_output_loss: 1.2085\n",
      "Epoch 2/20\n",
      "363/363 [==============================] - 0s 885us/step - loss: 0.6959 - main_output_loss: 0.6443 - aux_output_loss: 1.1609 - val_loss: 0.6404 - val_main_output_loss: 0.5983 - val_aux_output_loss: 1.0189\n",
      "Epoch 3/20\n",
      "363/363 [==============================] - 0s 925us/step - loss: 0.6022 - main_output_loss: 0.5603 - aux_output_loss: 0.9800 - val_loss: 0.7408 - val_main_output_loss: 0.7143 - val_aux_output_loss: 0.9798\n",
      "Epoch 4/20\n",
      "363/363 [==============================] - 0s 872us/step - loss: 0.7012 - main_output_loss: 0.6725 - aux_output_loss: 0.9588 - val_loss: 0.5008 - val_main_output_loss: 0.4660 - val_aux_output_loss: 0.8138\n",
      "Epoch 5/20\n",
      "363/363 [==============================] - 0s 884us/step - loss: 0.5040 - main_output_loss: 0.4715 - aux_output_loss: 0.7966 - val_loss: 0.4749 - val_main_output_loss: 0.4442 - val_aux_output_loss: 0.7510\n",
      "Epoch 6/20\n",
      "363/363 [==============================] - 0s 898us/step - loss: 0.4904 - main_output_loss: 0.4628 - aux_output_loss: 0.7386 - val_loss: 0.4599 - val_main_output_loss: 0.4323 - val_aux_output_loss: 0.7082\n",
      "Epoch 7/20\n",
      "363/363 [==============================] - 0s 872us/step - loss: 0.4670 - main_output_loss: 0.4417 - aux_output_loss: 0.6947 - val_loss: 0.4770 - val_main_output_loss: 0.4542 - val_aux_output_loss: 0.6820\n",
      "Epoch 8/20\n",
      "363/363 [==============================] - 0s 884us/step - loss: 0.4615 - main_output_loss: 0.4386 - aux_output_loss: 0.6671 - val_loss: 0.4378 - val_main_output_loss: 0.4136 - val_aux_output_loss: 0.6554\n",
      "Epoch 9/20\n",
      "363/363 [==============================] - 0s 885us/step - loss: 0.4524 - main_output_loss: 0.4312 - aux_output_loss: 0.6424 - val_loss: 0.4275 - val_main_output_loss: 0.4044 - val_aux_output_loss: 0.6355\n",
      "Epoch 10/20\n",
      "363/363 [==============================] - 0s 876us/step - loss: 0.4259 - main_output_loss: 0.4039 - aux_output_loss: 0.6247 - val_loss: 0.4274 - val_main_output_loss: 0.4058 - val_aux_output_loss: 0.6223\n",
      "Epoch 11/20\n",
      "363/363 [==============================] - 0s 877us/step - loss: 0.4161 - main_output_loss: 0.3948 - aux_output_loss: 0.6082 - val_loss: 0.4077 - val_main_output_loss: 0.3860 - val_aux_output_loss: 0.6034\n",
      "Epoch 12/20\n",
      "363/363 [==============================] - 0s 878us/step - loss: 0.4138 - main_output_loss: 0.3937 - aux_output_loss: 0.5939 - val_loss: 0.4058 - val_main_output_loss: 0.3857 - val_aux_output_loss: 0.5875\n",
      "Epoch 13/20\n",
      "363/363 [==============================] - 0s 864us/step - loss: 0.4048 - main_output_loss: 0.3853 - aux_output_loss: 0.5799 - val_loss: 0.3970 - val_main_output_loss: 0.3768 - val_aux_output_loss: 0.5788\n",
      "Epoch 14/20\n",
      "363/363 [==============================] - 0s 882us/step - loss: 0.3970 - main_output_loss: 0.3780 - aux_output_loss: 0.5679 - val_loss: 0.3899 - val_main_output_loss: 0.3709 - val_aux_output_loss: 0.5611\n",
      "Epoch 15/20\n",
      "363/363 [==============================] - 0s 853us/step - loss: 0.3931 - main_output_loss: 0.3751 - aux_output_loss: 0.5551 - val_loss: 0.4055 - val_main_output_loss: 0.3878 - val_aux_output_loss: 0.5643\n",
      "Epoch 16/20\n",
      "363/363 [==============================] - 0s 873us/step - loss: 0.4502 - main_output_loss: 0.4395 - aux_output_loss: 0.5470 - val_loss: 0.3784 - val_main_output_loss: 0.3603 - val_aux_output_loss: 0.5420\n",
      "Epoch 17/20\n",
      "363/363 [==============================] - 0s 866us/step - loss: 0.3858 - main_output_loss: 0.3689 - aux_output_loss: 0.5379 - val_loss: 0.3750 - val_main_output_loss: 0.3576 - val_aux_output_loss: 0.5321\n",
      "Epoch 18/20\n",
      "363/363 [==============================] - 0s 846us/step - loss: 0.3792 - main_output_loss: 0.3631 - aux_output_loss: 0.5242 - val_loss: 0.3752 - val_main_output_loss: 0.3590 - val_aux_output_loss: 0.5207\n",
      "Epoch 19/20\n",
      "363/363 [==============================] - 0s 876us/step - loss: 0.3777 - main_output_loss: 0.3622 - aux_output_loss: 0.5176 - val_loss: 0.3698 - val_main_output_loss: 0.3535 - val_aux_output_loss: 0.5162\n",
      "Epoch 20/20\n",
      "363/363 [==============================] - 0s 845us/step - loss: 0.3739 - main_output_loss: 0.3589 - aux_output_loss: 0.5084 - val_loss: 0.3668 - val_main_output_loss: 0.3513 - val_aux_output_loss: 0.5063\n"
     ]
    }
   ],
   "source": [
    "history = model.fit(\n",
    "    [X_train_A, X_train_B], [y_train, y_train], epochs=20,\n",
    "    validation_data=([X_valid_A, X_valid_B], [y_valid, y_valid]))"
   ]
  },
  {
   "cell_type": "code",
   "execution_count": 321,
   "id": "f45415dc",
   "metadata": {},
   "outputs": [
    {
     "name": "stdout",
     "output_type": "stream",
     "text": [
      "162/162 [==============================] - 0s 596us/step - loss: 0.3591 - main_output_loss: 0.3436 - aux_output_loss: 0.4989\n"
     ]
    }
   ],
   "source": [
    "total_loss ,main_loss, aux_loss = model.evaluate(\n",
    "[X_test_A, X_test_B], [y_test, y_test])"
   ]
  },
  {
   "cell_type": "code",
   "execution_count": 322,
   "id": "a13f2e5e",
   "metadata": {},
   "outputs": [],
   "source": [
    "y_pred_main, y_pre_aux = model.predict([X_new_A, X_new_B])"
   ]
  },
  {
   "cell_type": "code",
   "execution_count": 332,
   "id": "ecd47537",
   "metadata": {},
   "outputs": [],
   "source": [
    "class WideAndDeepModel(keras.Model):\n",
    "    def __init__(self, units=30, activation=\"relu\",**kwargs):\n",
    "        super().__init__(**kwargs)\n",
    "        self.hidden1 = keras.layers.Dense(units, activation=activation)\n",
    "        self.hidden2 = keras.layers.Dense(units, activation=activation)\n",
    "        self.main_output = keras.layers,Dense(1)\n",
    "        self.aux_output = keras.layers,Dense(1)        \n",
    "        \n",
    "        def call(self, inputs):\n",
    "            input_A, input_B = inputs\n",
    "            hidden1 = self.hidden1(input_B)\n",
    "            hidden2 = self.hidden2(hidden1)\n",
    "            concat = keras.layers.concatenate([input_A, hidden2])\n",
    "            main_output = self.main_output(concat)\n",
    "            aux_output = self.aux_output(hidden2)\n",
    "            return main_output, aux_output\n",
    "model = WideAndDeepModel()"
   ]
  },
  {
   "cell_type": "code",
   "execution_count": 225,
   "id": "45e2371c",
   "metadata": {},
   "outputs": [
    {
     "name": "stdout",
     "output_type": "stream",
     "text": [
      "Epoch 1/10\n",
      "363/363 [==============================] - 0s 493us/step - loss: 0.6642\n",
      "Epoch 2/10\n",
      "363/363 [==============================] - 0s 464us/step - loss: 0.4565\n",
      "Epoch 3/10\n",
      "363/363 [==============================] - 0s 441us/step - loss: 0.4310\n",
      "Epoch 4/10\n",
      "363/363 [==============================] - 0s 437us/step - loss: 0.3884\n",
      "Epoch 5/10\n",
      "363/363 [==============================] - 0s 446us/step - loss: 0.3734\n",
      "Epoch 6/10\n",
      "363/363 [==============================] - 0s 441us/step - loss: 0.3686\n",
      "Epoch 7/10\n",
      "363/363 [==============================] - 0s 486us/step - loss: 0.3656\n",
      "Epoch 8/10\n",
      "363/363 [==============================] - 0s 436us/step - loss: 0.3586\n",
      "Epoch 9/10\n",
      "363/363 [==============================] - 0s 440us/step - loss: 0.3552\n",
      "Epoch 10/10\n",
      "363/363 [==============================] - 0s 464us/step - loss: 0.3504\n"
     ]
    }
   ],
   "source": [
    "input_ = keras.layers.Input(shape=X_train.shape[1:])\n",
    "hidden1 = keras.layers.Dense(30, activation=\"relu\")(input_)\n",
    "hidden2 = keras.layers.Dense(30, activation=\"relu\")(hidden1)\n",
    "concat = keras.layers.Concatenate()([input_, hidden2])\n",
    "output = keras.layers.Dense(1)(concat)\n",
    "model = keras.Model(inputs=[input_], outputs = [output])\n",
    "model.compile(loss=\"mean_squared_error\", optimizer=\"sgd\")\n",
    "history = model.fit(X_train, y_train, epochs=10)"
   ]
  },
  {
   "cell_type": "code",
   "execution_count": 226,
   "id": "d093580c",
   "metadata": {},
   "outputs": [
    {
     "name": "stdout",
     "output_type": "stream",
     "text": [
      "Epoch 1/10\n",
      "363/363 [==============================] - 0s 482us/step - loss: 1.6009\n",
      "Epoch 2/10\n",
      "363/363 [==============================] - 0s 438us/step - loss: 0.7321\n",
      "Epoch 3/10\n",
      "363/363 [==============================] - 0s 430us/step - loss: 0.6050\n",
      "Epoch 4/10\n",
      "363/363 [==============================] - 0s 435us/step - loss: 0.5538\n",
      "Epoch 5/10\n",
      "363/363 [==============================] - 0s 424us/step - loss: 0.5248\n",
      "Epoch 6/10\n",
      "363/363 [==============================] - 0s 460us/step - loss: 0.5047\n",
      "Epoch 7/10\n",
      "363/363 [==============================] - 0s 434us/step - loss: 0.4894\n",
      "Epoch 8/10\n",
      "363/363 [==============================] - 0s 435us/step - loss: 0.4774\n",
      "Epoch 9/10\n",
      "363/363 [==============================] - 0s 439us/step - loss: 0.4666\n",
      "Epoch 10/10\n",
      "363/363 [==============================] - 0s 444us/step - loss: 0.4580\n"
     ]
    }
   ],
   "source": [
    "model = keras.models.Sequential([\n",
    "    keras.layers.Dense(30, activation=\"relu\", input_shape=[8]),\n",
    "    keras.layers.Dense(30, activation=\"relu\"),\n",
    "    keras.layers.Dense(1)\n",
    "])\n",
    "model.compile(loss=\"mse\", optimizer=keras.optimizers.SGD(lr=1e-3))\n",
    "history = model.fit(X_train, y_train, epochs=10)\n",
    "model.save(\"my_keras.h5\")"
   ]
  },
  {
   "cell_type": "code",
   "execution_count": 227,
   "id": "43d7a208",
   "metadata": {},
   "outputs": [
    {
     "name": "stdout",
     "output_type": "stream",
     "text": [
      "Epoch 1/10\n",
      "363/363 [==============================] - 0s 452us/step - loss: 0.4503\n",
      "Epoch 2/10\n",
      "363/363 [==============================] - 0s 452us/step - loss: 0.4434\n",
      "Epoch 3/10\n",
      "363/363 [==============================] - 0s 441us/step - loss: 0.4374\n",
      "Epoch 4/10\n",
      "363/363 [==============================] - 0s 455us/step - loss: 0.4320\n",
      "Epoch 5/10\n",
      "363/363 [==============================] - 0s 452us/step - loss: 0.4272\n",
      "Epoch 6/10\n",
      "363/363 [==============================] - 0s 472us/step - loss: 0.4227\n",
      "Epoch 7/10\n",
      "363/363 [==============================] - 0s 450us/step - loss: 0.4185\n",
      "Epoch 8/10\n",
      "363/363 [==============================] - 0s 488us/step - loss: 0.4149\n",
      "Epoch 9/10\n",
      "363/363 [==============================] - 0s 467us/step - loss: 0.4112\n",
      "Epoch 10/10\n",
      "363/363 [==============================] - 0s 447us/step - loss: 0.4083\n"
     ]
    }
   ],
   "source": [
    "checkpoint = keras.callbacks.ModelCheckpoint(\"my_keras.h5\")\n",
    "history = model.fit(X_train, y_train, epochs=10, callbacks=[checkpoint])"
   ]
  },
  {
   "cell_type": "code",
   "execution_count": null,
   "id": "128bf54a",
   "metadata": {},
   "outputs": [],
   "source": []
  }
 ],
 "metadata": {
  "kernelspec": {
   "display_name": "tensorflow",
   "language": "python",
   "name": "tensor"
  },
  "language_info": {
   "codemirror_mode": {
    "name": "ipython",
    "version": 3
   },
   "file_extension": ".py",
   "mimetype": "text/x-python",
   "name": "python",
   "nbconvert_exporter": "python",
   "pygments_lexer": "ipython3",
   "version": "3.9.6"
  }
 },
 "nbformat": 4,
 "nbformat_minor": 5
}
