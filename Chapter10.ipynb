{
 "cells": [
  {
   "cell_type": "code",
   "execution_count": 130,
   "id": "a3ea79d8",
   "metadata": {},
   "outputs": [],
   "source": [
    "import numpy as np\n",
    "from sklearn.datasets import load_iris\n",
    "from sklearn.linear_model import Perceptron\n",
    "\n",
    "iris = load_iris()\n",
    "X = iris.data[:, (2,3)]\n",
    "y = (iris.target == 0).astype(np.int)\n",
    "\n",
    "per_clf = Perceptron()\n",
    "per_clf.fit(X, y)\n",
    "\n",
    "y_pred = per_clf.predict([[2, 0.5]])"
   ]
  },
  {
   "cell_type": "code",
   "execution_count": 131,
   "id": "ecdeba2a",
   "metadata": {},
   "outputs": [],
   "source": [
    "import tensorflow as tf\n",
    "from tensorflow import keras"
   ]
  },
  {
   "cell_type": "code",
   "execution_count": 132,
   "id": "9ea048a2",
   "metadata": {},
   "outputs": [],
   "source": [
    "fashion_mnist =  keras.datasets.fashion_mnist\n",
    "(X_train_full, y_train_full), (X_test, y_test) = fashion_mnist.load_data()"
   ]
  },
  {
   "cell_type": "code",
   "execution_count": 133,
   "id": "d8931b7a",
   "metadata": {},
   "outputs": [
    {
     "data": {
      "text/plain": [
       "dtype('uint8')"
      ]
     },
     "execution_count": 133,
     "metadata": {},
     "output_type": "execute_result"
    }
   ],
   "source": [
    "X_train_full.dtype"
   ]
  },
  {
   "cell_type": "code",
   "execution_count": 134,
   "id": "6db8dc2f",
   "metadata": {},
   "outputs": [],
   "source": [
    "X_valid, X_train = X_train_full[:5000] / 255.0, X_train_full[5000:]/255.0\n",
    "y_valid, y_train = y_train_full[:5000] , y_train_full[5000:]\n",
    "X_test = X_test/255.0"
   ]
  },
  {
   "cell_type": "code",
   "execution_count": 135,
   "id": "7c3666d4",
   "metadata": {},
   "outputs": [],
   "source": [
    "class_names = [\"T-shirt/top\", \"Trouser\", \"Pullover\",\"Dress\",\"Coat\",\"Sandal\",\"Shirt\",\"Sneaker\",\"bas\",\"Ankle boot\"]"
   ]
  },
  {
   "cell_type": "code",
   "execution_count": 136,
   "id": "5e13ffb1",
   "metadata": {},
   "outputs": [
    {
     "data": {
      "text/plain": [
       "'Coat'"
      ]
     },
     "execution_count": 136,
     "metadata": {},
     "output_type": "execute_result"
    }
   ],
   "source": [
    "class_names[y_train[0]]"
   ]
  },
  {
   "cell_type": "code",
   "execution_count": 137,
   "id": "14602ad2",
   "metadata": {},
   "outputs": [],
   "source": [
    "model = keras.models.Sequential()\n",
    "model.add(keras.layers.Flatten(input_shape=[28, 28]))\n",
    "model.add(keras.layers.Dense(300, activation=\"relu\"))\n",
    "model.add(keras.layers.Dense(100, activation=\"relu\"))\n",
    "model.add(keras.layers.Dense(10, activation=\"softmax\"))"
   ]
  },
  {
   "cell_type": "code",
   "execution_count": 138,
   "id": "b92ad441",
   "metadata": {},
   "outputs": [],
   "source": [
    "### 위와 동일\n",
    "\n",
    "model = keras.models.Sequential([\n",
    "    keras.layers.Flatten(input_shape=[28, 28]),\n",
    "    keras.layers.Dense(300, activation=\"relu\"),\n",
    "    keras.layers.Dense(100, activation=\"relu\"),\n",
    "    keras.layers.Dense(10, activation=\"softmax\")\n",
    "])"
   ]
  },
  {
   "cell_type": "code",
   "execution_count": 139,
   "id": "7e2b53d9",
   "metadata": {},
   "outputs": [],
   "source": [
    "from keras.layers import Dense\n",
    "output_layer = Dense(10)"
   ]
  },
  {
   "cell_type": "code",
   "execution_count": 140,
   "id": "edb52c3b",
   "metadata": {},
   "outputs": [
    {
     "data": {
      "text/plain": [
       "<keras.layers.core.Dense at 0x2f11d4a6970>"
      ]
     },
     "execution_count": 140,
     "metadata": {},
     "output_type": "execute_result"
    }
   ],
   "source": [
    "output_layer"
   ]
  },
  {
   "cell_type": "code",
   "execution_count": 141,
   "id": "92e3c0f2",
   "metadata": {},
   "outputs": [],
   "source": [
    "from tensorflow.keras.layers import Dense\n",
    "output_layer = Dense(10)"
   ]
  },
  {
   "cell_type": "code",
   "execution_count": 142,
   "id": "ccf74b74",
   "metadata": {},
   "outputs": [
    {
     "data": {
      "text/plain": [
       "<keras.layers.core.Dense at 0x2f1186f8df0>"
      ]
     },
     "execution_count": 142,
     "metadata": {},
     "output_type": "execute_result"
    }
   ],
   "source": [
    "output_layer"
   ]
  },
  {
   "cell_type": "code",
   "execution_count": 143,
   "id": "71fd38fc",
   "metadata": {},
   "outputs": [
    {
     "name": "stdout",
     "output_type": "stream",
     "text": [
      "Model: \"sequential_15\"\n",
      "_________________________________________________________________\n",
      "Layer (type)                 Output Shape              Param #   \n",
      "=================================================================\n",
      "flatten_7 (Flatten)          (None, 784)               0         \n",
      "_________________________________________________________________\n",
      "dense_85 (Dense)             (None, 300)               235500    \n",
      "_________________________________________________________________\n",
      "dense_86 (Dense)             (None, 100)               30100     \n",
      "_________________________________________________________________\n",
      "dense_87 (Dense)             (None, 10)                1010      \n",
      "=================================================================\n",
      "Total params: 266,610\n",
      "Trainable params: 266,610\n",
      "Non-trainable params: 0\n",
      "_________________________________________________________________\n"
     ]
    }
   ],
   "source": [
    "model.summary()"
   ]
  },
  {
   "cell_type": "code",
   "execution_count": 144,
   "id": "ca10ff1f",
   "metadata": {},
   "outputs": [
    {
     "data": {
      "text/plain": [
       "[<keras.layers.core.Flatten at 0x2f1187279a0>,\n",
       " <keras.layers.core.Dense at 0x2f1187270a0>,\n",
       " <keras.layers.core.Dense at 0x2f118727640>,\n",
       " <keras.layers.core.Dense at 0x2f1187206d0>]"
      ]
     },
     "execution_count": 144,
     "metadata": {},
     "output_type": "execute_result"
    }
   ],
   "source": [
    "model.layers"
   ]
  },
  {
   "cell_type": "code",
   "execution_count": 145,
   "id": "9d4dfec1",
   "metadata": {},
   "outputs": [
    {
     "data": {
      "text/plain": [
       "'dense_85'"
      ]
     },
     "execution_count": 145,
     "metadata": {},
     "output_type": "execute_result"
    }
   ],
   "source": [
    "hidden1 = model.layers[1]\n",
    "hidden1.name"
   ]
  },
  {
   "cell_type": "code",
   "execution_count": 146,
   "id": "d66b29f7",
   "metadata": {},
   "outputs": [],
   "source": [
    "#model.get_layer(\"dense_3\") is hidden1"
   ]
  },
  {
   "cell_type": "code",
   "execution_count": 147,
   "id": "d4d4d2c9",
   "metadata": {},
   "outputs": [],
   "source": [
    "weights, biases = hidden1.get_weights()"
   ]
  },
  {
   "cell_type": "code",
   "execution_count": 148,
   "id": "b723655d",
   "metadata": {},
   "outputs": [
    {
     "data": {
      "text/plain": [
       "array([[-0.06611895, -0.04285292, -0.04991446, ...,  0.01635542,\n",
       "         0.0522946 ,  0.06987308],\n",
       "       [-0.01444269, -0.01625891,  0.07026291, ...,  0.02573326,\n",
       "         0.0202786 ,  0.07399899],\n",
       "       [ 0.01596343,  0.02614293,  0.03953838, ..., -0.01385073,\n",
       "         0.04968605, -0.07376767],\n",
       "       ...,\n",
       "       [-0.01109623, -0.04620207,  0.038661  , ...,  0.0399962 ,\n",
       "        -0.02218523,  0.04632884],\n",
       "       [ 0.03008482,  0.03423842,  0.06988558, ...,  0.04336458,\n",
       "         0.03922941,  0.06717154],\n",
       "       [-0.0246631 ,  0.01145624, -0.00095887, ...,  0.04058941,\n",
       "        -0.03881373, -0.06533618]], dtype=float32)"
      ]
     },
     "execution_count": 148,
     "metadata": {},
     "output_type": "execute_result"
    }
   ],
   "source": [
    "weights"
   ]
  },
  {
   "cell_type": "code",
   "execution_count": 149,
   "id": "714d46c5",
   "metadata": {},
   "outputs": [
    {
     "data": {
      "text/plain": [
       "(784, 300)"
      ]
     },
     "execution_count": 149,
     "metadata": {},
     "output_type": "execute_result"
    }
   ],
   "source": [
    "### 첫번쨰 층인 784입력층에 300개 은닝층에 대한 가중치이므로 784 * 300\n",
    "\n",
    "weights.shape"
   ]
  },
  {
   "cell_type": "code",
   "execution_count": 150,
   "id": "26929d3f",
   "metadata": {},
   "outputs": [
    {
     "data": {
      "text/plain": [
       "array([0., 0., 0., 0., 0., 0., 0., 0., 0., 0., 0., 0., 0., 0., 0., 0., 0.,\n",
       "       0., 0., 0., 0., 0., 0., 0., 0., 0., 0., 0., 0., 0., 0., 0., 0., 0.,\n",
       "       0., 0., 0., 0., 0., 0., 0., 0., 0., 0., 0., 0., 0., 0., 0., 0., 0.,\n",
       "       0., 0., 0., 0., 0., 0., 0., 0., 0., 0., 0., 0., 0., 0., 0., 0., 0.,\n",
       "       0., 0., 0., 0., 0., 0., 0., 0., 0., 0., 0., 0., 0., 0., 0., 0., 0.,\n",
       "       0., 0., 0., 0., 0., 0., 0., 0., 0., 0., 0., 0., 0., 0., 0., 0., 0.,\n",
       "       0., 0., 0., 0., 0., 0., 0., 0., 0., 0., 0., 0., 0., 0., 0., 0., 0.,\n",
       "       0., 0., 0., 0., 0., 0., 0., 0., 0., 0., 0., 0., 0., 0., 0., 0., 0.,\n",
       "       0., 0., 0., 0., 0., 0., 0., 0., 0., 0., 0., 0., 0., 0., 0., 0., 0.,\n",
       "       0., 0., 0., 0., 0., 0., 0., 0., 0., 0., 0., 0., 0., 0., 0., 0., 0.,\n",
       "       0., 0., 0., 0., 0., 0., 0., 0., 0., 0., 0., 0., 0., 0., 0., 0., 0.,\n",
       "       0., 0., 0., 0., 0., 0., 0., 0., 0., 0., 0., 0., 0., 0., 0., 0., 0.,\n",
       "       0., 0., 0., 0., 0., 0., 0., 0., 0., 0., 0., 0., 0., 0., 0., 0., 0.,\n",
       "       0., 0., 0., 0., 0., 0., 0., 0., 0., 0., 0., 0., 0., 0., 0., 0., 0.,\n",
       "       0., 0., 0., 0., 0., 0., 0., 0., 0., 0., 0., 0., 0., 0., 0., 0., 0.,\n",
       "       0., 0., 0., 0., 0., 0., 0., 0., 0., 0., 0., 0., 0., 0., 0., 0., 0.,\n",
       "       0., 0., 0., 0., 0., 0., 0., 0., 0., 0., 0., 0., 0., 0., 0., 0., 0.,\n",
       "       0., 0., 0., 0., 0., 0., 0., 0., 0., 0., 0.], dtype=float32)"
      ]
     },
     "execution_count": 150,
     "metadata": {},
     "output_type": "execute_result"
    }
   ],
   "source": [
    "biases"
   ]
  },
  {
   "cell_type": "code",
   "execution_count": 151,
   "id": "87afa1ce",
   "metadata": {},
   "outputs": [
    {
     "data": {
      "text/plain": [
       "(300,)"
      ]
     },
     "execution_count": 151,
     "metadata": {},
     "output_type": "execute_result"
    }
   ],
   "source": [
    "biases.shape"
   ]
  },
  {
   "cell_type": "code",
   "execution_count": 152,
   "id": "84213b4a",
   "metadata": {},
   "outputs": [],
   "source": [
    "model.compile(loss=\"sparse_categorical_crossentropy\",\n",
    "             optimizer=\"sgd\",\n",
    "             metrics=[\"accuracy\"])"
   ]
  },
  {
   "cell_type": "code",
   "execution_count": 153,
   "id": "d475c57e",
   "metadata": {},
   "outputs": [
    {
     "name": "stdout",
     "output_type": "stream",
     "text": [
      "Epoch 1/30\n",
      "1719/1719 [==============================] - 2s 1ms/step - loss: 0.7049 - accuracy: 0.7686 - val_loss: 0.4932 - val_accuracy: 0.8366\n",
      "Epoch 2/30\n",
      "1719/1719 [==============================] - 2s 974us/step - loss: 0.4865 - accuracy: 0.8322 - val_loss: 0.4335 - val_accuracy: 0.8576\n",
      "Epoch 3/30\n",
      "1719/1719 [==============================] - 2s 973us/step - loss: 0.4407 - accuracy: 0.8455 - val_loss: 0.4122 - val_accuracy: 0.8602\n",
      "Epoch 4/30\n",
      "1719/1719 [==============================] - 2s 968us/step - loss: 0.4137 - accuracy: 0.8547 - val_loss: 0.3894 - val_accuracy: 0.8670\n",
      "Epoch 5/30\n",
      "1719/1719 [==============================] - 2s 1000us/step - loss: 0.3937 - accuracy: 0.8616 - val_loss: 0.3940 - val_accuracy: 0.8632\n",
      "Epoch 6/30\n",
      "1719/1719 [==============================] - 2s 975us/step - loss: 0.3768 - accuracy: 0.8690 - val_loss: 0.3798 - val_accuracy: 0.8692\n",
      "Epoch 7/30\n",
      "1719/1719 [==============================] - 2s 971us/step - loss: 0.3648 - accuracy: 0.8723 - val_loss: 0.3565 - val_accuracy: 0.8752\n",
      "Epoch 8/30\n",
      "1719/1719 [==============================] - 2s 979us/step - loss: 0.3527 - accuracy: 0.8761 - val_loss: 0.3539 - val_accuracy: 0.8748\n",
      "Epoch 9/30\n",
      "1719/1719 [==============================] - 2s 965us/step - loss: 0.3431 - accuracy: 0.8795 - val_loss: 0.3564 - val_accuracy: 0.8758\n",
      "Epoch 10/30\n",
      "1719/1719 [==============================] - 2s 967us/step - loss: 0.3329 - accuracy: 0.8817 - val_loss: 0.3591 - val_accuracy: 0.8744\n",
      "Epoch 11/30\n",
      "1719/1719 [==============================] - 2s 967us/step - loss: 0.3249 - accuracy: 0.8832 - val_loss: 0.3400 - val_accuracy: 0.8848\n",
      "Epoch 12/30\n",
      "1719/1719 [==============================] - 2s 1ms/step - loss: 0.3167 - accuracy: 0.8866 - val_loss: 0.3294 - val_accuracy: 0.8856\n",
      "Epoch 13/30\n",
      "1719/1719 [==============================] - 2s 995us/step - loss: 0.3095 - accuracy: 0.8901 - val_loss: 0.3309 - val_accuracy: 0.8862\n",
      "Epoch 14/30\n",
      "1719/1719 [==============================] - 2s 963us/step - loss: 0.3027 - accuracy: 0.8911 - val_loss: 0.3315 - val_accuracy: 0.8838\n",
      "Epoch 15/30\n",
      "1719/1719 [==============================] - 2s 957us/step - loss: 0.2955 - accuracy: 0.8941 - val_loss: 0.3229 - val_accuracy: 0.8850\n",
      "Epoch 16/30\n",
      "1719/1719 [==============================] - 2s 979us/step - loss: 0.2897 - accuracy: 0.8972 - val_loss: 0.3112 - val_accuracy: 0.8914\n",
      "Epoch 17/30\n",
      "1719/1719 [==============================] - 2s 989us/step - loss: 0.2839 - accuracy: 0.8981 - val_loss: 0.3127 - val_accuracy: 0.8898\n",
      "Epoch 18/30\n",
      "1719/1719 [==============================] - 2s 969us/step - loss: 0.2781 - accuracy: 0.9005 - val_loss: 0.3508 - val_accuracy: 0.8700\n",
      "Epoch 19/30\n",
      "1719/1719 [==============================] - 2s 963us/step - loss: 0.2727 - accuracy: 0.9015 - val_loss: 0.3275 - val_accuracy: 0.8836\n",
      "Epoch 20/30\n",
      "1719/1719 [==============================] - 2s 950us/step - loss: 0.2675 - accuracy: 0.9041 - val_loss: 0.3250 - val_accuracy: 0.8816\n",
      "Epoch 21/30\n",
      "1719/1719 [==============================] - 2s 965us/step - loss: 0.2622 - accuracy: 0.9054 - val_loss: 0.3080 - val_accuracy: 0.8920\n",
      "Epoch 22/30\n",
      "1719/1719 [==============================] - 2s 979us/step - loss: 0.2571 - accuracy: 0.9080 - val_loss: 0.3055 - val_accuracy: 0.8908\n",
      "Epoch 23/30\n",
      "1719/1719 [==============================] - 2s 965us/step - loss: 0.2523 - accuracy: 0.9092 - val_loss: 0.3161 - val_accuracy: 0.8854\n",
      "Epoch 24/30\n",
      "1719/1719 [==============================] - 2s 967us/step - loss: 0.2482 - accuracy: 0.9112 - val_loss: 0.3049 - val_accuracy: 0.8918\n",
      "Epoch 25/30\n",
      "1719/1719 [==============================] - 2s 960us/step - loss: 0.2449 - accuracy: 0.9119 - val_loss: 0.3021 - val_accuracy: 0.8890\n",
      "Epoch 26/30\n",
      "1719/1719 [==============================] - 2s 970us/step - loss: 0.2387 - accuracy: 0.9151 - val_loss: 0.3029 - val_accuracy: 0.8920\n",
      "Epoch 27/30\n",
      "1719/1719 [==============================] - 2s 955us/step - loss: 0.2356 - accuracy: 0.9159 - val_loss: 0.3001 - val_accuracy: 0.8922\n",
      "Epoch 28/30\n",
      "1719/1719 [==============================] - 2s 970us/step - loss: 0.2312 - accuracy: 0.9176 - val_loss: 0.2938 - val_accuracy: 0.8944\n",
      "Epoch 29/30\n",
      "1719/1719 [==============================] - 2s 973us/step - loss: 0.2268 - accuracy: 0.9188 - val_loss: 0.3023 - val_accuracy: 0.8880\n",
      "Epoch 30/30\n",
      "1719/1719 [==============================] - 2s 996us/step - loss: 0.2230 - accuracy: 0.9194 - val_loss: 0.2943 - val_accuracy: 0.8934\n"
     ]
    }
   ],
   "source": [
    "### validation_data에 Valid셋을 넣는것 보다는 0.1같은 비율을 넣어 나눠주는게 더 편함\n",
    "\n",
    "history = model.fit(X_train, y_train, epochs=30, validation_data=(X_valid, y_valid))"
   ]
  },
  {
   "cell_type": "code",
   "execution_count": 154,
   "id": "8d57a28f",
   "metadata": {},
   "outputs": [
    {
     "data": {
      "image/png": "[encoded data removed]",
      "text/plain": [
       "<Figure size 576x360 with 1 Axes>"
      ]
     },
     "metadata": {
      "needs_background": "light"
     },
     "output_type": "display_data"
    }
   ],
   "source": [
    "import pandas as pd\n",
    "import matplotlib.pyplot as plt\n",
    "\n",
    "pd.DataFrame(history.history).plot(figsize=(8, 5))\n",
    "plt.grid(True)\n",
    "plt.gca().set_ylim(0, 1)\n",
    "plt.show()"
   ]
  },
  {
   "cell_type": "code",
   "execution_count": 155,
   "id": "1885abcc",
   "metadata": {},
   "outputs": [
    {
     "data": {
      "text/plain": [
       "[0.7048557996749878,\n",
       " 0.48649361729621887,\n",
       " 0.4407353401184082,\n",
       " 0.4136509299278259,\n",
       " 0.39371877908706665,\n",
       " 0.3767853081226349,\n",
       " 0.3648030459880829,\n",
       " 0.3527343273162842,\n",
       " 0.3431479036808014,\n",
       " 0.33294177055358887,\n",
       " 0.3248736262321472,\n",
       " 0.3166564404964447,\n",
       " 0.3095068633556366,\n",
       " 0.3027428984642029,\n",
       " 0.29550620913505554,\n",
       " 0.289651483297348,\n",
       " 0.2838711738586426,\n",
       " 0.27807411551475525,\n",
       " 0.2727123200893402,\n",
       " 0.26747727394104004,\n",
       " 0.26216691732406616,\n",
       " 0.25710877776145935,\n",
       " 0.25229257345199585,\n",
       " 0.24820072948932648,\n",
       " 0.24489285051822662,\n",
       " 0.23868881165981293,\n",
       " 0.23557578027248383,\n",
       " 0.23121091723442078,\n",
       " 0.22676116228103638,\n",
       " 0.22299735248088837]"
      ]
     },
     "execution_count": 155,
     "metadata": {},
     "output_type": "execute_result"
    }
   ],
   "source": [
    "history.history[\"loss\"]"
   ]
  },
  {
   "cell_type": "code",
   "execution_count": 156,
   "id": "871b0552",
   "metadata": {},
   "outputs": [
    {
     "name": "stdout",
     "output_type": "stream",
     "text": [
      "313/313 [==============================] - 0s 713us/step - loss: 0.3233 - accuracy: 0.8833\n"
     ]
    },
    {
     "data": {
      "text/plain": [
       "[0.32329413294792175, 0.8833000063896179]"
      ]
     },
     "execution_count": 156,
     "metadata": {},
     "output_type": "execute_result"
    }
   ],
   "source": [
    "model.evaluate(X_test, y_test)"
   ]
  },
  {
   "cell_type": "code",
   "execution_count": 157,
   "id": "8d4c8a4b",
   "metadata": {},
   "outputs": [
    {
     "data": {
      "text/plain": [
       "array([[0.  , 0.  , 0.  , 0.  , 0.  , 0.  , 0.  , 0.  , 0.  , 0.99],\n",
       "       [0.  , 0.  , 0.99, 0.  , 0.01, 0.  , 0.  , 0.  , 0.  , 0.  ],\n",
       "       [0.  , 1.  , 0.  , 0.  , 0.  , 0.  , 0.  , 0.  , 0.  , 0.  ]],\n",
       "      dtype=float32)"
      ]
     },
     "execution_count": 157,
     "metadata": {},
     "output_type": "execute_result"
    }
   ],
   "source": [
    "X_new = X_test[:3]\n",
    "y_proba = model.predict(X_new)\n",
    "y_proba.round(2)"
   ]
  },
  {
   "cell_type": "code",
   "execution_count": 158,
   "id": "3226c2b2",
   "metadata": {},
   "outputs": [
    {
     "data": {
      "text/plain": [
       "array([9, 2, 1], dtype=int64)"
      ]
     },
     "execution_count": 158,
     "metadata": {},
     "output_type": "execute_result"
    }
   ],
   "source": [
    "### model.predict_classes함수와 같음\n",
    "\n",
    "y_proba.argmax(axis=1)"
   ]
  },
  {
   "cell_type": "code",
   "execution_count": 183,
   "id": "6e7d10df",
   "metadata": {},
   "outputs": [],
   "source": [
    "from sklearn.datasets import fetch_california_housing\n",
    "from sklearn.model_selection import train_test_split\n",
    "from sklearn.preprocessing import StandardScaler\n",
    "\n",
    "housing = fetch_california_housing()\n",
    "\n",
    "X_train_full, X_test, y_train_full, y_test = train_test_split(housing.data, housing.target)\n",
    "X_train, X_valid, y_train, y_valid = train_test_split(X_train_full, y_train_full)\n",
    "\n",
    "scaler = StandardScaler()\n",
    "X_train = scaler.fit_transform(X_train)\n",
    "X_valid = scaler.transform(X_valid)\n",
    "X_test = scaler.transform(X_test)"
   ]
  },
  {
   "cell_type": "code",
   "execution_count": 191,
   "id": "ec561548",
   "metadata": {},
   "outputs": [
    {
     "name": "stdout",
     "output_type": "stream",
     "text": [
      "Epoch 1/20\n",
      "363/363 [==============================] - 0s 732us/step - loss: 0.8713 - val_loss: 0.8894\n",
      "Epoch 2/20\n",
      "363/363 [==============================] - 0s 671us/step - loss: 0.5258 - val_loss: 0.4726\n",
      "Epoch 3/20\n",
      "363/363 [==============================] - 0s 1ms/step - loss: 0.4526 - val_loss: 0.4366\n",
      "Epoch 4/20\n",
      "363/363 [==============================] - 0s 607us/step - loss: 0.4280 - val_loss: 0.4232\n",
      "Epoch 5/20\n",
      "363/363 [==============================] - 0s 594us/step - loss: 0.4121 - val_loss: 0.4091\n",
      "Epoch 6/20\n",
      "363/363 [==============================] - 0s 592us/step - loss: 0.4011 - val_loss: 0.3987\n",
      "Epoch 7/20\n",
      "363/363 [==============================] - 0s 542us/step - loss: 0.3931 - val_loss: 0.3946\n",
      "Epoch 8/20\n",
      "363/363 [==============================] - 0s 569us/step - loss: 0.3859 - val_loss: 0.3967\n",
      "Epoch 9/20\n",
      "363/363 [==============================] - 0s 546us/step - loss: 0.3816 - val_loss: 0.3866\n",
      "Epoch 10/20\n",
      "363/363 [==============================] - 0s 695us/step - loss: 0.3765 - val_loss: 0.3864\n",
      "Epoch 11/20\n",
      "363/363 [==============================] - 0s 660us/step - loss: 0.3727 - val_loss: 0.3852\n",
      "Epoch 12/20\n",
      "363/363 [==============================] - 0s 665us/step - loss: 0.3693 - val_loss: 0.3832\n",
      "Epoch 13/20\n",
      "363/363 [==============================] - 0s 563us/step - loss: 0.3657 - val_loss: 0.3890\n",
      "Epoch 14/20\n",
      "363/363 [==============================] - 0s 548us/step - loss: 0.3635 - val_loss: 0.3764\n",
      "Epoch 15/20\n",
      "363/363 [==============================] - 0s 563us/step - loss: 0.3605 - val_loss: 0.3693\n",
      "Epoch 16/20\n",
      "363/363 [==============================] - 0s 564us/step - loss: 0.3573 - val_loss: 0.3797\n",
      "Epoch 17/20\n",
      "363/363 [==============================] - 0s 533us/step - loss: 0.3569 - val_loss: 0.3684\n",
      "Epoch 18/20\n",
      "363/363 [==============================] - 0s 548us/step - loss: 0.3527 - val_loss: 0.3841\n",
      "Epoch 19/20\n",
      "363/363 [==============================] - 0s 538us/step - loss: 0.3518 - val_loss: 0.3621\n",
      "Epoch 20/20\n",
      "363/363 [==============================] - 0s 548us/step - loss: 0.3497 - val_loss: 0.3634\n",
      "162/162 [==============================] - 0s 415us/step - loss: 0.3577\n"
     ]
    }
   ],
   "source": [
    "###   input_shape매개변수 형태에 chk'\n",
    "\n",
    "model = keras.models.Sequential([\n",
    "    keras.layers.Dense(30, activation=\"relu\", input_shape=X_train.shape[1:]),\n",
    "    keras.layers.Dense(1)\n",
    "])\n",
    "model.compile(loss=\"mean_squared_error\", optimizer=\"sgd\")\n",
    "history = model.fit(X_train, y_train, epochs=20, validation_data=(X_valid, y_valid))\n",
    "mse_test = model.evaluate(X_test, y_test)\n",
    "X_new = X_test[:3]\n",
    "y_pred = model.predict(X_new)\n",
    "model.save(\"my_keras.h5\")"
   ]
  },
  {
   "cell_type": "code",
   "execution_count": 189,
   "id": "75526103",
   "metadata": {},
   "outputs": [
    {
     "name": "stdout",
     "output_type": "stream",
     "text": [
      "Epoch 1/20\n",
      "363/363 [==============================] - 0s 770us/step - loss: 2.8126 - val_loss: 0.9845\n",
      "Epoch 2/20\n",
      "363/363 [==============================] - 0s 579us/step - loss: 0.8542 - val_loss: 0.7247\n",
      "Epoch 3/20\n",
      "363/363 [==============================] - 0s 596us/step - loss: 0.7326 - val_loss: 0.6723\n",
      "Epoch 4/20\n",
      "363/363 [==============================] - 0s 646us/step - loss: 0.6809 - val_loss: 0.6345\n",
      "Epoch 5/20\n",
      "363/363 [==============================] - 0s 670us/step - loss: 0.6412 - val_loss: 0.5996\n",
      "Epoch 6/20\n",
      "363/363 [==============================] - 0s 1ms/step - loss: 0.6087 - val_loss: 0.5749\n",
      "Epoch 7/20\n",
      "363/363 [==============================] - 0s 828us/step - loss: 0.5812 - val_loss: 0.5492\n",
      "Epoch 8/20\n",
      "363/363 [==============================] - 0s 851us/step - loss: 0.5584 - val_loss: 0.5319\n",
      "Epoch 9/20\n",
      "363/363 [==============================] - 0s 791us/step - loss: 0.5384 - val_loss: 0.5120\n",
      "Epoch 10/20\n",
      "363/363 [==============================] - 0s 824us/step - loss: 0.5221 - val_loss: 0.4990\n",
      "Epoch 11/20\n",
      "363/363 [==============================] - 0s 820us/step - loss: 0.5080 - val_loss: 0.4890\n",
      "Epoch 12/20\n",
      "363/363 [==============================] - 0s 809us/step - loss: 0.4959 - val_loss: 0.4824\n",
      "Epoch 13/20\n",
      "363/363 [==============================] - 0s 790us/step - loss: 0.4859 - val_loss: 0.4687\n",
      "Epoch 14/20\n",
      "363/363 [==============================] - 0s 816us/step - loss: 0.4772 - val_loss: 0.4599\n",
      "Epoch 15/20\n",
      "363/363 [==============================] - 0s 844us/step - loss: 0.4695 - val_loss: 0.4559\n",
      "Epoch 16/20\n",
      "363/363 [==============================] - 0s 825us/step - loss: 0.4631 - val_loss: 0.4498\n",
      "Epoch 17/20\n",
      "363/363 [==============================] - 0s 836us/step - loss: 0.4569 - val_loss: 0.4471\n",
      "Epoch 18/20\n",
      "363/363 [==============================] - 0s 822us/step - loss: 0.4512 - val_loss: 0.4408\n",
      "Epoch 19/20\n",
      "363/363 [==============================] - 0s 892us/step - loss: 0.4459 - val_loss: 0.4353\n",
      "Epoch 20/20\n",
      "363/363 [==============================] - 0s 1ms/step - loss: 0.4410 - val_loss: 0.4316\n"
     ]
    }
   ],
   "source": [
    "input_ = keras.layers.Input(shape=X_train.shape[1:])\n",
    "hidden1 = keras.layers.Dense(30, activation=\"relu\")(input_)\n",
    "hidden2 = keras.layers.Dense(30, activation=\"relu\")(hidden1)\n",
    "concat = keras.layers.Concatenate()([input_, hidden2])\n",
    "output = keras.layers.Dense(1)(concat)\n",
    "model = keras.Model(inputs=[input_], outputs = [output])\n",
    "model.compile(loss=\"mean_squared_error\", optimizer=keras.optimizers.SGD(lr=1e-3))\n",
    "history = model.fit(X_train, y_train, epochs=20,\n",
    "                    validation_data=(X_valid, y_valid))"
   ]
  },
  {
   "cell_type": "code",
   "execution_count": 162,
   "id": "73574eef",
   "metadata": {},
   "outputs": [],
   "source": [
    "input_A = keras.layers.Input(shape=[5], name=\"wide_input\")\n",
    "input_B = keras.layers.Input(shape=[6], name=\"deep_input\")\n",
    "hidden1 = keras.layers.Dense(30, activation=\"relu\")(input_B)\n",
    "hidden2 = keras.layers.Dense(30, activation=\"relu\")(hidden1)\n",
    "concat = keras.layers.Concatenate()([input_A, hidden2])\n",
    "output = keras.layers.Dense(1, name=\"output\")(concat)\n",
    "model = keras.Model(inputs=[input_A, input_B], outputs = [output])"
   ]
  },
  {
   "cell_type": "code",
   "execution_count": 163,
   "id": "fb3b4502",
   "metadata": {},
   "outputs": [
    {
     "name": "stdout",
     "output_type": "stream",
     "text": [
      "Epoch 1/20\n",
      "  1/363 [..............................] - ETA: 55s - loss: 5.8660"
     ]
    },
    {
     "name": "stderr",
     "output_type": "stream",
     "text": [
      "C:\\Users\\hjhhi\\Anaconda3\\envs\\tensor\\lib\\site-packages\\keras\\optimizer_v2\\optimizer_v2.py:355: UserWarning: The `lr` argument is deprecated, use `learning_rate` instead.\n",
      "  warnings.warn(\n"
     ]
    },
    {
     "name": "stdout",
     "output_type": "stream",
     "text": [
      "363/363 [==============================] - 0s 817us/step - loss: 2.4118 - val_loss: 1.1045\n",
      "Epoch 2/20\n",
      "363/363 [==============================] - 0s 608us/step - loss: 0.9074 - val_loss: 0.7465\n",
      "Epoch 3/20\n",
      "363/363 [==============================] - 0s 602us/step - loss: 0.6970 - val_loss: 0.6797\n",
      "Epoch 4/20\n",
      "363/363 [==============================] - 0s 647us/step - loss: 0.6549 - val_loss: 0.6490\n",
      "Epoch 5/20\n",
      "363/363 [==============================] - 0s 643us/step - loss: 0.6329 - val_loss: 0.6290\n",
      "Epoch 6/20\n",
      "363/363 [==============================] - 0s 601us/step - loss: 0.6164 - val_loss: 0.6155\n",
      "Epoch 7/20\n",
      "363/363 [==============================] - 0s 643us/step - loss: 0.6059 - val_loss: 0.6003\n",
      "Epoch 8/20\n",
      "363/363 [==============================] - 0s 641us/step - loss: 0.5925 - val_loss: 0.5902\n",
      "Epoch 9/20\n",
      "363/363 [==============================] - 0s 647us/step - loss: 0.5824 - val_loss: 0.5777\n",
      "Epoch 10/20\n",
      "363/363 [==============================] - 0s 604us/step - loss: 0.5768 - val_loss: 0.5698\n",
      "Epoch 11/20\n",
      "363/363 [==============================] - 0s 600us/step - loss: 0.5698 - val_loss: 0.5614\n",
      "Epoch 12/20\n",
      "363/363 [==============================] - 0s 683us/step - loss: 0.5617 - val_loss: 0.5552\n",
      "Epoch 13/20\n",
      "363/363 [==============================] - 0s 603us/step - loss: 0.5514 - val_loss: 0.5471\n",
      "Epoch 14/20\n",
      "363/363 [==============================] - 0s 642us/step - loss: 0.5487 - val_loss: 0.5403\n",
      "Epoch 15/20\n",
      "363/363 [==============================] - 0s 601us/step - loss: 0.5437 - val_loss: 0.5348\n",
      "Epoch 16/20\n",
      "363/363 [==============================] - 0s 644us/step - loss: 0.5370 - val_loss: 0.5382\n",
      "Epoch 17/20\n",
      "363/363 [==============================] - 0s 603us/step - loss: 0.5368 - val_loss: 0.5351\n",
      "Epoch 18/20\n",
      "363/363 [==============================] - 0s 640us/step - loss: 0.5305 - val_loss: 0.5210\n",
      "Epoch 19/20\n",
      "363/363 [==============================] - 0s 645us/step - loss: 0.5280 - val_loss: 0.5174\n",
      "Epoch 20/20\n",
      "363/363 [==============================] - 0s 604us/step - loss: 0.5255 - val_loss: 0.5139\n",
      "162/162 [==============================] - 0s 483us/step - loss: 0.4771\n"
     ]
    }
   ],
   "source": [
    "model.compile(loss=\"mse\", optimizer=keras.optimizers.SGD(lr=1e-3))\n",
    "\n",
    "X_train_A, X_train_B = X_train[:, :5], X_train[:, 2:]\n",
    "X_valid_A, X_valid_B = X_valid[:, :5], X_valid[:, 2:]\n",
    "X_test_A, X_test_B = X_test[:, :5], X_test[:, 2:]\n",
    "X_new_A, X_new_B = X_test_A[:3], X_test_B[:3]\n",
    "\n",
    "history = model.fit((X_train_A, X_train_B), y_train, epochs=20,\n",
    "                   validation_data=((X_valid_A, X_valid_B), y_valid))\n",
    "mse_test = model.evaluate((X_test_A, X_test_B), y_test)\n",
    "y_pred = model.predict((X_new_A, X_new_B))"
   ]
  },
  {
   "cell_type": "code",
   "execution_count": 164,
   "id": "b51360e8",
   "metadata": {},
   "outputs": [
    {
     "name": "stdout",
     "output_type": "stream",
     "text": [
      "Epoch 1/20\n",
      "327/327 [==============================] - 0s 822us/step - loss: 0.5201 - val_loss: 0.5350\n",
      "Epoch 2/20\n",
      "327/327 [==============================] - 0s 624us/step - loss: 0.5157 - val_loss: 0.5366\n",
      "Epoch 3/20\n",
      "327/327 [==============================] - 0s 566us/step - loss: 0.5144 - val_loss: 0.5326\n",
      "Epoch 4/20\n",
      "327/327 [==============================] - 0s 601us/step - loss: 0.5111 - val_loss: 0.5348\n",
      "Epoch 5/20\n",
      "327/327 [==============================] - 0s 510us/step - loss: 0.5081 - val_loss: 0.5268\n",
      "Epoch 6/20\n",
      "327/327 [==============================] - 0s 667us/step - loss: 0.5059 - val_loss: 0.5241\n",
      "Epoch 7/20\n",
      "327/327 [==============================] - 0s 791us/step - loss: 0.5027 - val_loss: 0.5218\n",
      "Epoch 8/20\n",
      "327/327 [==============================] - 0s 754us/step - loss: 0.5018 - val_loss: 0.5202\n",
      "Epoch 9/20\n",
      "327/327 [==============================] - 0s 730us/step - loss: 0.5002 - val_loss: 0.5203\n",
      "Epoch 10/20\n",
      "327/327 [==============================] - 0s 667us/step - loss: 0.4978 - val_loss: 0.5185\n",
      "Epoch 11/20\n",
      "327/327 [==============================] - 0s 762us/step - loss: 0.4919 - val_loss: 0.5143\n",
      "Epoch 12/20\n",
      "327/327 [==============================] - 0s 599us/step - loss: 0.4920 - val_loss: 0.5116\n",
      "Epoch 13/20\n",
      "327/327 [==============================] - 0s 512us/step - loss: 0.4893 - val_loss: 0.5123\n",
      "Epoch 14/20\n",
      "327/327 [==============================] - 0s 618us/step - loss: 0.4859 - val_loss: 0.5078\n",
      "Epoch 15/20\n",
      "327/327 [==============================] - 0s 549us/step - loss: 0.4875 - val_loss: 0.5068\n",
      "Epoch 16/20\n",
      "327/327 [==============================] - 0s 559us/step - loss: 0.4855 - val_loss: 0.5040\n",
      "Epoch 17/20\n",
      "327/327 [==============================] - 0s 560us/step - loss: 0.4822 - val_loss: 0.5029\n",
      "Epoch 18/20\n",
      "327/327 [==============================] - 0s 619us/step - loss: 0.4800 - val_loss: 0.5022\n",
      "Epoch 19/20\n",
      "327/327 [==============================] - 0s 557us/step - loss: 0.4755 - val_loss: 0.4997\n",
      "Epoch 20/20\n",
      "327/327 [==============================] - 0s 615us/step - loss: 0.4765 - val_loss: 0.4984\n",
      "162/162 [==============================] - 0s 476us/step - loss: 0.4431\n"
     ]
    }
   ],
   "source": [
    "model.compile(loss=\"mse\", optimizer=keras.optimizers.SGD(lr=1e-3))\n",
    "\n",
    "X_train_A, X_train_B = X_train[:, :5], X_train[:, 2:]\n",
    "X_valid_A, X_valid_B = X_valid[:, :5], X_valid[:, 2:]\n",
    "X_test_A, X_test_B = X_test[:, :5], X_test[:, 2:]\n",
    "X_new_A, X_new_B = X_test_A[:3], X_test_B[:3]\n",
    "\n",
    "history = model.fit((X_train_A, X_train_B), y_train, epochs=20,\n",
    "                   validation_split=0.1)\n",
    "mse_test = model.evaluate((X_test_A, X_test_B), y_test)\n",
    "y_pred = model.predict((X_new_A, X_new_B))"
   ]
  },
  {
   "cell_type": "code",
   "execution_count": 165,
   "id": "e003844a",
   "metadata": {},
   "outputs": [],
   "source": [
    "input_A = keras.layers.Input(shape=[5], name=\"wide_input\")\n",
    "input_B = keras.layers.Input(shape=[6], name=\"deep_input\")\n",
    "hidden1 = keras.layers.Dense(30, activation=\"relu\")(input_B)\n",
    "hidden2 = keras.layers.Dense(30, activation=\"relu\")(hidden1)\n",
    "concat = keras.layers.Concatenate()([input_A, hidden2])\n",
    "output = keras.layers.Dense(1, name=\"main_output\")(concat)\n",
    "aux_output = keras.layers.Dense(1, name=\"aux_output\")(hidden2)\n",
    "model = keras.Model(inputs=[input_A, input_B], outputs=[output, aux_output])"
   ]
  },
  {
   "cell_type": "code",
   "execution_count": 166,
   "id": "122f96d7",
   "metadata": {},
   "outputs": [],
   "source": [
    "model.compile(loss=[\"mse\", \"mse\"], loss_weights = [0.9, 0.1], optimizer=\"sgd\")"
   ]
  },
  {
   "cell_type": "code",
   "execution_count": 167,
   "id": "e09bd9c2",
   "metadata": {},
   "outputs": [
    {
     "name": "stdout",
     "output_type": "stream",
     "text": [
      "Epoch 1/20\n",
      "363/363 [==============================] - 1s 1ms/step - loss: 0.9321 - main_output_loss: 0.8346 - aux_output_loss: 1.8094 - val_loss: 0.8301 - val_main_output_loss: 0.7912 - val_aux_output_loss: 1.1797\n",
      "Epoch 2/20\n",
      "363/363 [==============================] - 0s 821us/step - loss: 0.7467 - main_output_loss: 0.7071 - aux_output_loss: 1.1028 - val_loss: 0.5426 - val_main_output_loss: 0.4966 - val_aux_output_loss: 0.9562\n",
      "Epoch 3/20\n",
      "363/363 [==============================] - 0s 873us/step - loss: 0.5580 - main_output_loss: 0.5177 - aux_output_loss: 0.9205 - val_loss: 0.5016 - val_main_output_loss: 0.4679 - val_aux_output_loss: 0.8052\n",
      "Epoch 4/20\n",
      "363/363 [==============================] - 0s 867us/step - loss: 0.5311 - main_output_loss: 0.5000 - aux_output_loss: 0.8111 - val_loss: 0.4845 - val_main_output_loss: 0.4570 - val_aux_output_loss: 0.7324\n",
      "Epoch 5/20\n",
      "363/363 [==============================] - 0s 885us/step - loss: 0.4996 - main_output_loss: 0.4724 - aux_output_loss: 0.7445 - val_loss: 0.4637 - val_main_output_loss: 0.4406 - val_aux_output_loss: 0.6718\n",
      "Epoch 6/20\n",
      "363/363 [==============================] - 0s 836us/step - loss: 0.4814 - main_output_loss: 0.4567 - aux_output_loss: 0.7030 - val_loss: 0.4688 - val_main_output_loss: 0.4503 - val_aux_output_loss: 0.6351\n",
      "Epoch 7/20\n",
      "363/363 [==============================] - 0s 882us/step - loss: 0.4692 - main_output_loss: 0.4462 - aux_output_loss: 0.6767 - val_loss: 0.4712 - val_main_output_loss: 0.4541 - val_aux_output_loss: 0.6243\n",
      "Epoch 8/20\n",
      "363/363 [==============================] - 0s 829us/step - loss: 0.4587 - main_output_loss: 0.4372 - aux_output_loss: 0.6521 - val_loss: 0.4318 - val_main_output_loss: 0.4140 - val_aux_output_loss: 0.5918\n",
      "Epoch 9/20\n",
      "363/363 [==============================] - 0s 840us/step - loss: 0.4506 - main_output_loss: 0.4303 - aux_output_loss: 0.6328 - val_loss: 0.4256 - val_main_output_loss: 0.4089 - val_aux_output_loss: 0.5752\n",
      "Epoch 10/20\n",
      "363/363 [==============================] - 0s 839us/step - loss: 0.4505 - main_output_loss: 0.4309 - aux_output_loss: 0.6272 - val_loss: 0.4196 - val_main_output_loss: 0.4039 - val_aux_output_loss: 0.5606\n",
      "Epoch 11/20\n",
      "363/363 [==============================] - 0s 861us/step - loss: 0.4433 - main_output_loss: 0.4247 - aux_output_loss: 0.6103 - val_loss: 0.4146 - val_main_output_loss: 0.3986 - val_aux_output_loss: 0.5591\n",
      "Epoch 12/20\n",
      "363/363 [==============================] - 0s 871us/step - loss: 0.4430 - main_output_loss: 0.4261 - aux_output_loss: 0.5951 - val_loss: 0.4071 - val_main_output_loss: 0.3927 - val_aux_output_loss: 0.5361\n",
      "Epoch 13/20\n",
      "363/363 [==============================] - 0s 842us/step - loss: 0.4295 - main_output_loss: 0.4125 - aux_output_loss: 0.5820 - val_loss: 0.4037 - val_main_output_loss: 0.3900 - val_aux_output_loss: 0.5266\n",
      "Epoch 14/20\n",
      "363/363 [==============================] - 0s 866us/step - loss: 0.4226 - main_output_loss: 0.4063 - aux_output_loss: 0.5696 - val_loss: 0.4010 - val_main_output_loss: 0.3873 - val_aux_output_loss: 0.5243\n",
      "Epoch 15/20\n",
      "363/363 [==============================] - 0s 882us/step - loss: 0.4191 - main_output_loss: 0.4031 - aux_output_loss: 0.5631 - val_loss: 0.3927 - val_main_output_loss: 0.3795 - val_aux_output_loss: 0.5119\n",
      "Epoch 16/20\n",
      "363/363 [==============================] - 0s 848us/step - loss: 0.4133 - main_output_loss: 0.3977 - aux_output_loss: 0.5538 - val_loss: 0.3917 - val_main_output_loss: 0.3799 - val_aux_output_loss: 0.4984\n",
      "Epoch 17/20\n",
      "363/363 [==============================] - 0s 845us/step - loss: 0.4093 - main_output_loss: 0.3940 - aux_output_loss: 0.5474 - val_loss: 0.4074 - val_main_output_loss: 0.3970 - val_aux_output_loss: 0.5005\n",
      "Epoch 18/20\n",
      "363/363 [==============================] - 0s 881us/step - loss: 0.4077 - main_output_loss: 0.3932 - aux_output_loss: 0.5384 - val_loss: 0.3775 - val_main_output_loss: 0.3657 - val_aux_output_loss: 0.4838\n",
      "Epoch 19/20\n",
      "363/363 [==============================] - 0s 844us/step - loss: 0.3982 - main_output_loss: 0.3842 - aux_output_loss: 0.5239 - val_loss: 0.3782 - val_main_output_loss: 0.3667 - val_aux_output_loss: 0.4813\n",
      "Epoch 20/20\n",
      "363/363 [==============================] - 0s 816us/step - loss: 0.3922 - main_output_loss: 0.3783 - aux_output_loss: 0.5168 - val_loss: 0.3774 - val_main_output_loss: 0.3669 - val_aux_output_loss: 0.4722\n"
     ]
    }
   ],
   "source": [
    "history = model.fit(\n",
    "    [X_train_A, X_train_B], [y_train, y_train], epochs=20,\n",
    "    validation_data=([X_valid_A, X_valid_B], [y_valid, y_valid]))"
   ]
  },
  {
   "cell_type": "code",
   "execution_count": 168,
   "id": "f45415dc",
   "metadata": {},
   "outputs": [
    {
     "name": "stdout",
     "output_type": "stream",
     "text": [
      "162/162 [==============================] - 0s 581us/step - loss: 0.3762 - main_output_loss: 0.3631 - aux_output_loss: 0.4947\n"
     ]
    }
   ],
   "source": [
    "total_loss ,main_loss, aux_loss = model.evaluate(\n",
    "[X_test_A, X_test_B], [y_test, y_test])"
   ]
  },
  {
   "cell_type": "code",
   "execution_count": 169,
   "id": "a13f2e5e",
   "metadata": {},
   "outputs": [],
   "source": [
    "y_pred_main, y_pre_aux = model.predict([X_new_A, X_new_B])"
   ]
  },
  {
   "cell_type": "code",
   "execution_count": 170,
   "id": "ecd47537",
   "metadata": {},
   "outputs": [],
   "source": [
    "class WideAndDeepModel(keras.Model):\n",
    "    def __init__(self, units=30, activation=\"relu\",**kwargs):\n",
    "        super().__init__(**kwargs)\n",
    "        self.hidden1 = keras.layers.Dense(units, activation=activation)\n",
    "        self.hidden2 = keras.layers.Dense(units, activation=activation)\n",
    "        self.main_output = keras.layers,Dense(1)\n",
    "        self.aux_output = keras.layers,Dense(1)        \n",
    "        \n",
    "        def call(self, inputs):\n",
    "            input_A, input_B = inputs\n",
    "            hidden1 = self.hidden1(input_B)\n",
    "            hidden2 = self.hidden2(hidden1)\n",
    "            concat = keras.layers.concatenate([input_A, hidden2])\n",
    "            main_output = self.main_output(concat)\n",
    "            aux_output = self.aux_output(hidden2)\n",
    "            return main_output, aux_output\n",
    "model = WideAndDeepModel()"
   ]
  },
  {
   "cell_type": "code",
   "execution_count": 176,
   "id": "45e2371c",
   "metadata": {},
   "outputs": [
    {
     "name": "stdout",
     "output_type": "stream",
     "text": [
      "Epoch 1/10\n",
      "363/363 [==============================] - 1s 488us/step - loss: 1.4570\n",
      "Epoch 2/10\n",
      "363/363 [==============================] - 0s 436us/step - loss: 552030871486464.0000\n",
      "Epoch 3/10\n",
      "363/363 [==============================] - 0s 454us/step - loss: 6255827968.0000\n",
      "Epoch 4/10\n",
      "363/363 [==============================] - 0s 444us/step - loss: 190371479552.0000\n",
      "Epoch 5/10\n",
      "363/363 [==============================] - 0s 460us/step - loss: 4468098203648.0000\n",
      "Epoch 6/10\n",
      "363/363 [==============================] - 0s 427us/step - loss: 176506126991360.0000\n",
      "Epoch 7/10\n",
      "363/363 [==============================] - 0s 466us/step - loss: 4634225152098304.0000\n",
      "Epoch 8/10\n",
      "363/363 [==============================] - 0s 445us/step - loss: 164846479817572352.0000\n",
      "Epoch 9/10\n",
      "363/363 [==============================] - 0s 432us/step - loss: 6947104790916628480.0000\n",
      "Epoch 10/10\n",
      "363/363 [==============================] - 0s 431us/step - loss: 169746686483221184512.0000\n"
     ]
    }
   ],
   "source": [
    "input_ = keras.layers.Input(shape=X_train.shape[1:])\n",
    "hidden1 = keras.layers.Dense(30, activation=\"relu\")(input_)\n",
    "hidden2 = keras.layers.Dense(30, activation=\"relu\")(hidden1)\n",
    "concat = keras.layers.Concatenate()([input_, hidden2])\n",
    "output = keras.layers.Dense(1)(concat)\n",
    "model = keras.Model(inputs=[input_], outputs = [output])\n",
    "model.compile(loss=\"mean_squared_error\", optimizer=\"sgd\")\n",
    "history = model.fit(X_train, y_train, epochs=10)"
   ]
  },
  {
   "cell_type": "code",
   "execution_count": 197,
   "id": "d093580c",
   "metadata": {},
   "outputs": [
    {
     "name": "stdout",
     "output_type": "stream",
     "text": [
      "Epoch 1/10\n",
      "363/363 [==============================] - 0s 493us/step - loss: 2.0000\n",
      "Epoch 2/10\n",
      "363/363 [==============================] - 0s 433us/step - loss: 0.8090\n",
      "Epoch 3/10\n",
      "363/363 [==============================] - 0s 422us/step - loss: 0.7199\n",
      "Epoch 4/10\n",
      "363/363 [==============================] - 0s 429us/step - loss: 0.6830\n",
      "Epoch 5/10\n",
      "363/363 [==============================] - 0s 427us/step - loss: 0.6576\n",
      "Epoch 6/10\n",
      "363/363 [==============================] - 0s 433us/step - loss: 0.6341\n",
      "Epoch 7/10\n",
      "363/363 [==============================] - 0s 489us/step - loss: 0.6151\n",
      "Epoch 8/10\n",
      "363/363 [==============================] - 0s 455us/step - loss: 0.5970\n",
      "Epoch 9/10\n",
      "363/363 [==============================] - 0s 437us/step - loss: 0.5805\n",
      "Epoch 10/10\n",
      "363/363 [==============================] - 0s 456us/step - loss: 0.5656\n"
     ]
    }
   ],
   "source": [
    "model = keras.models.Sequential([\n",
    "    keras.layers.Dense(30, activation=\"relu\", input_shape=[8]),\n",
    "    keras.layers.Dense(30, activation=\"relu\"),\n",
    "    keras.layers.Dense(1)\n",
    "])\n",
    "model.compile(loss=\"mse\", optimizer=keras.optimizers.SGD(lr=1e-3))\n",
    "history = model.fit(X_train, y_train, epochs=10)\n",
    "model.save(\"my_keras.h5\")"
   ]
  },
  {
   "cell_type": "code",
   "execution_count": 198,
   "id": "43d7a208",
   "metadata": {},
   "outputs": [
    {
     "name": "stdout",
     "output_type": "stream",
     "text": [
      "Epoch 1/10\n",
      "363/363 [==============================] - 0s 515us/step - loss: 0.5502\n",
      "Epoch 2/10\n",
      "363/363 [==============================] - 0s 453us/step - loss: 0.5388\n",
      "Epoch 3/10\n",
      "363/363 [==============================] - 0s 453us/step - loss: 0.5260\n",
      "Epoch 4/10\n",
      "363/363 [==============================] - 0s 464us/step - loss: 0.5148\n",
      "Epoch 5/10\n",
      "363/363 [==============================] - 0s 493us/step - loss: 0.5049\n",
      "Epoch 6/10\n",
      "363/363 [==============================] - 0s 461us/step - loss: 0.4950\n",
      "Epoch 7/10\n",
      "363/363 [==============================] - 0s 602us/step - loss: 0.4863\n",
      "Epoch 8/10\n",
      "363/363 [==============================] - 0s 452us/step - loss: 0.4784\n",
      "Epoch 9/10\n",
      "363/363 [==============================] - 0s 464us/step - loss: 0.4707\n",
      "Epoch 10/10\n",
      "363/363 [==============================] - 0s 482us/step - loss: 0.4639\n"
     ]
    }
   ],
   "source": [
    "checkpoint = keras.callbacks.ModelCheckpoint(\"my_keras.h5\")\n",
    "history = model.fit(X_train, y_train, epochs=10, callbacks=[checkpoint])"
   ]
  },
  {
   "cell_type": "code",
   "execution_count": null,
   "id": "128bf54a",
   "metadata": {},
   "outputs": [],
   "source": []
  }
 ],
 "metadata": {
  "kernelspec": {
   "display_name": "tensorflow",
   "language": "python",
   "name": "tensor"
  },
  "language_info": {
   "codemirror_mode": {
    "name": "ipython",
    "version": 3
   },
   "file_extension": ".py",
   "mimetype": "text/x-python",
   "name": "python",
   "nbconvert_exporter": "python",
   "pygments_lexer": "ipython3",
   "version": "3.9.6"
  }
 },
 "nbformat": 4,
 "nbformat_minor": 5
}
