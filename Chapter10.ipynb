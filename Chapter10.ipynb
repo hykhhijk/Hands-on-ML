{
 "cells": [
  {
   "cell_type": "code",
   "execution_count": 1,
   "id": "a3ea79d8",
   "metadata": {},
   "outputs": [],
   "source": [
    "import numpy as np\n",
    "from sklearn.datasets import load_iris\n",
    "from sklearn.linear_model import Perceptron\n",
    "\n",
    "iris = load_iris()\n",
    "X = iris.data[:, (2,3)]\n",
    "y = (iris.target == 0).astype(np.int)\n",
    "\n",
    "per_clf = Perceptron()\n",
    "per_clf.fit(X, y)\n",
    "\n",
    "y_pred = per_clf.predict([[2, 0.5]])"
   ]
  },
  {
   "cell_type": "code",
   "execution_count": 2,
   "id": "ecdeba2a",
   "metadata": {},
   "outputs": [],
   "source": [
    "import tensorflow as tf\n",
    "from tensorflow import keras"
   ]
  },
  {
   "cell_type": "code",
   "execution_count": 3,
   "id": "9ea048a2",
   "metadata": {},
   "outputs": [],
   "source": [
    "fashion_mnist =  keras.datasets.fashion_mnist\n",
    "(X_train_full, y_train_full), (X_test, y_test) = fashion_mnist.load_data()"
   ]
  },
  {
   "cell_type": "code",
   "execution_count": 4,
   "id": "d8931b7a",
   "metadata": {},
   "outputs": [
    {
     "data": {
      "text/plain": [
       "dtype('uint8')"
      ]
     },
     "execution_count": 4,
     "metadata": {},
     "output_type": "execute_result"
    }
   ],
   "source": [
    "X_train_full.dtype"
   ]
  },
  {
   "cell_type": "code",
   "execution_count": 5,
   "id": "6db8dc2f",
   "metadata": {},
   "outputs": [],
   "source": [
    "X_valid, X_train = X_train_full[:5000] / 255.0, X_train_full[5000:]/255.0\n",
    "y_valid, y_train = y_train_full[:5000] , y_train_full[5000:]\n",
    "X_test = X_test/255.0"
   ]
  },
  {
   "cell_type": "code",
   "execution_count": 6,
   "id": "7c3666d4",
   "metadata": {},
   "outputs": [],
   "source": [
    "class_names = [\"T-shirt/top\", \"Trouser\", \"Pullover\",\"Dress\",\"Coat\",\"Sandal\",\"Shirt\",\"Sneaker\",\"bas\",\"Ankle boot\"]"
   ]
  },
  {
   "cell_type": "code",
   "execution_count": 7,
   "id": "5e13ffb1",
   "metadata": {},
   "outputs": [
    {
     "data": {
      "text/plain": [
       "'Coat'"
      ]
     },
     "execution_count": 7,
     "metadata": {},
     "output_type": "execute_result"
    }
   ],
   "source": [
    "class_names[y_train[0]]"
   ]
  },
  {
   "cell_type": "code",
   "execution_count": 8,
   "id": "14602ad2",
   "metadata": {},
   "outputs": [],
   "source": [
    "model = keras.models.Sequential()\n",
    "model.add(keras.layers.Flatten(input_shape=[28, 28]))\n",
    "model.add(keras.layers.Dense(300, activation=\"relu\"))\n",
    "model.add(keras.layers.Dense(100, activation=\"relu\"))\n",
    "model.add(keras.layers.Dense(10, activation=\"softmax\"))"
   ]
  },
  {
   "cell_type": "code",
   "execution_count": 9,
   "id": "b92ad441",
   "metadata": {},
   "outputs": [],
   "source": [
    "### 위와 동일\n",
    "\n",
    "model = keras.models.Sequential([\n",
    "    keras.layers.Flatten(input_shape=[28, 28]),\n",
    "    keras.layers.Dense(300, activation=\"relu\"),\n",
    "    keras.layers.Dense(100, activation=\"relu\"),\n",
    "    keras.layers.Dense(10, activation=\"softmax\")\n",
    "])"
   ]
  },
  {
   "cell_type": "code",
   "execution_count": 10,
   "id": "7e2b53d9",
   "metadata": {},
   "outputs": [],
   "source": [
    "from keras.layers import Dense\n",
    "output_layer = Dense(10)"
   ]
  },
  {
   "cell_type": "code",
   "execution_count": 11,
   "id": "edb52c3b",
   "metadata": {},
   "outputs": [
    {
     "data": {
      "text/plain": [
       "<keras.layers.core.Dense at 0x29bff642f40>"
      ]
     },
     "execution_count": 11,
     "metadata": {},
     "output_type": "execute_result"
    }
   ],
   "source": [
    "output_layer"
   ]
  },
  {
   "cell_type": "code",
   "execution_count": 12,
   "id": "92e3c0f2",
   "metadata": {},
   "outputs": [],
   "source": [
    "from tensorflow.keras.layers import Dense\n",
    "output_layer = Dense(10)"
   ]
  },
  {
   "cell_type": "code",
   "execution_count": 13,
   "id": "ccf74b74",
   "metadata": {},
   "outputs": [
    {
     "data": {
      "text/plain": [
       "<keras.layers.core.Dense at 0x29bff3a8160>"
      ]
     },
     "execution_count": 13,
     "metadata": {},
     "output_type": "execute_result"
    }
   ],
   "source": [
    "output_layer"
   ]
  },
  {
   "cell_type": "code",
   "execution_count": 14,
   "id": "71fd38fc",
   "metadata": {},
   "outputs": [
    {
     "name": "stdout",
     "output_type": "stream",
     "text": [
      "Model: \"sequential_1\"\n",
      "_________________________________________________________________\n",
      "Layer (type)                 Output Shape              Param #   \n",
      "=================================================================\n",
      "flatten_1 (Flatten)          (None, 784)               0         \n",
      "_________________________________________________________________\n",
      "dense_3 (Dense)              (None, 300)               235500    \n",
      "_________________________________________________________________\n",
      "dense_4 (Dense)              (None, 100)               30100     \n",
      "_________________________________________________________________\n",
      "dense_5 (Dense)              (None, 10)                1010      \n",
      "=================================================================\n",
      "Total params: 266,610\n",
      "Trainable params: 266,610\n",
      "Non-trainable params: 0\n",
      "_________________________________________________________________\n"
     ]
    }
   ],
   "source": [
    "model.summary()"
   ]
  },
  {
   "cell_type": "code",
   "execution_count": 15,
   "id": "ca10ff1f",
   "metadata": {},
   "outputs": [
    {
     "data": {
      "text/plain": [
       "[<keras.layers.core.Flatten at 0x29bff642a00>,\n",
       " <keras.layers.core.Dense at 0x29bff6423d0>,\n",
       " <keras.layers.core.Dense at 0x29bff3a8ca0>,\n",
       " <keras.layers.core.Dense at 0x29bff3a8700>]"
      ]
     },
     "execution_count": 15,
     "metadata": {},
     "output_type": "execute_result"
    }
   ],
   "source": [
    "model.layers"
   ]
  },
  {
   "cell_type": "code",
   "execution_count": 16,
   "id": "9d4dfec1",
   "metadata": {},
   "outputs": [
    {
     "data": {
      "text/plain": [
       "'dense_3'"
      ]
     },
     "execution_count": 16,
     "metadata": {},
     "output_type": "execute_result"
    }
   ],
   "source": [
    "hidden1 = model.layers[1]\n",
    "hidden1.name"
   ]
  },
  {
   "cell_type": "code",
   "execution_count": 18,
   "id": "d66b29f7",
   "metadata": {},
   "outputs": [
    {
     "data": {
      "text/plain": [
       "True"
      ]
     },
     "execution_count": 18,
     "metadata": {},
     "output_type": "execute_result"
    }
   ],
   "source": [
    "model.get_layer(\"dense_3\") is hidden1"
   ]
  },
  {
   "cell_type": "code",
   "execution_count": 19,
   "id": "d4d4d2c9",
   "metadata": {},
   "outputs": [],
   "source": [
    "weights, biases = hidden1.get_weights()"
   ]
  },
  {
   "cell_type": "code",
   "execution_count": 20,
   "id": "b723655d",
   "metadata": {},
   "outputs": [
    {
     "data": {
      "text/plain": [
       "array([[ 0.06896953, -0.04273922, -0.03670045, ..., -0.04591834,\n",
       "         0.04372988, -0.06563983],\n",
       "       [-0.06272614,  0.0666737 , -0.00310272, ...,  0.04052385,\n",
       "        -0.03650998,  0.03086516],\n",
       "       [-0.07188664, -0.054364  , -0.05090344, ...,  0.00761522,\n",
       "        -0.0160281 ,  0.00596141],\n",
       "       ...,\n",
       "       [-0.03989203, -0.00396182, -0.02012427, ...,  0.03199066,\n",
       "        -0.06681553, -0.03458154],\n",
       "       [-0.00129953,  0.01262167,  0.03626782, ...,  0.07029045,\n",
       "         0.02646699, -0.05517695],\n",
       "       [ 0.04918542,  0.06801476, -0.03714413, ..., -0.00117724,\n",
       "        -0.03635222, -0.06447135]], dtype=float32)"
      ]
     },
     "execution_count": 20,
     "metadata": {},
     "output_type": "execute_result"
    }
   ],
   "source": [
    "weights"
   ]
  },
  {
   "cell_type": "code",
   "execution_count": 21,
   "id": "714d46c5",
   "metadata": {},
   "outputs": [
    {
     "data": {
      "text/plain": [
       "(784, 300)"
      ]
     },
     "execution_count": 21,
     "metadata": {},
     "output_type": "execute_result"
    }
   ],
   "source": [
    "### 첫번쨰 층인 784입력층에 300개 은닝층에 대한 가중치이므로 784 * 300\n",
    "\n",
    "weights.shape"
   ]
  },
  {
   "cell_type": "code",
   "execution_count": 24,
   "id": "26929d3f",
   "metadata": {},
   "outputs": [
    {
     "data": {
      "text/plain": [
       "array([0., 0., 0., 0., 0., 0., 0., 0., 0., 0., 0., 0., 0., 0., 0., 0., 0.,\n",
       "       0., 0., 0., 0., 0., 0., 0., 0., 0., 0., 0., 0., 0., 0., 0., 0., 0.,\n",
       "       0., 0., 0., 0., 0., 0., 0., 0., 0., 0., 0., 0., 0., 0., 0., 0., 0.,\n",
       "       0., 0., 0., 0., 0., 0., 0., 0., 0., 0., 0., 0., 0., 0., 0., 0., 0.,\n",
       "       0., 0., 0., 0., 0., 0., 0., 0., 0., 0., 0., 0., 0., 0., 0., 0., 0.,\n",
       "       0., 0., 0., 0., 0., 0., 0., 0., 0., 0., 0., 0., 0., 0., 0., 0., 0.,\n",
       "       0., 0., 0., 0., 0., 0., 0., 0., 0., 0., 0., 0., 0., 0., 0., 0., 0.,\n",
       "       0., 0., 0., 0., 0., 0., 0., 0., 0., 0., 0., 0., 0., 0., 0., 0., 0.,\n",
       "       0., 0., 0., 0., 0., 0., 0., 0., 0., 0., 0., 0., 0., 0., 0., 0., 0.,\n",
       "       0., 0., 0., 0., 0., 0., 0., 0., 0., 0., 0., 0., 0., 0., 0., 0., 0.,\n",
       "       0., 0., 0., 0., 0., 0., 0., 0., 0., 0., 0., 0., 0., 0., 0., 0., 0.,\n",
       "       0., 0., 0., 0., 0., 0., 0., 0., 0., 0., 0., 0., 0., 0., 0., 0., 0.,\n",
       "       0., 0., 0., 0., 0., 0., 0., 0., 0., 0., 0., 0., 0., 0., 0., 0., 0.,\n",
       "       0., 0., 0., 0., 0., 0., 0., 0., 0., 0., 0., 0., 0., 0., 0., 0., 0.,\n",
       "       0., 0., 0., 0., 0., 0., 0., 0., 0., 0., 0., 0., 0., 0., 0., 0., 0.,\n",
       "       0., 0., 0., 0., 0., 0., 0., 0., 0., 0., 0., 0., 0., 0., 0., 0., 0.,\n",
       "       0., 0., 0., 0., 0., 0., 0., 0., 0., 0., 0., 0., 0., 0., 0., 0., 0.,\n",
       "       0., 0., 0., 0., 0., 0., 0., 0., 0., 0., 0.], dtype=float32)"
      ]
     },
     "execution_count": 24,
     "metadata": {},
     "output_type": "execute_result"
    }
   ],
   "source": [
    "biases"
   ]
  },
  {
   "cell_type": "code",
   "execution_count": 25,
   "id": "87afa1ce",
   "metadata": {},
   "outputs": [
    {
     "data": {
      "text/plain": [
       "(300,)"
      ]
     },
     "execution_count": 25,
     "metadata": {},
     "output_type": "execute_result"
    }
   ],
   "source": [
    "biases.shape"
   ]
  },
  {
   "cell_type": "code",
   "execution_count": 33,
   "id": "84213b4a",
   "metadata": {},
   "outputs": [],
   "source": [
    "model.compile(loss=\"sparse_categorical_crossentropy\",\n",
    "             optimizer=\"sgd\",\n",
    "             metrics=[\"accuracy\"])"
   ]
  },
  {
   "cell_type": "code",
   "execution_count": 34,
   "id": "d475c57e",
   "metadata": {},
   "outputs": [
    {
     "name": "stdout",
     "output_type": "stream",
     "text": [
      "Epoch 1/30\n",
      "1719/1719 [==============================] - 2s 1ms/step - loss: 0.7165 - accuracy: 0.7640 - val_loss: 0.4947 - val_accuracy: 0.8342\n",
      "Epoch 2/30\n",
      "1719/1719 [==============================] - 2s 1ms/step - loss: 0.4885 - accuracy: 0.8292 - val_loss: 0.4570 - val_accuracy: 0.8422\n",
      "Epoch 3/30\n",
      "1719/1719 [==============================] - 2s 1ms/step - loss: 0.4427 - accuracy: 0.8434 - val_loss: 0.4145 - val_accuracy: 0.8602\n",
      "Epoch 4/30\n",
      "1719/1719 [==============================] - 2s 983us/step - loss: 0.4139 - accuracy: 0.8545 - val_loss: 0.4113 - val_accuracy: 0.8554\n",
      "Epoch 5/30\n",
      "1719/1719 [==============================] - 2s 1ms/step - loss: 0.3940 - accuracy: 0.8613 - val_loss: 0.3932 - val_accuracy: 0.8566\n",
      "Epoch 6/30\n",
      "1719/1719 [==============================] - 2s 986us/step - loss: 0.3772 - accuracy: 0.8669 - val_loss: 0.3750 - val_accuracy: 0.8652\n",
      "Epoch 7/30\n",
      "1719/1719 [==============================] - 2s 1ms/step - loss: 0.3644 - accuracy: 0.8708 - val_loss: 0.3725 - val_accuracy: 0.8666\n",
      "Epoch 8/30\n",
      "1719/1719 [==============================] - 2s 986us/step - loss: 0.3519 - accuracy: 0.8746 - val_loss: 0.3634 - val_accuracy: 0.8698\n",
      "Epoch 9/30\n",
      "1719/1719 [==============================] - 2s 1ms/step - loss: 0.3407 - accuracy: 0.8787 - val_loss: 0.3444 - val_accuracy: 0.8782\n",
      "Epoch 10/30\n",
      "1719/1719 [==============================] - 2s 989us/step - loss: 0.3316 - accuracy: 0.8817 - val_loss: 0.3555 - val_accuracy: 0.8764\n",
      "Epoch 11/30\n",
      "1719/1719 [==============================] - 2s 1ms/step - loss: 0.3244 - accuracy: 0.8840 - val_loss: 0.3387 - val_accuracy: 0.8788\n",
      "Epoch 12/30\n",
      "1719/1719 [==============================] - 2s 995us/step - loss: 0.3154 - accuracy: 0.8870 - val_loss: 0.3272 - val_accuracy: 0.8792\n",
      "Epoch 13/30\n",
      "1719/1719 [==============================] - 2s 987us/step - loss: 0.3088 - accuracy: 0.8887 - val_loss: 0.3228 - val_accuracy: 0.8878\n",
      "Epoch 14/30\n",
      "1719/1719 [==============================] - 2s 977us/step - loss: 0.3011 - accuracy: 0.8921 - val_loss: 0.3279 - val_accuracy: 0.8810\n",
      "Epoch 15/30\n",
      "1719/1719 [==============================] - 2s 982us/step - loss: 0.2943 - accuracy: 0.8942 - val_loss: 0.3258 - val_accuracy: 0.8830\n",
      "Epoch 16/30\n",
      "1719/1719 [==============================] - 2s 973us/step - loss: 0.2885 - accuracy: 0.8963 - val_loss: 0.3459 - val_accuracy: 0.8718\n",
      "Epoch 17/30\n",
      "1719/1719 [==============================] - 2s 988us/step - loss: 0.2835 - accuracy: 0.8975 - val_loss: 0.3117 - val_accuracy: 0.8864\n",
      "Epoch 18/30\n",
      "1719/1719 [==============================] - 2s 984us/step - loss: 0.2792 - accuracy: 0.8993 - val_loss: 0.3244 - val_accuracy: 0.8828\n",
      "Epoch 19/30\n",
      "1719/1719 [==============================] - 2s 998us/step - loss: 0.2718 - accuracy: 0.9029 - val_loss: 0.3034 - val_accuracy: 0.8922\n",
      "Epoch 20/30\n",
      "1719/1719 [==============================] - 2s 983us/step - loss: 0.2667 - accuracy: 0.9042 - val_loss: 0.3195 - val_accuracy: 0.8816\n",
      "Epoch 21/30\n",
      "1719/1719 [==============================] - 2s 985us/step - loss: 0.2630 - accuracy: 0.9050 - val_loss: 0.3101 - val_accuracy: 0.8864\n",
      "Epoch 22/30\n",
      "1719/1719 [==============================] - 2s 1ms/step - loss: 0.2578 - accuracy: 0.9067 - val_loss: 0.3119 - val_accuracy: 0.8898\n",
      "Epoch 23/30\n",
      "1719/1719 [==============================] - 2s 1ms/step - loss: 0.2539 - accuracy: 0.9088 - val_loss: 0.3028 - val_accuracy: 0.8898\n",
      "Epoch 24/30\n",
      "1719/1719 [==============================] - 2s 1ms/step - loss: 0.2502 - accuracy: 0.9102 - val_loss: 0.3129 - val_accuracy: 0.8852\n",
      "Epoch 25/30\n",
      "1719/1719 [==============================] - 2s 984us/step - loss: 0.2451 - accuracy: 0.9116 - val_loss: 0.2899 - val_accuracy: 0.8950\n",
      "Epoch 26/30\n",
      "1719/1719 [==============================] - 2s 982us/step - loss: 0.2412 - accuracy: 0.9128 - val_loss: 0.3065 - val_accuracy: 0.8894\n",
      "Epoch 27/30\n",
      "1719/1719 [==============================] - 2s 1ms/step - loss: 0.2367 - accuracy: 0.9155 - val_loss: 0.2991 - val_accuracy: 0.8880\n",
      "Epoch 28/30\n",
      "1719/1719 [==============================] - 2s 1ms/step - loss: 0.2329 - accuracy: 0.9171 - val_loss: 0.2935 - val_accuracy: 0.8932\n",
      "Epoch 29/30\n",
      "1719/1719 [==============================] - 2s 1ms/step - loss: 0.2302 - accuracy: 0.9179 - val_loss: 0.2859 - val_accuracy: 0.8958\n",
      "Epoch 30/30\n",
      "1719/1719 [==============================] - 2s 1ms/step - loss: 0.2267 - accuracy: 0.9188 - val_loss: 0.2968 - val_accuracy: 0.8860\n"
     ]
    }
   ],
   "source": [
    "### validation_data에 Valid셋을 넣는것 보다는 0.1같은 비율을 넣어 나눠주는게 더 편함\n",
    "\n",
    "history = model.fit(X_train, y_train, epochs=30, validation_data=(X_valid, y_valid))"
   ]
  },
  {
   "cell_type": "code",
   "execution_count": 35,
   "id": "8d57a28f",
   "metadata": {},
   "outputs": [
    {
     "data": {
      "image/png": "[encoded data removed]",
      "text/plain": [
       "<Figure size 576x360 with 1 Axes>"
      ]
     },
     "metadata": {
      "needs_background": "light"
     },
     "output_type": "display_data"
    }
   ],
   "source": [
    "import pandas as pd\n",
    "import matplotlib.pyplot as plt\n",
    "\n",
    "pd.DataFrame(history.history).plot(figsize=(8, 5))\n",
    "plt.grid(True)\n",
    "plt.gca().set_ylim(0, 1)\n",
    "plt.show()"
   ]
  },
  {
   "cell_type": "code",
   "execution_count": 63,
   "id": "1885abcc",
   "metadata": {},
   "outputs": [
    {
     "data": {
      "text/plain": [
       "[0.7165247201919556,\n",
       " 0.48851701617240906,\n",
       " 0.4426625370979309,\n",
       " 0.41387805342674255,\n",
       " 0.3939712941646576,\n",
       " 0.37720268964767456,\n",
       " 0.364431768655777,\n",
       " 0.35186997056007385,\n",
       " 0.3407135307788849,\n",
       " 0.3315752446651459,\n",
       " 0.3243638575077057,\n",
       " 0.31539440155029297,\n",
       " 0.3088454306125641,\n",
       " 0.30113402009010315,\n",
       " 0.29432302713394165,\n",
       " 0.28848201036453247,\n",
       " 0.28347450494766235,\n",
       " 0.2791946232318878,\n",
       " 0.2717621922492981,\n",
       " 0.26668938994407654,\n",
       " 0.26303061842918396,\n",
       " 0.25778326392173767,\n",
       " 0.2538503110408783,\n",
       " 0.2501850426197052,\n",
       " 0.24505120515823364,\n",
       " 0.24122974276542664,\n",
       " 0.23670296370983124,\n",
       " 0.2328600287437439,\n",
       " 0.2301638424396515,\n",
       " 0.22671110928058624]"
      ]
     },
     "execution_count": 63,
     "metadata": {},
     "output_type": "execute_result"
    }
   ],
   "source": [
    "history.history[\"loss\"]"
   ]
  },
  {
   "cell_type": "code",
   "execution_count": 64,
   "id": "871b0552",
   "metadata": {},
   "outputs": [
    {
     "name": "stdout",
     "output_type": "stream",
     "text": [
      "313/313 [==============================] - 0s 635us/step - loss: 0.3365 - accuracy: 0.8782\n"
     ]
    },
    {
     "data": {
      "text/plain": [
       "[0.33654338121414185, 0.8781999945640564]"
      ]
     },
     "execution_count": 64,
     "metadata": {},
     "output_type": "execute_result"
    }
   ],
   "source": [
    "model.evaluate(X_test, y_test)"
   ]
  },
  {
   "cell_type": "code",
   "execution_count": 65,
   "id": "8d4c8a4b",
   "metadata": {},
   "outputs": [
    {
     "data": {
      "text/plain": [
       "array([[0.  , 0.  , 0.  , 0.  , 0.  , 0.  , 0.  , 0.01, 0.  , 0.98],\n",
       "       [0.  , 0.  , 1.  , 0.  , 0.  , 0.  , 0.  , 0.  , 0.  , 0.  ],\n",
       "       [0.  , 1.  , 0.  , 0.  , 0.  , 0.  , 0.  , 0.  , 0.  , 0.  ]],\n",
       "      dtype=float32)"
      ]
     },
     "execution_count": 65,
     "metadata": {},
     "output_type": "execute_result"
    }
   ],
   "source": [
    "X_new = X_test[:3]\n",
    "y_proba = model.predict(X_new)\n",
    "y_proba.round(2)"
   ]
  },
  {
   "cell_type": "code",
   "execution_count": 78,
   "id": "3226c2b2",
   "metadata": {},
   "outputs": [
    {
     "data": {
      "text/plain": [
       "array([9, 2, 1], dtype=int64)"
      ]
     },
     "execution_count": 78,
     "metadata": {},
     "output_type": "execute_result"
    }
   ],
   "source": [
    "### model.predict_classes함수와 같음\n",
    "\n",
    "y_proba.argmax(axis=1)"
   ]
  },
  {
   "cell_type": "code",
   "execution_count": 81,
   "id": "6e7d10df",
   "metadata": {},
   "outputs": [],
   "source": [
    "from sklearn.datasets import fetch_california_housing\n",
    "from sklearn.model_selection import train_test_split\n",
    "from sklearn.preprocessing import StandardScaler\n",
    "\n",
    "housing = fetch_california_housing()\n",
    "\n",
    "X_train_full, X_test, y_train_full, y_test = train_test_split(housing.data, housing.target)\n",
    "X_train, X_valid, y_train, y_valid = train_test_split(X_train_full, y_train_full)\n",
    "\n",
    "scaler = StandardScaler()\n",
    "X_train = scaler.fit_transform(X_train)\n",
    "X_valid = scaler.transform(X_valid)\n",
    "X_test = scaler.transform(X_test)"
   ]
  },
  {
   "cell_type": "code",
   "execution_count": 83,
   "id": "ec561548",
   "metadata": {},
   "outputs": [
    {
     "name": "stdout",
     "output_type": "stream",
     "text": [
      "Epoch 1/20\n",
      "363/363 [==============================] - 0s 741us/step - loss: 0.9621 - val_loss: 0.5162\n",
      "Epoch 2/20\n",
      "363/363 [==============================] - 0s 541us/step - loss: 0.5117 - val_loss: 0.4515\n",
      "Epoch 3/20\n",
      "363/363 [==============================] - 0s 569us/step - loss: 0.4778 - val_loss: 0.4547\n",
      "Epoch 4/20\n",
      "363/363 [==============================] - 0s 537us/step - loss: 0.4395 - val_loss: 0.4070\n",
      "Epoch 5/20\n",
      "363/363 [==============================] - 0s 539us/step - loss: 0.4306 - val_loss: 0.4396\n",
      "Epoch 6/20\n",
      "363/363 [==============================] - 0s 556us/step - loss: 0.4202 - val_loss: 0.4056\n",
      "Epoch 7/20\n",
      "363/363 [==============================] - 0s 564us/step - loss: 0.4117 - val_loss: 0.3831\n",
      "Epoch 8/20\n",
      "363/363 [==============================] - 0s 589us/step - loss: 0.4112 - val_loss: 0.3796\n",
      "Epoch 9/20\n",
      "363/363 [==============================] - 0s 610us/step - loss: 0.3980 - val_loss: 0.3927\n",
      "Epoch 10/20\n",
      "363/363 [==============================] - 0s 571us/step - loss: 0.4401 - val_loss: 0.4028\n",
      "Epoch 11/20\n",
      "363/363 [==============================] - 0s 563us/step - loss: 0.4395 - val_loss: 0.3736\n",
      "Epoch 12/20\n",
      "363/363 [==============================] - 0s 575us/step - loss: 0.3930 - val_loss: 0.4243\n",
      "Epoch 13/20\n",
      "363/363 [==============================] - 0s 572us/step - loss: 0.3900 - val_loss: 0.3875\n",
      "Epoch 14/20\n",
      "363/363 [==============================] - 0s 534us/step - loss: 0.3940 - val_loss: 0.3738\n",
      "Epoch 15/20\n",
      "363/363 [==============================] - 0s 556us/step - loss: 0.3799 - val_loss: 0.3639\n",
      "Epoch 16/20\n",
      "363/363 [==============================] - 0s 590us/step - loss: 0.3771 - val_loss: 0.3636\n",
      "Epoch 17/20\n",
      "363/363 [==============================] - 0s 566us/step - loss: 0.3883 - val_loss: 0.3641\n",
      "Epoch 18/20\n",
      "363/363 [==============================] - 0s 600us/step - loss: 0.3902 - val_loss: 0.3601\n",
      "Epoch 19/20\n",
      "363/363 [==============================] - 0s 646us/step - loss: 0.3721 - val_loss: 0.3589\n",
      "Epoch 20/20\n",
      "363/363 [==============================] - 0s 647us/step - loss: 0.3719 - val_loss: 0.3546\n",
      "162/162 [==============================] - 0s 410us/step - loss: 0.3567\n"
     ]
    }
   ],
   "source": [
    "###   input_shape매개변수 형태에 chk'\n",
    "\n",
    "model = keras.models.Sequential([\n",
    "    keras.layers.Dense(30, activation=\"relu\", input_shape=X_train.shape[1:]),\n",
    "    keras.layers.Dense(1)\n",
    "])\n",
    "model.compile(loss=\"mean_squared_error\", optimizer=\"sgd\")\n",
    "history = model.fit(X_train, y_train, epochs=20, validation_data=(X_valid, y_valid))\n",
    "mse_test = model.evaluate(X_test, y_test)\n",
    "X_new = X_test[:3]\n",
    "y_pred = model.predict(X_new)"
   ]
  },
  {
   "cell_type": "code",
   "execution_count": null,
   "id": "75526103",
   "metadata": {},
   "outputs": [],
   "source": []
  }
 ],
 "metadata": {
  "kernelspec": {
   "display_name": "tensorflow",
   "language": "python",
   "name": "tensor"
  },
  "language_info": {
   "codemirror_mode": {
    "name": "ipython",
    "version": 3
   },
   "file_extension": ".py",
   "mimetype": "text/x-python",
   "name": "python",
   "nbconvert_exporter": "python",
   "pygments_lexer": "ipython3",
   "version": "3.9.6"
  }
 },
 "nbformat": 4,
 "nbformat_minor": 5
}
