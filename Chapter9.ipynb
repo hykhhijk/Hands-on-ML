{
 "cells": [
  {
   "cell_type": "code",
   "execution_count": 21,
   "id": "b8aba35f",
   "metadata": {},
   "outputs": [],
   "source": [
    "import pandas as pd\n",
    "import numpy as np\n",
    "import matplotlib.pyplot as plt\n",
    "from sklearn.cluster import KMeans\n",
    "from sklearn.datasets import load_iris\n",
    "from sklearn.datasets import make_blobs"
   ]
  },
  {
   "cell_type": "code",
   "execution_count": 35,
   "id": "60c9acd3",
   "metadata": {},
   "outputs": [],
   "source": [
    "blob_centers = np.array(\n",
    "    [[ 0.2,  2.3],\n",
    "     [-1.5 ,  2.3],\n",
    "     [-2.8,  1.8],\n",
    "     [-2.8,  2.8],\n",
    "     [-2.8,  1.3]])\n",
    "blob_std = np.array([0.4, 0.3, 0.1, 0.1, 0.1])"
   ]
  },
  {
   "cell_type": "code",
   "execution_count": 36,
   "id": "062b77c0",
   "metadata": {},
   "outputs": [],
   "source": [
    "X, y = make_blobs(n_samples=2000, centers=blob_centers,\n",
    "                  cluster_std=blob_std, random_state=7)"
   ]
  },
  {
   "cell_type": "code",
   "execution_count": 37,
   "id": "3c6c76bb",
   "metadata": {},
   "outputs": [
    {
     "data": {
      "text/plain": [
       "<matplotlib.collections.PathCollection at 0x21bd25aac70>"
      ]
     },
     "execution_count": 37,
     "metadata": {},
     "output_type": "execute_result"
    },
    {
     "data": {
      "image/png": "[encoded data removed]",
      "text/plain": [
       "<Figure size 576x360 with 1 Axes>"
      ]
     },
     "metadata": {
      "needs_background": "light"
     },
     "output_type": "display_data"
    }
   ],
   "source": [
    "plt.figure(figsize=(8,5))\n",
    "plt.scatter(X[:,0], X[:,1], alpha=0.4, s=2)"
   ]
  },
  {
   "cell_type": "markdown",
   "id": "db760fc2",
   "metadata": {},
   "source": [
    "### y_pred는 비지도학습에서 알고리즘이 샘플에 할당한 클러스터의 인덱스이며 분류의 클래스 레이블과 다름"
   ]
  },
  {
   "cell_type": "code",
   "execution_count": 38,
   "id": "8a12829c",
   "metadata": {},
   "outputs": [],
   "source": [
    "k=5\n",
    "kmeans = KMeans(n_clusters=k)\n",
    "y_pred = kmeans.fit_predict(X)"
   ]
  },
  {
   "cell_type": "code",
   "execution_count": 39,
   "id": "b1ea7f60",
   "metadata": {},
   "outputs": [
    {
     "data": {
      "text/plain": [
       "array([2, 4, 1, ..., 0, 1, 4])"
      ]
     },
     "execution_count": 39,
     "metadata": {},
     "output_type": "execute_result"
    }
   ],
   "source": [
    "y_pred"
   ]
  },
  {
   "cell_type": "code",
   "execution_count": 40,
   "id": "c174fe7a",
   "metadata": {},
   "outputs": [
    {
     "data": {
      "text/plain": [
       "True"
      ]
     },
     "execution_count": 40,
     "metadata": {},
     "output_type": "execute_result"
    }
   ],
   "source": [
    "y_pred is kmeans.labels_"
   ]
  },
  {
   "cell_type": "code",
   "execution_count": 41,
   "id": "029c18b9",
   "metadata": {},
   "outputs": [
    {
     "data": {
      "text/plain": [
       "array([[-2.79290307,  2.79641063],\n",
       "       [ 0.20876306,  2.25551336],\n",
       "       [-2.80037642,  1.30082566],\n",
       "       [-1.46679593,  2.28585348],\n",
       "       [-2.80389616,  1.80117999]])"
      ]
     },
     "execution_count": 41,
     "metadata": {},
     "output_type": "execute_result"
    }
   ],
   "source": [
    "kmeans.cluster_centers_"
   ]
  },
  {
   "cell_type": "code",
   "execution_count": 46,
   "id": "4b84752e",
   "metadata": {},
   "outputs": [
    {
     "data": {
      "text/plain": [
       "array([1, 1, 0, 0])"
      ]
     },
     "execution_count": 46,
     "metadata": {},
     "output_type": "execute_result"
    }
   ],
   "source": [
    "X_new = np.array([[0, 2], [3,2],[-3,3],[-3, 2.5]])\n",
    "kmeans.predict(X_new)"
   ]
  },
  {
   "cell_type": "code",
   "execution_count": 47,
   "id": "b3e73dce",
   "metadata": {},
   "outputs": [
    {
     "data": {
      "text/plain": [
       "array([[2.9042344 , 0.32995317, 2.88633901, 1.49439034, 2.81093633],\n",
       "       [5.84739223, 2.80290755, 5.84236351, 4.4759332 , 5.80730058],\n",
       "       [0.29040966, 3.29399768, 1.71086031, 1.69136631, 1.21475352],\n",
       "       [0.36159148, 3.21806371, 1.21567622, 1.54808703, 0.72581411]])"
      ]
     },
     "execution_count": 47,
     "metadata": {},
     "output_type": "execute_result"
    }
   ],
   "source": [
    "kmeans.transform(X_new)"
   ]
  },
  {
   "cell_type": "code",
   "execution_count": 49,
   "id": "f8703f66",
   "metadata": {},
   "outputs": [],
   "source": [
    "good_init = np.array([[-3, 3],[-3, 2],[-3, 1],[-1, 2], [0, 2]])\n",
    "kmeans = KMeans(n_clusters=5, init=good_init, n_init=1)"
   ]
  },
  {
   "cell_type": "code",
   "execution_count": 54,
   "id": "5e6ada00",
   "metadata": {},
   "outputs": [
    {
     "data": {
      "text/plain": [
       "211.5985372581683"
      ]
     },
     "execution_count": 54,
     "metadata": {},
     "output_type": "execute_result"
    }
   ],
   "source": [
    "kmeans.fit(X)\n",
    "kmeans.inertia_"
   ]
  },
  {
   "cell_type": "code",
   "execution_count": 55,
   "id": "75c51e26",
   "metadata": {},
   "outputs": [
    {
     "data": {
      "text/plain": [
       "-211.59853725816828"
      ]
     },
     "execution_count": 55,
     "metadata": {},
     "output_type": "execute_result"
    }
   ],
   "source": [
    "kmeans.score(X)"
   ]
  },
  {
   "cell_type": "code",
   "execution_count": null,
   "id": "5a44658c",
   "metadata": {},
   "outputs": [],
   "source": []
  }
 ],
 "metadata": {
  "kernelspec": {
   "display_name": "Python 3",
   "language": "python",
   "name": "python3"
  },
  "language_info": {
   "codemirror_mode": {
    "name": "ipython",
    "version": 3
   },
   "file_extension": ".py",
   "mimetype": "text/x-python",
   "name": "python",
   "nbconvert_exporter": "python",
   "pygments_lexer": "ipython3",
   "version": "3.8.8"
  }
 },
 "nbformat": 4,
 "nbformat_minor": 5
}
