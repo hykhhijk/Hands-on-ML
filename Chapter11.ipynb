{
 "cells": [
  {
   "cell_type": "code",
   "execution_count": 1,
   "id": "251cea78",
   "metadata": {},
   "outputs": [],
   "source": [
    "import numpy as np\n",
    "import pandas as pd\n",
    "import tensorflow as tf\n",
    "from tensorflow import keras\n",
    "import matplotlib.pyplot as plt\n",
    "import seaborn as sns"
   ]
  },
  {
   "cell_type": "code",
   "execution_count": 2,
   "id": "ba0cca2a",
   "metadata": {},
   "outputs": [
    {
     "data": {
      "text/plain": [
       "<tensorflow.python.keras.layers.core.Dense at 0x2b0017aa358>"
      ]
     },
     "execution_count": 2,
     "metadata": {},
     "output_type": "execute_result"
    }
   ],
   "source": [
    "keras.layers.Dense(10, activation=\"relu\", kernel_initializer=\"he_normal\")"
   ]
  },
  {
   "cell_type": "code",
   "execution_count": 3,
   "id": "cdbb3553",
   "metadata": {},
   "outputs": [
    {
     "data": {
      "text/plain": [
       "<tensorflow.python.keras.layers.core.Dense at 0x2b0018639b0>"
      ]
     },
     "execution_count": 3,
     "metadata": {},
     "output_type": "execute_result"
    }
   ],
   "source": [
    "he_avg_init = keras.initializers.VarianceScaling(scale=2., mode=\"fan_avg\", distribution=\"uniform\")\n",
    "keras.layers.Dense(10, activation=\"sigmoid\", kernel_initializer=he_avg_init)"
   ]
  },
  {
   "cell_type": "code",
   "execution_count": 4,
   "id": "156e0de6",
   "metadata": {},
   "outputs": [],
   "source": [
    "(X_train_full, y_train_full), (X_test, y_test) = keras.datasets.fashion_mnist.load_data()\n",
    "X_train_full = X_train_full / 255.0\n",
    "X_test = X_test / 255.0\n",
    "X_valid, X_train = X_train_full[:5000], X_train_full[5000:]\n",
    "y_valid, y_train = y_train_full[:5000], y_train_full[5000:]"
   ]
  },
  {
   "cell_type": "code",
   "execution_count": 5,
   "id": "f21dfa19",
   "metadata": {},
   "outputs": [],
   "source": [
    "model = keras.models.Sequential([\n",
    "    keras.layers.Flatten(input_shape=list(X_train[0].shape)),\n",
    "    keras.layers.Dense(10, kernel_initializer=\"he_normal\"),\n",
    "    keras.layers.LeakyReLU(alpha=0.2),\n",
    "    keras.layers.Dense(10, activation=\"softmax\")\n",
    "])"
   ]
  },
  {
   "cell_type": "code",
   "execution_count": 6,
   "id": "b3895cb2",
   "metadata": {},
   "outputs": [],
   "source": [
    "model.compile(loss=\"sparse_categorical_crossentropy\",\n",
    "              optimizer=keras.optimizers.SGD(learning_rate=1e-3),\n",
    "              metrics=[\"accuracy\"])"
   ]
  },
  {
   "cell_type": "code",
   "execution_count": 7,
   "id": "cabc5bfe",
   "metadata": {},
   "outputs": [
    {
     "name": "stdout",
     "output_type": "stream",
     "text": [
      "Train on 55000 samples, validate on 5000 samples\n",
      "Epoch 1/10\n",
      "55000/55000 [==============================] - 4s 64us/sample - loss: 1.7214 - accuracy: 0.4413 - val_loss: 1.3695 - val_accuracy: 0.5904\n",
      "Epoch 2/10\n",
      "55000/55000 [==============================] - 3s 54us/sample - loss: 1.2086 - accuracy: 0.6247 - val_loss: 1.0573 - val_accuracy: 0.6760\n",
      "Epoch 3/10\n",
      "55000/55000 [==============================] - 3s 59us/sample - loss: 0.9855 - accuracy: 0.6970 - val_loss: 0.8997 - val_accuracy: 0.7316\n",
      "Epoch 4/10\n",
      "55000/55000 [==============================] - 3s 61us/sample - loss: 0.8648 - accuracy: 0.7326 - val_loss: 0.8087 - val_accuracy: 0.7584\n",
      "Epoch 5/10\n",
      "55000/55000 [==============================] - 3s 61us/sample - loss: 0.7903 - accuracy: 0.7522 - val_loss: 0.7505 - val_accuracy: 0.7742\n",
      "Epoch 6/10\n",
      "55000/55000 [==============================] - 3s 60us/sample - loss: 0.7396 - accuracy: 0.7647 - val_loss: 0.7096 - val_accuracy: 0.7786\n",
      "Epoch 7/10\n",
      "55000/55000 [==============================] - 3s 61us/sample - loss: 0.7028 - accuracy: 0.7739 - val_loss: 0.6760 - val_accuracy: 0.7854\n",
      "Epoch 8/10\n",
      "55000/55000 [==============================] - 3s 61us/sample - loss: 0.6742 - accuracy: 0.7808 - val_loss: 0.6522 - val_accuracy: 0.7950\n",
      "Epoch 9/10\n",
      "55000/55000 [==============================] - 3s 61us/sample - loss: 0.6515 - accuracy: 0.7862 - val_loss: 0.6321 - val_accuracy: 0.7990\n",
      "Epoch 10/10\n",
      "55000/55000 [==============================] - 3s 61us/sample - loss: 0.6329 - accuracy: 0.7918 - val_loss: 0.6162 - val_accuracy: 0.8012\n"
     ]
    }
   ],
   "source": [
    "history=model.fit(X_train, y_train, epochs=10, validation_data=(X_valid, y_valid))"
   ]
  },
  {
   "cell_type": "code",
   "execution_count": 8,
   "id": "6571a2bf",
   "metadata": {},
   "outputs": [],
   "source": [
    "model = keras.models.Sequential([\n",
    "    keras.layers.Flatten(input_shape=list(X_train[0].shape)),\n",
    "    keras.layers.Dense(10, activation=\"selu\", kernel_initializer=\"lecun_normal\"),\n",
    "    keras.layers.LeakyReLU(alpha=0.2),\n",
    "    keras.layers.Dense(10, activation=\"softmax\")\n",
    "])"
   ]
  },
  {
   "cell_type": "code",
   "execution_count": 9,
   "id": "03740751",
   "metadata": {},
   "outputs": [],
   "source": [
    "model.compile(loss=\"sparse_categorical_crossentropy\",\n",
    "              optimizer=keras.optimizers.SGD(learning_rate=1e-3),\n",
    "              metrics=[\"accuracy\"])"
   ]
  },
  {
   "cell_type": "code",
   "execution_count": 10,
   "id": "74b64e41",
   "metadata": {},
   "outputs": [
    {
     "name": "stdout",
     "output_type": "stream",
     "text": [
      "Train on 55000 samples, validate on 5000 samples\n",
      "Epoch 1/10\n",
      "55000/55000 [==============================] - 4s 67us/sample - loss: 1.7978 - accuracy: 0.4097 - val_loss: 1.3484 - val_accuracy: 0.6322\n",
      "Epoch 2/10\n",
      "55000/55000 [==============================] - 3s 60us/sample - loss: 1.1398 - accuracy: 0.6658 - val_loss: 0.9589 - val_accuracy: 0.7030\n",
      "Epoch 3/10\n",
      "55000/55000 [==============================] - 3s 60us/sample - loss: 0.8970 - accuracy: 0.7102 - val_loss: 0.8176 - val_accuracy: 0.7358\n",
      "Epoch 4/10\n",
      "55000/55000 [==============================] - 3s 60us/sample - loss: 0.7970 - accuracy: 0.7332 - val_loss: 0.7488 - val_accuracy: 0.7566\n",
      "Epoch 5/10\n",
      "55000/55000 [==============================] - 3s 60us/sample - loss: 0.7406 - accuracy: 0.7534 - val_loss: 0.7046 - val_accuracy: 0.7702\n",
      "Epoch 6/10\n",
      "55000/55000 [==============================] - 3s 59us/sample - loss: 0.7013 - accuracy: 0.7691 - val_loss: 0.6724 - val_accuracy: 0.7828\n",
      "Epoch 7/10\n",
      "55000/55000 [==============================] - 3s 60us/sample - loss: 0.6713 - accuracy: 0.7804 - val_loss: 0.6459 - val_accuracy: 0.7916\n",
      "Epoch 8/10\n",
      "55000/55000 [==============================] - 3s 60us/sample - loss: 0.6473 - accuracy: 0.7891 - val_loss: 0.6244 - val_accuracy: 0.7992\n",
      "Epoch 9/10\n",
      "55000/55000 [==============================] - 3s 60us/sample - loss: 0.6271 - accuracy: 0.7961 - val_loss: 0.6078 - val_accuracy: 0.8048\n",
      "Epoch 10/10\n",
      "55000/55000 [==============================] - 3s 60us/sample - loss: 0.6100 - accuracy: 0.8019 - val_loss: 0.5914 - val_accuracy: 0.8116\n"
     ]
    }
   ],
   "source": [
    "history=model.fit(X_train, y_train, epochs=10, validation_data=(X_valid, y_valid))"
   ]
  },
  {
   "cell_type": "markdown",
   "id": "da737754",
   "metadata": {},
   "source": [
    "# 배치정규화"
   ]
  },
  {
   "cell_type": "code",
   "execution_count": 11,
   "id": "93fc66bb",
   "metadata": {},
   "outputs": [],
   "source": [
    "model = keras.models.Sequential([\n",
    "    keras.layers.Flatten(input_shape=[28, 28]),\n",
    "    keras.layers.BatchNormalization(),\n",
    "    keras.layers.Dense(300, activation=\"elu\", kernel_initializer=\"he_normal\"),\n",
    "    keras.layers.BatchNormalization(),\n",
    "    keras.layers.Dense(100, activation=\"elu\", kernel_initializer=\"he_normal\"),\n",
    "    keras.layers.BatchNormalization(),\n",
    "    keras.layers.Dense(10, activation=\"softmax\"),\n",
    "])"
   ]
  },
  {
   "cell_type": "code",
   "execution_count": 12,
   "id": "c5934754",
   "metadata": {},
   "outputs": [
    {
     "name": "stdout",
     "output_type": "stream",
     "text": [
      "Model: \"sequential_2\"\n",
      "_________________________________________________________________\n",
      "Layer (type)                 Output Shape              Param #   \n",
      "=================================================================\n",
      "flatten_2 (Flatten)          (None, 784)               0         \n",
      "_________________________________________________________________\n",
      "batch_normalization (BatchNo (None, 784)               3136      \n",
      "_________________________________________________________________\n",
      "dense_6 (Dense)              (None, 300)               235500    \n",
      "_________________________________________________________________\n",
      "batch_normalization_1 (Batch (None, 300)               1200      \n",
      "_________________________________________________________________\n",
      "dense_7 (Dense)              (None, 100)               30100     \n",
      "_________________________________________________________________\n",
      "batch_normalization_2 (Batch (None, 100)               400       \n",
      "_________________________________________________________________\n",
      "dense_8 (Dense)              (None, 10)                1010      \n",
      "=================================================================\n",
      "Total params: 271,346\n",
      "Trainable params: 268,978\n",
      "Non-trainable params: 2,368\n",
      "_________________________________________________________________\n"
     ]
    }
   ],
   "source": [
    "model.summary()"
   ]
  },
  {
   "cell_type": "code",
   "execution_count": 13,
   "id": "44888162",
   "metadata": {},
   "outputs": [
    {
     "data": {
      "text/plain": [
       "[('batch_normalization/gamma:0', True),\n",
       " ('batch_normalization/beta:0', True),\n",
       " ('batch_normalization/moving_mean:0', False),\n",
       " ('batch_normalization/moving_variance:0', False)]"
      ]
     },
     "execution_count": 13,
     "metadata": {},
     "output_type": "execute_result"
    }
   ],
   "source": [
    "[(var.name, var.trainable) for var in model.layers[1].variables]"
   ]
  },
  {
   "cell_type": "code",
   "execution_count": 14,
   "id": "509eb94e",
   "metadata": {},
   "outputs": [],
   "source": [
    "### updates는 삭제될 예정이라함\n",
    "#model.layers[1].updates"
   ]
  },
  {
   "cell_type": "code",
   "execution_count": 15,
   "id": "5a5c67fd",
   "metadata": {},
   "outputs": [],
   "source": [
    "model = keras.models.Sequential([\n",
    "    keras.layers.Flatten(input_shape=[28, 28]),\n",
    "    keras.layers.BatchNormalization(),\n",
    "    keras.layers.Dense(300, kernel_initializer=\"he_normal\", use_bias=False),\n",
    "    keras.layers.BatchNormalization(),\n",
    "    keras.layers.Activation(\"elu\"),\n",
    "    keras.layers.Dense(100, kernel_initializer=\"he_normal\", use_bias=False),\n",
    "    keras.layers.BatchNormalization(),\n",
    "    keras.layers.Activation(\"elu\"),\n",
    "    keras.layers.Dense(10, activation=\"softmax\"),\n",
    "])"
   ]
  },
  {
   "cell_type": "code",
   "execution_count": 16,
   "id": "0b86be5b",
   "metadata": {},
   "outputs": [
    {
     "name": "stdout",
     "output_type": "stream",
     "text": [
      "Model: \"sequential_3\"\n",
      "_________________________________________________________________\n",
      "Layer (type)                 Output Shape              Param #   \n",
      "=================================================================\n",
      "flatten_3 (Flatten)          (None, 784)               0         \n",
      "_________________________________________________________________\n",
      "batch_normalization_3 (Batch (None, 784)               3136      \n",
      "_________________________________________________________________\n",
      "dense_9 (Dense)              (None, 300)               235200    \n",
      "_________________________________________________________________\n",
      "batch_normalization_4 (Batch (None, 300)               1200      \n",
      "_________________________________________________________________\n",
      "activation (Activation)      (None, 300)               0         \n",
      "_________________________________________________________________\n",
      "dense_10 (Dense)             (None, 100)               30000     \n",
      "_________________________________________________________________\n",
      "batch_normalization_5 (Batch (None, 100)               400       \n",
      "_________________________________________________________________\n",
      "activation_1 (Activation)    (None, 100)               0         \n",
      "_________________________________________________________________\n",
      "dense_11 (Dense)             (None, 10)                1010      \n",
      "=================================================================\n",
      "Total params: 270,946\n",
      "Trainable params: 268,578\n",
      "Non-trainable params: 2,368\n",
      "_________________________________________________________________\n"
     ]
    }
   ],
   "source": [
    "model.summary()"
   ]
  },
  {
   "cell_type": "code",
   "execution_count": 17,
   "id": "165baaa1",
   "metadata": {},
   "outputs": [],
   "source": [
    "model.compile(loss=\"sparse_categorical_crossentropy\",\n",
    "              optimizer=keras.optimizers.SGD(learning_rate=1e-3),\n",
    "              metrics=[\"accuracy\"])"
   ]
  },
  {
   "cell_type": "code",
   "execution_count": 18,
   "id": "6ac6ab0b",
   "metadata": {},
   "outputs": [
    {
     "name": "stdout",
     "output_type": "stream",
     "text": [
      "Train on 55000 samples, validate on 5000 samples\n",
      "Epoch 1/10\n",
      "55000/55000 [==============================] - 8s 140us/sample - loss: 0.9172 - accuracy: 0.7020 - val_loss: 0.6345 - val_accuracy: 0.7934\n",
      "Epoch 2/10\n",
      "55000/55000 [==============================] - 7s 125us/sample - loss: 0.6350 - accuracy: 0.7890 - val_loss: 0.5477 - val_accuracy: 0.8174\n",
      "Epoch 3/10\n",
      "55000/55000 [==============================] - 7s 126us/sample - loss: 0.5715 - accuracy: 0.8063 - val_loss: 0.5074 - val_accuracy: 0.8288\n",
      "Epoch 4/10\n",
      "55000/55000 [==============================] - 7s 126us/sample - loss: 0.5365 - accuracy: 0.8163 - val_loss: 0.4813 - val_accuracy: 0.8386\n",
      "Epoch 5/10\n",
      "55000/55000 [==============================] - 7s 125us/sample - loss: 0.5119 - accuracy: 0.8245 - val_loss: 0.4627 - val_accuracy: 0.8418\n",
      "Epoch 6/10\n",
      "55000/55000 [==============================] - 7s 127us/sample - loss: 0.4948 - accuracy: 0.8305 - val_loss: 0.4494 - val_accuracy: 0.8474\n",
      "Epoch 7/10\n",
      "55000/55000 [==============================] - 7s 126us/sample - loss: 0.4812 - accuracy: 0.8329 - val_loss: 0.4385 - val_accuracy: 0.8514\n",
      "Epoch 8/10\n",
      "55000/55000 [==============================] - 6s 115us/sample - loss: 0.4678 - accuracy: 0.8392 - val_loss: 0.4296 - val_accuracy: 0.8534\n",
      "Epoch 9/10\n",
      "55000/55000 [==============================] - 6s 118us/sample - loss: 0.4599 - accuracy: 0.8397 - val_loss: 0.4221 - val_accuracy: 0.8538\n",
      "Epoch 10/10\n",
      "55000/55000 [==============================] - 7s 126us/sample - loss: 0.4527 - accuracy: 0.8422 - val_loss: 0.4168 - val_accuracy: 0.8566\n"
     ]
    }
   ],
   "source": [
    "### 배치정규화층은 시간 소모를 높이지만 성능이 월등히 높아짐\n",
    "\n",
    "history=model.fit(X_train, y_train, epochs=10, validation_data=(X_valid, y_valid))"
   ]
  },
  {
   "cell_type": "markdown",
   "id": "fe838eea",
   "metadata": {},
   "source": [
    "# 그래디언트 클리핑 "
   ]
  },
  {
   "cell_type": "code",
   "execution_count": 19,
   "id": "1e3892ee",
   "metadata": {},
   "outputs": [],
   "source": [
    "model = keras.models.Sequential([\n",
    "    keras.layers.Flatten(input_shape=list(X_train[0].shape)),\n",
    "    keras.layers.Dense(10, kernel_initializer=\"he_normal\"),\n",
    "    keras.layers.LeakyReLU(alpha=0.2),\n",
    "    keras.layers.Dense(10, activation=\"softmax\")\n",
    "])"
   ]
  },
  {
   "cell_type": "markdown",
   "id": "169a1691",
   "metadata": {},
   "source": [
    "### clipvalue를 사용하면 임계치를 넘은 축만 스케일링하며 clipnorm은 전체축을 스케일링함\n",
    "### 일반적으로 clipnorm을 쓰면 임계치를 넘은 축 외에는 무시되는 경우가 많음"
   ]
  },
  {
   "cell_type": "code",
   "execution_count": 20,
   "id": "b06f7181",
   "metadata": {},
   "outputs": [],
   "source": [
    "optimizer = keras.optimizers.SGD(clipvalue = 1.0)\n",
    "model.compile(loss=\"sparse_categorical_crossentropy\", optimizer=optimizer, metrics=[\"accuracy\"])"
   ]
  },
  {
   "cell_type": "code",
   "execution_count": 21,
   "id": "2949c886",
   "metadata": {},
   "outputs": [
    {
     "name": "stdout",
     "output_type": "stream",
     "text": [
      "Train on 55000 samples, validate on 5000 samples\n",
      "Epoch 1/10\n",
      "55000/55000 [==============================] - 4s 65us/sample - loss: 0.9371 - accuracy: 0.6715 - val_loss: 0.6525 - val_accuracy: 0.7770\n",
      "Epoch 2/10\n",
      "55000/55000 [==============================] - 4s 66us/sample - loss: 0.5997 - accuracy: 0.7948 - val_loss: 0.5560 - val_accuracy: 0.8166\n",
      "Epoch 3/10\n",
      "55000/55000 [==============================] - 4s 65us/sample - loss: 0.5308 - accuracy: 0.8172 - val_loss: 0.5062 - val_accuracy: 0.8344\n",
      "Epoch 4/10\n",
      "55000/55000 [==============================] - 3s 61us/sample - loss: 0.4981 - accuracy: 0.8276 - val_loss: 0.4811 - val_accuracy: 0.8396\n",
      "Epoch 5/10\n",
      "55000/55000 [==============================] - 4s 65us/sample - loss: 0.4785 - accuracy: 0.8342 - val_loss: 0.4630 - val_accuracy: 0.8468\n",
      "Epoch 6/10\n",
      "55000/55000 [==============================] - 3s 61us/sample - loss: 0.4659 - accuracy: 0.8378 - val_loss: 0.4624 - val_accuracy: 0.8442\n",
      "Epoch 7/10\n",
      "55000/55000 [==============================] - 3s 60us/sample - loss: 0.4553 - accuracy: 0.8418 - val_loss: 0.4517 - val_accuracy: 0.8540\n",
      "Epoch 8/10\n",
      "55000/55000 [==============================] - 3s 62us/sample - loss: 0.4475 - accuracy: 0.8443 - val_loss: 0.4526 - val_accuracy: 0.8470\n",
      "Epoch 9/10\n",
      "55000/55000 [==============================] - 3s 59us/sample - loss: 0.4418 - accuracy: 0.8456 - val_loss: 0.4470 - val_accuracy: 0.8478\n",
      "Epoch 10/10\n",
      "55000/55000 [==============================] - 4s 67us/sample - loss: 0.4357 - accuracy: 0.8485 - val_loss: 0.4323 - val_accuracy: 0.8556\n"
     ]
    }
   ],
   "source": [
    "history=model.fit(X_train, y_train, epochs=10, validation_data=(X_valid, y_valid))"
   ]
  },
  {
   "cell_type": "code",
   "execution_count": 22,
   "id": "c0aece4e",
   "metadata": {},
   "outputs": [],
   "source": [
    "optimizer = keras.optimizers.SGD(clipnorm = 1.0)\n",
    "model.compile(loss=\"sparse_categorical_crossentropy\", optimizer=optimizer, metrics=[\"accuracy\"])"
   ]
  },
  {
   "cell_type": "code",
   "execution_count": 23,
   "id": "e4976066",
   "metadata": {},
   "outputs": [
    {
     "name": "stdout",
     "output_type": "stream",
     "text": [
      "Train on 55000 samples, validate on 5000 samples\n",
      "Epoch 1/10\n",
      "55000/55000 [==============================] - 4s 74us/sample - loss: 0.4314 - accuracy: 0.8495 - val_loss: 0.4348 - val_accuracy: 0.8512\n",
      "Epoch 2/10\n",
      "55000/55000 [==============================] - 3s 63us/sample - loss: 0.4268 - accuracy: 0.8515 - val_loss: 0.4485 - val_accuracy: 0.8414\n",
      "Epoch 3/10\n",
      "55000/55000 [==============================] - 4s 66us/sample - loss: 0.4224 - accuracy: 0.8530 - val_loss: 0.4285 - val_accuracy: 0.8586\n",
      "Epoch 4/10\n",
      "55000/55000 [==============================] - 4s 64us/sample - loss: 0.4194 - accuracy: 0.8535 - val_loss: 0.4283 - val_accuracy: 0.8532\n",
      "Epoch 5/10\n",
      "55000/55000 [==============================] - 4s 66us/sample - loss: 0.4160 - accuracy: 0.8541 - val_loss: 0.4265 - val_accuracy: 0.8486\n",
      "Epoch 6/10\n",
      "55000/55000 [==============================] - 4s 81us/sample - loss: 0.4125 - accuracy: 0.8563 - val_loss: 0.4179 - val_accuracy: 0.8580\n",
      "Epoch 7/10\n",
      "55000/55000 [==============================] - 4s 70us/sample - loss: 0.4099 - accuracy: 0.8582 - val_loss: 0.4137 - val_accuracy: 0.8590\n",
      "Epoch 8/10\n",
      "55000/55000 [==============================] - 3s 62us/sample - loss: 0.4066 - accuracy: 0.8585 - val_loss: 0.4147 - val_accuracy: 0.8584\n",
      "Epoch 9/10\n",
      "55000/55000 [==============================] - 3s 62us/sample - loss: 0.4046 - accuracy: 0.8599 - val_loss: 0.4148 - val_accuracy: 0.8596\n",
      "Epoch 10/10\n",
      "55000/55000 [==============================] - 3s 60us/sample - loss: 0.4026 - accuracy: 0.8596 - val_loss: 0.4103 - val_accuracy: 0.8578\n"
     ]
    }
   ],
   "source": [
    "history=model.fit(X_train, y_train, epochs=10, validation_data=(X_valid, y_valid))"
   ]
  },
  {
   "cell_type": "markdown",
   "id": "97324a7f",
   "metadata": {},
   "source": [
    "##### 성능차이는 미세하지만 clipnorm의 case가 더 수렴이 빨랐다 \n",
    "##### 확신은 못하겠지만 이미지 classify의 경우 중요하지 않은 차원을 빼는게 도움이 되기 때문이 아닐까? 라고 생각한다"
   ]
  },
  {
   "cell_type": "markdown",
   "id": "6901294a",
   "metadata": {},
   "source": [
    "# 전이학습"
   ]
  },
  {
   "cell_type": "code",
   "execution_count": 24,
   "id": "86cca25c",
   "metadata": {},
   "outputs": [],
   "source": [
    "### y_5_or_6는 y가 5와 6인 값만 True를 반환해주는 입출력 크기가 바뀌지 않는 리스트 이며 이 bool값을 이용해 특정 값만 선택가능\n",
    "### 이거를 다시 6\n",
    "\n",
    "\n",
    "def split_dataset(X, y):\n",
    "    y_5_or_6 = (y == 5) | (y == 6) # sandals or shirts\n",
    "    y_A = y[~y_5_or_6]\n",
    "    y_A[y_A > 6] -= 2 # class indices 7, 8, 9 should be moved to 5, 6, 7\n",
    "    y_B = (y[y_5_or_6] == 6).astype(np.float32) # binary classification task: is it a shirt (class 6)?\n",
    "    return ((X[~y_5_or_6], y_A),\n",
    "            (X[y_5_or_6], y_B))\n",
    "\n",
    "### 간략하게 설명하자면 class 5, 6만 _B를 붙여서 bool형으로 떼주고 200개만 남김 나머지 부분은 _A를 붙여서 데이터 분할\n",
    "\n",
    "(X_train_A, y_train_A), (X_train_B, y_train_B) = split_dataset(X_train, y_train)\n",
    "(X_valid_A, y_valid_A), (X_valid_B, y_valid_B) = split_dataset(X_valid, y_valid)\n",
    "(X_test_A, y_test_A), (X_test_B, y_test_B) = split_dataset(X_test, y_test)\n",
    "X_train_B = X_train_B[:200]\n",
    "y_train_B = y_train_B[:200]"
   ]
  },
  {
   "cell_type": "code",
   "execution_count": 25,
   "id": "b434c35c",
   "metadata": {},
   "outputs": [
    {
     "data": {
      "text/plain": [
       "(43986, 28, 28)"
      ]
     },
     "execution_count": 25,
     "metadata": {},
     "output_type": "execute_result"
    }
   ],
   "source": [
    "X_train_A.shape"
   ]
  },
  {
   "cell_type": "code",
   "execution_count": 26,
   "id": "0577d4b1",
   "metadata": {},
   "outputs": [
    {
     "data": {
      "text/plain": [
       "(200, 28, 28)"
      ]
     },
     "execution_count": 26,
     "metadata": {},
     "output_type": "execute_result"
    }
   ],
   "source": [
    "X_train_B.shape"
   ]
  },
  {
   "cell_type": "code",
   "execution_count": 27,
   "id": "8b0e6c5a",
   "metadata": {},
   "outputs": [
    {
     "data": {
      "text/plain": [
       "(200,)"
      ]
     },
     "execution_count": 27,
     "metadata": {},
     "output_type": "execute_result"
    }
   ],
   "source": [
    "y_train_B.shape"
   ]
  },
  {
   "cell_type": "code",
   "execution_count": 28,
   "id": "9b26389d",
   "metadata": {},
   "outputs": [
    {
     "data": {
      "text/plain": [
       "0    5543\n",
       "4    5512\n",
       "6    5510\n",
       "3    5499\n",
       "2    5496\n",
       "7    5494\n",
       "5    5488\n",
       "1    5444\n",
       "dtype: int64"
      ]
     },
     "execution_count": 28,
     "metadata": {},
     "output_type": "execute_result"
    }
   ],
   "source": [
    "### 5와6을 빼고 빈 공간에 계속 뒤에서 채워넣었으므로 0~7\n",
    "\n",
    "pd.Series(y_train_A).value_counts()"
   ]
  },
  {
   "cell_type": "code",
   "execution_count": 29,
   "id": "4baf5250",
   "metadata": {},
   "outputs": [],
   "source": [
    "model_A = keras.models.Sequential()\n",
    "model_A.add(keras.layers.Flatten(input_shape=[28, 28]))\n",
    "for n_hidden in (300, 100, 50, 50, 50):\n",
    "    model_A.add(keras.layers.Dense(n_hidden, activation=\"selu\"))\n",
    "model_A.add(keras.layers.Dense(8, activation=\"softmax\"))"
   ]
  },
  {
   "cell_type": "code",
   "execution_count": 30,
   "id": "6e058450",
   "metadata": {},
   "outputs": [],
   "source": [
    "model_A.compile(loss=\"sparse_categorical_crossentropy\",\n",
    "                optimizer=keras.optimizers.SGD(learning_rate=1e-3),\n",
    "                metrics=[\"accuracy\"])"
   ]
  },
  {
   "cell_type": "code",
   "execution_count": 31,
   "id": "8beedbc0",
   "metadata": {},
   "outputs": [
    {
     "name": "stdout",
     "output_type": "stream",
     "text": [
      "Train on 43986 samples, validate on 4014 samples\n",
      "Epoch 1/20\n",
      "43986/43986 [==============================] - 4s 85us/sample - loss: 0.5483 - accuracy: 0.8225 - val_loss: 0.3798 - val_accuracy: 0.8687\n",
      "Epoch 2/20\n",
      "43986/43986 [==============================] - 3s 72us/sample - loss: 0.3544 - accuracy: 0.8770 - val_loss: 0.3252 - val_accuracy: 0.8911\n",
      "Epoch 3/20\n",
      "43986/43986 [==============================] - 3s 64us/sample - loss: 0.3192 - accuracy: 0.8887 - val_loss: 0.3031 - val_accuracy: 0.8956\n",
      "Epoch 4/20\n",
      "43986/43986 [==============================] - 3s 68us/sample - loss: 0.2996 - accuracy: 0.8958 - val_loss: 0.2884 - val_accuracy: 0.8996\n",
      "Epoch 5/20\n",
      "43986/43986 [==============================] - 3s 64us/sample - loss: 0.2853 - accuracy: 0.9015 - val_loss: 0.2781 - val_accuracy: 0.9046\n",
      "Epoch 6/20\n",
      "43986/43986 [==============================] - 3s 69us/sample - loss: 0.2755 - accuracy: 0.9053 - val_loss: 0.2755 - val_accuracy: 0.9083\n",
      "Epoch 7/20\n",
      "43986/43986 [==============================] - 3s 73us/sample - loss: 0.2676 - accuracy: 0.9078 - val_loss: 0.2636 - val_accuracy: 0.9138\n",
      "Epoch 8/20\n",
      "43986/43986 [==============================] - 3s 78us/sample - loss: 0.2605 - accuracy: 0.9107 - val_loss: 0.2592 - val_accuracy: 0.9138\n",
      "Epoch 9/20\n",
      "43986/43986 [==============================] - 3s 74us/sample - loss: 0.2545 - accuracy: 0.9126 - val_loss: 0.2660 - val_accuracy: 0.9106\n",
      "Epoch 10/20\n",
      "43986/43986 [==============================] - 3s 71us/sample - loss: 0.2500 - accuracy: 0.9144 - val_loss: 0.2503 - val_accuracy: 0.9143\n",
      "Epoch 11/20\n",
      "43986/43986 [==============================] - 3s 68us/sample - loss: 0.2448 - accuracy: 0.9163 - val_loss: 0.2465 - val_accuracy: 0.9160\n",
      "Epoch 12/20\n",
      "43986/43986 [==============================] - 3s 71us/sample - loss: 0.2412 - accuracy: 0.9178 - val_loss: 0.2464 - val_accuracy: 0.9165\n",
      "Epoch 13/20\n",
      "43986/43986 [==============================] - 4s 82us/sample - loss: 0.2376 - accuracy: 0.9195 - val_loss: 0.2434 - val_accuracy: 0.9170\n",
      "Epoch 14/20\n",
      "43986/43986 [==============================] - 4s 83us/sample - loss: 0.2338 - accuracy: 0.9210 - val_loss: 0.2430 - val_accuracy: 0.9185\n",
      "Epoch 15/20\n",
      "43986/43986 [==============================] - 5s 103us/sample - loss: 0.2310 - accuracy: 0.9204 - val_loss: 0.2395 - val_accuracy: 0.9165\n",
      "Epoch 16/20\n",
      "43986/43986 [==============================] - 4s 96us/sample - loss: 0.2283 - accuracy: 0.9222 - val_loss: 0.2438 - val_accuracy: 0.9165\n",
      "Epoch 17/20\n",
      "43986/43986 [==============================] - 4s 94us/sample - loss: 0.2254 - accuracy: 0.9221 - val_loss: 0.2366 - val_accuracy: 0.9193\n",
      "Epoch 18/20\n",
      "43986/43986 [==============================] - 4s 89us/sample - loss: 0.2229 - accuracy: 0.9231 - val_loss: 0.2390 - val_accuracy: 0.9190\n",
      "Epoch 19/20\n",
      "43986/43986 [==============================] - 4s 91us/sample - loss: 0.2209 - accuracy: 0.9243 - val_loss: 0.2336 - val_accuracy: 0.9190\n",
      "Epoch 20/20\n",
      "43986/43986 [==============================] - 4s 88us/sample - loss: 0.2183 - accuracy: 0.9253 - val_loss: 0.2367 - val_accuracy: 0.9173\n"
     ]
    }
   ],
   "source": [
    "history = model_A.fit(X_train_A, y_train_A, epochs=20,\n",
    "                    validation_data=(X_valid_A, y_valid_A))"
   ]
  },
  {
   "cell_type": "code",
   "execution_count": 32,
   "id": "9643cf74",
   "metadata": {},
   "outputs": [],
   "source": [
    "model_A.save(\"my_model_A.h5\")"
   ]
  },
  {
   "cell_type": "code",
   "execution_count": 33,
   "id": "490579a9",
   "metadata": {},
   "outputs": [],
   "source": [
    "model_A = keras.models.load_model(\"my_model_A.h5\")\n",
    "model_B_on_A = keras.models.Sequential(model_A.layers[:-1])\n",
    "###출력층위 제외하고 가져온다\n",
    "model_B_on_A.add(keras.layers.Dense(1, activation=\"sigmoid\"))"
   ]
  },
  {
   "cell_type": "code",
   "execution_count": 34,
   "id": "21c1912b",
   "metadata": {},
   "outputs": [],
   "source": [
    "### model_A는 model_B_on_A를 훈련시킬때 공유하는 층이 같이 훈련되므로 미리 모델을 복사해두어야함\n",
    "### 근데 사실상 h5파일을 두번 가져오는것과 동일한 동작이라 이런 필요가 있나 싶다\n",
    "\n",
    "model_A_clone = keras.models.clone_model(model_A)\n",
    "model_A_clone.set_weights(model_A.get_weights())"
   ]
  },
  {
   "cell_type": "markdown",
   "id": "33af2eca",
   "metadata": {},
   "source": [
    "# 층 동결\n",
    "### 새로 추가된 출력층의 가중치가 random하게 초기화 되었으므로 어느정도 맞춰준다음 전체학습 하는게 좋다"
   ]
  },
  {
   "cell_type": "code",
   "execution_count": 35,
   "id": "de17d2f9",
   "metadata": {},
   "outputs": [],
   "source": [
    "for layer in model_B_on_A.layers[:-1]:\n",
    "    layer.trainable = False\n",
    "\n",
    "### 층을 동결하거나 동결해제했다면 반드시!! 이후에 다시 컴파일 해줘야함\n",
    "model_B_on_A.compile(loss=\"binary_crossentropy\", optimizer=\"sgd\", metrics=[\"accuracy\"])"
   ]
  },
  {
   "cell_type": "code",
   "execution_count": 36,
   "id": "76b8277a",
   "metadata": {},
   "outputs": [
    {
     "name": "stdout",
     "output_type": "stream",
     "text": [
      "Train on 200 samples, validate on 986 samples\n",
      "Epoch 1/4\n",
      "200/200 [==============================] - 1s 3ms/sample - loss: 1.1147 - accuracy: 0.3600 - val_loss: 0.4708 - val_accuracy: 0.8164\n",
      "Epoch 2/4\n",
      "200/200 [==============================] - 0s 484us/sample - loss: 0.3224 - accuracy: 0.9450 - val_loss: 0.2340 - val_accuracy: 0.9594\n",
      "Epoch 3/4\n",
      "200/200 [==============================] - 0s 468us/sample - loss: 0.1732 - accuracy: 0.9950 - val_loss: 0.1589 - val_accuracy: 0.9797\n",
      "Epoch 4/4\n",
      "200/200 [==============================] - 0s 495us/sample - loss: 0.1199 - accuracy: 0.9950 - val_loss: 0.1257 - val_accuracy: 0.9888\n"
     ]
    }
   ],
   "source": [
    "history = model_B_on_A.fit(X_train_B, y_train_B, epochs=4, validation_data=(X_valid_B, y_valid_B))\n",
    "\n",
    "for layer in model_B_on_A.layers[:-1]:\n",
    "    layer.trainable = True\n",
    "\n",
    "optimizer = keras.optimizers.SGD(lr=1e-4)\n",
    "### 전이학습시 동결을 해제한다음의 학습률을 낮춰줘야함\n",
    "model_B_on_A.compile(loss=\"binary_crossentropy\", optimizer=optimizer, metrics=[\"accuracy\"])"
   ]
  },
  {
   "cell_type": "code",
   "execution_count": 37,
   "id": "b5fa78a6",
   "metadata": {},
   "outputs": [
    {
     "name": "stdout",
     "output_type": "stream",
     "text": [
      "Train on 200 samples, validate on 986 samples\n",
      "Epoch 1/16\n",
      "200/200 [==============================] - 1s 3ms/sample - loss: 0.1017 - accuracy: 0.9950 - val_loss: 0.1245 - val_accuracy: 0.9888\n",
      "Epoch 2/16\n",
      "200/200 [==============================] - 0s 483us/sample - loss: 0.1005 - accuracy: 0.9950 - val_loss: 0.1233 - val_accuracy: 0.9878\n",
      "Epoch 3/16\n",
      "200/200 [==============================] - 0s 506us/sample - loss: 0.0993 - accuracy: 0.9950 - val_loss: 0.1220 - val_accuracy: 0.9878\n",
      "Epoch 4/16\n",
      "200/200 [==============================] - 0s 514us/sample - loss: 0.0981 - accuracy: 0.9950 - val_loss: 0.1209 - val_accuracy: 0.9878\n",
      "Epoch 5/16\n",
      "200/200 [==============================] - 0s 517us/sample - loss: 0.0971 - accuracy: 0.9950 - val_loss: 0.1197 - val_accuracy: 0.9878\n",
      "Epoch 6/16\n",
      "200/200 [==============================] - 0s 485us/sample - loss: 0.0960 - accuracy: 0.9950 - val_loss: 0.1186 - val_accuracy: 0.9878\n",
      "Epoch 7/16\n",
      "200/200 [==============================] - 0s 514us/sample - loss: 0.0949 - accuracy: 0.9950 - val_loss: 0.1175 - val_accuracy: 0.9888\n",
      "Epoch 8/16\n",
      "200/200 [==============================] - 0s 506us/sample - loss: 0.0938 - accuracy: 0.9950 - val_loss: 0.1164 - val_accuracy: 0.9888\n",
      "Epoch 9/16\n",
      "200/200 [==============================] - 0s 537us/sample - loss: 0.0928 - accuracy: 0.9950 - val_loss: 0.1154 - val_accuracy: 0.9888\n",
      "Epoch 10/16\n",
      "200/200 [==============================] - 0s 476us/sample - loss: 0.0918 - accuracy: 0.9950 - val_loss: 0.1143 - val_accuracy: 0.9888\n",
      "Epoch 11/16\n",
      "200/200 [==============================] - 0s 494us/sample - loss: 0.0908 - accuracy: 0.9950 - val_loss: 0.1132 - val_accuracy: 0.9888\n",
      "Epoch 12/16\n",
      "200/200 [==============================] - 0s 509us/sample - loss: 0.0898 - accuracy: 0.9950 - val_loss: 0.1122 - val_accuracy: 0.9888\n",
      "Epoch 13/16\n",
      "200/200 [==============================] - 0s 497us/sample - loss: 0.0888 - accuracy: 0.9950 - val_loss: 0.1112 - val_accuracy: 0.9888\n",
      "Epoch 14/16\n",
      "200/200 [==============================] - 0s 482us/sample - loss: 0.0879 - accuracy: 0.9950 - val_loss: 0.1102 - val_accuracy: 0.9899\n",
      "Epoch 15/16\n",
      "200/200 [==============================] - 0s 444us/sample - loss: 0.0869 - accuracy: 1.0000 - val_loss: 0.1093 - val_accuracy: 0.9899\n",
      "Epoch 16/16\n",
      "200/200 [==============================] - 0s 427us/sample - loss: 0.0861 - accuracy: 1.0000 - val_loss: 0.1084 - val_accuracy: 0.9899\n"
     ]
    }
   ],
   "source": [
    "history = model_B_on_A.fit(X_train_B, y_train_B, epochs=16, validation_data=(X_valid_B, y_valid_B))"
   ]
  },
  {
   "cell_type": "code",
   "execution_count": 38,
   "id": "9e9c3077",
   "metadata": {},
   "outputs": [
    {
     "name": "stdout",
     "output_type": "stream",
     "text": [
      "2000/2000 [==============================] - 0s 62us/sample - loss: 0.1101 - accuracy: 0.9880\n"
     ]
    },
    {
     "data": {
      "text/plain": [
       "[0.11010907077789307, 0.988]"
      ]
     },
     "execution_count": 38,
     "metadata": {},
     "output_type": "execute_result"
    }
   ],
   "source": [
    "model_B_on_A.evaluate(X_test_B, y_test_B)"
   ]
  },
  {
   "cell_type": "markdown",
   "id": "06aa81cb",
   "metadata": {},
   "source": [
    "###  model_B데이터만 사용하여 MLP구성해보았는데 애시당초 샘플수의 차이 때문에 성능낮음\n",
    "### 이미지 분류 같은 경우 미리 많은 샘플로 가중치를 초기화한 모델을 base로 두고 이후 (은닉)+출력층 구성하면\n",
    "### 샘플 수, 모델 구상 노력대비 성능, 시간적으로 매우 이득"
   ]
  },
  {
   "cell_type": "code",
   "execution_count": 39,
   "id": "33c7d47a",
   "metadata": {},
   "outputs": [],
   "source": [
    "model_B_test = keras.models.Sequential()\n",
    "model_B_test.add(keras.layers.Flatten(input_shape=[28, 28]))\n",
    "for n_hidden in (300, 100, 50, 50, 50):\n",
    "    model_B_test.add(keras.layers.Dense(n_hidden, activation=\"selu\"))\n",
    "model_B_test.add(keras.layers.Dense(1, activation=\"sigmoid\"))"
   ]
  },
  {
   "cell_type": "code",
   "execution_count": 40,
   "id": "0cf09df6",
   "metadata": {},
   "outputs": [],
   "source": [
    "optimizer = keras.optimizers.SGD(lr=1e-4)\n",
    "model_B_test.compile(loss=\"binary_crossentropy\", optimizer=optimizer, metrics=[\"accuracy\"])"
   ]
  },
  {
   "cell_type": "code",
   "execution_count": 41,
   "id": "43d54456",
   "metadata": {},
   "outputs": [
    {
     "name": "stdout",
     "output_type": "stream",
     "text": [
      "Train on 200 samples, validate on 986 samples\n",
      "Epoch 1/25\n",
      "200/200 [==============================] - 1s 3ms/sample - loss: 0.4339 - accuracy: 0.8000 - val_loss: 0.4506 - val_accuracy: 0.7961\n",
      "Epoch 2/25\n",
      "200/200 [==============================] - 0s 471us/sample - loss: 0.4280 - accuracy: 0.8000 - val_loss: 0.4449 - val_accuracy: 0.8022\n",
      "Epoch 3/25\n",
      "200/200 [==============================] - 0s 505us/sample - loss: 0.4221 - accuracy: 0.8050 - val_loss: 0.4387 - val_accuracy: 0.8083\n",
      "Epoch 4/25\n",
      "200/200 [==============================] - 0s 498us/sample - loss: 0.4159 - accuracy: 0.8100 - val_loss: 0.4330 - val_accuracy: 0.8103\n",
      "Epoch 5/25\n",
      "200/200 [==============================] - 0s 516us/sample - loss: 0.4100 - accuracy: 0.8150 - val_loss: 0.4266 - val_accuracy: 0.8134\n",
      "Epoch 6/25\n",
      "200/200 [==============================] - 0s 508us/sample - loss: 0.4037 - accuracy: 0.8150 - val_loss: 0.4209 - val_accuracy: 0.8205\n",
      "Epoch 7/25\n",
      "200/200 [==============================] - 0s 463us/sample - loss: 0.3979 - accuracy: 0.8150 - val_loss: 0.4157 - val_accuracy: 0.8266\n",
      "Epoch 8/25\n",
      "200/200 [==============================] - 0s 489us/sample - loss: 0.3926 - accuracy: 0.8200 - val_loss: 0.4109 - val_accuracy: 0.8266\n",
      "Epoch 9/25\n",
      "200/200 [==============================] - 0s 493us/sample - loss: 0.3877 - accuracy: 0.8200 - val_loss: 0.4056 - val_accuracy: 0.8347\n",
      "Epoch 10/25\n",
      "200/200 [==============================] - 0s 526us/sample - loss: 0.3823 - accuracy: 0.8250 - val_loss: 0.4009 - val_accuracy: 0.8367\n",
      "Epoch 11/25\n",
      "200/200 [==============================] - 0s 544us/sample - loss: 0.3774 - accuracy: 0.8300 - val_loss: 0.3957 - val_accuracy: 0.8398\n",
      "Epoch 12/25\n",
      "200/200 [==============================] - 0s 466us/sample - loss: 0.3722 - accuracy: 0.8400 - val_loss: 0.3909 - val_accuracy: 0.8418\n",
      "Epoch 13/25\n",
      "200/200 [==============================] - 0s 516us/sample - loss: 0.3672 - accuracy: 0.8550 - val_loss: 0.3860 - val_accuracy: 0.8448\n",
      "Epoch 14/25\n",
      "200/200 [==============================] - 0s 508us/sample - loss: 0.3622 - accuracy: 0.8700 - val_loss: 0.3813 - val_accuracy: 0.8489\n",
      "Epoch 15/25\n",
      "200/200 [==============================] - 0s 497us/sample - loss: 0.3575 - accuracy: 0.8750 - val_loss: 0.3763 - val_accuracy: 0.8499\n",
      "Epoch 16/25\n",
      "200/200 [==============================] - 0s 514us/sample - loss: 0.3525 - accuracy: 0.8850 - val_loss: 0.3723 - val_accuracy: 0.8509\n",
      "Epoch 17/25\n",
      "200/200 [==============================] - 0s 488us/sample - loss: 0.3482 - accuracy: 0.8850 - val_loss: 0.3680 - val_accuracy: 0.8550\n",
      "Epoch 18/25\n",
      "200/200 [==============================] - 0s 498us/sample - loss: 0.3439 - accuracy: 0.8900 - val_loss: 0.3639 - val_accuracy: 0.8580\n",
      "Epoch 19/25\n",
      "200/200 [==============================] - 0s 507us/sample - loss: 0.3397 - accuracy: 0.8900 - val_loss: 0.3600 - val_accuracy: 0.8611\n",
      "Epoch 20/25\n",
      "200/200 [==============================] - 0s 543us/sample - loss: 0.3356 - accuracy: 0.8900 - val_loss: 0.3560 - val_accuracy: 0.8651\n",
      "Epoch 21/25\n",
      "200/200 [==============================] - 0s 528us/sample - loss: 0.3315 - accuracy: 0.8900 - val_loss: 0.3518 - val_accuracy: 0.8682\n",
      "Epoch 22/25\n",
      "200/200 [==============================] - 0s 439us/sample - loss: 0.3272 - accuracy: 0.8950 - val_loss: 0.3482 - val_accuracy: 0.8702\n",
      "Epoch 23/25\n",
      "200/200 [==============================] - 0s 563us/sample - loss: 0.3234 - accuracy: 0.8950 - val_loss: 0.3443 - val_accuracy: 0.8753\n",
      "Epoch 24/25\n",
      "200/200 [==============================] - 0s 539us/sample - loss: 0.3194 - accuracy: 0.8950 - val_loss: 0.3407 - val_accuracy: 0.8813\n",
      "Epoch 25/25\n",
      "200/200 [==============================] - 0s 442us/sample - loss: 0.3157 - accuracy: 0.8950 - val_loss: 0.3369 - val_accuracy: 0.8834\n"
     ]
    }
   ],
   "source": [
    "history = model_B_test.fit(X_train_B, y_train_B, epochs=25, validation_data=(X_valid_B, y_valid_B))"
   ]
  },
  {
   "cell_type": "code",
   "execution_count": null,
   "id": "4a50fbac",
   "metadata": {},
   "outputs": [],
   "source": []
  },
  {
   "cell_type": "markdown",
   "id": "fd20943d",
   "metadata": {},
   "source": [
    "# 배치 정규화 이후 건너 뛰고 optimizer 부분을 먼저 살펴보았음"
   ]
  },
  {
   "cell_type": "markdown",
   "id": "4ae3b779",
   "metadata": {},
   "source": [
    "## optimizer만 나와있어서 모델은 적절히 위에서 가져왔음"
   ]
  },
  {
   "cell_type": "code",
   "execution_count": 42,
   "id": "4a592624",
   "metadata": {},
   "outputs": [],
   "source": [
    "model = keras.models.Sequential([\n",
    "    keras.layers.Flatten(input_shape=list(X_train[0].shape)),\n",
    "    keras.layers.Dense(10, activation=\"relu\"),\n",
    "    keras.layers.LeakyReLU(alpha=0.2),\n",
    "    keras.layers.Dense(10, activation=\"softmax\")\n",
    "])"
   ]
  },
  {
   "cell_type": "code",
   "execution_count": 43,
   "id": "9ab48763",
   "metadata": {},
   "outputs": [],
   "source": [
    "##옵티마이저 바꿀시 accuracy비교를 위한 그냥 SGD\n",
    "model.compile(loss=\"sparse_categorical_crossentropy\",\n",
    "              optimizer=keras.optimizers.SGD(lr=0.01),\n",
    "              metrics=[\"accuracy\"])"
   ]
  },
  {
   "cell_type": "code",
   "execution_count": 44,
   "id": "18343ffb",
   "metadata": {},
   "outputs": [
    {
     "name": "stdout",
     "output_type": "stream",
     "text": [
      "Train on 55000 samples, validate on 5000 samples\n",
      "Epoch 1/10\n",
      "55000/55000 [==============================] - 4s 74us/sample - loss: 1.0321 - accuracy: 0.6456 - val_loss: 0.6964 - val_accuracy: 0.7660\n",
      "Epoch 2/10\n",
      "55000/55000 [==============================] - 4s 74us/sample - loss: 0.6404 - accuracy: 0.7827 - val_loss: 0.5878 - val_accuracy: 0.8064\n",
      "Epoch 3/10\n",
      "55000/55000 [==============================] - 4s 77us/sample - loss: 0.5666 - accuracy: 0.8062 - val_loss: 0.5401 - val_accuracy: 0.8142\n",
      "Epoch 4/10\n",
      "55000/55000 [==============================] - 4s 77us/sample - loss: 0.5310 - accuracy: 0.8162 - val_loss: 0.5098 - val_accuracy: 0.8254\n",
      "Epoch 5/10\n",
      "55000/55000 [==============================] - 4s 77us/sample - loss: 0.5090 - accuracy: 0.8226 - val_loss: 0.4989 - val_accuracy: 0.8286\n",
      "Epoch 6/10\n",
      "55000/55000 [==============================] - 4s 77us/sample - loss: 0.4933 - accuracy: 0.8275 - val_loss: 0.4959 - val_accuracy: 0.8324\n",
      "Epoch 7/10\n",
      "55000/55000 [==============================] - 4s 76us/sample - loss: 0.4814 - accuracy: 0.8312 - val_loss: 0.4753 - val_accuracy: 0.8368\n",
      "Epoch 8/10\n",
      "55000/55000 [==============================] - 4s 77us/sample - loss: 0.4723 - accuracy: 0.8355 - val_loss: 0.4639 - val_accuracy: 0.8382\n",
      "Epoch 9/10\n",
      "55000/55000 [==============================] - 4s 77us/sample - loss: 0.4647 - accuracy: 0.8378 - val_loss: 0.4633 - val_accuracy: 0.8414\n",
      "Epoch 10/10\n",
      "55000/55000 [==============================] - 4s 78us/sample - loss: 0.4585 - accuracy: 0.8401 - val_loss: 0.4684 - val_accuracy: 0.8358\n"
     ]
    }
   ],
   "source": [
    "history=model.fit(X_train, y_train, epochs=10, validation_data=(X_valid, y_valid))"
   ]
  },
  {
   "cell_type": "markdown",
   "id": "079c946e",
   "metadata": {},
   "source": [
    "# 모멘텀 최적화\n",
    "### SGD와 다르게 기울기 벡터에 학습률을 곱해 바로 update하지 않고 모멘텀 벡터에 더해주며 이전 가중치를 일정량 반영함\n",
    "### SGD보다 빠르게 수렴하며 보통 모멘텀으로 0.9사용"
   ]
  },
  {
   "cell_type": "code",
   "execution_count": 45,
   "id": "36c4d354",
   "metadata": {},
   "outputs": [],
   "source": [
    "#momentum 매개변수는 그냥 SGD가 아닌 keras가 구현한 SGD에만 넣어줄 수 있음\n",
    "model.compile(loss=\"sparse_categorical_crossentropy\",\n",
    "              optimizer=keras.optimizers.SGD(lr=0.01, momentum=0.9),\n",
    "              metrics=[\"accuracy\"])"
   ]
  },
  {
   "cell_type": "code",
   "execution_count": 46,
   "id": "c71c3382",
   "metadata": {},
   "outputs": [
    {
     "name": "stdout",
     "output_type": "stream",
     "text": [
      "Train on 55000 samples, validate on 5000 samples\n",
      "Epoch 1/10\n",
      "55000/55000 [==============================] - 5s 85us/sample - loss: 0.5060 - accuracy: 0.8226 - val_loss: 0.4749 - val_accuracy: 0.8352\n",
      "Epoch 2/10\n",
      "55000/55000 [==============================] - 4s 78us/sample - loss: 0.4725 - accuracy: 0.8329 - val_loss: 0.4625 - val_accuracy: 0.8430\n",
      "Epoch 3/10\n",
      "55000/55000 [==============================] - 4s 78us/sample - loss: 0.4577 - accuracy: 0.8375 - val_loss: 0.4838 - val_accuracy: 0.8358\n",
      "Epoch 4/10\n",
      "55000/55000 [==============================] - 4s 78us/sample - loss: 0.4461 - accuracy: 0.8411 - val_loss: 0.4792 - val_accuracy: 0.8338\n",
      "Epoch 5/10\n",
      "55000/55000 [==============================] - 4s 76us/sample - loss: 0.4348 - accuracy: 0.8455 - val_loss: 0.4476 - val_accuracy: 0.8450\n",
      "Epoch 6/10\n",
      "55000/55000 [==============================] - 4s 79us/sample - loss: 0.4278 - accuracy: 0.8476 - val_loss: 0.4445 - val_accuracy: 0.8488\n",
      "Epoch 7/10\n",
      "55000/55000 [==============================] - 4s 79us/sample - loss: 0.4218 - accuracy: 0.8506 - val_loss: 0.4150 - val_accuracy: 0.8614\n",
      "Epoch 8/10\n",
      "55000/55000 [==============================] - 4s 78us/sample - loss: 0.4138 - accuracy: 0.8525 - val_loss: 0.4045 - val_accuracy: 0.8622\n",
      "Epoch 9/10\n",
      "55000/55000 [==============================] - 4s 77us/sample - loss: 0.4128 - accuracy: 0.8526 - val_loss: 0.4484 - val_accuracy: 0.8456\n",
      "Epoch 10/10\n",
      "55000/55000 [==============================] - 4s 78us/sample - loss: 0.4035 - accuracy: 0.8565 - val_loss: 0.4162 - val_accuracy: 0.8588\n"
     ]
    }
   ],
   "source": [
    "history=model.fit(X_train, y_train, epochs=10, validation_data=(X_valid, y_valid))"
   ]
  },
  {
   "cell_type": "markdown",
   "id": "5c0da7a7",
   "metadata": {},
   "source": [
    "# 네스테로프 가속경사\n",
    "### 모멘텀 벡터를 현재 기울기가 아닌 모멘텀 방향으로 조금 앞선 위치의 기울기로 update함\n",
    "### 모멘텀 최적화보다 빠르며 최소점에서 진동을 줄일 수 있음"
   ]
  },
  {
   "cell_type": "code",
   "execution_count": 47,
   "id": "c7e2fc52",
   "metadata": {},
   "outputs": [],
   "source": [
    "model.compile(loss=\"sparse_categorical_crossentropy\",\n",
    "              optimizer=keras.optimizers.SGD(lr=0.01, momentum=0.9, nesterov=True),\n",
    "              metrics=[\"accuracy\"])"
   ]
  },
  {
   "cell_type": "code",
   "execution_count": 48,
   "id": "5a7fa991",
   "metadata": {},
   "outputs": [
    {
     "name": "stdout",
     "output_type": "stream",
     "text": [
      "Train on 55000 samples, validate on 5000 samples\n",
      "Epoch 1/10\n",
      "55000/55000 [==============================] - 5s 88us/sample - loss: 0.3956 - accuracy: 0.8599 - val_loss: 0.4129 - val_accuracy: 0.8526\n",
      "Epoch 2/10\n",
      "55000/55000 [==============================] - 4s 78us/sample - loss: 0.3932 - accuracy: 0.8600 - val_loss: 0.4115 - val_accuracy: 0.8588\n",
      "Epoch 3/10\n",
      "55000/55000 [==============================] - 4s 78us/sample - loss: 0.3894 - accuracy: 0.8612 - val_loss: 0.4264 - val_accuracy: 0.8500\n",
      "Epoch 4/10\n",
      "55000/55000 [==============================] - 4s 79us/sample - loss: 0.3859 - accuracy: 0.8640 - val_loss: 0.4214 - val_accuracy: 0.8634\n",
      "Epoch 5/10\n",
      "55000/55000 [==============================] - 4s 78us/sample - loss: 0.3835 - accuracy: 0.8637 - val_loss: 0.4234 - val_accuracy: 0.8560\n",
      "Epoch 6/10\n",
      "55000/55000 [==============================] - 4s 77us/sample - loss: 0.3812 - accuracy: 0.8630 - val_loss: 0.4354 - val_accuracy: 0.8454\n",
      "Epoch 7/10\n",
      "55000/55000 [==============================] - 4s 78us/sample - loss: 0.3777 - accuracy: 0.8645 - val_loss: 0.4057 - val_accuracy: 0.8602\n",
      "Epoch 8/10\n",
      "55000/55000 [==============================] - 4s 78us/sample - loss: 0.3747 - accuracy: 0.8651 - val_loss: 0.4065 - val_accuracy: 0.8576\n",
      "Epoch 9/10\n",
      "55000/55000 [==============================] - 4s 78us/sample - loss: 0.3728 - accuracy: 0.8665 - val_loss: 0.3965 - val_accuracy: 0.8652\n",
      "Epoch 10/10\n",
      "55000/55000 [==============================] - 4s 78us/sample - loss: 0.3729 - accuracy: 0.8681 - val_loss: 0.4154 - val_accuracy: 0.8558\n"
     ]
    }
   ],
   "source": [
    "history=model.fit(X_train, y_train, epochs=10, validation_data=(X_valid, y_valid))"
   ]
  },
  {
   "cell_type": "markdown",
   "id": "4ddd52e7",
   "metadata": {},
   "source": [
    "# Adagrad\n",
    "### 각차원마다 기울기를 일정량 누적해서 더해가며 위치 update시 가속도에 나눠줌\n",
    "### 이로 인하여 scale이 큰 차원의 학습률이 더 빠르게 감소하며 이를 *적응적 학습률* 이라함"
   ]
  },
  {
   "cell_type": "code",
   "execution_count": 49,
   "id": "53c248b7",
   "metadata": {},
   "outputs": [],
   "source": [
    "model.compile(loss=\"sparse_categorical_crossentropy\",\n",
    "              optimizer=keras.optimizers.Adagrad(lr=0.01),\n",
    "              metrics=[\"accuracy\"])"
   ]
  },
  {
   "cell_type": "code",
   "execution_count": 50,
   "id": "91bb5986",
   "metadata": {},
   "outputs": [
    {
     "name": "stdout",
     "output_type": "stream",
     "text": [
      "Train on 55000 samples, validate on 5000 samples\n",
      "Epoch 1/10\n",
      "55000/55000 [==============================] - 5s 87us/sample - loss: 0.3431 - accuracy: 0.8781 - val_loss: 0.3877 - val_accuracy: 0.8662\n",
      "Epoch 2/10\n",
      "55000/55000 [==============================] - 4s 78us/sample - loss: 0.3390 - accuracy: 0.8791 - val_loss: 0.3894 - val_accuracy: 0.8672\n",
      "Epoch 3/10\n",
      "55000/55000 [==============================] - 4s 78us/sample - loss: 0.3371 - accuracy: 0.8800 - val_loss: 0.3903 - val_accuracy: 0.8656\n",
      "Epoch 4/10\n",
      "55000/55000 [==============================] - 4s 77us/sample - loss: 0.3363 - accuracy: 0.8805 - val_loss: 0.3898 - val_accuracy: 0.8654\n",
      "Epoch 5/10\n",
      "55000/55000 [==============================] - 4s 78us/sample - loss: 0.3358 - accuracy: 0.8808 - val_loss: 0.3886 - val_accuracy: 0.8650\n",
      "Epoch 6/10\n",
      "55000/55000 [==============================] - 4s 77us/sample - loss: 0.3349 - accuracy: 0.8811 - val_loss: 0.3899 - val_accuracy: 0.8664\n",
      "Epoch 7/10\n",
      "55000/55000 [==============================] - 4s 77us/sample - loss: 0.3345 - accuracy: 0.8809 - val_loss: 0.3878 - val_accuracy: 0.8674\n",
      "Epoch 8/10\n",
      "55000/55000 [==============================] - 4s 77us/sample - loss: 0.3340 - accuracy: 0.8812 - val_loss: 0.3898 - val_accuracy: 0.8650\n",
      "Epoch 9/10\n",
      "55000/55000 [==============================] - 4s 79us/sample - loss: 0.3334 - accuracy: 0.8818 - val_loss: 0.3883 - val_accuracy: 0.8668\n",
      "Epoch 10/10\n",
      "55000/55000 [==============================] - 4s 80us/sample - loss: 0.3334 - accuracy: 0.8811 - val_loss: 0.3892 - val_accuracy: 0.8672\n"
     ]
    }
   ],
   "source": [
    "history=model.fit(X_train, y_train, epochs=10, validation_data=(X_valid, y_valid))"
   ]
  },
  {
   "cell_type": "markdown",
   "id": "60869fff",
   "metadata": {},
   "source": [
    "# RMS Prop\n",
    "### 학습률을 감쇠시킬때 최근의 기울기만 사용해서 누적하여 학습이 너무 빠르게 끝나는것을 막음"
   ]
  },
  {
   "cell_type": "code",
   "execution_count": 51,
   "id": "55493454",
   "metadata": {},
   "outputs": [],
   "source": [
    "model.compile(loss=\"sparse_categorical_crossentropy\",\n",
    "              optimizer=keras.optimizers.RMSprop(lr=0.001, rho=0.9),\n",
    "              metrics=[\"accuracy\"])"
   ]
  },
  {
   "cell_type": "code",
   "execution_count": 52,
   "id": "57f3e79c",
   "metadata": {},
   "outputs": [
    {
     "name": "stdout",
     "output_type": "stream",
     "text": [
      "Train on 55000 samples, validate on 5000 samples\n",
      "Epoch 1/10\n",
      "55000/55000 [==============================] - 5s 98us/sample - loss: 0.3534 - accuracy: 0.8726 - val_loss: 0.4000 - val_accuracy: 0.8634\n",
      "Epoch 2/10\n",
      "55000/55000 [==============================] - 5s 86us/sample - loss: 0.3544 - accuracy: 0.8746 - val_loss: 0.4115 - val_accuracy: 0.8638\n",
      "Epoch 3/10\n",
      "55000/55000 [==============================] - 5s 85us/sample - loss: 0.3525 - accuracy: 0.8753 - val_loss: 0.4182 - val_accuracy: 0.8628\n",
      "Epoch 4/10\n",
      "55000/55000 [==============================] - 5s 85us/sample - loss: 0.3535 - accuracy: 0.8745 - val_loss: 0.4082 - val_accuracy: 0.8588\n",
      "Epoch 5/10\n",
      "55000/55000 [==============================] - 5s 85us/sample - loss: 0.3521 - accuracy: 0.8751 - val_loss: 0.4138 - val_accuracy: 0.8652\n",
      "Epoch 6/10\n",
      "55000/55000 [==============================] - 5s 86us/sample - loss: 0.3503 - accuracy: 0.8750 - val_loss: 0.4252 - val_accuracy: 0.8584\n",
      "Epoch 7/10\n",
      "55000/55000 [==============================] - 5s 85us/sample - loss: 0.3501 - accuracy: 0.8758 - val_loss: 0.4220 - val_accuracy: 0.8596\n",
      "Epoch 8/10\n",
      "55000/55000 [==============================] - 5s 85us/sample - loss: 0.3476 - accuracy: 0.8775 - val_loss: 0.4264 - val_accuracy: 0.8618\n",
      "Epoch 9/10\n",
      "55000/55000 [==============================] - 5s 86us/sample - loss: 0.3479 - accuracy: 0.8768 - val_loss: 0.4094 - val_accuracy: 0.8582\n",
      "Epoch 10/10\n",
      "55000/55000 [==============================] - 5s 86us/sample - loss: 0.3464 - accuracy: 0.8774 - val_loss: 0.4180 - val_accuracy: 0.8616\n"
     ]
    }
   ],
   "source": [
    "history=model.fit(X_train, y_train, epochs=10, validation_data=(X_valid, y_valid))"
   ]
  },
  {
   "cell_type": "markdown",
   "id": "bef3f5c9",
   "metadata": {},
   "source": [
    "# Adam\n",
    "### 모멘텀최적화와 RMSProp가 결합한 형태라고 보면된다\n",
    "### 적응적 학습률이라 학습률 튜닝할 필요가 없다?"
   ]
  },
  {
   "cell_type": "code",
   "execution_count": 53,
   "id": "5395c7b6",
   "metadata": {},
   "outputs": [],
   "source": [
    "model.compile(loss=\"sparse_categorical_crossentropy\",\n",
    "              optimizer=keras.optimizers.Adam(lr=0.001, beta_1 = 0.9, beta_2 = 0.999),\n",
    "              metrics=[\"accuracy\"])"
   ]
  },
  {
   "cell_type": "code",
   "execution_count": 54,
   "id": "92078c8b",
   "metadata": {},
   "outputs": [
    {
     "name": "stdout",
     "output_type": "stream",
     "text": [
      "Train on 55000 samples, validate on 5000 samples\n",
      "Epoch 1/10\n",
      "55000/55000 [==============================] - 5s 97us/sample - loss: 0.3413 - accuracy: 0.8795 - val_loss: 0.4082 - val_accuracy: 0.8590\n",
      "Epoch 2/10\n",
      "55000/55000 [==============================] - 4s 80us/sample - loss: 0.3373 - accuracy: 0.8796 - val_loss: 0.3974 - val_accuracy: 0.8650\n",
      "Epoch 3/10\n",
      "55000/55000 [==============================] - 4s 81us/sample - loss: 0.3344 - accuracy: 0.8814 - val_loss: 0.3960 - val_accuracy: 0.8656\n",
      "Epoch 4/10\n",
      "55000/55000 [==============================] - 4s 81us/sample - loss: 0.3332 - accuracy: 0.8806 - val_loss: 0.4006 - val_accuracy: 0.8640\n",
      "Epoch 5/10\n",
      "55000/55000 [==============================] - 4s 81us/sample - loss: 0.3308 - accuracy: 0.8803 - val_loss: 0.3961 - val_accuracy: 0.8624\n",
      "Epoch 6/10\n",
      "55000/55000 [==============================] - 5s 82us/sample - loss: 0.3294 - accuracy: 0.8811 - val_loss: 0.4079 - val_accuracy: 0.8602\n",
      "Epoch 7/10\n",
      "55000/55000 [==============================] - 4s 79us/sample - loss: 0.3268 - accuracy: 0.8817 - val_loss: 0.4058 - val_accuracy: 0.8620\n",
      "Epoch 8/10\n",
      "55000/55000 [==============================] - 4s 80us/sample - loss: 0.3254 - accuracy: 0.8824 - val_loss: 0.3859 - val_accuracy: 0.8674\n",
      "Epoch 9/10\n",
      "55000/55000 [==============================] - 4s 82us/sample - loss: 0.3258 - accuracy: 0.8825 - val_loss: 0.3902 - val_accuracy: 0.8678\n",
      "Epoch 10/10\n",
      "55000/55000 [==============================] - 4s 80us/sample - loss: 0.3241 - accuracy: 0.8821 - val_loss: 0.4058 - val_accuracy: 0.8650\n"
     ]
    }
   ],
   "source": [
    "history=model.fit(X_train, y_train, epochs=10, validation_data=(X_valid, y_valid))"
   ]
  },
  {
   "cell_type": "markdown",
   "id": "5a47d8e8",
   "metadata": {},
   "source": [
    "# Adamax\n",
    "### 그레디언트 제곱 누적시 1-B^inf를 이용해 결과적으로 이전 누적 기울기 혹은 현재 기울기만 사용하는거 같은데..."
   ]
  },
  {
   "cell_type": "code",
   "execution_count": 55,
   "id": "908f39c0",
   "metadata": {},
   "outputs": [],
   "source": [
    "model.compile(loss=\"sparse_categorical_crossentropy\",\n",
    "    optimizer = keras.optimizers.Adamax(learning_rate=0.001, beta_1=0.9, beta_2=0.999),\n",
    "                            metrics=[\"accuracy\"])"
   ]
  },
  {
   "cell_type": "code",
   "execution_count": 56,
   "id": "59139a88",
   "metadata": {},
   "outputs": [
    {
     "name": "stdout",
     "output_type": "stream",
     "text": [
      "Train on 55000 samples, validate on 5000 samples\n",
      "Epoch 1/10\n",
      "55000/55000 [==============================] - 5s 87us/sample - loss: 0.3072 - accuracy: 0.8889 - val_loss: 0.3868 - val_accuracy: 0.8676\n",
      "Epoch 2/10\n",
      "55000/55000 [==============================] - 5s 82us/sample - loss: 0.3056 - accuracy: 0.8898 - val_loss: 0.3858 - val_accuracy: 0.8670\n",
      "Epoch 3/10\n",
      "55000/55000 [==============================] - 5s 83us/sample - loss: 0.3049 - accuracy: 0.8898 - val_loss: 0.3871 - val_accuracy: 0.8668\n",
      "Epoch 4/10\n",
      "55000/55000 [==============================] - 5s 85us/sample - loss: 0.3045 - accuracy: 0.8901 - val_loss: 0.3910 - val_accuracy: 0.8674\n",
      "Epoch 5/10\n",
      "55000/55000 [==============================] - 5s 82us/sample - loss: 0.3040 - accuracy: 0.8904 - val_loss: 0.3896 - val_accuracy: 0.8654\n",
      "Epoch 6/10\n",
      "55000/55000 [==============================] - 5s 84us/sample - loss: 0.3039 - accuracy: 0.8911 - val_loss: 0.3892 - val_accuracy: 0.8668\n",
      "Epoch 7/10\n",
      "55000/55000 [==============================] - 4s 82us/sample - loss: 0.3038 - accuracy: 0.8901 - val_loss: 0.3880 - val_accuracy: 0.8670\n",
      "Epoch 8/10\n",
      "55000/55000 [==============================] - 5s 82us/sample - loss: 0.3042 - accuracy: 0.8906 - val_loss: 0.3849 - val_accuracy: 0.8668\n",
      "Epoch 9/10\n",
      "55000/55000 [==============================] - 5s 82us/sample - loss: 0.3028 - accuracy: 0.8909 - val_loss: 0.3871 - val_accuracy: 0.8670\n",
      "Epoch 10/10\n",
      "55000/55000 [==============================] - 4s 81us/sample - loss: 0.3030 - accuracy: 0.8909 - val_loss: 0.3902 - val_accuracy: 0.8694\n"
     ]
    }
   ],
   "source": [
    "history=model.fit(X_train, y_train, epochs=10, validation_data=(X_valid, y_valid))"
   ]
  },
  {
   "cell_type": "markdown",
   "id": "5531c962",
   "metadata": {},
   "source": [
    "# 학습률 스케쥴링 "
   ]
  },
  {
   "cell_type": "markdown",
   "id": "4167f3cf",
   "metadata": {},
   "source": [
    "# 거듭제곱 기반 스케줄링"
   ]
  },
  {
   "cell_type": "code",
   "execution_count": 58,
   "id": "cf967594",
   "metadata": {},
   "outputs": [],
   "source": [
    "optimizer = keras.optimizers.SGD(learning_rate=0.01, decay=1e-4)"
   ]
  },
  {
   "cell_type": "code",
   "execution_count": 59,
   "id": "66bc4332",
   "metadata": {},
   "outputs": [],
   "source": [
    "model = keras.models.Sequential([\n",
    "    keras.layers.Flatten(input_shape=[28, 28]),\n",
    "    keras.layers.Dense(300, activation=\"selu\", kernel_initializer=\"lecun_normal\"),\n",
    "    keras.layers.Dense(100, activation=\"selu\", kernel_initializer=\"lecun_normal\"),\n",
    "    keras.layers.Dense(10, activation=\"softmax\")\n",
    "])\n",
    "model.compile(loss=\"sparse_categorical_crossentropy\", optimizer=optimizer, metrics=[\"accuracy\"])"
   ]
  },
  {
   "cell_type": "code",
   "execution_count": 74,
   "id": "988e34d3",
   "metadata": {},
   "outputs": [
    {
     "name": "stdout",
     "output_type": "stream",
     "text": [
      "Train on 55000 samples, validate on 5000 samples\n",
      "Epoch 1/25\n",
      "55000/55000 [==============================] - 5s 91us/sample - loss: 0.3024 - accuracy: 0.8936 - val_loss: 0.3409 - val_accuracy: 0.8766\n",
      "Epoch 2/25\n",
      "55000/55000 [==============================] - 4s 76us/sample - loss: 0.3024 - accuracy: 0.8936 - val_loss: 0.3407 - val_accuracy: 0.8766\n",
      "Epoch 3/25\n",
      "55000/55000 [==============================] - 4s 77us/sample - loss: 0.3023 - accuracy: 0.8939 - val_loss: 0.3410 - val_accuracy: 0.8774\n",
      "Epoch 4/25\n",
      "55000/55000 [==============================] - 4s 76us/sample - loss: 0.3023 - accuracy: 0.8937 - val_loss: 0.3407 - val_accuracy: 0.8772\n",
      "Epoch 5/25\n",
      "55000/55000 [==============================] - 4s 78us/sample - loss: 0.3022 - accuracy: 0.8935 - val_loss: 0.3408 - val_accuracy: 0.8768\n",
      "Epoch 6/25\n",
      "55000/55000 [==============================] - 4s 78us/sample - loss: 0.3022 - accuracy: 0.8935 - val_loss: 0.3406 - val_accuracy: 0.8774\n",
      "Epoch 7/25\n",
      "55000/55000 [==============================] - 4s 81us/sample - loss: 0.3021 - accuracy: 0.8936 - val_loss: 0.3412 - val_accuracy: 0.8774\n",
      "Epoch 8/25\n",
      "55000/55000 [==============================] - 4s 80us/sample - loss: 0.3021 - accuracy: 0.8934 - val_loss: 0.3407 - val_accuracy: 0.8774\n",
      "Epoch 9/25\n",
      "55000/55000 [==============================] - 4s 78us/sample - loss: 0.3020 - accuracy: 0.8935 - val_loss: 0.3407 - val_accuracy: 0.8768\n",
      "Epoch 10/25\n",
      "55000/55000 [==============================] - 4s 79us/sample - loss: 0.3020 - accuracy: 0.8935 - val_loss: 0.3407 - val_accuracy: 0.8764\n",
      "Epoch 11/25\n",
      "55000/55000 [==============================] - 4s 81us/sample - loss: 0.3019 - accuracy: 0.8939 - val_loss: 0.3407 - val_accuracy: 0.8766\n",
      "Epoch 12/25\n",
      "55000/55000 [==============================] - 4s 80us/sample - loss: 0.3019 - accuracy: 0.8935 - val_loss: 0.3409 - val_accuracy: 0.8772\n",
      "Epoch 13/25\n",
      "55000/55000 [==============================] - 4s 78us/sample - loss: 0.3019 - accuracy: 0.8937 - val_loss: 0.3406 - val_accuracy: 0.8762\n",
      "Epoch 14/25\n",
      "55000/55000 [==============================] - 4s 79us/sample - loss: 0.3018 - accuracy: 0.8938 - val_loss: 0.3409 - val_accuracy: 0.8774\n",
      "Epoch 15/25\n",
      "55000/55000 [==============================] - 4s 79us/sample - loss: 0.3018 - accuracy: 0.8939 - val_loss: 0.3406 - val_accuracy: 0.8764\n",
      "Epoch 16/25\n",
      "55000/55000 [==============================] - 4s 79us/sample - loss: 0.3017 - accuracy: 0.8937 - val_loss: 0.3406 - val_accuracy: 0.8762\n",
      "Epoch 17/25\n",
      "55000/55000 [==============================] - 4s 80us/sample - loss: 0.3017 - accuracy: 0.8936 - val_loss: 0.3405 - val_accuracy: 0.8764\n",
      "Epoch 18/25\n",
      "55000/55000 [==============================] - 4s 79us/sample - loss: 0.3017 - accuracy: 0.8939 - val_loss: 0.3408 - val_accuracy: 0.8768\n",
      "Epoch 19/25\n",
      "55000/55000 [==============================] - 4s 78us/sample - loss: 0.3017 - accuracy: 0.8941 - val_loss: 0.3405 - val_accuracy: 0.8772\n",
      "Epoch 20/25\n",
      "55000/55000 [==============================] - 4s 79us/sample - loss: 0.3016 - accuracy: 0.8939 - val_loss: 0.3405 - val_accuracy: 0.8770\n",
      "Epoch 21/25\n",
      "55000/55000 [==============================] - 4s 80us/sample - loss: 0.3016 - accuracy: 0.8939 - val_loss: 0.3404 - val_accuracy: 0.8774\n",
      "Epoch 22/25\n",
      "55000/55000 [==============================] - 4s 80us/sample - loss: 0.3015 - accuracy: 0.8939 - val_loss: 0.3407 - val_accuracy: 0.8770\n",
      "Epoch 23/25\n",
      "55000/55000 [==============================] - 4s 82us/sample - loss: 0.3014 - accuracy: 0.8939 - val_loss: 0.3404 - val_accuracy: 0.8766\n",
      "Epoch 24/25\n",
      "55000/55000 [==============================] - 4s 81us/sample - loss: 0.3014 - accuracy: 0.8940 - val_loss: 0.3403 - val_accuracy: 0.8766\n",
      "Epoch 25/25\n",
      "55000/55000 [==============================] - 4s 81us/sample - loss: 0.3014 - accuracy: 0.8938 - val_loss: 0.3405 - val_accuracy: 0.8772\n"
     ]
    }
   ],
   "source": [
    "n_epochs = 25\n",
    "history = model.fit(X_train, y_train, epochs=n_epochs,\n",
    "                    validation_data=(X_valid, y_valid))"
   ]
  },
  {
   "cell_type": "markdown",
   "id": "c363e39f",
   "metadata": {},
   "source": [
    "# 지수기반 스케줄링 \n",
    "### s스텝마다 학습률이 lr0의 1/10이 된다 한번에가 아니라 순차적으로 변해서"
   ]
  },
  {
   "cell_type": "code",
   "execution_count": 62,
   "id": "cfeebed4",
   "metadata": {},
   "outputs": [],
   "source": [
    "def exponential_decay_fn(epoch):\n",
    "    return 0.01 * 0.1**(epoch/20)"
   ]
  },
  {
   "cell_type": "code",
   "execution_count": 65,
   "id": "217c04e7",
   "metadata": {},
   "outputs": [],
   "source": [
    "def exponential_decay(lr0, s):\n",
    "    def exponential_decay_fn(epoch):\n",
    "        return lr0*0.1**(epoch/s)\n",
    "    return exponential_decay_fn\n",
    "\n",
    "exponential_decay_fn = exponential_decay(lr0=0.01, s=20)"
   ]
  },
  {
   "cell_type": "code",
   "execution_count": 72,
   "id": "b96597cc",
   "metadata": {},
   "outputs": [
    {
     "name": "stdout",
     "output_type": "stream",
     "text": [
      "Train on 55000 samples, validate on 5000 samples\n",
      "Epoch 1/25\n",
      "55000/55000 [==============================] - 3s 64us/sample - loss: 0.3171 - accuracy: 0.8875 - val_loss: 0.3457 - val_accuracy: 0.8744\n",
      "Epoch 2/25\n",
      "55000/55000 [==============================] - 4s 79us/sample - loss: 0.3151 - accuracy: 0.8883 - val_loss: 0.3498 - val_accuracy: 0.8738\n",
      "Epoch 3/25\n",
      "55000/55000 [==============================] - 4s 78us/sample - loss: 0.3131 - accuracy: 0.8895 - val_loss: 0.3475 - val_accuracy: 0.8728\n",
      "Epoch 4/25\n",
      "55000/55000 [==============================] - 4s 81us/sample - loss: 0.3119 - accuracy: 0.8888 - val_loss: 0.3455 - val_accuracy: 0.8734\n",
      "Epoch 5/25\n",
      "55000/55000 [==============================] - 4s 80us/sample - loss: 0.3105 - accuracy: 0.8899 - val_loss: 0.3441 - val_accuracy: 0.8762\n",
      "Epoch 6/25\n",
      "55000/55000 [==============================] - 4s 77us/sample - loss: 0.3095 - accuracy: 0.8907 - val_loss: 0.3426 - val_accuracy: 0.8758\n",
      "Epoch 7/25\n",
      "55000/55000 [==============================] - 4s 82us/sample - loss: 0.3084 - accuracy: 0.8907 - val_loss: 0.3443 - val_accuracy: 0.8756\n",
      "Epoch 8/25\n",
      "55000/55000 [==============================] - 5s 83us/sample - loss: 0.3076 - accuracy: 0.8908 - val_loss: 0.3437 - val_accuracy: 0.8760\n",
      "Epoch 9/25\n",
      "55000/55000 [==============================] - 5s 83us/sample - loss: 0.3069 - accuracy: 0.8921 - val_loss: 0.3426 - val_accuracy: 0.8764\n",
      "Epoch 10/25\n",
      "55000/55000 [==============================] - 5s 84us/sample - loss: 0.3061 - accuracy: 0.8916 - val_loss: 0.3428 - val_accuracy: 0.8766\n",
      "Epoch 11/25\n",
      "55000/55000 [==============================] - 5s 86us/sample - loss: 0.3057 - accuracy: 0.8917 - val_loss: 0.3428 - val_accuracy: 0.8766\n",
      "Epoch 12/25\n",
      "55000/55000 [==============================] - 5s 84us/sample - loss: 0.3050 - accuracy: 0.8929 - val_loss: 0.3422 - val_accuracy: 0.8742\n",
      "Epoch 13/25\n",
      "55000/55000 [==============================] - 4s 80us/sample - loss: 0.3048 - accuracy: 0.8920 - val_loss: 0.3424 - val_accuracy: 0.8774\n",
      "Epoch 14/25\n",
      "55000/55000 [==============================] - 5s 83us/sample - loss: 0.3044 - accuracy: 0.8925 - val_loss: 0.3416 - val_accuracy: 0.8750\n",
      "Epoch 15/25\n",
      "55000/55000 [==============================] - 4s 80us/sample - loss: 0.3041 - accuracy: 0.8925 - val_loss: 0.3416 - val_accuracy: 0.8746\n",
      "Epoch 16/25\n",
      "55000/55000 [==============================] - 4s 79us/sample - loss: 0.3037 - accuracy: 0.8928 - val_loss: 0.3416 - val_accuracy: 0.8774\n",
      "Epoch 17/25\n",
      "55000/55000 [==============================] - 4s 81us/sample - loss: 0.3036 - accuracy: 0.8928 - val_loss: 0.3411 - val_accuracy: 0.8772\n",
      "Epoch 18/25\n",
      "55000/55000 [==============================] - 4s 81us/sample - loss: 0.3034 - accuracy: 0.8932 - val_loss: 0.3409 - val_accuracy: 0.8756\n",
      "Epoch 19/25\n",
      "55000/55000 [==============================] - 4s 82us/sample - loss: 0.3031 - accuracy: 0.8931 - val_loss: 0.3408 - val_accuracy: 0.8752\n",
      "Epoch 20/25\n",
      "55000/55000 [==============================] - 4s 79us/sample - loss: 0.3031 - accuracy: 0.8928 - val_loss: 0.3409 - val_accuracy: 0.8772\n",
      "Epoch 21/25\n",
      "55000/55000 [==============================] - 4s 80us/sample - loss: 0.3029 - accuracy: 0.8934 - val_loss: 0.3412 - val_accuracy: 0.8772\n",
      "Epoch 22/25\n",
      "55000/55000 [==============================] - 4s 80us/sample - loss: 0.3028 - accuracy: 0.8935 - val_loss: 0.3411 - val_accuracy: 0.8772\n",
      "Epoch 23/25\n",
      "55000/55000 [==============================] - 4s 78us/sample - loss: 0.3027 - accuracy: 0.8938 - val_loss: 0.3411 - val_accuracy: 0.8774\n",
      "Epoch 24/25\n",
      "55000/55000 [==============================] - 4s 79us/sample - loss: 0.3025 - accuracy: 0.8933 - val_loss: 0.3412 - val_accuracy: 0.8768\n",
      "Epoch 25/25\n",
      "55000/55000 [==============================] - 4s 79us/sample - loss: 0.3025 - accuracy: 0.8932 - val_loss: 0.3413 - val_accuracy: 0.8768\n"
     ]
    }
   ],
   "source": [
    "lr_scheduler = keras.callbacks.LearningRateScheduler(exponential_decay_fn)\n",
    "history = model.fit(X_train, y_train, validation_data=(X_valid, y_valid), callbacks=[lr_scheduler],  epochs=n_epochs)"
   ]
  },
  {
   "cell_type": "code",
   "execution_count": 73,
   "id": "6f0fad61",
   "metadata": {},
   "outputs": [
    {
     "data": {
      "image/png": "[encoded data removed]",
      "text/plain": [
       "<Figure size 432x288 with 1 Axes>"
      ]
     },
     "metadata": {
      "needs_background": "light"
     },
     "output_type": "display_data"
    }
   ],
   "source": [
    "plt.plot(history.epoch, history.history[\"lr\"], \"o-\")\n",
    "plt.axis([0, n_epochs - 1, 0, 0.011])\n",
    "plt.xlabel(\"Epoch\")\n",
    "plt.ylabel(\"Learning Rate\")\n",
    "plt.title(\"Exponential Scheduling\", fontsize=14)\n",
    "plt.grid(True)\n",
    "plt.show()"
   ]
  },
  {
   "cell_type": "markdown",
   "id": "27dfbc7f",
   "metadata": {},
   "source": [
    "# tf.keras.schedules"
   ]
  },
  {
   "cell_type": "code",
   "execution_count": 82,
   "id": "9bed69ba",
   "metadata": {},
   "outputs": [],
   "source": [
    "s = 20 * len(X_train)//32\n",
    "learning_rate = keras.optimizers.schedules.ExponentialDecay(0.01, s, 0.1)\n",
    "optimizer = keras.optimizers.SGD(learning_rate)"
   ]
  },
  {
   "cell_type": "code",
   "execution_count": 85,
   "id": "748a3a33",
   "metadata": {},
   "outputs": [
    {
     "name": "stdout",
     "output_type": "stream",
     "text": [
      "Train on 55000 samples, validate on 5000 samples\n",
      "Epoch 1/25\n",
      "55000/55000 [==============================] - 4s 75us/sample - loss: 0.3340 - accuracy: 0.8791 - val_loss: 0.3681 - val_accuracy: 0.8702\n",
      "Epoch 2/25\n",
      "55000/55000 [==============================] - 4s 78us/sample - loss: 0.3199 - accuracy: 0.8845 - val_loss: 0.3402 - val_accuracy: 0.8748\n",
      "Epoch 3/25\n",
      "55000/55000 [==============================] - 4s 77us/sample - loss: 0.3118 - accuracy: 0.8866 - val_loss: 0.3412 - val_accuracy: 0.8796\n",
      "Epoch 4/25\n",
      "55000/55000 [==============================] - 4s 77us/sample - loss: 0.3036 - accuracy: 0.8907 - val_loss: 0.3377 - val_accuracy: 0.8774\n",
      "Epoch 5/25\n",
      "55000/55000 [==============================] - 4s 77us/sample - loss: 0.2990 - accuracy: 0.8907 - val_loss: 0.3342 - val_accuracy: 0.8806\n",
      "Epoch 6/25\n",
      "55000/55000 [==============================] - 4s 78us/sample - loss: 0.2928 - accuracy: 0.8948 - val_loss: 0.3253 - val_accuracy: 0.8806\n",
      "Epoch 7/25\n",
      "55000/55000 [==============================] - 4s 79us/sample - loss: 0.2892 - accuracy: 0.8951 - val_loss: 0.3304 - val_accuracy: 0.8790\n",
      "Epoch 8/25\n",
      "55000/55000 [==============================] - 5s 83us/sample - loss: 0.2848 - accuracy: 0.8983 - val_loss: 0.3272 - val_accuracy: 0.8824\n",
      "Epoch 9/25\n",
      "55000/55000 [==============================] - 5s 85us/sample - loss: 0.2814 - accuracy: 0.8999 - val_loss: 0.3250 - val_accuracy: 0.8826\n",
      "Epoch 10/25\n",
      "55000/55000 [==============================] - 4s 81us/sample - loss: 0.2783 - accuracy: 0.9009 - val_loss: 0.3252 - val_accuracy: 0.8800\n",
      "Epoch 11/25\n",
      "55000/55000 [==============================] - 4s 79us/sample - loss: 0.2755 - accuracy: 0.9007 - val_loss: 0.3265 - val_accuracy: 0.8790\n",
      "Epoch 12/25\n",
      "55000/55000 [==============================] - 4s 80us/sample - loss: 0.2734 - accuracy: 0.9017 - val_loss: 0.3226 - val_accuracy: 0.8814\n",
      "Epoch 13/25\n",
      "55000/55000 [==============================] - 4s 78us/sample - loss: 0.2712 - accuracy: 0.9028 - val_loss: 0.3302 - val_accuracy: 0.8780\n",
      "Epoch 14/25\n",
      "55000/55000 [==============================] - 4s 78us/sample - loss: 0.2695 - accuracy: 0.9038 - val_loss: 0.3237 - val_accuracy: 0.8836\n",
      "Epoch 15/25\n",
      "55000/55000 [==============================] - 4s 78us/sample - loss: 0.2674 - accuracy: 0.9048 - val_loss: 0.3248 - val_accuracy: 0.8808\n",
      "Epoch 16/25\n",
      "55000/55000 [==============================] - 4s 79us/sample - loss: 0.2661 - accuracy: 0.9056 - val_loss: 0.3249 - val_accuracy: 0.8806\n",
      "Epoch 17/25\n",
      "55000/55000 [==============================] - 4s 79us/sample - loss: 0.2649 - accuracy: 0.9056 - val_loss: 0.3226 - val_accuracy: 0.8820\n",
      "Epoch 18/25\n",
      "55000/55000 [==============================] - 4s 80us/sample - loss: 0.2633 - accuracy: 0.9070 - val_loss: 0.3176 - val_accuracy: 0.8836\n",
      "Epoch 19/25\n",
      "55000/55000 [==============================] - 4s 80us/sample - loss: 0.2624 - accuracy: 0.9066 - val_loss: 0.3176 - val_accuracy: 0.8846\n",
      "Epoch 20/25\n",
      "55000/55000 [==============================] - 4s 79us/sample - loss: 0.2616 - accuracy: 0.9073 - val_loss: 0.3164 - val_accuracy: 0.8854\n",
      "Epoch 21/25\n",
      "55000/55000 [==============================] - 4s 79us/sample - loss: 0.2606 - accuracy: 0.9082 - val_loss: 0.3201 - val_accuracy: 0.8850\n",
      "Epoch 22/25\n",
      "55000/55000 [==============================] - 4s 80us/sample - loss: 0.2599 - accuracy: 0.9080 - val_loss: 0.3192 - val_accuracy: 0.8836\n",
      "Epoch 23/25\n",
      "55000/55000 [==============================] - 4s 78us/sample - loss: 0.2592 - accuracy: 0.9083 - val_loss: 0.3164 - val_accuracy: 0.8854\n",
      "Epoch 24/25\n",
      "55000/55000 [==============================] - 4s 79us/sample - loss: 0.2585 - accuracy: 0.9079 - val_loss: 0.3182 - val_accuracy: 0.8852\n",
      "Epoch 25/25\n",
      "55000/55000 [==============================] - 4s 79us/sample - loss: 0.2580 - accuracy: 0.9088 - val_loss: 0.3172 - val_accuracy: 0.8834\n"
     ]
    }
   ],
   "source": [
    "optimizer = keras.optimizers.SGD(learning_rate)\n",
    "model.compile(loss=\"sparse_categorical_crossentropy\", optimizer=optimizer, metrics=[\"accuracy\"])\n",
    "n_epochs = 25\n",
    "history = model.fit(X_train, y_train, epochs=n_epochs,\n",
    "                    validation_data=(X_valid, y_valid))"
   ]
  },
  {
   "cell_type": "markdown",
   "id": "c8679774",
   "metadata": {},
   "source": [
    "#### 역겹게 스케쥴링 조정할 필요없이 같은 결과를 낸다"
   ]
  },
  {
   "cell_type": "markdown",
   "id": "6b573824",
   "metadata": {},
   "source": [
    "# l1 and l2 regulation"
   ]
  },
  {
   "cell_type": "code",
   "execution_count": 108,
   "id": "871d8e35",
   "metadata": {},
   "outputs": [],
   "source": [
    "layer = keras.layers.Dense(100, activation=\"elu\",\n",
    "                          kernel_initializer = \"he_normal\",\n",
    "                          kernel_regularizer = keras.regularizers.l2(0.01))"
   ]
  },
  {
   "cell_type": "code",
   "execution_count": 109,
   "id": "dacd2780",
   "metadata": {},
   "outputs": [
    {
     "name": "stdout",
     "output_type": "stream",
     "text": [
      "Train on 55000 samples, validate on 5000 samples\n",
      "Epoch 1/2\n",
      "55000/55000 [==============================] - 5s 93us/sample - loss: 0.4241 - accuracy: 0.8470 - val_loss: 0.3576 - val_accuracy: 0.8704\n",
      "Epoch 2/2\n",
      "55000/55000 [==============================] - 4s 76us/sample - loss: 0.3553 - accuracy: 0.8703 - val_loss: 0.3997 - val_accuracy: 0.8562\n"
     ]
    }
   ],
   "source": [
    "odel = keras.models.Sequential([\n",
    "    keras.layers.Flatten(input_shape=[28, 28]),\n",
    "    keras.layers.Dense(300, activation=\"elu\",\n",
    "                       kernel_initializer=\"he_normal\",\n",
    "                       kernel_regularizer=keras.regularizers.l2(0.01)),\n",
    "    keras.layers.Dense(100, activation=\"elu\",\n",
    "                       kernel_initializer=\"he_normal\",\n",
    "                       kernel_regularizer=keras.regularizers.l2(0.01)),\n",
    "    keras.layers.Dense(10, activation=\"softmax\",\n",
    "                       kernel_regularizer=keras.regularizers.l2(0.01))\n",
    "])\n",
    "model.compile(loss=\"sparse_categorical_crossentropy\", optimizer=\"nadam\", metrics=[\"accuracy\"])\n",
    "n_epochs = 2\n",
    "history = model.fit(X_train, y_train, epochs=n_epochs,\n",
    "                    validation_data=(X_valid, y_valid))"
   ]
  },
  {
   "cell_type": "markdown",
   "id": "747f3112",
   "metadata": {},
   "source": [
    "# 드롭아웃 "
   ]
  },
  {
   "cell_type": "code",
   "execution_count": 117,
   "id": "c3db3233",
   "metadata": {},
   "outputs": [],
   "source": [
    "pixel_means = X_train.mean(axis=0, keepdims=True)\n",
    "pixel_stds = X_train.std(axis=0, keepdims=True)\n",
    "X_train_scaled = (X_train - pixel_means) / pixel_stds\n",
    "X_valid_scaled = (X_valid - pixel_means) / pixel_stds\n",
    "X_test_scaled = (X_test - pixel_means) / pixel_stds"
   ]
  },
  {
   "cell_type": "code",
   "execution_count": 118,
   "id": "07fd2a02",
   "metadata": {},
   "outputs": [
    {
     "name": "stdout",
     "output_type": "stream",
     "text": [
      "Train on 55000 samples, validate on 5000 samples\n",
      "Epoch 1/10\n",
      "55000/55000 [==============================] - 6s 105us/sample - loss: 0.5817 - accuracy: 0.7871 - val_loss: 0.4275 - val_accuracy: 0.8424\n",
      "Epoch 2/10\n",
      "55000/55000 [==============================] - 5s 88us/sample - loss: 0.4555 - accuracy: 0.8306 - val_loss: 0.3535 - val_accuracy: 0.8716\n",
      "Epoch 3/10\n",
      "55000/55000 [==============================] - 5s 86us/sample - loss: 0.4216 - accuracy: 0.8444 - val_loss: 0.3512 - val_accuracy: 0.8658\n",
      "Epoch 4/10\n",
      "55000/55000 [==============================] - 5s 82us/sample - loss: 0.3978 - accuracy: 0.8518 - val_loss: 0.3448 - val_accuracy: 0.8696\n",
      "Epoch 5/10\n",
      "55000/55000 [==============================] - 5s 86us/sample - loss: 0.3823 - accuracy: 0.8577 - val_loss: 0.3409 - val_accuracy: 0.8726\n",
      "Epoch 6/10\n",
      "55000/55000 [==============================] - 5s 86us/sample - loss: 0.3688 - accuracy: 0.8626 - val_loss: 0.3323 - val_accuracy: 0.8778\n",
      "Epoch 7/10\n",
      "55000/55000 [==============================] - 5s 86us/sample - loss: 0.3614 - accuracy: 0.8642 - val_loss: 0.3319 - val_accuracy: 0.8772\n",
      "Epoch 8/10\n",
      "55000/55000 [==============================] - 5s 95us/sample - loss: 0.3564 - accuracy: 0.8671 - val_loss: 0.3197 - val_accuracy: 0.8798\n",
      "Epoch 9/10\n",
      "55000/55000 [==============================] - 5s 95us/sample - loss: 0.3450 - accuracy: 0.8719 - val_loss: 0.3091 - val_accuracy: 0.8906\n",
      "Epoch 10/10\n",
      "55000/55000 [==============================] - 5s 95us/sample - loss: 0.3399 - accuracy: 0.8726 - val_loss: 0.3097 - val_accuracy: 0.8900\n"
     ]
    }
   ],
   "source": [
    "model = keras.models.Sequential([\n",
    "    keras.layers.Flatten(input_shape=[28, 28]),\n",
    "    keras.layers.Dropout(rate=0.2),\n",
    "    keras.layers.Dense(300, activation=\"elu\", kernel_initializer=\"he_normal\"),\n",
    "    keras.layers.Dropout(rate=0.2),\n",
    "    keras.layers.Dense(100, activation=\"elu\", kernel_initializer=\"he_normal\"),\n",
    "    keras.layers.Dropout(rate=0.2),\n",
    "    keras.layers.Dense(10, activation=\"softmax\"),    \n",
    "])\n",
    "model.compile(loss=\"sparse_categorical_crossentropy\", optimizer=\"nadam\", metrics=[\"accuracy\"])\n",
    "n_epochs = 10\n",
    "history = model.fit(X_train, y_train, epochs=n_epochs,\n",
    "                    validation_data=(X_valid, y_valid))"
   ]
  },
  {
   "cell_type": "code",
   "execution_count": 119,
   "id": "f6400411",
   "metadata": {},
   "outputs": [
    {
     "name": "stdout",
     "output_type": "stream",
     "text": [
      "Train on 55000 samples, validate on 5000 samples\n",
      "Epoch 1/10\n",
      "55000/55000 [==============================] - 5s 94us/sample - loss: 0.4670 - accuracy: 0.8299 - val_loss: 0.3524 - val_accuracy: 0.8740\n",
      "Epoch 2/10\n",
      "55000/55000 [==============================] - 4s 78us/sample - loss: 0.3550 - accuracy: 0.8693 - val_loss: 0.3484 - val_accuracy: 0.8726\n",
      "Epoch 3/10\n",
      "55000/55000 [==============================] - 4s 78us/sample - loss: 0.3207 - accuracy: 0.8802 - val_loss: 0.3103 - val_accuracy: 0.8876\n",
      "Epoch 4/10\n",
      "55000/55000 [==============================] - 4s 79us/sample - loss: 0.2957 - accuracy: 0.8887 - val_loss: 0.3410 - val_accuracy: 0.8768\n",
      "Epoch 5/10\n",
      "55000/55000 [==============================] - 5s 82us/sample - loss: 0.2761 - accuracy: 0.8953 - val_loss: 0.3476 - val_accuracy: 0.8810\n",
      "Epoch 6/10\n",
      "55000/55000 [==============================] - 4s 78us/sample - loss: 0.2608 - accuracy: 0.9017 - val_loss: 0.3353 - val_accuracy: 0.8780\n",
      "Epoch 7/10\n",
      "55000/55000 [==============================] - 4s 75us/sample - loss: 0.2488 - accuracy: 0.9057 - val_loss: 0.3160 - val_accuracy: 0.8876\n",
      "Epoch 8/10\n",
      "55000/55000 [==============================] - 4s 81us/sample - loss: 0.2363 - accuracy: 0.9108 - val_loss: 0.3057 - val_accuracy: 0.8906\n",
      "Epoch 9/10\n",
      "55000/55000 [==============================] - 5s 82us/sample - loss: 0.2254 - accuracy: 0.9141 - val_loss: 0.3041 - val_accuracy: 0.8970\n",
      "Epoch 10/10\n",
      "55000/55000 [==============================] - 5s 90us/sample - loss: 0.2177 - accuracy: 0.9173 - val_loss: 0.3373 - val_accuracy: 0.8848\n"
     ]
    }
   ],
   "source": [
    "model = keras.models.Sequential([\n",
    "    keras.layers.Flatten(input_shape=[28, 28]),\n",
    "    keras.layers.Dense(300, activation=\"elu\", kernel_initializer=\"he_normal\"),\n",
    "    keras.layers.Dense(100, activation=\"elu\", kernel_initializer=\"he_normal\"),\n",
    "    keras.layers.Dense(10, activation=\"softmax\"),    \n",
    "])\n",
    "model.compile(loss=\"sparse_categorical_crossentropy\", optimizer=\"nadam\", metrics=[\"accuracy\"])\n",
    "n_epochs = 10\n",
    "history = model.fit(X_train, y_train, epochs=n_epochs,\n",
    "                    validation_data=(X_valid, y_valid))"
   ]
  },
  {
   "cell_type": "code",
   "execution_count": null,
   "id": "e679c5a0",
   "metadata": {},
   "outputs": [],
   "source": []
  }
 ],
 "metadata": {
  "kernelspec": {
   "display_name": "Python 3",
   "language": "python",
   "name": "python3"
  },
  "language_info": {
   "codemirror_mode": {
    "name": "ipython",
    "version": 3
   },
   "file_extension": ".py",
   "mimetype": "text/x-python",
   "name": "python",
   "nbconvert_exporter": "python",
   "pygments_lexer": "ipython3",
   "version": "3.6.8"
  }
 },
 "nbformat": 4,
 "nbformat_minor": 5
}
