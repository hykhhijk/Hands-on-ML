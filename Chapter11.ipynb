{
 "cells": [
  {
   "cell_type": "code",
   "execution_count": 3,
   "id": "251cea78",
   "metadata": {},
   "outputs": [],
   "source": [
    "import numpy as np\n",
    "import pandas as pd\n",
    "import tensorflow as tf\n",
    "from tensorflow import keras\n",
    "import matplotlib.pyplot as plt\n",
    "import seaborn as sns"
   ]
  },
  {
   "cell_type": "code",
   "execution_count": 4,
   "id": "9a7ef7bd",
   "metadata": {},
   "outputs": [
    {
     "data": {
      "text/plain": [
       "<keras.layers.core.Dense at 0x265c20e08b0>"
      ]
     },
     "execution_count": 4,
     "metadata": {},
     "output_type": "execute_result"
    }
   ],
   "source": [
    "keras.layers.Dense(10, activation=\"relu\", kernel_initializer=\"he_normal\")"
   ]
  },
  {
   "cell_type": "code",
   "execution_count": 6,
   "id": "d1294c48",
   "metadata": {},
   "outputs": [
    {
     "data": {
      "text/plain": [
       "<keras.layers.core.Dense at 0x265c1e68130>"
      ]
     },
     "execution_count": 6,
     "metadata": {},
     "output_type": "execute_result"
    }
   ],
   "source": [
    "he_avg_init = keras.initializers.VarianceScaling(scale=2., mode=\"fan_avg\", distribution=\"uniform\")\n",
    "keras.layers.Dense(10, activation=\"sigmoid\", kernel_initializer=he_avg_init)"
   ]
  },
  {
   "cell_type": "code",
   "execution_count": 7,
   "id": "3a6352fc",
   "metadata": {},
   "outputs": [],
   "source": [
    "(X_train_full, y_train_full), (X_test, y_test) = keras.datasets.fashion_mnist.load_data()\n",
    "X_train_full = X_train_full / 255.0\n",
    "X_test = X_test / 255.0\n",
    "X_valid, X_train = X_train_full[:5000], X_train_full[5000:]\n",
    "y_valid, y_train = y_train_full[:5000], y_train_full[5000:]"
   ]
  },
  {
   "cell_type": "code",
   "execution_count": 24,
   "id": "e40f762f",
   "metadata": {},
   "outputs": [],
   "source": [
    "model = keras.models.Sequential([\n",
    "    keras.layers.Flatten(input_shape=list(X_train[0].shape)),\n",
    "    keras.layers.Dense(10, kernel_initializer=\"he_normal\"),\n",
    "    keras.layers.LeakyReLU(alpha=0.2),\n",
    "    keras.layers.Dense(10, activation=\"softmax\")\n",
    "])"
   ]
  },
  {
   "cell_type": "code",
   "execution_count": 25,
   "id": "53b0d99e",
   "metadata": {},
   "outputs": [],
   "source": [
    "model.compile(loss=\"sparse_categorical_crossentropy\",\n",
    "              optimizer=keras.optimizers.SGD(learning_rate=1e-3),\n",
    "              metrics=[\"accuracy\"])"
   ]
  },
  {
   "cell_type": "code",
   "execution_count": 26,
   "id": "23d9a6db",
   "metadata": {},
   "outputs": [
    {
     "name": "stdout",
     "output_type": "stream",
     "text": [
      "Epoch 1/10\n",
      "1719/1719 [==============================] - 1s 616us/step - loss: 1.8736 - accuracy: 0.3252 - val_loss: 1.5711 - val_accuracy: 0.4102\n",
      "Epoch 2/10\n",
      "1719/1719 [==============================] - 1s 541us/step - loss: 1.4223 - accuracy: 0.4679 - val_loss: 1.2765 - val_accuracy: 0.5588\n",
      "Epoch 3/10\n",
      "1719/1719 [==============================] - 1s 534us/step - loss: 1.1683 - accuracy: 0.6046 - val_loss: 1.0536 - val_accuracy: 0.6588\n",
      "Epoch 4/10\n",
      "1719/1719 [==============================] - 1s 533us/step - loss: 0.9903 - accuracy: 0.6749 - val_loss: 0.9215 - val_accuracy: 0.6910\n",
      "Epoch 5/10\n",
      "1719/1719 [==============================] - 1s 531us/step - loss: 0.8882 - accuracy: 0.6952 - val_loss: 0.8429 - val_accuracy: 0.7128\n",
      "Epoch 6/10\n",
      "1719/1719 [==============================] - 1s 588us/step - loss: 0.8231 - accuracy: 0.7152 - val_loss: 0.7880 - val_accuracy: 0.7258\n",
      "Epoch 7/10\n",
      "1719/1719 [==============================] - 1s 556us/step - loss: 0.7770 - accuracy: 0.7287 - val_loss: 0.7491 - val_accuracy: 0.7400\n",
      "Epoch 8/10\n",
      "1719/1719 [==============================] - 1s 543us/step - loss: 0.7425 - accuracy: 0.7413 - val_loss: 0.7185 - val_accuracy: 0.7534\n",
      "Epoch 9/10\n",
      "1719/1719 [==============================] - 1s 541us/step - loss: 0.7148 - accuracy: 0.7521 - val_loss: 0.6930 - val_accuracy: 0.7628\n",
      "Epoch 10/10\n",
      "1719/1719 [==============================] - 1s 540us/step - loss: 0.6912 - accuracy: 0.7627 - val_loss: 0.6717 - val_accuracy: 0.7716\n"
     ]
    }
   ],
   "source": [
    "history=model.fit(X_train, y_train, epochs=10, validation_data=(X_valid, y_valid))"
   ]
  },
  {
   "cell_type": "code",
   "execution_count": 28,
   "id": "a4a81421",
   "metadata": {},
   "outputs": [],
   "source": [
    "model = keras.models.Sequential([\n",
    "    keras.layers.Flatten(input_shape=list(X_train[0].shape)),\n",
    "    keras.layers.Dense(10, activation=\"selu\", kernel_initializer=\"lecun_normal\"),\n",
    "    keras.layers.LeakyReLU(alpha=0.2),\n",
    "    keras.layers.Dense(10, activation=\"softmax\")\n",
    "])"
   ]
  },
  {
   "cell_type": "code",
   "execution_count": 29,
   "id": "171ed56b",
   "metadata": {},
   "outputs": [],
   "source": [
    "model.compile(loss=\"sparse_categorical_crossentropy\",\n",
    "              optimizer=keras.optimizers.SGD(learning_rate=1e-3),\n",
    "              metrics=[\"accuracy\"])"
   ]
  },
  {
   "cell_type": "code",
   "execution_count": 30,
   "id": "6e8b7776",
   "metadata": {},
   "outputs": [
    {
     "name": "stdout",
     "output_type": "stream",
     "text": [
      "Epoch 1/10\n",
      "1719/1719 [==============================] - 1s 635us/step - loss: 1.7524 - accuracy: 0.4281 - val_loss: 1.4216 - val_accuracy: 0.6070\n",
      "Epoch 2/10\n",
      "1719/1719 [==============================] - 1s 542us/step - loss: 1.2497 - accuracy: 0.6319 - val_loss: 1.0774 - val_accuracy: 0.6598\n",
      "Epoch 3/10\n",
      "1719/1719 [==============================] - 1s 560us/step - loss: 0.9975 - accuracy: 0.6624 - val_loss: 0.9104 - val_accuracy: 0.6784\n",
      "Epoch 4/10\n",
      "1719/1719 [==============================] - 1s 552us/step - loss: 0.8795 - accuracy: 0.6831 - val_loss: 0.8303 - val_accuracy: 0.6972\n",
      "Epoch 5/10\n",
      "1719/1719 [==============================] - 1s 612us/step - loss: 0.8144 - accuracy: 0.7003 - val_loss: 0.7807 - val_accuracy: 0.7134\n",
      "Epoch 6/10\n",
      "1719/1719 [==============================] - 1s 585us/step - loss: 0.7715 - accuracy: 0.7165 - val_loss: 0.7453 - val_accuracy: 0.7292\n",
      "Epoch 7/10\n",
      "1719/1719 [==============================] - 1s 581us/step - loss: 0.7380 - accuracy: 0.7307 - val_loss: 0.7161 - val_accuracy: 0.7446\n",
      "Epoch 8/10\n",
      "1719/1719 [==============================] - 1s 559us/step - loss: 0.7097 - accuracy: 0.7447 - val_loss: 0.6912 - val_accuracy: 0.7602\n",
      "Epoch 9/10\n",
      "1719/1719 [==============================] - 1s 576us/step - loss: 0.6852 - accuracy: 0.7583 - val_loss: 0.6676 - val_accuracy: 0.7688\n",
      "Epoch 10/10\n",
      "1719/1719 [==============================] - 1s 576us/step - loss: 0.6633 - accuracy: 0.7686 - val_loss: 0.6470 - val_accuracy: 0.7806\n"
     ]
    }
   ],
   "source": [
    "history=model.fit(X_train, y_train, epochs=10, validation_data=(X_valid, y_valid))"
   ]
  },
  {
   "cell_type": "code",
   "execution_count": 33,
   "id": "6712d7af",
   "metadata": {},
   "outputs": [],
   "source": [
    "model = keras.models.Sequential([\n",
    "    keras.layers.Flatten(input_shape=[28, 28]),\n",
    "    keras.layers.BatchNormalization(),\n",
    "    keras.layers.Dense(300, activation=\"elu\", kernel_initializer=\"he_normal\"),\n",
    "    keras.layers.BatchNormalization(),\n",
    "    keras.layers.Dense(100, activation=\"elu\", kernel_initializer=\"he_normal\"),\n",
    "    keras.layers.BatchNormalization(),\n",
    "    keras.layers.Dense(10, activation=\"softmax\"),\n",
    "])"
   ]
  },
  {
   "cell_type": "code",
   "execution_count": 35,
   "id": "e559d842",
   "metadata": {},
   "outputs": [
    {
     "name": "stdout",
     "output_type": "stream",
     "text": [
      "Model: \"sequential_5\"\n",
      "_________________________________________________________________\n",
      "Layer (type)                 Output Shape              Param #   \n",
      "=================================================================\n",
      "flatten_6 (Flatten)          (None, 784)               0         \n",
      "_________________________________________________________________\n",
      "batch_normalization_1 (Batch (None, 784)               3136      \n",
      "_________________________________________________________________\n",
      "dense_9 (Dense)              (None, 300)               235500    \n",
      "_________________________________________________________________\n",
      "batch_normalization_2 (Batch (None, 300)               1200      \n",
      "_________________________________________________________________\n",
      "dense_10 (Dense)             (None, 100)               30100     \n",
      "_________________________________________________________________\n",
      "batch_normalization_3 (Batch (None, 100)               400       \n",
      "_________________________________________________________________\n",
      "dense_11 (Dense)             (None, 10)                1010      \n",
      "=================================================================\n",
      "Total params: 271,346\n",
      "Trainable params: 268,978\n",
      "Non-trainable params: 2,368\n",
      "_________________________________________________________________\n"
     ]
    }
   ],
   "source": [
    "model.summary()"
   ]
  },
  {
   "cell_type": "code",
   "execution_count": 46,
   "id": "c2aec763",
   "metadata": {},
   "outputs": [
    {
     "data": {
      "text/plain": [
       "[('batch_normalization_1/gamma:0', True),\n",
       " ('batch_normalization_1/beta:0', True),\n",
       " ('batch_normalization_1/moving_mean:0', False),\n",
       " ('batch_normalization_1/moving_variance:0', False)]"
      ]
     },
     "execution_count": 46,
     "metadata": {},
     "output_type": "execute_result"
    }
   ],
   "source": [
    "[(var.name, var.trainable) for var in model.layers[1].variables]"
   ]
  },
  {
   "cell_type": "code",
   "execution_count": 49,
   "id": "7d540df3",
   "metadata": {},
   "outputs": [
    {
     "name": "stderr",
     "output_type": "stream",
     "text": [
      "C:\\Users\\hjhhi\\Anaconda3\\envs\\tensor\\lib\\site-packages\\keras\\engine\\base_layer.py:1348: UserWarning: `layer.updates` will be removed in a future version. This property should not be used in TensorFlow 2.0, as `updates` are applied automatically.\n",
      "  warnings.warn('`layer.updates` will be removed in a future version. '\n"
     ]
    },
    {
     "data": {
      "text/plain": [
       "[]"
      ]
     },
     "execution_count": 49,
     "metadata": {},
     "output_type": "execute_result"
    }
   ],
   "source": [
    "model.layers[1].updates"
   ]
  },
  {
   "cell_type": "code",
   "execution_count": 50,
   "id": "1245a119",
   "metadata": {},
   "outputs": [],
   "source": [
    "model = keras.models.Sequential([\n",
    "    keras.layers.Flatten(input_shape=[28, 28]),\n",
    "    keras.layers.BatchNormalization(),\n",
    "    keras.layers.Dense(300, kernel_initializer=\"he_normal\", use_bias=False),\n",
    "    keras.layers.BatchNormalization(),\n",
    "    keras.layers.Activation(\"elu\"),\n",
    "    keras.layers.Dense(100, kernel_initializer=\"he_normal\", use_bias=False),\n",
    "    keras.layers.BatchNormalization(),\n",
    "    keras.layers.Activation(\"elu\"),\n",
    "    keras.layers.Dense(10, activation=\"softmax\"),\n",
    "])"
   ]
  },
  {
   "cell_type": "code",
   "execution_count": 51,
   "id": "50d317de",
   "metadata": {},
   "outputs": [
    {
     "name": "stdout",
     "output_type": "stream",
     "text": [
      "Model: \"sequential_6\"\n",
      "_________________________________________________________________\n",
      "Layer (type)                 Output Shape              Param #   \n",
      "=================================================================\n",
      "flatten_7 (Flatten)          (None, 784)               0         \n",
      "_________________________________________________________________\n",
      "batch_normalization_4 (Batch (None, 784)               3136      \n",
      "_________________________________________________________________\n",
      "dense_12 (Dense)             (None, 300)               235200    \n",
      "_________________________________________________________________\n",
      "batch_normalization_5 (Batch (None, 300)               1200      \n",
      "_________________________________________________________________\n",
      "activation (Activation)      (None, 300)               0         \n",
      "_________________________________________________________________\n",
      "dense_13 (Dense)             (None, 100)               30000     \n",
      "_________________________________________________________________\n",
      "batch_normalization_6 (Batch (None, 100)               400       \n",
      "_________________________________________________________________\n",
      "activation_1 (Activation)    (None, 100)               0         \n",
      "_________________________________________________________________\n",
      "dense_14 (Dense)             (None, 10)                1010      \n",
      "=================================================================\n",
      "Total params: 270,946\n",
      "Trainable params: 268,578\n",
      "Non-trainable params: 2,368\n",
      "_________________________________________________________________\n"
     ]
    }
   ],
   "source": [
    "model.summary()"
   ]
  },
  {
   "cell_type": "code",
   "execution_count": 52,
   "id": "a3aaad44",
   "metadata": {},
   "outputs": [],
   "source": [
    "model.compile(loss=\"sparse_categorical_crossentropy\",\n",
    "              optimizer=keras.optimizers.SGD(learning_rate=1e-3),\n",
    "              metrics=[\"accuracy\"])"
   ]
  },
  {
   "cell_type": "code",
   "execution_count": null,
   "id": "c1f7e93f",
   "metadata": {},
   "outputs": [
    {
     "name": "stdout",
     "output_type": "stream",
     "text": [
      "Epoch 1/10\n",
      "1719/1719 [==============================] - 4s 2ms/step - loss: 0.9345 - accuracy: 0.6919 - val_loss: 0.6213 - val_accuracy: 0.7906\n",
      "Epoch 2/10\n",
      "1719/1719 [==============================] - 4s 2ms/step - loss: 0.6312 - accuracy: 0.7891 - val_loss: 0.5351 - val_accuracy: 0.8222\n",
      "Epoch 3/10\n",
      "1719/1719 [==============================] - 4s 2ms/step - loss: 0.5674 - accuracy: 0.8076 - val_loss: 0.4942 - val_accuracy: 0.8370\n",
      "Epoch 4/10\n",
      "1719/1719 [==============================] - 4s 2ms/step - loss: 0.5322 - accuracy: 0.8183 - val_loss: 0.4702 - val_accuracy: 0.8422\n",
      "Epoch 5/10\n",
      "1719/1719 [==============================] - 4s 2ms/step - loss: 0.5120 - accuracy: 0.8226 - val_loss: 0.4519 - val_accuracy: 0.8490\n",
      "Epoch 6/10\n",
      " 446/1719 [======>.......................] - ETA: 3s - loss: 0.5127 - accuracy: 0.8205 ETA: 3s - loss: 0.506"
     ]
    }
   ],
   "source": [
    "history=model.fit(X_train, y_train, epochs=10, validation_data=(X_valid, y_valid))"
   ]
  },
  {
   "cell_type": "code",
   "execution_count": null,
   "id": "e93ba2e0",
   "metadata": {},
   "outputs": [],
   "source": []
  }
 ],
 "metadata": {
  "kernelspec": {
   "display_name": "tensorflow",
   "language": "python",
   "name": "tensor"
  },
  "language_info": {
   "codemirror_mode": {
    "name": "ipython",
    "version": 3
   },
   "file_extension": ".py",
   "mimetype": "text/x-python",
   "name": "python",
   "nbconvert_exporter": "python",
   "pygments_lexer": "ipython3",
   "version": "3.9.6"
  }
 },
 "nbformat": 4,
 "nbformat_minor": 5
}
