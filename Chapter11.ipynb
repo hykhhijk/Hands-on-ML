{
 "cells": [
  {
   "cell_type": "code",
   "execution_count": 1,
   "id": "251cea78",
   "metadata": {},
   "outputs": [],
   "source": [
    "import numpy as np\n",
    "import pandas as pd\n",
    "import tensorflow as tf\n",
    "from tensorflow import keras\n",
    "import matplotlib.pyplot as plt\n",
    "import seaborn as sns"
   ]
  },
  {
   "cell_type": "code",
   "execution_count": 2,
   "id": "ba0cca2a",
   "metadata": {},
   "outputs": [
    {
     "data": {
      "text/plain": [
       "<keras.layers.core.Dense at 0x1e3e531ca30>"
      ]
     },
     "execution_count": 2,
     "metadata": {},
     "output_type": "execute_result"
    }
   ],
   "source": [
    "keras.layers.Dense(10, activation=\"relu\", kernel_initializer=\"he_normal\")"
   ]
  },
  {
   "cell_type": "code",
   "execution_count": 3,
   "id": "cdbb3553",
   "metadata": {},
   "outputs": [
    {
     "data": {
      "text/plain": [
       "<keras.layers.core.Dense at 0x1e3e5a89820>"
      ]
     },
     "execution_count": 3,
     "metadata": {},
     "output_type": "execute_result"
    }
   ],
   "source": [
    "he_avg_init = keras.initializers.VarianceScaling(scale=2., mode=\"fan_avg\", distribution=\"uniform\")\n",
    "keras.layers.Dense(10, activation=\"sigmoid\", kernel_initializer=he_avg_init)"
   ]
  },
  {
   "cell_type": "code",
   "execution_count": 4,
   "id": "156e0de6",
   "metadata": {},
   "outputs": [],
   "source": [
    "(X_train_full, y_train_full), (X_test, y_test) = keras.datasets.fashion_mnist.load_data()\n",
    "X_train_full = X_train_full / 255.0\n",
    "X_test = X_test / 255.0\n",
    "X_valid, X_train = X_train_full[:5000], X_train_full[5000:]\n",
    "y_valid, y_train = y_train_full[:5000], y_train_full[5000:]"
   ]
  },
  {
   "cell_type": "code",
   "execution_count": 5,
   "id": "f21dfa19",
   "metadata": {},
   "outputs": [],
   "source": [
    "model = keras.models.Sequential([\n",
    "    keras.layers.Flatten(input_shape=list(X_train[0].shape)),\n",
    "    keras.layers.Dense(10, kernel_initializer=\"he_normal\"),\n",
    "    keras.layers.LeakyReLU(alpha=0.2),\n",
    "    keras.layers.Dense(10, activation=\"softmax\")\n",
    "])"
   ]
  },
  {
   "cell_type": "code",
   "execution_count": 6,
   "id": "b3895cb2",
   "metadata": {},
   "outputs": [],
   "source": [
    "model.compile(loss=\"sparse_categorical_crossentropy\",\n",
    "              optimizer=keras.optimizers.SGD(learning_rate=1e-3),\n",
    "              metrics=[\"accuracy\"])"
   ]
  },
  {
   "cell_type": "code",
   "execution_count": 7,
   "id": "cabc5bfe",
   "metadata": {},
   "outputs": [
    {
     "name": "stdout",
     "output_type": "stream",
     "text": [
      "Epoch 1/10\n",
      "1719/1719 [==============================] - 2s 944us/step - loss: 1.8480 - accuracy: 0.3615 - val_loss: 1.4542 - val_accuracy: 0.5294\n",
      "Epoch 2/10\n",
      "1719/1719 [==============================] - 1s 552us/step - loss: 1.2389 - accuracy: 0.6386 - val_loss: 1.0470 - val_accuracy: 0.6910\n",
      "Epoch 3/10\n",
      "1719/1719 [==============================] - 1s 534us/step - loss: 0.9763 - accuracy: 0.6940 - val_loss: 0.8900 - val_accuracy: 0.7156\n",
      "Epoch 4/10\n",
      "1719/1719 [==============================] - 1s 554us/step - loss: 0.8618 - accuracy: 0.7161 - val_loss: 0.8071 - val_accuracy: 0.7344\n",
      "Epoch 5/10\n",
      "1719/1719 [==============================] - 1s 602us/step - loss: 0.7946 - accuracy: 0.7329 - val_loss: 0.7554 - val_accuracy: 0.7480\n",
      "Epoch 6/10\n",
      "1719/1719 [==============================] - 1s 552us/step - loss: 0.7496 - accuracy: 0.7460 - val_loss: 0.7177 - val_accuracy: 0.7588\n",
      "Epoch 7/10\n",
      "1719/1719 [==============================] - 1s 547us/step - loss: 0.7164 - accuracy: 0.7551 - val_loss: 0.6893 - val_accuracy: 0.7662\n",
      "Epoch 8/10\n",
      "1719/1719 [==============================] - 1s 538us/step - loss: 0.6906 - accuracy: 0.7632 - val_loss: 0.6656 - val_accuracy: 0.7708\n",
      "Epoch 9/10\n",
      "1719/1719 [==============================] - 1s 555us/step - loss: 0.6698 - accuracy: 0.7692 - val_loss: 0.6489 - val_accuracy: 0.7756\n",
      "Epoch 10/10\n",
      "1719/1719 [==============================] - 1s 605us/step - loss: 0.6524 - accuracy: 0.7749 - val_loss: 0.6327 - val_accuracy: 0.7844\n"
     ]
    }
   ],
   "source": [
    "history=model.fit(X_train, y_train, epochs=10, validation_data=(X_valid, y_valid))"
   ]
  },
  {
   "cell_type": "code",
   "execution_count": 8,
   "id": "6571a2bf",
   "metadata": {},
   "outputs": [],
   "source": [
    "model = keras.models.Sequential([\n",
    "    keras.layers.Flatten(input_shape=list(X_train[0].shape)),\n",
    "    keras.layers.Dense(10, activation=\"selu\", kernel_initializer=\"lecun_normal\"),\n",
    "    keras.layers.LeakyReLU(alpha=0.2),\n",
    "    keras.layers.Dense(10, activation=\"softmax\")\n",
    "])"
   ]
  },
  {
   "cell_type": "code",
   "execution_count": 9,
   "id": "03740751",
   "metadata": {},
   "outputs": [],
   "source": [
    "model.compile(loss=\"sparse_categorical_crossentropy\",\n",
    "              optimizer=keras.optimizers.SGD(learning_rate=1e-3),\n",
    "              metrics=[\"accuracy\"])"
   ]
  },
  {
   "cell_type": "code",
   "execution_count": 10,
   "id": "74b64e41",
   "metadata": {},
   "outputs": [
    {
     "name": "stdout",
     "output_type": "stream",
     "text": [
      "Epoch 1/10\n",
      "1719/1719 [==============================] - 1s 610us/step - loss: 1.9581 - accuracy: 0.3838 - val_loss: 1.6493 - val_accuracy: 0.5422\n",
      "Epoch 2/10\n",
      "1719/1719 [==============================] - 1s 528us/step - loss: 1.3989 - accuracy: 0.6107 - val_loss: 1.1567 - val_accuracy: 0.6862\n",
      "Epoch 3/10\n",
      "1719/1719 [==============================] - 1s 544us/step - loss: 1.0282 - accuracy: 0.7008 - val_loss: 0.9064 - val_accuracy: 0.7332\n",
      "Epoch 4/10\n",
      "1719/1719 [==============================] - 1s 555us/step - loss: 0.8629 - accuracy: 0.7345 - val_loss: 0.7982 - val_accuracy: 0.7560\n",
      "Epoch 5/10\n",
      "1719/1719 [==============================] - 1s 550us/step - loss: 0.7827 - accuracy: 0.7548 - val_loss: 0.7378 - val_accuracy: 0.7726\n",
      "Epoch 6/10\n",
      "1719/1719 [==============================] - 1s 535us/step - loss: 0.7325 - accuracy: 0.7674 - val_loss: 0.6980 - val_accuracy: 0.7770\n",
      "Epoch 7/10\n",
      "1719/1719 [==============================] - 1s 553us/step - loss: 0.6959 - accuracy: 0.7771 - val_loss: 0.6659 - val_accuracy: 0.7922\n",
      "Epoch 8/10\n",
      "1719/1719 [==============================] - 1s 536us/step - loss: 0.6672 - accuracy: 0.7855 - val_loss: 0.6418 - val_accuracy: 0.7978\n",
      "Epoch 9/10\n",
      "1719/1719 [==============================] - 1s 545us/step - loss: 0.6440 - accuracy: 0.7912 - val_loss: 0.6211 - val_accuracy: 0.8030\n",
      "Epoch 10/10\n",
      "1719/1719 [==============================] - 1s 554us/step - loss: 0.6247 - accuracy: 0.7948 - val_loss: 0.6045 - val_accuracy: 0.8060\n"
     ]
    }
   ],
   "source": [
    "history=model.fit(X_train, y_train, epochs=10, validation_data=(X_valid, y_valid))"
   ]
  },
  {
   "cell_type": "markdown",
   "id": "da737754",
   "metadata": {},
   "source": [
    "# 배치정규화"
   ]
  },
  {
   "cell_type": "code",
   "execution_count": 11,
   "id": "93fc66bb",
   "metadata": {},
   "outputs": [],
   "source": [
    "model = keras.models.Sequential([\n",
    "    keras.layers.Flatten(input_shape=[28, 28]),\n",
    "    keras.layers.BatchNormalization(),\n",
    "    keras.layers.Dense(300, activation=\"elu\", kernel_initializer=\"he_normal\"),\n",
    "    keras.layers.BatchNormalization(),\n",
    "    keras.layers.Dense(100, activation=\"elu\", kernel_initializer=\"he_normal\"),\n",
    "    keras.layers.BatchNormalization(),\n",
    "    keras.layers.Dense(10, activation=\"softmax\"),\n",
    "])"
   ]
  },
  {
   "cell_type": "code",
   "execution_count": 12,
   "id": "c5934754",
   "metadata": {},
   "outputs": [
    {
     "name": "stdout",
     "output_type": "stream",
     "text": [
      "Model: \"sequential_2\"\n",
      "_________________________________________________________________\n",
      "Layer (type)                 Output Shape              Param #   \n",
      "=================================================================\n",
      "flatten_2 (Flatten)          (None, 784)               0         \n",
      "_________________________________________________________________\n",
      "batch_normalization (BatchNo (None, 784)               3136      \n",
      "_________________________________________________________________\n",
      "dense_6 (Dense)              (None, 300)               235500    \n",
      "_________________________________________________________________\n",
      "batch_normalization_1 (Batch (None, 300)               1200      \n",
      "_________________________________________________________________\n",
      "dense_7 (Dense)              (None, 100)               30100     \n",
      "_________________________________________________________________\n",
      "batch_normalization_2 (Batch (None, 100)               400       \n",
      "_________________________________________________________________\n",
      "dense_8 (Dense)              (None, 10)                1010      \n",
      "=================================================================\n",
      "Total params: 271,346\n",
      "Trainable params: 268,978\n",
      "Non-trainable params: 2,368\n",
      "_________________________________________________________________\n"
     ]
    }
   ],
   "source": [
    "model.summary()"
   ]
  },
  {
   "cell_type": "code",
   "execution_count": 13,
   "id": "44888162",
   "metadata": {},
   "outputs": [
    {
     "data": {
      "text/plain": [
       "[('batch_normalization/gamma:0', True),\n",
       " ('batch_normalization/beta:0', True),\n",
       " ('batch_normalization/moving_mean:0', False),\n",
       " ('batch_normalization/moving_variance:0', False)]"
      ]
     },
     "execution_count": 13,
     "metadata": {},
     "output_type": "execute_result"
    }
   ],
   "source": [
    "[(var.name, var.trainable) for var in model.layers[1].variables]"
   ]
  },
  {
   "cell_type": "code",
   "execution_count": 14,
   "id": "509eb94e",
   "metadata": {},
   "outputs": [
    {
     "name": "stderr",
     "output_type": "stream",
     "text": [
      "C:\\Users\\hjhhi\\Anaconda3\\envs\\tensor\\lib\\site-packages\\keras\\engine\\base_layer.py:1348: UserWarning: `layer.updates` will be removed in a future version. This property should not be used in TensorFlow 2.0, as `updates` are applied automatically.\n",
      "  warnings.warn('`layer.updates` will be removed in a future version. '\n"
     ]
    },
    {
     "data": {
      "text/plain": [
       "[]"
      ]
     },
     "execution_count": 14,
     "metadata": {},
     "output_type": "execute_result"
    }
   ],
   "source": [
    "### updates는 삭제될 예정이라함\n",
    "#model.layers[1].updates"
   ]
  },
  {
   "cell_type": "code",
   "execution_count": 15,
   "id": "5a5c67fd",
   "metadata": {},
   "outputs": [],
   "source": [
    "model = keras.models.Sequential([\n",
    "    keras.layers.Flatten(input_shape=[28, 28]),\n",
    "    keras.layers.BatchNormalization(),\n",
    "    keras.layers.Dense(300, kernel_initializer=\"he_normal\", use_bias=False),\n",
    "    keras.layers.BatchNormalization(),\n",
    "    keras.layers.Activation(\"elu\"),\n",
    "    keras.layers.Dense(100, kernel_initializer=\"he_normal\", use_bias=False),\n",
    "    keras.layers.BatchNormalization(),\n",
    "    keras.layers.Activation(\"elu\"),\n",
    "    keras.layers.Dense(10, activation=\"softmax\"),\n",
    "])"
   ]
  },
  {
   "cell_type": "code",
   "execution_count": 16,
   "id": "0b86be5b",
   "metadata": {},
   "outputs": [
    {
     "name": "stdout",
     "output_type": "stream",
     "text": [
      "Model: \"sequential_3\"\n",
      "_________________________________________________________________\n",
      "Layer (type)                 Output Shape              Param #   \n",
      "=================================================================\n",
      "flatten_3 (Flatten)          (None, 784)               0         \n",
      "_________________________________________________________________\n",
      "batch_normalization_3 (Batch (None, 784)               3136      \n",
      "_________________________________________________________________\n",
      "dense_9 (Dense)              (None, 300)               235200    \n",
      "_________________________________________________________________\n",
      "batch_normalization_4 (Batch (None, 300)               1200      \n",
      "_________________________________________________________________\n",
      "activation (Activation)      (None, 300)               0         \n",
      "_________________________________________________________________\n",
      "dense_10 (Dense)             (None, 100)               30000     \n",
      "_________________________________________________________________\n",
      "batch_normalization_5 (Batch (None, 100)               400       \n",
      "_________________________________________________________________\n",
      "activation_1 (Activation)    (None, 100)               0         \n",
      "_________________________________________________________________\n",
      "dense_11 (Dense)             (None, 10)                1010      \n",
      "=================================================================\n",
      "Total params: 270,946\n",
      "Trainable params: 268,578\n",
      "Non-trainable params: 2,368\n",
      "_________________________________________________________________\n"
     ]
    }
   ],
   "source": [
    "model.summary()"
   ]
  },
  {
   "cell_type": "code",
   "execution_count": 17,
   "id": "165baaa1",
   "metadata": {},
   "outputs": [],
   "source": [
    "model.compile(loss=\"sparse_categorical_crossentropy\",\n",
    "              optimizer=keras.optimizers.SGD(learning_rate=1e-3),\n",
    "              metrics=[\"accuracy\"])"
   ]
  },
  {
   "cell_type": "code",
   "execution_count": 19,
   "id": "6ac6ab0b",
   "metadata": {},
   "outputs": [
    {
     "name": "stdout",
     "output_type": "stream",
     "text": [
      "Epoch 1/10\n",
      "1719/1719 [==============================] - 4s 2ms/step - loss: 0.4473 - accuracy: 0.8435 - val_loss: 0.4099 - val_accuracy: 0.8580\n",
      "Epoch 2/10\n",
      "1719/1719 [==============================] - 4s 2ms/step - loss: 0.4389 - accuracy: 0.8466 - val_loss: 0.4044 - val_accuracy: 0.8594\n",
      "Epoch 3/10\n",
      "1719/1719 [==============================] - 4s 2ms/step - loss: 0.4337 - accuracy: 0.8473 - val_loss: 0.4013 - val_accuracy: 0.8610\n",
      "Epoch 4/10\n",
      "1719/1719 [==============================] - 4s 2ms/step - loss: 0.4277 - accuracy: 0.8509 - val_loss: 0.3964 - val_accuracy: 0.8618\n",
      "Epoch 5/10\n",
      "1719/1719 [==============================] - 4s 2ms/step - loss: 0.4229 - accuracy: 0.8537 - val_loss: 0.3919 - val_accuracy: 0.8628\n",
      "Epoch 6/10\n",
      "1719/1719 [==============================] - 4s 2ms/step - loss: 0.4180 - accuracy: 0.8540 - val_loss: 0.3898 - val_accuracy: 0.8616\n",
      "Epoch 7/10\n",
      "1719/1719 [==============================] - 4s 2ms/step - loss: 0.4149 - accuracy: 0.8555 - val_loss: 0.3860 - val_accuracy: 0.8644\n",
      "Epoch 8/10\n",
      "1719/1719 [==============================] - 4s 2ms/step - loss: 0.4098 - accuracy: 0.8577 - val_loss: 0.3831 - val_accuracy: 0.8652\n",
      "Epoch 9/10\n",
      "1719/1719 [==============================] - 4s 2ms/step - loss: 0.4056 - accuracy: 0.8584 - val_loss: 0.3803 - val_accuracy: 0.8664\n",
      "Epoch 10/10\n",
      "1719/1719 [==============================] - 4s 2ms/step - loss: 0.4009 - accuracy: 0.8607 - val_loss: 0.3783 - val_accuracy: 0.8662\n"
     ]
    }
   ],
   "source": [
    "### 배치정규화층은 시간 소모를 높이지만 성능이 월등히 높아짐\n",
    "\n",
    "history=model.fit(X_train, y_train, epochs=10, validation_data=(X_valid, y_valid))"
   ]
  },
  {
   "cell_type": "markdown",
   "id": "fe838eea",
   "metadata": {},
   "source": [
    "# 그래디언트 클리핑 "
   ]
  },
  {
   "cell_type": "code",
   "execution_count": 20,
   "id": "1e3892ee",
   "metadata": {},
   "outputs": [],
   "source": [
    "model = keras.models.Sequential([\n",
    "    keras.layers.Flatten(input_shape=list(X_train[0].shape)),\n",
    "    keras.layers.Dense(10, kernel_initializer=\"he_normal\"),\n",
    "    keras.layers.LeakyReLU(alpha=0.2),\n",
    "    keras.layers.Dense(10, activation=\"softmax\")\n",
    "])"
   ]
  },
  {
   "cell_type": "code",
   "execution_count": 28,
   "id": "b06f7181",
   "metadata": {},
   "outputs": [],
   "source": [
    "optimizer = keras.optimizers.SGD(clipvalue = 1.0)\n",
    "model.compile(loss=\"sparse_categorical_crossentropy\", optimizer=optimizer, metrics=[\"accuracy\"])"
   ]
  },
  {
   "cell_type": "code",
   "execution_count": 29,
   "id": "2949c886",
   "metadata": {},
   "outputs": [
    {
     "name": "stdout",
     "output_type": "stream",
     "text": [
      "Epoch 1/10\n",
      "1719/1719 [==============================] - 1s 625us/step - loss: 0.9625 - accuracy: 0.6657 - val_loss: 0.6311 - val_accuracy: 0.7894\n",
      "Epoch 2/10\n",
      "1719/1719 [==============================] - 1s 568us/step - loss: 0.5929 - accuracy: 0.7932 - val_loss: 0.5436 - val_accuracy: 0.8172\n",
      "Epoch 3/10\n",
      "1719/1719 [==============================] - 1s 571us/step - loss: 0.5297 - accuracy: 0.8169 - val_loss: 0.4974 - val_accuracy: 0.8306\n",
      "Epoch 4/10\n",
      "1719/1719 [==============================] - 1s 554us/step - loss: 0.4988 - accuracy: 0.8272 - val_loss: 0.4790 - val_accuracy: 0.8352\n",
      "Epoch 5/10\n",
      "1719/1719 [==============================] - 1s 559us/step - loss: 0.4781 - accuracy: 0.8342 - val_loss: 0.4662 - val_accuracy: 0.8424\n",
      "Epoch 6/10\n",
      "1719/1719 [==============================] - 1s 579us/step - loss: 0.4637 - accuracy: 0.8399 - val_loss: 0.4516 - val_accuracy: 0.8432\n",
      "Epoch 7/10\n",
      "1719/1719 [==============================] - 1s 541us/step - loss: 0.4526 - accuracy: 0.8439 - val_loss: 0.4482 - val_accuracy: 0.8450\n",
      "Epoch 8/10\n",
      "1719/1719 [==============================] - 1s 553us/step - loss: 0.4439 - accuracy: 0.8462 - val_loss: 0.4406 - val_accuracy: 0.8488\n",
      "Epoch 9/10\n",
      "1719/1719 [==============================] - 1s 547us/step - loss: 0.4364 - accuracy: 0.8502 - val_loss: 0.4340 - val_accuracy: 0.8536\n",
      "Epoch 10/10\n",
      "1719/1719 [==============================] - 1s 584us/step - loss: 0.4298 - accuracy: 0.8518 - val_loss: 0.4344 - val_accuracy: 0.8530\n"
     ]
    }
   ],
   "source": [
    "history=model.fit(X_train, y_train, epochs=10, validation_data=(X_valid, y_valid))"
   ]
  },
  {
   "cell_type": "markdown",
   "id": "6901294a",
   "metadata": {},
   "source": [
    "### 간략하게 설명하자면 class 5, 6만 _B를 붙여서 떼주고 200개만 남김 나머지 부분은 _A를 붙여서 데이터 분할"
   ]
  },
  {
   "cell_type": "code",
   "execution_count": 74,
   "id": "86cca25c",
   "metadata": {},
   "outputs": [],
   "source": [
    "### y_5_or_6는 y가 5와 6인 값만 True를 반환해주는 입출력 크기가 바뀌지 않는 리스트 이며 이 bool값을 이용해 특정 값만 선택가능\n",
    "### 이거를 다시 6\n",
    "\n",
    "def split_dataset(X, y):\n",
    "    y_5_or_6 = (y == 5) | (y == 6) # sandals or shirts\n",
    "    y_A = y[~y_5_or_6]\n",
    "    y_A[y_A > 6] -= 2 # class indices 7, 8, 9 should be moved to 5, 6, 7\n",
    "    y_B = (y[y_5_or_6] == 6).astype(np.float32) # binary classification task: is it a shirt (class 6)?\n",
    "    return ((X[~y_5_or_6], y_A),\n",
    "            (X[y_5_or_6], y_B))\n",
    "\n",
    "(X_train_A, y_train_A), (X_train_B, y_train_B) = split_dataset(X_train, y_train)\n",
    "(X_valid_A, y_valid_A), (X_valid_B, y_valid_B) = split_dataset(X_valid, y_valid)\n",
    "(X_test_A, y_test_A), (X_test_B, y_test_B) = split_dataset(X_test, y_test)\n",
    "X_train_B = X_train_B[:200]\n",
    "y_train_B = y_train_B[:200]"
   ]
  },
  {
   "cell_type": "code",
   "execution_count": 75,
   "id": "b434c35c",
   "metadata": {},
   "outputs": [
    {
     "data": {
      "text/plain": [
       "(43986, 28, 28)"
      ]
     },
     "execution_count": 75,
     "metadata": {},
     "output_type": "execute_result"
    }
   ],
   "source": [
    "X_train_A.shape"
   ]
  },
  {
   "cell_type": "code",
   "execution_count": 76,
   "id": "0577d4b1",
   "metadata": {},
   "outputs": [
    {
     "data": {
      "text/plain": [
       "(200, 28, 28)"
      ]
     },
     "execution_count": 76,
     "metadata": {},
     "output_type": "execute_result"
    }
   ],
   "source": [
    "X_train_B.shape"
   ]
  },
  {
   "cell_type": "code",
   "execution_count": 77,
   "id": "8b0e6c5a",
   "metadata": {},
   "outputs": [
    {
     "data": {
      "text/plain": [
       "(200,)"
      ]
     },
     "execution_count": 77,
     "metadata": {},
     "output_type": "execute_result"
    }
   ],
   "source": [
    "y_train_B.shape"
   ]
  },
  {
   "cell_type": "code",
   "execution_count": 85,
   "id": "9b26389d",
   "metadata": {},
   "outputs": [
    {
     "data": {
      "text/plain": [
       "0    5543\n",
       "4    5512\n",
       "6    5510\n",
       "3    5499\n",
       "2    5496\n",
       "7    5494\n",
       "5    5488\n",
       "1    5444\n",
       "dtype: int64"
      ]
     },
     "execution_count": 85,
     "metadata": {},
     "output_type": "execute_result"
    }
   ],
   "source": [
    "### 5와6을 빼고 빈 공간에 계속 뒤에서 채워넣었으므로 0~7\n",
    "\n",
    "pd.Series(y_train_A).value_counts()"
   ]
  },
  {
   "cell_type": "code",
   "execution_count": 87,
   "id": "4baf5250",
   "metadata": {},
   "outputs": [],
   "source": [
    "model_A = keras.models.Sequential()\n",
    "model_A.add(keras.layers.Flatten(input_shape=[28, 28]))\n",
    "for n_hidden in (300, 100, 50, 50, 50):\n",
    "    model_A.add(keras.layers.Dense(n_hidden, activation=\"selu\"))\n",
    "model_A.add(keras.layers.Dense(8, activation=\"softmax\"))"
   ]
  },
  {
   "cell_type": "code",
   "execution_count": 88,
   "id": "6e058450",
   "metadata": {},
   "outputs": [],
   "source": [
    "model_A.compile(loss=\"sparse_categorical_crossentropy\",\n",
    "                optimizer=keras.optimizers.SGD(learning_rate=1e-3),\n",
    "                metrics=[\"accuracy\"])"
   ]
  },
  {
   "cell_type": "code",
   "execution_count": 89,
   "id": "8beedbc0",
   "metadata": {},
   "outputs": [
    {
     "name": "stdout",
     "output_type": "stream",
     "text": [
      "Epoch 1/20\n",
      "1375/1375 [==============================] - 2s 1ms/step - loss: 0.5662 - accuracy: 0.8242 - val_loss: 0.3700 - val_accuracy: 0.8737\n",
      "Epoch 2/20\n",
      "1375/1375 [==============================] - 2s 1ms/step - loss: 0.3504 - accuracy: 0.8807 - val_loss: 0.3144 - val_accuracy: 0.8901\n",
      "Epoch 3/20\n",
      "1375/1375 [==============================] - 2s 1ms/step - loss: 0.3140 - accuracy: 0.8919 - val_loss: 0.2960 - val_accuracy: 0.8976\n",
      "Epoch 4/20\n",
      "1375/1375 [==============================] - 2s 1ms/step - loss: 0.2956 - accuracy: 0.8994 - val_loss: 0.2826 - val_accuracy: 0.9006\n",
      "Epoch 5/20\n",
      "1375/1375 [==============================] - 2s 1ms/step - loss: 0.2832 - accuracy: 0.9029 - val_loss: 0.2726 - val_accuracy: 0.9071\n",
      "Epoch 6/20\n",
      "1375/1375 [==============================] - 2s 1ms/step - loss: 0.2735 - accuracy: 0.9068 - val_loss: 0.2669 - val_accuracy: 0.9073\n",
      "Epoch 7/20\n",
      "1375/1375 [==============================] - 2s 1ms/step - loss: 0.2661 - accuracy: 0.9090 - val_loss: 0.2616 - val_accuracy: 0.9123\n",
      "Epoch 8/20\n",
      "1375/1375 [==============================] - 2s 1ms/step - loss: 0.2601 - accuracy: 0.9109 - val_loss: 0.2604 - val_accuracy: 0.9101\n",
      "Epoch 9/20\n",
      "1375/1375 [==============================] - 2s 1ms/step - loss: 0.2549 - accuracy: 0.9126 - val_loss: 0.2545 - val_accuracy: 0.9150\n",
      "Epoch 10/20\n",
      "1375/1375 [==============================] - 2s 1ms/step - loss: 0.2502 - accuracy: 0.9148 - val_loss: 0.2563 - val_accuracy: 0.9108\n",
      "Epoch 11/20\n",
      "1375/1375 [==============================] - 2s 1ms/step - loss: 0.2464 - accuracy: 0.9160 - val_loss: 0.2483 - val_accuracy: 0.9175\n",
      "Epoch 12/20\n",
      "1375/1375 [==============================] - 2s 1ms/step - loss: 0.2427 - accuracy: 0.9171 - val_loss: 0.2477 - val_accuracy: 0.9175\n",
      "Epoch 13/20\n",
      "1375/1375 [==============================] - 2s 1ms/step - loss: 0.2390 - accuracy: 0.9187 - val_loss: 0.2514 - val_accuracy: 0.9123\n",
      "Epoch 14/20\n",
      "1375/1375 [==============================] - 2s 1ms/step - loss: 0.2359 - accuracy: 0.9194 - val_loss: 0.2490 - val_accuracy: 0.9155\n",
      "Epoch 15/20\n",
      "1375/1375 [==============================] - 2s 1ms/step - loss: 0.2327 - accuracy: 0.9214 - val_loss: 0.2452 - val_accuracy: 0.9148\n",
      "Epoch 16/20\n",
      "1375/1375 [==============================] - 2s 1ms/step - loss: 0.2301 - accuracy: 0.9210 - val_loss: 0.2418 - val_accuracy: 0.9183\n",
      "Epoch 17/20\n",
      "1375/1375 [==============================] - 2s 1ms/step - loss: 0.2273 - accuracy: 0.9230 - val_loss: 0.2394 - val_accuracy: 0.9165\n",
      "Epoch 18/20\n",
      "1375/1375 [==============================] - 2s 1ms/step - loss: 0.2252 - accuracy: 0.9234 - val_loss: 0.2474 - val_accuracy: 0.9131\n",
      "Epoch 19/20\n",
      "1375/1375 [==============================] - 2s 1ms/step - loss: 0.2228 - accuracy: 0.9240 - val_loss: 0.2365 - val_accuracy: 0.9180\n",
      "Epoch 20/20\n",
      "1375/1375 [==============================] - 2s 1ms/step - loss: 0.2204 - accuracy: 0.9250 - val_loss: 0.2346 - val_accuracy: 0.9195\n"
     ]
    }
   ],
   "source": [
    "history = model_A.fit(X_train_A, y_train_A, epochs=20,\n",
    "                    validation_data=(X_valid_A, y_valid_A))"
   ]
  },
  {
   "cell_type": "code",
   "execution_count": 96,
   "id": "9643cf74",
   "metadata": {},
   "outputs": [],
   "source": [
    "model_A.save(\"my_model_A.h5\")"
   ]
  },
  {
   "cell_type": "code",
   "execution_count": 97,
   "id": "490579a9",
   "metadata": {},
   "outputs": [],
   "source": [
    "model_A = keras.models.load_model(\"my_model_A.h5\")\n",
    "model_B_on_A = keras.models.Sequential(model_A.layers[:-1])\n",
    "model_B_on_A.add(keras.layers.Dense(1, activation=\"sigmoid\"))"
   ]
  },
  {
   "cell_type": "code",
   "execution_count": 98,
   "id": "21c1912b",
   "metadata": {},
   "outputs": [],
   "source": [
    "### model_A는 model_B_on_A를 훈련시킬때 공유하는 층이 같이 훈련되므로 미리 모델을 복사해두어야함\n",
    "\n",
    "model_A_clone = keras.models.clone_model(model_A)\n",
    "model_A_clone.set_weights(model_A.get_weights())"
   ]
  },
  {
   "cell_type": "code",
   "execution_count": 99,
   "id": "de17d2f9",
   "metadata": {},
   "outputs": [],
   "source": [
    "for layer in model_B_on_A.layers[:-1]:\n",
    "    layer.trainable = False\n",
    "\n",
    "### 층을 동결하거나 동결해제했다면 반드시!! 이후에 다시 컴파일 해줘야함\n",
    "model_B_on_A.compile(loss=\"binary_crossentropy\", optimizer=\"sgd\", metrics=[\"accuracy\"])"
   ]
  },
  {
   "cell_type": "code",
   "execution_count": 100,
   "id": "76b8277a",
   "metadata": {},
   "outputs": [
    {
     "name": "stdout",
     "output_type": "stream",
     "text": [
      "Epoch 1/4\n",
      "7/7 [==============================] - 0s 19ms/step - loss: 0.9222 - accuracy: 0.4050 - val_loss: 0.5636 - val_accuracy: 0.7140\n",
      "Epoch 2/4\n",
      "7/7 [==============================] - 0s 8ms/step - loss: 0.4335 - accuracy: 0.8600 - val_loss: 0.3367 - val_accuracy: 0.9087\n",
      "Epoch 3/4\n",
      "7/7 [==============================] - 0s 7ms/step - loss: 0.2666 - accuracy: 0.9500 - val_loss: 0.2355 - val_accuracy: 0.9554\n",
      "Epoch 4/4\n",
      "7/7 [==============================] - 0s 7ms/step - loss: 0.1888 - accuracy: 0.9750 - val_loss: 0.1829 - val_accuracy: 0.9736\n"
     ]
    },
    {
     "name": "stderr",
     "output_type": "stream",
     "text": [
      "C:\\Users\\hjhhi\\Anaconda3\\envs\\tensor\\lib\\site-packages\\keras\\optimizer_v2\\optimizer_v2.py:355: UserWarning: The `lr` argument is deprecated, use `learning_rate` instead.\n",
      "  warnings.warn(\n"
     ]
    }
   ],
   "source": [
    "history = model_B_on_A.fit(X_train_B, y_train_B, epochs=4, validation_data=(X_valid_B, y_valid_B))\n",
    "\n",
    "for layer in model_B_on_A.layers[:-1]:\n",
    "    layer.trainable = True\n",
    "\n",
    "optimizer = keras.optimizers.SGD(lr=1e-4)\n",
    "model_B_on_A.compile(loss=\"binary_crossentropy\", optimizer=optimizer, metrics=[\"accuracy\"])"
   ]
  },
  {
   "cell_type": "code",
   "execution_count": 102,
   "id": "b5fa78a6",
   "metadata": {},
   "outputs": [
    {
     "name": "stdout",
     "output_type": "stream",
     "text": [
      "Epoch 1/16\n",
      "7/7 [==============================] - 0s 20ms/step - loss: 0.1584 - accuracy: 0.9800 - val_loss: 0.1801 - val_accuracy: 0.9757\n",
      "Epoch 2/16\n",
      "7/7 [==============================] - 0s 8ms/step - loss: 0.1556 - accuracy: 0.9800 - val_loss: 0.1774 - val_accuracy: 0.9757\n",
      "Epoch 3/16\n",
      "7/7 [==============================] - 0s 8ms/step - loss: 0.1529 - accuracy: 0.9800 - val_loss: 0.1745 - val_accuracy: 0.9767\n",
      "Epoch 4/16\n",
      "7/7 [==============================] - 0s 8ms/step - loss: 0.1501 - accuracy: 0.9800 - val_loss: 0.1719 - val_accuracy: 0.9767\n",
      "Epoch 5/16\n",
      "7/7 [==============================] - 0s 8ms/step - loss: 0.1475 - accuracy: 0.9800 - val_loss: 0.1693 - val_accuracy: 0.9767\n",
      "Epoch 6/16\n",
      "7/7 [==============================] - 0s 8ms/step - loss: 0.1449 - accuracy: 0.9800 - val_loss: 0.1669 - val_accuracy: 0.9797\n",
      "Epoch 7/16\n",
      "7/7 [==============================] - 0s 8ms/step - loss: 0.1425 - accuracy: 0.9800 - val_loss: 0.1646 - val_accuracy: 0.9797\n",
      "Epoch 8/16\n",
      "7/7 [==============================] - 0s 8ms/step - loss: 0.1403 - accuracy: 0.9800 - val_loss: 0.1624 - val_accuracy: 0.9807\n",
      "Epoch 9/16\n",
      "7/7 [==============================] - 0s 8ms/step - loss: 0.1381 - accuracy: 0.9850 - val_loss: 0.1602 - val_accuracy: 0.9797\n",
      "Epoch 10/16\n",
      "7/7 [==============================] - 0s 8ms/step - loss: 0.1360 - accuracy: 0.9900 - val_loss: 0.1581 - val_accuracy: 0.9797\n",
      "Epoch 11/16\n",
      "7/7 [==============================] - 0s 9ms/step - loss: 0.1339 - accuracy: 0.9900 - val_loss: 0.1560 - val_accuracy: 0.9797\n",
      "Epoch 12/16\n",
      "7/7 [==============================] - 0s 8ms/step - loss: 0.1318 - accuracy: 0.9900 - val_loss: 0.1540 - val_accuracy: 0.9797\n",
      "Epoch 13/16\n",
      "7/7 [==============================] - 0s 8ms/step - loss: 0.1299 - accuracy: 0.9900 - val_loss: 0.1521 - val_accuracy: 0.9797\n",
      "Epoch 14/16\n",
      "7/7 [==============================] - 0s 8ms/step - loss: 0.1280 - accuracy: 0.9900 - val_loss: 0.1503 - val_accuracy: 0.9807\n",
      "Epoch 15/16\n",
      "7/7 [==============================] - 0s 8ms/step - loss: 0.1262 - accuracy: 0.9900 - val_loss: 0.1485 - val_accuracy: 0.9807\n",
      "Epoch 16/16\n",
      "7/7 [==============================] - 0s 8ms/step - loss: 0.1244 - accuracy: 0.9900 - val_loss: 0.1468 - val_accuracy: 0.9807\n"
     ]
    }
   ],
   "source": [
    "history = model_B_on_A.fit(X_train_B, y_train_B, epochs=16, validation_data=(X_valid_B, y_valid_B))"
   ]
  },
  {
   "cell_type": "code",
   "execution_count": 112,
   "id": "9e9c3077",
   "metadata": {},
   "outputs": [
    {
     "name": "stdout",
     "output_type": "stream",
     "text": [
      "63/63 [==============================] - 0s 766us/step - loss: 0.1377 - accuracy: 0.9775\n"
     ]
    },
    {
     "data": {
      "text/plain": [
       "[0.13773538172245026, 0.9775000214576721]"
      ]
     },
     "execution_count": 112,
     "metadata": {},
     "output_type": "execute_result"
    }
   ],
   "source": [
    "model_B_on_A.evaluate(X_test_B, y_test_B)"
   ]
  },
  {
   "cell_type": "markdown",
   "id": "06aa81cb",
   "metadata": {},
   "source": [
    "###  model_B데이터만 사용하여 MLP구성해보았는데 애시당초 샘플수의 차이 때문에 성능낮음\n",
    "### 이미지 분류 같은 경우 미리 많은 샘플로 가중치를 초기화한 모델을 base로 두고 이후 (은닉)+출력층 구성하면\n",
    "### 샘플 수, 모델 구상 노력대비 성능, 시간적으로 매우 이득"
   ]
  },
  {
   "cell_type": "code",
   "execution_count": 116,
   "id": "33c7d47a",
   "metadata": {},
   "outputs": [],
   "source": [
    "model_B_test = keras.models.Sequential()\n",
    "model_B_test.add(keras.layers.Flatten(input_shape=[28, 28]))\n",
    "for n_hidden in (300, 100, 50, 50, 50):\n",
    "    model_B_test.add(keras.layers.Dense(n_hidden, activation=\"selu\"))\n",
    "model_B_test.add(keras.layers.Dense(1, activation=\"sigmoid\"))"
   ]
  },
  {
   "cell_type": "code",
   "execution_count": 117,
   "id": "0cf09df6",
   "metadata": {},
   "outputs": [],
   "source": [
    "optimizer = keras.optimizers.SGD(lr=1e-4)\n",
    "model_B_test.compile(loss=\"binary_crossentropy\", optimizer=optimizer, metrics=[\"accuracy\"])"
   ]
  },
  {
   "cell_type": "code",
   "execution_count": 118,
   "id": "43d54456",
   "metadata": {},
   "outputs": [
    {
     "name": "stdout",
     "output_type": "stream",
     "text": [
      "Epoch 1/25\n",
      "7/7 [==============================] - 0s 19ms/step - loss: 0.6567 - accuracy: 0.6400 - val_loss: 0.6199 - val_accuracy: 0.6501\n",
      "Epoch 2/25\n",
      "7/7 [==============================] - 0s 8ms/step - loss: 0.6269 - accuracy: 0.6650 - val_loss: 0.5939 - val_accuracy: 0.6785\n",
      "Epoch 3/25\n",
      "7/7 [==============================] - 0s 8ms/step - loss: 0.5990 - accuracy: 0.6850 - val_loss: 0.5725 - val_accuracy: 0.7049\n",
      "Epoch 4/25\n",
      "7/7 [==============================] - 0s 8ms/step - loss: 0.5760 - accuracy: 0.7200 - val_loss: 0.5540 - val_accuracy: 0.7211\n",
      "Epoch 5/25\n",
      "7/7 [==============================] - 0s 8ms/step - loss: 0.5562 - accuracy: 0.7300 - val_loss: 0.5382 - val_accuracy: 0.7383\n",
      "Epoch 6/25\n",
      "7/7 [==============================] - 0s 8ms/step - loss: 0.5393 - accuracy: 0.7400 - val_loss: 0.5233 - val_accuracy: 0.7546\n",
      "Epoch 7/25\n",
      "7/7 [==============================] - 0s 7ms/step - loss: 0.5234 - accuracy: 0.7550 - val_loss: 0.5095 - val_accuracy: 0.7728\n",
      "Epoch 8/25\n",
      "7/7 [==============================] - 0s 8ms/step - loss: 0.5084 - accuracy: 0.7650 - val_loss: 0.4964 - val_accuracy: 0.7860\n",
      "Epoch 9/25\n",
      "7/7 [==============================] - 0s 8ms/step - loss: 0.4949 - accuracy: 0.7850 - val_loss: 0.4844 - val_accuracy: 0.7931\n",
      "Epoch 10/25\n",
      "7/7 [==============================] - 0s 8ms/step - loss: 0.4816 - accuracy: 0.8000 - val_loss: 0.4731 - val_accuracy: 0.7972\n",
      "Epoch 11/25\n",
      "7/7 [==============================] - 0s 7ms/step - loss: 0.4690 - accuracy: 0.7950 - val_loss: 0.4621 - val_accuracy: 0.8022\n",
      "Epoch 12/25\n",
      "7/7 [==============================] - 0s 7ms/step - loss: 0.4571 - accuracy: 0.8000 - val_loss: 0.4517 - val_accuracy: 0.8103\n",
      "Epoch 13/25\n",
      "7/7 [==============================] - 0s 7ms/step - loss: 0.4458 - accuracy: 0.8100 - val_loss: 0.4414 - val_accuracy: 0.8245\n",
      "Epoch 14/25\n",
      "7/7 [==============================] - 0s 8ms/step - loss: 0.4350 - accuracy: 0.8250 - val_loss: 0.4315 - val_accuracy: 0.8337\n",
      "Epoch 15/25\n",
      "7/7 [==============================] - 0s 8ms/step - loss: 0.4247 - accuracy: 0.8300 - val_loss: 0.4223 - val_accuracy: 0.8418\n",
      "Epoch 16/25\n",
      "7/7 [==============================] - 0s 7ms/step - loss: 0.4146 - accuracy: 0.8350 - val_loss: 0.4137 - val_accuracy: 0.8489\n",
      "Epoch 17/25\n",
      "7/7 [==============================] - 0s 8ms/step - loss: 0.4055 - accuracy: 0.8350 - val_loss: 0.4048 - val_accuracy: 0.8540\n",
      "Epoch 18/25\n",
      "7/7 [==============================] - 0s 8ms/step - loss: 0.3961 - accuracy: 0.8500 - val_loss: 0.3971 - val_accuracy: 0.8560\n",
      "Epoch 19/25\n",
      "7/7 [==============================] - 0s 7ms/step - loss: 0.3877 - accuracy: 0.8700 - val_loss: 0.3893 - val_accuracy: 0.8631\n",
      "Epoch 20/25\n",
      "7/7 [==============================] - 0s 7ms/step - loss: 0.3794 - accuracy: 0.8800 - val_loss: 0.3820 - val_accuracy: 0.8661\n",
      "Epoch 21/25\n",
      "7/7 [==============================] - 0s 8ms/step - loss: 0.3716 - accuracy: 0.8800 - val_loss: 0.3752 - val_accuracy: 0.8722\n",
      "Epoch 22/25\n",
      "7/7 [==============================] - 0s 8ms/step - loss: 0.3642 - accuracy: 0.8850 - val_loss: 0.3682 - val_accuracy: 0.8763\n",
      "Epoch 23/25\n",
      "7/7 [==============================] - 0s 8ms/step - loss: 0.3566 - accuracy: 0.8850 - val_loss: 0.3615 - val_accuracy: 0.8824\n",
      "Epoch 24/25\n",
      "7/7 [==============================] - 0s 8ms/step - loss: 0.3497 - accuracy: 0.8850 - val_loss: 0.3548 - val_accuracy: 0.8874\n",
      "Epoch 25/25\n",
      "7/7 [==============================] - 0s 8ms/step - loss: 0.3427 - accuracy: 0.8850 - val_loss: 0.3486 - val_accuracy: 0.8874\n"
     ]
    }
   ],
   "source": [
    "history = model_B_test.fit(X_train_B, y_train_B, epochs=25, validation_data=(X_valid_B, y_valid_B))"
   ]
  },
  {
   "cell_type": "code",
   "execution_count": null,
   "id": "4a50fbac",
   "metadata": {},
   "outputs": [],
   "source": []
  }
 ],
 "metadata": {
  "kernelspec": {
   "display_name": "tensorflow",
   "language": "python",
   "name": "tensor"
  },
  "language_info": {
   "codemirror_mode": {
    "name": "ipython",
    "version": 3
   },
   "file_extension": ".py",
   "mimetype": "text/x-python",
   "name": "python",
   "nbconvert_exporter": "python",
   "pygments_lexer": "ipython3",
   "version": "3.9.6"
  }
 },
 "nbformat": 4,
 "nbformat_minor": 5
}
